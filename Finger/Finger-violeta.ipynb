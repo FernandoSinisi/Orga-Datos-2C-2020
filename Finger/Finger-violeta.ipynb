{
 "cells": [
  {
   "cell_type": "code",
   "execution_count": 1,
   "metadata": {
    "id": "vaXidMkzXiMl"
   },
   "outputs": [],
   "source": [
    "import pandas as pd"
   ]
  },
  {
   "cell_type": "code",
   "execution_count": 2,
   "metadata": {
    "id": "31nM0QCDXnjX"
   },
   "outputs": [],
   "source": [
    "df = pd.read_csv(\"opportunities.csv\")"
   ]
  },
  {
   "cell_type": "code",
   "execution_count": 3,
   "metadata": {
    "colab": {
     "base_uri": "https://localhost:8080/",
     "height": 359
    },
    "id": "6oU19Y_5Yi2c",
    "outputId": "30af216e-0da1-4027-fec7-fc3f438b47ec"
   },
   "outputs": [
    {
     "data": {
      "text/html": [
       "<div>\n",
       "<style scoped>\n",
       "    .dataframe tbody tr th:only-of-type {\n",
       "        vertical-align: middle;\n",
       "    }\n",
       "\n",
       "    .dataframe tbody tr th {\n",
       "        vertical-align: top;\n",
       "    }\n",
       "\n",
       "    .dataframe thead th {\n",
       "        text-align: right;\n",
       "    }\n",
       "</style>\n",
       "<table border=\"1\" class=\"dataframe\">\n",
       "  <thead>\n",
       "    <tr style=\"text-align: right;\">\n",
       "      <th></th>\n",
       "      <th>ID</th>\n",
       "      <th>Territory</th>\n",
       "      <th>Delivery_Quarter</th>\n",
       "      <th>Delivery_Year</th>\n",
       "    </tr>\n",
       "  </thead>\n",
       "  <tbody>\n",
       "    <tr>\n",
       "      <th>2179</th>\n",
       "      <td>10808</td>\n",
       "      <td>None</td>\n",
       "      <td>Q2</td>\n",
       "      <td>2016</td>\n",
       "    </tr>\n",
       "    <tr>\n",
       "      <th>3667</th>\n",
       "      <td>8037</td>\n",
       "      <td>SE America</td>\n",
       "      <td>Q3</td>\n",
       "      <td>2017</td>\n",
       "    </tr>\n",
       "    <tr>\n",
       "      <th>2806</th>\n",
       "      <td>4909</td>\n",
       "      <td>UAE (Dubai)</td>\n",
       "      <td>Q1</td>\n",
       "      <td>2017</td>\n",
       "    </tr>\n",
       "    <tr>\n",
       "      <th>1933</th>\n",
       "      <td>10620</td>\n",
       "      <td>Kazakhstan</td>\n",
       "      <td>Q2</td>\n",
       "      <td>2016</td>\n",
       "    </tr>\n",
       "    <tr>\n",
       "      <th>2957</th>\n",
       "      <td>13709</td>\n",
       "      <td>Romania</td>\n",
       "      <td>Q2</td>\n",
       "      <td>2016</td>\n",
       "    </tr>\n",
       "    <tr>\n",
       "      <th>598</th>\n",
       "      <td>4865</td>\n",
       "      <td>France</td>\n",
       "      <td>Q4</td>\n",
       "      <td>2017</td>\n",
       "    </tr>\n",
       "    <tr>\n",
       "      <th>7898</th>\n",
       "      <td>15287</td>\n",
       "      <td>Belgium</td>\n",
       "      <td>Q1</td>\n",
       "      <td>2018</td>\n",
       "    </tr>\n",
       "    <tr>\n",
       "      <th>1817</th>\n",
       "      <td>10350</td>\n",
       "      <td>Romania</td>\n",
       "      <td>Q3</td>\n",
       "      <td>2017</td>\n",
       "    </tr>\n",
       "    <tr>\n",
       "      <th>3684</th>\n",
       "      <td>20848</td>\n",
       "      <td>Italy</td>\n",
       "      <td>Q4</td>\n",
       "      <td>2016</td>\n",
       "    </tr>\n",
       "    <tr>\n",
       "      <th>5669</th>\n",
       "      <td>17668</td>\n",
       "      <td>Germany</td>\n",
       "      <td>Q1</td>\n",
       "      <td>2017</td>\n",
       "    </tr>\n",
       "  </tbody>\n",
       "</table>\n",
       "</div>"
      ],
      "text/plain": [
       "         ID    Territory Delivery_Quarter  Delivery_Year\n",
       "2179  10808         None               Q2           2016\n",
       "3667   8037   SE America               Q3           2017\n",
       "2806   4909  UAE (Dubai)               Q1           2017\n",
       "1933  10620   Kazakhstan               Q2           2016\n",
       "2957  13709      Romania               Q2           2016\n",
       "598    4865       France               Q4           2017\n",
       "7898  15287      Belgium               Q1           2018\n",
       "1817  10350      Romania               Q3           2017\n",
       "3684  20848        Italy               Q4           2016\n",
       "5669  17668      Germany               Q1           2017"
      ]
     },
     "execution_count": 3,
     "metadata": {},
     "output_type": "execute_result"
    }
   ],
   "source": [
    "df[df.Region == \"EMEA\"].nlargest(10,'Total_Amount')[['ID', 'Territory', 'Delivery_Quarter', 'Delivery_Year']]"
   ]
  },
  {
   "cell_type": "code",
   "execution_count": 4,
   "metadata": {
    "colab": {
     "base_uri": "https://localhost:8080/",
     "height": 34
    },
    "id": "2vPUiSUqbFSf",
    "outputId": "5191925d-168b-4282-fda2-e3f94b3b5928"
   },
   "outputs": [
    {
     "data": {
      "text/plain": [
       "0.2646788990825688"
      ]
     },
     "execution_count": 4,
     "metadata": {},
     "output_type": "execute_result"
    }
   ],
   "source": [
    "df_germany = df[df.Territory == \"Germany\"]\n",
    "pd.to_numeric(df_germany['Price'],errors = 'coerce').dropna().mean()"
   ]
  }
 ],
 "metadata": {
  "colab": {
   "collapsed_sections": [],
   "name": "Finger.ipynb",
   "provenance": []
  },
  "kernelspec": {
   "display_name": "Python 3",
   "language": "python",
   "name": "python3"
  },
  "language_info": {
   "codemirror_mode": {
    "name": "ipython",
    "version": 3
   },
   "file_extension": ".py",
   "mimetype": "text/x-python",
   "name": "python",
   "nbconvert_exporter": "python",
   "pygments_lexer": "ipython3",
   "version": "3.6.4"
  }
 },
 "nbformat": 4,
 "nbformat_minor": 1
}
