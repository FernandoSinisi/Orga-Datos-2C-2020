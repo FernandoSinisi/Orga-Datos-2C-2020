{
 "cells": [
  {
   "cell_type": "markdown",
   "metadata": {},
   "source": [
    "## Random forest"
   ]
  },
  {
   "cell_type": "code",
   "execution_count": 202,
   "metadata": {},
   "outputs": [],
   "source": [
    "import numpy as np\n",
    "from sklearn.metrics import make_scorer\n",
    "from sklearn.ensemble import RandomForestClassifier\n",
    "from sklearn.model_selection import train_test_split\n",
    "from sklearn.metrics import roc_auc_score\n",
    "from sklearn.metrics import log_loss\n",
    "import xgboost as xgb\n",
    "import category_encoders\n",
    "import pandas as pd\n",
    "from sklearn.model_selection import GridSearchCV\n",
    "from sklearn.model_selection import RandomizedSearchCV\n",
    "import scipy.stats as stats\n",
    "import sklearn.metrics"
   ]
  },
  {
   "cell_type": "code",
   "execution_count": 203,
   "metadata": {},
   "outputs": [
    {
     "data": {
      "text/plain": [
       "dict_keys(['explained_variance', 'r2', 'max_error', 'neg_median_absolute_error', 'neg_mean_absolute_error', 'neg_mean_squared_error', 'neg_mean_squared_log_error', 'neg_root_mean_squared_error', 'neg_mean_poisson_deviance', 'neg_mean_gamma_deviance', 'accuracy', 'roc_auc', 'roc_auc_ovr', 'roc_auc_ovo', 'roc_auc_ovr_weighted', 'roc_auc_ovo_weighted', 'balanced_accuracy', 'average_precision', 'neg_log_loss', 'neg_brier_score', 'adjusted_rand_score', 'homogeneity_score', 'completeness_score', 'v_measure_score', 'mutual_info_score', 'adjusted_mutual_info_score', 'normalized_mutual_info_score', 'fowlkes_mallows_score', 'precision', 'precision_macro', 'precision_micro', 'precision_samples', 'precision_weighted', 'recall', 'recall_macro', 'recall_micro', 'recall_samples', 'recall_weighted', 'f1', 'f1_macro', 'f1_micro', 'f1_samples', 'f1_weighted', 'jaccard', 'jaccard_macro', 'jaccard_micro', 'jaccard_samples', 'jaccard_weighted'])"
      ]
     },
     "execution_count": 203,
     "metadata": {},
     "output_type": "execute_result"
    }
   ],
   "source": [
    "sklearn.metrics.SCORERS.keys()"
   ]
  },
  {
   "cell_type": "code",
   "execution_count": 204,
   "metadata": {},
   "outputs": [],
   "source": [
    "df_train = pd.read_csv('data/train.csv')\n",
    "df_test = pd.read_csv('data/test.csv')\n",
    "features = pd.read_csv('data/features.csv')"
   ]
  },
  {
   "cell_type": "code",
   "execution_count": 205,
   "metadata": {},
   "outputs": [],
   "source": [
    "target = features[\"Stage\"]\n",
    "features.drop(columns=[\"Stage\"], inplace=True)"
   ]
  },
  {
   "cell_type": "code",
   "execution_count": 206,
   "metadata": {},
   "outputs": [],
   "source": [
    "parameters = {'n_estimators':[50, 100, 150, 200, 250, 300]}\n",
    "#parameters = {'n_estimators':[10, 20, 30, 40, 50, 60, 70, 80, 90, 100]}\n",
    "#parameters={'n_estimators':[1,2,3,4,5,6,7,8,9,10]}\n",
    "\n",
    "grid = GridSearchCV(RandomForestClassifier(),parameters,cv=2,verbose=0, scoring='neg_log_loss')\n"
   ]
  },
  {
   "cell_type": "code",
   "execution_count": 207,
   "metadata": {},
   "outputs": [],
   "source": [
    "xtr,xte,ytr,yte=train_test_split(features,target)"
   ]
  },
  {
   "cell_type": "code",
   "execution_count": 208,
   "metadata": {},
   "outputs": [
    {
     "data": {
      "text/plain": [
       "GridSearchCV(cv=2, estimator=RandomForestClassifier(),\n",
       "             param_grid={'n_estimators': [50, 100, 150, 200, 250, 300]},\n",
       "             scoring='neg_log_loss')"
      ]
     },
     "execution_count": 208,
     "metadata": {},
     "output_type": "execute_result"
    }
   ],
   "source": [
    "grid.fit(xtr,ytr)"
   ]
  },
  {
   "cell_type": "code",
   "execution_count": 209,
   "metadata": {},
   "outputs": [
    {
     "name": "stdout",
     "output_type": "stream",
     "text": [
      "-0.2753940780830135 RandomForestClassifier(n_estimators=300)\n"
     ]
    }
   ],
   "source": [
    "print(grid.best_score_, grid.best_estimator_)"
   ]
  },
  {
   "cell_type": "code",
   "execution_count": 210,
   "metadata": {},
   "outputs": [
    {
     "data": {
      "text/plain": [
       "-0.2519719219472776"
      ]
     },
     "execution_count": 210,
     "metadata": {},
     "output_type": "execute_result"
    }
   ],
   "source": [
    "grid.score(X=xte,y=yte)"
   ]
  },
  {
   "cell_type": "code",
   "execution_count": 211,
   "metadata": {},
   "outputs": [
    {
     "data": {
      "text/html": [
       "<div>\n",
       "<style scoped>\n",
       "    .dataframe tbody tr th:only-of-type {\n",
       "        vertical-align: middle;\n",
       "    }\n",
       "\n",
       "    .dataframe tbody tr th {\n",
       "        vertical-align: top;\n",
       "    }\n",
       "\n",
       "    .dataframe thead th {\n",
       "        text-align: right;\n",
       "    }\n",
       "</style>\n",
       "<table border=\"1\" class=\"dataframe\">\n",
       "  <thead>\n",
       "    <tr style=\"text-align: right;\">\n",
       "      <th></th>\n",
       "      <th>0</th>\n",
       "      <th>1</th>\n",
       "      <th>2</th>\n",
       "      <th>3</th>\n",
       "      <th>4</th>\n",
       "      <th>5</th>\n",
       "      <th>6</th>\n",
       "      <th>7</th>\n",
       "      <th>8</th>\n",
       "      <th>9</th>\n",
       "      <th>...</th>\n",
       "      <th>68</th>\n",
       "      <th>69</th>\n",
       "      <th>70</th>\n",
       "      <th>71</th>\n",
       "      <th>72</th>\n",
       "      <th>73</th>\n",
       "      <th>74</th>\n",
       "      <th>75</th>\n",
       "      <th>76</th>\n",
       "      <th>77</th>\n",
       "    </tr>\n",
       "  </thead>\n",
       "  <tbody>\n",
       "    <tr>\n",
       "      <th>0</th>\n",
       "      <td>Unnamed: 0</td>\n",
       "      <td>Pricing, Delivery_Terms_Quote_Appr</td>\n",
       "      <td>Pricing, Delivery_Terms_Approved</td>\n",
       "      <td>Bureaucratic_Code_0_Approval</td>\n",
       "      <td>Bureaucratic_Code_0_Approved</td>\n",
       "      <td>Submitted_for_Approval</td>\n",
       "      <td>ASP</td>\n",
       "      <td>ASP_(converted)</td>\n",
       "      <td>TRF</td>\n",
       "      <td>Total_Amount</td>\n",
       "      <td>...</td>\n",
       "      <td>Opportunity_Owner_4_target_binary_enc</td>\n",
       "      <td>Opportunity_Owner_5_target_binary_enc</td>\n",
       "      <td>Opportunity_Owner_6_target_binary_enc</td>\n",
       "      <td>Account_Owner_0_target_binary_enc</td>\n",
       "      <td>Account_Owner_1_target_binary_enc</td>\n",
       "      <td>Account_Owner_2_target_binary_enc</td>\n",
       "      <td>Account_Owner_3_target_binary_enc</td>\n",
       "      <td>Account_Owner_4_target_binary_enc</td>\n",
       "      <td>Account_Owner_5_target_binary_enc</td>\n",
       "      <td>Account_Owner_6_target_binary_enc</td>\n",
       "    </tr>\n",
       "    <tr>\n",
       "      <th>1</th>\n",
       "      <td>0.0577103</td>\n",
       "      <td>0.00608136</td>\n",
       "      <td>0.0306224</td>\n",
       "      <td>0.00856097</td>\n",
       "      <td>0.00631228</td>\n",
       "      <td>0</td>\n",
       "      <td>0.0312103</td>\n",
       "      <td>0.0306904</td>\n",
       "      <td>0.0440624</td>\n",
       "      <td>0.0604387</td>\n",
       "      <td>...</td>\n",
       "      <td>0.00443739</td>\n",
       "      <td>0.00513761</td>\n",
       "      <td>0.00477529</td>\n",
       "      <td>0</td>\n",
       "      <td>0.00179412</td>\n",
       "      <td>0.00366224</td>\n",
       "      <td>0.00346612</td>\n",
       "      <td>0.00380268</td>\n",
       "      <td>0.00378989</td>\n",
       "      <td>0.00501361</td>\n",
       "    </tr>\n",
       "  </tbody>\n",
       "</table>\n",
       "<p>2 rows × 78 columns</p>\n",
       "</div>"
      ],
      "text/plain": [
       "           0                                   1   \\\n",
       "0  Unnamed: 0  Pricing, Delivery_Terms_Quote_Appr   \n",
       "1   0.0577103                          0.00608136   \n",
       "\n",
       "                                 2                             3   \\\n",
       "0  Pricing, Delivery_Terms_Approved  Bureaucratic_Code_0_Approval   \n",
       "1                         0.0306224                    0.00856097   \n",
       "\n",
       "                             4                       5          6   \\\n",
       "0  Bureaucratic_Code_0_Approved  Submitted_for_Approval        ASP   \n",
       "1                    0.00631228                       0  0.0312103   \n",
       "\n",
       "                7          8             9   ...  \\\n",
       "0  ASP_(converted)        TRF  Total_Amount  ...   \n",
       "1        0.0306904  0.0440624     0.0604387  ...   \n",
       "\n",
       "                                      68  \\\n",
       "0  Opportunity_Owner_4_target_binary_enc   \n",
       "1                             0.00443739   \n",
       "\n",
       "                                      69  \\\n",
       "0  Opportunity_Owner_5_target_binary_enc   \n",
       "1                             0.00513761   \n",
       "\n",
       "                                      70                                 71  \\\n",
       "0  Opportunity_Owner_6_target_binary_enc  Account_Owner_0_target_binary_enc   \n",
       "1                             0.00477529                                  0   \n",
       "\n",
       "                                  72                                 73  \\\n",
       "0  Account_Owner_1_target_binary_enc  Account_Owner_2_target_binary_enc   \n",
       "1                         0.00179412                         0.00366224   \n",
       "\n",
       "                                  74                                 75  \\\n",
       "0  Account_Owner_3_target_binary_enc  Account_Owner_4_target_binary_enc   \n",
       "1                         0.00346612                         0.00380268   \n",
       "\n",
       "                                  76                                 77  \n",
       "0  Account_Owner_5_target_binary_enc  Account_Owner_6_target_binary_enc  \n",
       "1                         0.00378989                         0.00501361  \n",
       "\n",
       "[2 rows x 78 columns]"
      ]
     },
     "execution_count": 211,
     "metadata": {},
     "output_type": "execute_result"
    }
   ],
   "source": [
    "rfc = grid.best_estimator_\n",
    "importance = rfc.feature_importances_\n",
    "pd.DataFrame([features.columns,importance])"
   ]
  },
  {
   "cell_type": "code",
   "execution_count": 212,
   "metadata": {},
   "outputs": [
    {
     "data": {
      "text/html": [
       "<div>\n",
       "<style scoped>\n",
       "    .dataframe tbody tr th:only-of-type {\n",
       "        vertical-align: middle;\n",
       "    }\n",
       "\n",
       "    .dataframe tbody tr th {\n",
       "        vertical-align: top;\n",
       "    }\n",
       "\n",
       "    .dataframe thead th {\n",
       "        text-align: right;\n",
       "    }\n",
       "</style>\n",
       "<table border=\"1\" class=\"dataframe\">\n",
       "  <thead>\n",
       "    <tr style=\"text-align: right;\">\n",
       "      <th></th>\n",
       "      <th>ASP_(converted)</th>\n",
       "      <th>ASP</th>\n",
       "      <th>TRF</th>\n",
       "      <th>Pricing, Delivery_Terms_Approved</th>\n",
       "      <th>Total_Amount</th>\n",
       "      <th>Total_Taxable_Amount</th>\n",
       "    </tr>\n",
       "  </thead>\n",
       "  <tbody>\n",
       "    <tr>\n",
       "      <th>0</th>\n",
       "      <td>0.35629</td>\n",
       "      <td>0.315</td>\n",
       "      <td>2</td>\n",
       "      <td>0</td>\n",
       "      <td>662287.5</td>\n",
       "      <td>662287.5</td>\n",
       "    </tr>\n",
       "    <tr>\n",
       "      <th>1</th>\n",
       "      <td>0.49000</td>\n",
       "      <td>0.490</td>\n",
       "      <td>20</td>\n",
       "      <td>1</td>\n",
       "      <td>9803430.0</td>\n",
       "      <td>9803430.0</td>\n",
       "    </tr>\n",
       "    <tr>\n",
       "      <th>2</th>\n",
       "      <td>0.68000</td>\n",
       "      <td>0.680</td>\n",
       "      <td>0</td>\n",
       "      <td>0</td>\n",
       "      <td>170931.6</td>\n",
       "      <td>341863.2</td>\n",
       "    </tr>\n",
       "    <tr>\n",
       "      <th>3</th>\n",
       "      <td>0.68000</td>\n",
       "      <td>0.680</td>\n",
       "      <td>0</td>\n",
       "      <td>0</td>\n",
       "      <td>170931.6</td>\n",
       "      <td>341863.2</td>\n",
       "    </tr>\n",
       "    <tr>\n",
       "      <th>4</th>\n",
       "      <td>0.74000</td>\n",
       "      <td>0.740</td>\n",
       "      <td>3</td>\n",
       "      <td>0</td>\n",
       "      <td>1886852.0</td>\n",
       "      <td>31410780.0</td>\n",
       "    </tr>\n",
       "  </tbody>\n",
       "</table>\n",
       "</div>"
      ],
      "text/plain": [
       "   ASP_(converted)    ASP  TRF  Pricing, Delivery_Terms_Approved  \\\n",
       "0          0.35629  0.315    2                                 0   \n",
       "1          0.49000  0.490   20                                 1   \n",
       "2          0.68000  0.680    0                                 0   \n",
       "3          0.68000  0.680    0                                 0   \n",
       "4          0.74000  0.740    3                                 0   \n",
       "\n",
       "   Total_Amount  Total_Taxable_Amount  \n",
       "0      662287.5              662287.5  \n",
       "1     9803430.0             9803430.0  \n",
       "2      170931.6              341863.2  \n",
       "3      170931.6              341863.2  \n",
       "4     1886852.0            31410780.0  "
      ]
     },
     "execution_count": 212,
     "metadata": {},
     "output_type": "execute_result"
    }
   ],
   "source": [
    "best_features = features.loc[:,[\"ASP_(converted)\",\"ASP\",\"TRF\",\"Pricing, Delivery_Terms_Approved\",\"Total_Amount\",\\\n",
    "                                 \"Total_Taxable_Amount\"]]\n",
    "                \n",
    "best_features.head()\n"
   ]
  },
  {
   "cell_type": "code",
   "execution_count": 213,
   "metadata": {},
   "outputs": [
    {
     "name": "stdout",
     "output_type": "stream",
     "text": [
      "-0.42294974823509 RandomForestClassifier(n_estimators=300)\n"
     ]
    }
   ],
   "source": [
    "xtrb,xteb,ytrb,yteb=train_test_split(best_features,target)\n",
    "grid.fit(xtrb,ytrb)\n",
    "print(grid.best_score_, grid.best_estimator_)"
   ]
  },
  {
   "cell_type": "code",
   "execution_count": 214,
   "metadata": {},
   "outputs": [
    {
     "data": {
      "text/plain": [
       "-0.40510547135810865"
      ]
     },
     "execution_count": 214,
     "metadata": {},
     "output_type": "execute_result"
    }
   ],
   "source": [
    "grid.score(X=xteb,y=yteb)"
   ]
  },
  {
   "cell_type": "code",
   "execution_count": 215,
   "metadata": {},
   "outputs": [
    {
     "data": {
      "text/html": [
       "<div>\n",
       "<style scoped>\n",
       "    .dataframe tbody tr th:only-of-type {\n",
       "        vertical-align: middle;\n",
       "    }\n",
       "\n",
       "    .dataframe tbody tr th {\n",
       "        vertical-align: top;\n",
       "    }\n",
       "\n",
       "    .dataframe thead th {\n",
       "        text-align: right;\n",
       "    }\n",
       "</style>\n",
       "<table border=\"1\" class=\"dataframe\">\n",
       "  <thead>\n",
       "    <tr style=\"text-align: right;\">\n",
       "      <th></th>\n",
       "      <th>0</th>\n",
       "      <th>1</th>\n",
       "      <th>2</th>\n",
       "      <th>3</th>\n",
       "      <th>4</th>\n",
       "      <th>5</th>\n",
       "    </tr>\n",
       "  </thead>\n",
       "  <tbody>\n",
       "    <tr>\n",
       "      <th>0</th>\n",
       "      <td>ASP_(converted)</td>\n",
       "      <td>ASP</td>\n",
       "      <td>TRF</td>\n",
       "      <td>Pricing, Delivery_Terms_Approved</td>\n",
       "      <td>Total_Amount</td>\n",
       "      <td>Total_Taxable_Amount</td>\n",
       "    </tr>\n",
       "    <tr>\n",
       "      <th>1</th>\n",
       "      <td>0.141259</td>\n",
       "      <td>0.162679</td>\n",
       "      <td>0.109701</td>\n",
       "      <td>0.0773636</td>\n",
       "      <td>0.266395</td>\n",
       "      <td>0.242602</td>\n",
       "    </tr>\n",
       "  </tbody>\n",
       "</table>\n",
       "</div>"
      ],
      "text/plain": [
       "                 0         1         2                                 3  \\\n",
       "0  ASP_(converted)       ASP       TRF  Pricing, Delivery_Terms_Approved   \n",
       "1         0.141259  0.162679  0.109701                         0.0773636   \n",
       "\n",
       "              4                     5  \n",
       "0  Total_Amount  Total_Taxable_Amount  \n",
       "1      0.266395              0.242602  "
      ]
     },
     "execution_count": 215,
     "metadata": {},
     "output_type": "execute_result"
    }
   ],
   "source": [
    "rfc = grid.best_estimator_\n",
    "importance = rfc.feature_importances_\n",
    "pd.DataFrame([best_features.columns,importance])"
   ]
  },
  {
   "cell_type": "code",
   "execution_count": null,
   "metadata": {},
   "outputs": [],
   "source": []
  },
  {
   "cell_type": "code",
   "execution_count": null,
   "metadata": {},
   "outputs": [],
   "source": []
  },
  {
   "cell_type": "code",
   "execution_count": null,
   "metadata": {},
   "outputs": [],
   "source": []
  }
 ],
 "metadata": {
  "kernelspec": {
   "display_name": "Python 3",
   "language": "python",
   "name": "python3"
  },
  "language_info": {
   "codemirror_mode": {
    "name": "ipython",
    "version": 3
   },
   "file_extension": ".py",
   "mimetype": "text/x-python",
   "name": "python",
   "nbconvert_exporter": "python",
   "pygments_lexer": "ipython3",
   "version": "3.7.4"
  }
 },
 "nbformat": 4,
 "nbformat_minor": 4
}
