{
 "cells": [
  {
   "cell_type": "markdown",
   "metadata": {},
   "source": [
    "## Random forest"
   ]
  },
  {
   "cell_type": "code",
   "execution_count": 76,
   "metadata": {},
   "outputs": [],
   "source": [
    "import numpy as np\n",
    "from sklearn.metrics import make_scorer\n",
    "from sklearn.ensemble import RandomForestClassifier\n",
    "from sklearn.model_selection import train_test_split\n",
    "from sklearn.metrics import roc_auc_score\n",
    "from sklearn.metrics import log_loss\n",
    "import xgboost as xgb\n",
    "import category_encoders\n",
    "import pandas as pd\n",
    "from sklearn.model_selection import GridSearchCV"
   ]
  },
  {
   "cell_type": "code",
   "execution_count": 77,
   "metadata": {},
   "outputs": [],
   "source": [
    "df_train = pd.read_csv('data/train.csv')\n",
    "df_test = pd.read_csv('data/test.csv')\n",
    "features = pd.read_csv('data/features.csv')"
   ]
  },
  {
   "cell_type": "code",
   "execution_count": 78,
   "metadata": {},
   "outputs": [],
   "source": [
    "target = features[\"Stage\"]\n",
    "features.drop(columns=[\"Stage\"], inplace=True)"
   ]
  },
  {
   "cell_type": "code",
   "execution_count": 79,
   "metadata": {},
   "outputs": [],
   "source": [
    "parameters = {'n_estimators':[50, 100, 150, 200, 250, 300]}\n",
    "#parameters = {'n_estimators':[10, 20, 30, 40, 50, 60, 70, 80, 90, 100]}\n",
    "#parameters={'n_estimators':[1,2,3,4,5,6,7,8,9,10]}\n",
    "\n",
    "LogLoss = make_scorer(log_loss)\n",
    "grid = GridSearchCV(RandomForestClassifier(),parameters,cv=2,verbose=0, scoring=LogLoss)\n"
   ]
  },
  {
   "cell_type": "code",
   "execution_count": 80,
   "metadata": {},
   "outputs": [],
   "source": [
    "xtr,xte,ytr,yte=train_test_split(features,target)"
   ]
  },
  {
   "cell_type": "code",
   "execution_count": 81,
   "metadata": {},
   "outputs": [
    {
     "data": {
      "text/plain": [
       "GridSearchCV(cv=2, estimator=RandomForestClassifier(),\n",
       "             param_grid={'n_estimators': [50, 100, 150, 200, 250, 300]},\n",
       "             scoring=make_scorer(log_loss))"
      ]
     },
     "execution_count": 81,
     "metadata": {},
     "output_type": "execute_result"
    }
   ],
   "source": [
    "grid.fit(xtr,ytr)"
   ]
  },
  {
   "cell_type": "code",
   "execution_count": 82,
   "metadata": {},
   "outputs": [
    {
     "name": "stdout",
     "output_type": "stream",
     "text": [
      "4.157141155475575 RandomForestClassifier(n_estimators=150)\n"
     ]
    }
   ],
   "source": [
    "print(grid.best_score_, grid.best_estimator_)"
   ]
  },
  {
   "cell_type": "code",
   "execution_count": 83,
   "metadata": {},
   "outputs": [
    {
     "data": {
      "text/plain": [
       "3.011234124152234"
      ]
     },
     "execution_count": 83,
     "metadata": {},
     "output_type": "execute_result"
    }
   ],
   "source": [
    "grid.score(X=xte,y=yte)"
   ]
  },
  {
   "cell_type": "code",
   "execution_count": 84,
   "metadata": {},
   "outputs": [
    {
     "data": {
      "text/html": [
       "<div>\n",
       "<style scoped>\n",
       "    .dataframe tbody tr th:only-of-type {\n",
       "        vertical-align: middle;\n",
       "    }\n",
       "\n",
       "    .dataframe tbody tr th {\n",
       "        vertical-align: top;\n",
       "    }\n",
       "\n",
       "    .dataframe thead th {\n",
       "        text-align: right;\n",
       "    }\n",
       "</style>\n",
       "<table border=\"1\" class=\"dataframe\">\n",
       "  <thead>\n",
       "    <tr style=\"text-align: right;\">\n",
       "      <th></th>\n",
       "      <th>0</th>\n",
       "      <th>1</th>\n",
       "      <th>2</th>\n",
       "      <th>3</th>\n",
       "      <th>4</th>\n",
       "      <th>5</th>\n",
       "      <th>6</th>\n",
       "      <th>7</th>\n",
       "      <th>8</th>\n",
       "      <th>9</th>\n",
       "      <th>...</th>\n",
       "      <th>68</th>\n",
       "      <th>69</th>\n",
       "      <th>70</th>\n",
       "      <th>71</th>\n",
       "      <th>72</th>\n",
       "      <th>73</th>\n",
       "      <th>74</th>\n",
       "      <th>75</th>\n",
       "      <th>76</th>\n",
       "      <th>77</th>\n",
       "    </tr>\n",
       "  </thead>\n",
       "  <tbody>\n",
       "    <tr>\n",
       "      <th>0</th>\n",
       "      <td>Unnamed: 0</td>\n",
       "      <td>Pricing, Delivery_Terms_Quote_Appr</td>\n",
       "      <td>Pricing, Delivery_Terms_Approved</td>\n",
       "      <td>Bureaucratic_Code_0_Approval</td>\n",
       "      <td>Bureaucratic_Code_0_Approved</td>\n",
       "      <td>Submitted_for_Approval</td>\n",
       "      <td>ASP</td>\n",
       "      <td>ASP_(converted)</td>\n",
       "      <td>TRF</td>\n",
       "      <td>Total_Amount</td>\n",
       "      <td>...</td>\n",
       "      <td>Opportunity_Owner_4_target_binary_enc</td>\n",
       "      <td>Opportunity_Owner_5_target_binary_enc</td>\n",
       "      <td>Opportunity_Owner_6_target_binary_enc</td>\n",
       "      <td>Account_Owner_0_target_binary_enc</td>\n",
       "      <td>Account_Owner_1_target_binary_enc</td>\n",
       "      <td>Account_Owner_2_target_binary_enc</td>\n",
       "      <td>Account_Owner_3_target_binary_enc</td>\n",
       "      <td>Account_Owner_4_target_binary_enc</td>\n",
       "      <td>Account_Owner_5_target_binary_enc</td>\n",
       "      <td>Account_Owner_6_target_binary_enc</td>\n",
       "    </tr>\n",
       "    <tr>\n",
       "      <th>1</th>\n",
       "      <td>0.0581315</td>\n",
       "      <td>0.00624879</td>\n",
       "      <td>0.0257739</td>\n",
       "      <td>0.0109061</td>\n",
       "      <td>0.00627588</td>\n",
       "      <td>0</td>\n",
       "      <td>0.0331974</td>\n",
       "      <td>0.0300456</td>\n",
       "      <td>0.0391664</td>\n",
       "      <td>0.0554198</td>\n",
       "      <td>...</td>\n",
       "      <td>0.00437527</td>\n",
       "      <td>0.00534619</td>\n",
       "      <td>0.00470786</td>\n",
       "      <td>0</td>\n",
       "      <td>0.0018721</td>\n",
       "      <td>0.00325283</td>\n",
       "      <td>0.00325267</td>\n",
       "      <td>0.00342924</td>\n",
       "      <td>0.00370435</td>\n",
       "      <td>0.00468626</td>\n",
       "    </tr>\n",
       "  </tbody>\n",
       "</table>\n",
       "<p>2 rows × 78 columns</p>\n",
       "</div>"
      ],
      "text/plain": [
       "           0                                   1   \\\n",
       "0  Unnamed: 0  Pricing, Delivery_Terms_Quote_Appr   \n",
       "1   0.0581315                          0.00624879   \n",
       "\n",
       "                                 2                             3   \\\n",
       "0  Pricing, Delivery_Terms_Approved  Bureaucratic_Code_0_Approval   \n",
       "1                         0.0257739                     0.0109061   \n",
       "\n",
       "                             4                       5          6   \\\n",
       "0  Bureaucratic_Code_0_Approved  Submitted_for_Approval        ASP   \n",
       "1                    0.00627588                       0  0.0331974   \n",
       "\n",
       "                7          8             9   ...  \\\n",
       "0  ASP_(converted)        TRF  Total_Amount  ...   \n",
       "1        0.0300456  0.0391664     0.0554198  ...   \n",
       "\n",
       "                                      68  \\\n",
       "0  Opportunity_Owner_4_target_binary_enc   \n",
       "1                             0.00437527   \n",
       "\n",
       "                                      69  \\\n",
       "0  Opportunity_Owner_5_target_binary_enc   \n",
       "1                             0.00534619   \n",
       "\n",
       "                                      70                                 71  \\\n",
       "0  Opportunity_Owner_6_target_binary_enc  Account_Owner_0_target_binary_enc   \n",
       "1                             0.00470786                                  0   \n",
       "\n",
       "                                  72                                 73  \\\n",
       "0  Account_Owner_1_target_binary_enc  Account_Owner_2_target_binary_enc   \n",
       "1                          0.0018721                         0.00325283   \n",
       "\n",
       "                                  74                                 75  \\\n",
       "0  Account_Owner_3_target_binary_enc  Account_Owner_4_target_binary_enc   \n",
       "1                         0.00325267                         0.00342924   \n",
       "\n",
       "                                  76                                 77  \n",
       "0  Account_Owner_5_target_binary_enc  Account_Owner_6_target_binary_enc  \n",
       "1                         0.00370435                         0.00468626  \n",
       "\n",
       "[2 rows x 78 columns]"
      ]
     },
     "execution_count": 84,
     "metadata": {},
     "output_type": "execute_result"
    }
   ],
   "source": [
    "rfc = grid.best_estimator_\n",
    "importance = rfc.feature_importances_\n",
    "pd.DataFrame([features.columns,importance])"
   ]
  },
  {
   "cell_type": "code",
   "execution_count": null,
   "metadata": {},
   "outputs": [],
   "source": []
  }
 ],
 "metadata": {
  "kernelspec": {
   "display_name": "Python 3",
   "language": "python",
   "name": "python3"
  },
  "language_info": {
   "codemirror_mode": {
    "name": "ipython",
    "version": 3
   },
   "file_extension": ".py",
   "mimetype": "text/x-python",
   "name": "python",
   "nbconvert_exporter": "python",
   "pygments_lexer": "ipython3",
   "version": "3.7.4"
  }
 },
 "nbformat": 4,
 "nbformat_minor": 4
}
