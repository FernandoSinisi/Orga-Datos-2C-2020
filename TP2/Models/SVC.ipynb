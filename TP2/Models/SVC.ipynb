{
 "cells": [
  {
   "cell_type": "code",
   "execution_count": 1,
   "metadata": {},
   "outputs": [],
   "source": [
    "import pandas as pd\n",
    "from sklearn.svm import SVC\n",
    "from sklearn.metrics import precision_score, recall_score, f1_score, accuracy_score, log_loss\n",
    "from sklearn import model_selection"
   ]
  },
  {
   "cell_type": "code",
   "execution_count": 2,
   "metadata": {},
   "outputs": [],
   "source": [
    "df_train_mean_encoding = pd.read_csv('../Feature_Encoding/data/train_mean_encoding.csv')\n",
    "df_test_mean_encoding = pd.read_csv('../Feature_Encoding/data/test_mean_encoding.csv')\n",
    "df_train_binary_encoding = pd.read_csv('../Feature_Encoding/data/train_binary_encoding.csv')\n",
    "df_test_binary_encoding = pd.read_csv('../Feature_Encoding/data/test_binary_encoding.csv')\n",
    "train = pd.read_csv('../Feature_Engineering/data/other-cleaned_train.csv')"
   ]
  },
  {
   "cell_type": "code",
   "execution_count": 3,
   "metadata": {},
   "outputs": [],
   "source": [
    "def cross_val(model, x_train, y_train):\n",
    "    score_cross_val = model_selection.cross_val_score(model, x_train, y_train, cv=5)\n",
    "    print(score_cross_val.mean())"
   ]
  },
  {
   "cell_type": "code",
   "execution_count": 4,
   "metadata": {},
   "outputs": [],
   "source": [
    "def test_model(model, x_test, y_test):\n",
    "    predictions = model.predict_proba(x_test)[:,1]\n",
    "    logloss = log_loss(y_test, predictions)\n",
    "    accuracy = accuracy_score(y_test, predictions.round())\n",
    "    print(\"Accuracy: %.2f%%, Logloss: %.2f\" % (accuracy*100.0, logloss))"
   ]
  },
  {
   "cell_type": "code",
   "execution_count": 5,
   "metadata": {},
   "outputs": [],
   "source": [
    "def svc(x_train, y_train, x_test, y_test):\n",
    "  classifier = SVC()\n",
    "\n",
    "  parameters = {'C': [0.1, 1, 10, 100, 1000], 'gamma': [1, 0.1, 0.01, 0.0001], 'kernel' : ['linear',\n",
    "                                                                                         'sigmoid', 'poly', 'rbf']}\n",
    "  grid_s_p = model_selection.RandomizedSearchCV(classifier, parameters, refit = True) \n",
    "\n",
    "  model = grid_s_p.fit(x_train, y_train)\n",
    "\n",
    "  model.best_params_\n",
    "\n",
    "  svc_best = grid_s_p.best_estimator_\n",
    "\n",
    "  print(model.best_params_)\n",
    "\n",
    "  print('svc: {}'.format(svc_best.score(x_test, y_test)))\n",
    "  preds = model.predict(x_train)\n",
    "  print(\"Accuracy score: \", accuracy_score(y_train, preds))\n",
    "  print(\"Precision score: \", precision_score(y_train, preds))\n",
    "  print(\"Recall score: \", recall_score(y_train, preds))\n",
    "  print(\"f1 score: \", f1_score(y_train, preds))\n",
    "  \n",
    "  return model"
   ]
  },
  {
   "cell_type": "code",
   "execution_count": 6,
   "metadata": {},
   "outputs": [],
   "source": [
    "y = train.Target\n",
    "x_train_mean_encoding, x_validation_mean_encoding, y_train_mean_encoding, y_validation_mean_encoding = model_selection.train_test_split(df_train_mean_encoding, y, test_size=0.3, stratify=y)\n",
    "x_train_binary_encoding, x_validation_binary_encoding, y_train_binary_encoding, y_validation_binary_encoding = model_selection.train_test_split(df_train_binary_encoding, y, test_size=0.3, stratify=y)"
   ]
  },
  {
   "cell_type": "markdown",
   "metadata": {},
   "source": [
    "## Mean encoding"
   ]
  },
  {
   "cell_type": "code",
   "execution_count": null,
   "metadata": {},
   "outputs": [],
   "source": [
    "svc_mean = svc(x_train_mean_encoding, y_train_mean_encoding, x_validation_mean_encoding, y_validation_mean_encoding)"
   ]
  },
  {
   "cell_type": "code",
   "execution_count": null,
   "metadata": {},
   "outputs": [],
   "source": [
    "test_model(svc_mean,x_validation_binary_encoding,y_validation_binary_encoding)"
   ]
  },
  {
   "cell_type": "code",
   "execution_count": null,
   "metadata": {},
   "outputs": [],
   "source": [
    "cross_val(svc_mean, x_train_binary_encoding, y_train_binary_encoding)"
   ]
  },
  {
   "cell_type": "markdown",
   "metadata": {},
   "source": [
    "## Binary Encoding"
   ]
  },
  {
   "cell_type": "code",
   "execution_count": null,
   "metadata": {},
   "outputs": [],
   "source": [
    "svc_binary = svc(x_train_binary_encoding, y_train_binary_encoding, x_validation_binary_encoding, y_validation_binary_encoding)"
   ]
  },
  {
   "cell_type": "code",
   "execution_count": null,
   "metadata": {},
   "outputs": [],
   "source": [
    "test_model(svc_binary,x_validation_binary_encoding,y_validation_binary_encoding)"
   ]
  },
  {
   "cell_type": "code",
   "execution_count": null,
   "metadata": {},
   "outputs": [],
   "source": [
    "cross_val(svc_binary, x_train_binary_encoding, y_train_binary_encoding)"
   ]
  }
 ],
 "metadata": {
  "kernelspec": {
   "display_name": "Python 3",
   "language": "python",
   "name": "python3"
  },
  "language_info": {
   "codemirror_mode": {
    "name": "ipython",
    "version": 3
   },
   "file_extension": ".py",
   "mimetype": "text/x-python",
   "name": "python",
   "nbconvert_exporter": "python",
   "pygments_lexer": "ipython3",
   "version": "3.8.5"
  }
 },
 "nbformat": 4,
 "nbformat_minor": 4
}
