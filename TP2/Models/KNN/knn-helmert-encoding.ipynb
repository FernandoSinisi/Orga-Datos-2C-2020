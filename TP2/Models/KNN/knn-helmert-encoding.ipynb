{
 "cells": [
  {
   "cell_type": "code",
   "execution_count": 1,
   "metadata": {},
   "outputs": [],
   "source": [
    "import pandas as pd\n",
    "\n",
    "from sklearn.metrics import log_loss\n",
    "from sklearn.metrics import accuracy_score\n",
    "\n",
    "from sklearn import model_selection, metrics, preprocessing, neighbors"
   ]
  },
  {
   "cell_type": "code",
   "execution_count": 2,
   "metadata": {},
   "outputs": [],
   "source": [
    "df_train = pd.read_csv('../../Feature_Encoding/data/train_helmert_encoding.csv')\n",
    "df_test = pd.read_csv('../../Feature_Encoding/data/test_helmert_encoding.csv')\n",
    "train = pd.read_csv('../../Feature_Engineering/data/other-cleaned_train.csv')"
   ]
  },
  {
   "cell_type": "code",
   "execution_count": 3,
   "metadata": {},
   "outputs": [],
   "source": [
    "def cross_val(model, x_train, y_train):\n",
    "    score_cross_val = model_selection.cross_val_score(model, x_train, y_train, cv=5)\n",
    "    print(score_cross_val.mean())"
   ]
  },
  {
   "cell_type": "code",
   "execution_count": 4,
   "metadata": {},
   "outputs": [],
   "source": [
    "def test_model(model, x_test, y_test):\n",
    "    predictions = model.predict_proba(x_test)[:,1]\n",
    "    logloss = metrics.log_loss(y_test, predictions)\n",
    "    accuracy = metrics.accuracy_score(y_test, predictions.round())\n",
    "    print(\"Accuracy: %.2f%%, Logloss: %.2f\" % (accuracy*100.0, logloss))"
   ]
  },
  {
   "cell_type": "code",
   "execution_count": 5,
   "metadata": {},
   "outputs": [],
   "source": [
    "#Realiza busqueda completa combinando los parametros\n",
    "def knn(x_train, y_train, x_validation, y_validation):\n",
    "    knn_classifier = neighbors.KNeighborsClassifier()\n",
    "    params_knn = {'weights':['uniform','distance'],'leaf_size':[10,15,30,45],'n_neighbors':[5,10,25,50],'p':[1,2,3,4]}    \n",
    "    knn_gs = model_selection.GridSearchCV(knn_classifier, params_knn, cv=2,verbose=3)\n",
    "    knn_gs.fit(x_train, y_train)\n",
    "    knn_best = knn_gs.best_estimator_\n",
    "    print(knn_gs.best_params_)\n",
    "    print('knn: {}'.format(knn_best.score(x_validation, y_validation)))\n",
    "    return knn_best"
   ]
  },
  {
   "cell_type": "code",
   "execution_count": 6,
   "metadata": {},
   "outputs": [],
   "source": [
    "y = train.Target\n",
    "x_train, x_validation, y_train, y_validation = model_selection.train_test_split(df_train, y, test_size=0.3, stratify=y)"
   ]
  },
  {
   "cell_type": "code",
   "execution_count": 7,
   "metadata": {},
   "outputs": [],
   "source": [
    "#Para normalizar las columnas\n",
    "normalized_mean = preprocessing.normalize(df_train,axis=0)\n",
    "\n",
    "y = train.Target\n",
    "normalized_x_train, normalized_x_validation, normalized_y_train, normalized_y_validation_mean_encoding = model_selection.train_test_split(normalized_mean, y, test_size=0.3, stratify=y)"
   ]
  },
  {
   "cell_type": "code",
   "execution_count": null,
   "metadata": {},
   "outputs": [
    {
     "name": "stdout",
     "output_type": "stream",
     "text": [
      "Fitting 2 folds for each of 128 candidates, totalling 256 fits\n"
     ]
    }
   ],
   "source": [
    "knn_ = knn(x_train, y_train, x_validation, y_validation)\n",
    "test_model(knn_, x_validation, y_validation)\n",
    "cross_val(knn_, x_train, y_train)"
   ]
  },
  {
   "cell_type": "code",
   "execution_count": null,
   "metadata": {},
   "outputs": [],
   "source": [
    "normalized_knn = knn(x_train, y_train, x_validation, y_validation)\n",
    "test_model(normalized_knn, x_validation, y_validation)\n",
    "cross_val(normalized_knn, x_train, y_train)"
   ]
  },
  {
   "cell_type": "code",
   "execution_count": null,
   "metadata": {},
   "outputs": [],
   "source": [
    "for column in df_test.columns.tolist():\n",
    "    df_test[column] = df_test[column].fillna(0)  \n",
    "\n",
    "df_test= df_test.replace('', 0)"
   ]
  },
  {
   "cell_type": "code",
   "execution_count": null,
   "metadata": {},
   "outputs": [],
   "source": [
    "y_pred_knn = knn_.predict_proba(df_test)[:,1]\n",
    "submission_knn = pd.DataFrame(data={'Opportunity_ID':df_test['Opportunity_ID'], 'Target': y_pred_knn})\n",
    "submission_knn = submission_knn.groupby(\"Opportunity_ID\").agg({\"Target\":\"mean\"}).reset_index()\n",
    "submission_knn.to_csv('../submits/helmert_knn.csv', index=False)"
   ]
  },
  {
   "cell_type": "code",
   "execution_count": null,
   "metadata": {},
   "outputs": [],
   "source": [
    "y_pred_knn_norm = normalized_knn.predict_proba(df_test)[:,1]\n",
    "submission_knn_norm = pd.DataFrame(data={'Opportunity_ID':df_test['Opportunity_ID'], 'Target': y_pred_knn_norm})\n",
    "submission_knn_norm = submission_knn_norm.groupby(\"Opportunity_ID\").agg({\"Target\":\"mean\"}).reset_index()\n",
    "submission_knn_norm.to_csv('../submits/helmert_knn_norm.csv', index=False)"
   ]
  }
 ],
 "metadata": {
  "kernelspec": {
   "display_name": "Python 3",
   "language": "python",
   "name": "python3"
  },
  "language_info": {
   "codemirror_mode": {
    "name": "ipython",
    "version": 3
   },
   "file_extension": ".py",
   "mimetype": "text/x-python",
   "name": "python",
   "nbconvert_exporter": "python",
   "pygments_lexer": "ipython3",
   "version": "3.8.5"
  }
 },
 "nbformat": 4,
 "nbformat_minor": 4
}
