{
 "cells": [
  {
   "cell_type": "code",
   "execution_count": 1,
   "metadata": {},
   "outputs": [],
   "source": [
    "import pandas as pd\n",
    "from sklearn import model_selection, metrics, naive_bayes"
   ]
  },
  {
   "cell_type": "code",
   "execution_count": 2,
   "metadata": {},
   "outputs": [],
   "source": [
    "df_train = pd.read_csv('../../Feature_Encoding/data/train_loo_encoding.csv')\n",
    "df_test = pd.read_csv('../../Feature_Encoding/data/test_loo_encoding.csv')\n",
    "train = pd.read_csv('../../Feature_Engineering/data/other-cleaned_train.csv')"
   ]
  },
  {
   "cell_type": "code",
   "execution_count": 3,
   "metadata": {},
   "outputs": [],
   "source": [
    "def cross_val(model, x_train, y_train):\n",
    "    score_cross_val = model_selection.cross_val_score(model, x_train, y_train, cv=5)\n",
    "    print(score_cross_val.mean())"
   ]
  },
  {
   "cell_type": "code",
   "execution_count": 4,
   "metadata": {},
   "outputs": [],
   "source": [
    "#Realiza busqueda completa combinando los parametros\n",
    "def bernoulli(x_train, y_train, x_validation, y_validation):\n",
    "    bernoulli_classifier = naive_bayes.BernoulliNB()\n",
    "    params_ber={'alpha':[10, 15, 40, 50, 80]}    \n",
    "    ber_gs = model_selection.GridSearchCV(bernoulli_classifier, params_ber, cv=3)\n",
    "    ber_gs.fit(x_train, y_train)\n",
    "    ber_best = ber_gs.best_estimator_\n",
    "    print(ber_gs.best_params_)\n",
    "    print('bernoulli: {}'.format(ber_best.score(x_validation, y_validation)))\n",
    "    return ber_best\n",
    "\n",
    "#Realiza busqueda completa combinando los parametros\n",
    "def gauss(x_train, y_train, x_validation, y_validation):\n",
    "    gauss_classifier = naive_bayes.GaussianNB()\n",
    "    params_gauss={}    \n",
    "    gauss_gs = model_selection.GridSearchCV(gauss_classifier, params_gauss, cv=3)\n",
    "    gauss_gs.fit(x_train, y_train)\n",
    "    gauss_best = gauss_gs.best_estimator_\n",
    "    print(gauss_gs.best_params_)\n",
    "    print('gauss: {}'.format(gauss_best.score(x_validation, y_validation)))\n",
    "    return gauss_best"
   ]
  },
  {
   "cell_type": "code",
   "execution_count": 5,
   "metadata": {},
   "outputs": [],
   "source": [
    "def test_model(model, x_test, y_test):\n",
    "    predictions = model.predict_proba(x_test)[:,1]\n",
    "    logloss = metrics.log_loss(y_test, predictions)\n",
    "    accuracy = metrics.accuracy_score(y_test, predictions.round())\n",
    "    print(\"Accuracy: %.2f%%, Logloss: %.2f\" % (accuracy*100.0, logloss))"
   ]
  },
  {
   "cell_type": "code",
   "execution_count": 6,
   "metadata": {},
   "outputs": [],
   "source": [
    "y = train.Target\n",
    "x_train, x_validation, y_train, y_validation = model_selection.train_test_split(df_train, y, test_size=0.3, stratify=y)"
   ]
  },
  {
   "cell_type": "code",
   "execution_count": 7,
   "metadata": {},
   "outputs": [],
   "source": [
    "for column in df_test.columns.tolist():\n",
    "    df_test[column] = df_test[column].fillna(0)  \n",
    "\n",
    "df_test= df_test.replace('', 0)"
   ]
  },
  {
   "cell_type": "code",
   "execution_count": 8,
   "metadata": {},
   "outputs": [
    {
     "name": "stdout",
     "output_type": "stream",
     "text": [
      "{'alpha': 10}\n",
      "bernoulli: 0.7861796643632774\n",
      "Accuracy: 78.62%, Logloss: 0.89\n",
      "0.7777960850191151\n"
     ]
    }
   ],
   "source": [
    "bernoulli_ = bernoulli(x_train, y_train, x_validation, y_validation)\n",
    "test_model(bernoulli_, x_validation,y_validation)\n",
    "cross_val(bernoulli_, x_train, y_train)"
   ]
  },
  {
   "cell_type": "code",
   "execution_count": 9,
   "metadata": {},
   "outputs": [
    {
     "name": "stdout",
     "output_type": "stream",
     "text": [
      "{}\n",
      "gauss: 0.6049358341559724\n",
      "Accuracy: 60.49%, Logloss: 0.83\n",
      "0.6027292946174562\n"
     ]
    }
   ],
   "source": [
    "gauss_ = gauss(x_train, y_train, x_validation, y_validation)\n",
    "test_model(gauss_, x_validation,y_validation)\n",
    "cross_val(gauss_, x_train, y_train)"
   ]
  },
  {
   "cell_type": "code",
   "execution_count": 10,
   "metadata": {},
   "outputs": [],
   "source": [
    "y_pred = bernoulli_.predict_proba(df_test)[:,1]\n",
    "submission_bern = pd.DataFrame(data={'Opportunity_ID':df_test['Opportunity_ID'], 'Target': y_pred})\n",
    "submission_bern = submission_bern.groupby(\"Opportunity_ID\").agg({\"Target\":\"mean\"}).reset_index()\n",
    "submission_bern.to_csv('../submits/loo_bernoulli.csv', index=False)"
   ]
  },
  {
   "cell_type": "code",
   "execution_count": null,
   "metadata": {},
   "outputs": [],
   "source": [
    "y_pred = gauss_.predict_proba(df_test)[:,1]\n",
    "submission_gauss = pd.DataFrame(data={'Opportunity_ID':df_test['Opportunity_ID'], 'Target': y_pred})\n",
    "submission_gauss = submission_gauss.groupby(\"Opportunity_ID\").agg({\"Target\":\"mean\"}).reset_index()\n",
    "submission_gauss.to_csv('../submits/loo_gauss.csv', index=False)"
   ]
  }
 ],
 "metadata": {
  "kernelspec": {
   "display_name": "Python 3",
   "language": "python",
   "name": "python3"
  },
  "language_info": {
   "codemirror_mode": {
    "name": "ipython",
    "version": 3
   },
   "file_extension": ".py",
   "mimetype": "text/x-python",
   "name": "python",
   "nbconvert_exporter": "python",
   "pygments_lexer": "ipython3",
   "version": "3.8.5"
  }
 },
 "nbformat": 4,
 "nbformat_minor": 4
}
