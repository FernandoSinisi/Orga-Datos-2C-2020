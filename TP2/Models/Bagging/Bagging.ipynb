{
 "cells": [
  {
   "cell_type": "code",
   "execution_count": 33,
   "metadata": {},
   "outputs": [],
   "source": [
    "import pandas as pd\n",
    "from sklearn.model_selection import train_test_split\n",
    "from sklearn.model_selection import GridSearchCV\n",
    "from sklearn.ensemble import BaggingClassifier\n",
    "from sklearn.metrics import log_loss\n",
    "from sklearn.metrics import accuracy_score\n",
    "from sklearn import model_selection"
   ]
  },
  {
   "cell_type": "code",
   "execution_count": 34,
   "metadata": {},
   "outputs": [],
   "source": [
    "df_train_mean_encoding = pd.read_csv('../Feature_Encoding/data/train_mean_encoding.csv')\n",
    "df_test_mean_encoding = pd.read_csv('../Feature_Encoding/data/test_mean_encoding.csv')\n",
    "df_train_binary_encoding = pd.read_csv('../Feature_Encoding/data/train_binary_encoding.csv')\n",
    "df_test_binary_encoding = pd.read_csv('../Feature_Encoding/data/test_binary_encoding.csv')\n",
    "train = pd.read_csv('../Feature_Engineering/data/other-cleaned_train.csv')"
   ]
  },
  {
   "cell_type": "code",
   "execution_count": 35,
   "metadata": {},
   "outputs": [],
   "source": [
    "def cross_val(model, x_train, y_train):\n",
    "    score_cross_val = model_selection.cross_val_score(model, x_train, y_train, cv=5)\n",
    "    print(score_cross_val.mean())"
   ]
  },
  {
   "cell_type": "code",
   "execution_count": 36,
   "metadata": {},
   "outputs": [],
   "source": [
    "#Realiza busqueda completa combinando los parametros\n",
    "def bagging(x_train, y_train, x_validation, y_validation):\n",
    "    bag_classifier = BaggingClassifier()\n",
    "    params_bag = {'n_estimators':[1,2,3,4,5,6,7,8,9,10,15,25],'max_samples':[1.0],'max_features':[1.0]}    \n",
    "    bag_gs = GridSearchCV(bag_classifier, params_bag, cv=3)\n",
    "    bag_gs.fit(x_train, y_train)\n",
    "    bag_best = bag_gs.best_estimator_\n",
    "    print(bag_gs.best_params_)\n",
    "    print('bag: {}'.format(bag_best.score(x_validation, y_validation)))\n",
    "    return bag_best"
   ]
  },
  {
   "cell_type": "code",
   "execution_count": 37,
   "metadata": {},
   "outputs": [],
   "source": [
    "def test_model(model, x_test, y_test):\n",
    "    predictions = model.predict_proba(x_test)[:,1]\n",
    "    logloss = log_loss(y_test, predictions)\n",
    "    accuracy = accuracy_score(y_test, predictions.round())\n",
    "    print(\"Accuracy: %.2f%%, Logloss: %.2f\" % (accuracy*100.0, logloss))\n"
   ]
  },
  {
   "cell_type": "code",
   "execution_count": 38,
   "metadata": {},
   "outputs": [],
   "source": [
    "y = train.Target\n",
    "x_train_mean_encoding, x_validation_mean_encoding, y_train_mean_encoding, y_validation_mean_encoding = train_test_split(df_train_mean_encoding, y, test_size=0.3, stratify=y)\n",
    "x_train_binary_encoding, x_validation_binary_encoding, y_train_binary_encoding, y_validation_binary_encoding = train_test_split(df_train_binary_encoding, y, test_size=0.3, stratify=y)"
   ]
  },
  {
   "cell_type": "markdown",
   "metadata": {},
   "source": [
    "## Mean Encoding"
   ]
  },
  {
   "cell_type": "code",
   "execution_count": 39,
   "metadata": {},
   "outputs": [
    {
     "name": "stdout",
     "output_type": "stream",
     "text": [
      "{'max_features': 1.0, 'max_samples': 1.0, 'n_estimators': 25}\n",
      "bag: 0.9125370187561698\n",
      "Accuracy: 91.25%, Logloss: 0.35\n",
      "0.9148747290611823\n"
     ]
    }
   ],
   "source": [
    "bagging_mean_encoding = bagging(x_train_mean_encoding, y_train_mean_encoding, x_validation_mean_encoding, y_validation_mean_encoding)\n",
    "test_model(bagging_mean_encoding,x_validation_mean_encoding,y_validation_mean_encoding)\n",
    "cross_val(bagging_mean_encoding, x_train_mean_encoding, y_train_mean_encoding)"
   ]
  },
  {
   "cell_type": "code",
   "execution_count": 41,
   "metadata": {},
   "outputs": [],
   "source": [
    "y_pred_bag_mean = bagging_mean_encoding.predict_proba(df_test_mean_encoding)[:,1]\n",
    "submission_bag_mean = pd.DataFrame(data={'Opportunity_ID':df_test_mean_encoding['Opportunity_ID'], 'Target': y_pred_bag_mean})\n",
    "submission_bag_mean = submission_bag_mean.groupby(\"Opportunity_ID\").agg({\"Target\":\"mean\"}).reset_index()\n",
    "submission_bag_mean.to_csv('submits/mean_bag.csv', index=False)"
   ]
  },
  {
   "cell_type": "markdown",
   "metadata": {},
   "source": [
    "## Binary Encoding"
   ]
  },
  {
   "cell_type": "code",
   "execution_count": 40,
   "metadata": {
    "scrolled": true
   },
   "outputs": [
    {
     "name": "stdout",
     "output_type": "stream",
     "text": [
      "{'max_features': 1.0, 'max_samples': 1.0, 'n_estimators': 25}\n",
      "bag: 0.9087857847976308\n",
      "Accuracy: 90.88%, Logloss: 0.26\n",
      "0.8959224737260059\n"
     ]
    }
   ],
   "source": [
    "bagging_binary_encoding = bagging(x_train_binary_encoding, y_train_binary_encoding, x_validation_binary_encoding, y_validation_binary_encoding)\n",
    "test_model(bagging_binary_encoding,x_validation_binary_encoding,y_validation_binary_encoding)\n",
    "cross_val(bagging_binary_encoding, x_train_binary_encoding, y_train_binary_encoding)"
   ]
  },
  {
   "cell_type": "code",
   "execution_count": 42,
   "metadata": {},
   "outputs": [],
   "source": [
    "y_pred_bag_binary = bagging_binary_encoding.predict_proba(df_test_binary_encoding)[:,1]\n",
    "submission_bag_binary = pd.DataFrame(data={'Opportunity_ID':df_test_binary_encoding['Opportunity_ID'], 'Target': y_pred_bag_binary})\n",
    "submission_bag_binary = submission_bag_binary.groupby(\"Opportunity_ID\").agg({\"Target\":\"mean\"}).reset_index()\n",
    "submission_bag_binary.to_csv('submits/binary_bag.csv', index=False)"
   ]
  },
  {
   "cell_type": "markdown",
   "metadata": {},
   "source": [
    "## Binary Encoding"
   ]
  },
  {
   "cell_type": "code",
   "execution_count": 40,
   "metadata": {
    "scrolled": true
   },
   "outputs": [
    {
     "name": "stdout",
     "output_type": "stream",
     "text": [
      "{'max_features': 1.0, 'max_samples': 1.0, 'n_estimators': 25}\n",
      "bag: 0.9087857847976308\n",
      "Accuracy: 90.88%, Logloss: 0.26\n",
      "0.8959224737260059\n"
     ]
    }
   ],
   "source": [
    "bagging_binary_encoding = bagging(x_train_binary_encoding, y_train_binary_encoding, x_validation_binary_encoding, y_validation_binary_encoding)\n",
    "test_model(bagging_binary_encoding,x_validation_binary_encoding,y_validation_binary_encoding)\n",
    "cross_val(bagging_binary_encoding, x_train_binary_encoding, y_train_binary_encoding)"
   ]
  },
  {
   "cell_type": "code",
   "execution_count": 42,
   "metadata": {},
   "outputs": [],
   "source": [
    "y_pred_bag_binary = bagging_binary_encoding.predict_proba(df_test_binary_encoding)[:,1]\n",
    "submission_bag_binary = pd.DataFrame(data={'Opportunity_ID':df_test_binary_encoding['Opportunity_ID'], 'Target': y_pred_bag_binary})\n",
    "submission_bag_binary = submission_bag_binary.groupby(\"Opportunity_ID\").agg({\"Target\":\"mean\"}).reset_index()\n",
    "submission_bag_binary.to_csv('submits/binary_bag.csv', index=False)"
   ]
  },
  {
   "cell_type": "markdown",
   "metadata": {},
   "source": [
    "## Binary Encoding"
   ]
  },
  {
   "cell_type": "code",
   "execution_count": 40,
   "metadata": {
    "scrolled": true
   },
   "outputs": [
    {
     "name": "stdout",
     "output_type": "stream",
     "text": [
      "{'max_features': 1.0, 'max_samples': 1.0, 'n_estimators': 25}\n",
      "bag: 0.9087857847976308\n",
      "Accuracy: 90.88%, Logloss: 0.26\n",
      "0.8959224737260059\n"
     ]
    }
   ],
   "source": [
    "bagging_binary_encoding = bagging(x_train_binary_encoding, y_train_binary_encoding, x_validation_binary_encoding, y_validation_binary_encoding)\n",
    "test_model(bagging_binary_encoding,x_validation_binary_encoding,y_validation_binary_encoding)\n",
    "cross_val(bagging_binary_encoding, x_train_binary_encoding, y_train_binary_encoding)"
   ]
  },
  {
   "cell_type": "code",
   "execution_count": 42,
   "metadata": {},
   "outputs": [],
   "source": [
    "y_pred_bag_binary = bagging_binary_encoding.predict_proba(df_test_binary_encoding)[:,1]\n",
    "submission_bag_binary = pd.DataFrame(data={'Opportunity_ID':df_test_binary_encoding['Opportunity_ID'], 'Target': y_pred_bag_binary})\n",
    "submission_bag_binary = submission_bag_binary.groupby(\"Opportunity_ID\").agg({\"Target\":\"mean\"}).reset_index()\n",
    "submission_bag_binary.to_csv('submits/binary_bag.csv', index=False)"
   ]
  }
 ],
 "metadata": {
  "kernelspec": {
   "display_name": "Python 3",
   "language": "python",
   "name": "python3"
  },
  "language_info": {
   "codemirror_mode": {
    "name": "ipython",
    "version": 3
   },
   "file_extension": ".py",
   "mimetype": "text/x-python",
   "name": "python",
   "nbconvert_exporter": "python",
   "pygments_lexer": "ipython3",
   "version": "3.7.4"
  }
 },
 "nbformat": 4,
 "nbformat_minor": 4
}
