{
 "cells": [
  {
   "cell_type": "code",
   "execution_count": 1,
   "metadata": {},
   "outputs": [],
   "source": [
    "import pandas as pd\n",
    "from sklearn import model_selection, linear_model, metrics"
   ]
  },
  {
   "cell_type": "code",
   "execution_count": 2,
   "metadata": {},
   "outputs": [],
   "source": [
    "df_train_binary_encoding = pd.read_csv('../../Feature_Encoding/data/train_binary_encoding.csv')\n",
    "df_test_binary_encoding = pd.read_csv('../../Feature_Encoding/data/test_binary_encoding.csv')\n",
    "train = pd.read_csv('../../Feature_Engineering/data/other-cleaned_train.csv')"
   ]
  },
  {
   "cell_type": "code",
   "execution_count": 3,
   "metadata": {},
   "outputs": [],
   "source": [
    "y = train.Target\n",
    "x_train_binary_encoding, x_validation_binary_encoding, y_train_binary_encoding, y_validation_binary_encoding = model_selection.train_test_split(df_train_binary_encoding, y, test_size=0.3, stratify=y)"
   ]
  },
  {
   "cell_type": "code",
   "execution_count": 4,
   "metadata": {},
   "outputs": [
    {
     "name": "stdout",
     "output_type": "stream",
     "text": [
      "logloss:0.61\n"
     ]
    }
   ],
   "source": [
    "clf_logreg = linear_model.LogisticRegression(solver='lbfgs', max_iter=300)\n",
    "clf_logreg.fit(x_train_binary_encoding, y_train_binary_encoding)\n",
    "pred = clf_logreg.predict_proba(x_validation_binary_encoding)[:,1]\n",
    "logloss = metrics.log_loss(y_validation_binary_encoding, pred)\n",
    "print(\"logloss:%.2f\" % (logloss))"
   ]
  },
  {
   "cell_type": "code",
   "execution_count": 5,
   "metadata": {},
   "outputs": [],
   "source": [
    "y_pred = clf_logreg.predict_proba(df_test_binary_encoding)[:,1]\n",
    "submission_logr_binary_encoding = pd.DataFrame(data={'Opportunity_ID':df_test_binary_encoding['Opportunity_ID'], 'Target': y_pred})\n",
    "submission_logr_binary_encoding = submission_logr_binary_encoding.groupby(\"Opportunity_ID\").agg({\"Target\":\"mean\"}).reset_index()\n",
    "submission_logr_binary_encoding.to_csv('../submits/binary_logregress.csv', index=False)"
   ]
  }
 ],
 "metadata": {
  "kernelspec": {
   "display_name": "Python 3",
   "language": "python",
   "name": "python3"
  },
  "language_info": {
   "codemirror_mode": {
    "name": "ipython",
    "version": 3
   },
   "file_extension": ".py",
   "mimetype": "text/x-python",
   "name": "python",
   "nbconvert_exporter": "python",
   "pygments_lexer": "ipython3",
   "version": "3.8.5"
  }
 },
 "nbformat": 4,
 "nbformat_minor": 4
}
