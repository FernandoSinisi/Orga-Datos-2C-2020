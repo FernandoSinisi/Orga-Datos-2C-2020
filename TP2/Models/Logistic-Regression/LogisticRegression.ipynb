{
 "cells": [
  {
   "cell_type": "code",
   "execution_count": 1,
   "metadata": {},
   "outputs": [],
   "source": [
    "import pandas as pd\n",
    "from sklearn.model_selection import train_test_split\n",
    "from sklearn.linear_model import LogisticRegression\n",
    "from sklearn.metrics import log_loss\n",
    "from sklearn.metrics import accuracy_score"
   ]
  },
  {
   "cell_type": "code",
   "execution_count": 2,
   "metadata": {},
   "outputs": [],
   "source": [
    "df_train_mean_encoding = pd.read_csv('../Feature_Encoding/data/train_mean_encoding.csv')\n",
    "df_test_mean_encoding = pd.read_csv('../Feature_Encoding/data/test_mean_encoding.csv')\n",
    "df_train_binary_encoding = pd.read_csv('../Feature_Encoding/data/train_binary_encoding.csv')\n",
    "df_test_binary_encoding = pd.read_csv('../Feature_Encoding/data/test_binary_encoding.csv')\n",
    "train = pd.read_csv('../Feature_Engineering/data/other-cleaned_train.csv')"
   ]
  },
  {
   "cell_type": "code",
   "execution_count": 3,
   "metadata": {},
   "outputs": [],
   "source": [
    "y = train.Target\n",
    "x_train_mean_encoding, x_validation_mean_encoding, y_train_mean_encoding, y_validation_mean_encoding = train_test_split(df_train_mean_encoding, y, test_size=0.3, stratify=y)\n",
    "x_train_binary_encoding, x_validation_binary_encoding, y_train_binary_encoding, y_validation_binary_encoding = train_test_split(df_train_binary_encoding, y, test_size=0.3, stratify=y)"
   ]
  },
  {
   "cell_type": "code",
   "execution_count": 4,
   "metadata": {},
   "outputs": [
    {
     "name": "stdout",
     "output_type": "stream",
     "text": [
      "logloss:0.62\n"
     ]
    }
   ],
   "source": [
    "clf_logreg = LogisticRegression(solver='lbfgs', max_iter=150)\n",
    "clf_logreg.fit(x_train_mean_encoding, y_train_mean_encoding)\n",
    "pred = clf_logreg.predict_proba(x_validation_mean_encoding)[:,1]\n",
    "\n",
    "logloss = log_loss(y_validation_mean_encoding, pred)\n",
    "print(\"logloss:%.2f\" % (logloss))"
   ]
  },
  {
   "cell_type": "code",
   "execution_count": 5,
   "metadata": {},
   "outputs": [],
   "source": [
    "y_pred = clf_logreg.predict_proba(df_test_mean_encoding)[:,1]\n",
    "submission_logr_me = pd.DataFrame(data={'Opportunity_ID':df_test_mean_encoding['Opportunity_ID'], 'Target': y_pred})\n",
    "submission_logr_me = submission_logr_me.groupby(\"Opportunity_ID\").agg({\"Target\":\"mean\"}).reset_index()\n",
    "submission_logr_me.to_csv('submits/mean_logregress.csv', index=False)"
   ]
  },
  {
   "cell_type": "code",
   "execution_count": 6,
   "metadata": {},
   "outputs": [
    {
     "name": "stdout",
     "output_type": "stream",
     "text": [
      "logloss:0.63\n"
     ]
    }
   ],
   "source": [
    "clf_logreg = LogisticRegression(solver='lbfgs', max_iter=300)\n",
    "clf_logreg.fit(x_train_binary_encoding, y_train_binary_encoding)\n",
    "pred = clf_logreg.predict_proba(x_validation_binary_encoding)[:,1]\n",
    "logloss = log_loss(y_validation_binary_encoding, pred)\n",
    "print(\"logloss:%.2f\" % (logloss))"
   ]
  },
  {
   "cell_type": "code",
   "execution_count": 7,
   "metadata": {},
   "outputs": [],
   "source": [
    "y_pred = clf_logreg.predict_proba(df_test_binary_encoding)[:,1]\n",
    "submission_logr_binary_encoding = pd.DataFrame(data={'Opportunity_ID':df_test_binary_encoding['Opportunity_ID'], 'Target': y_pred})\n",
    "submission_logr_binary_encoding = submission_logr_binary_encoding.groupby(\"Opportunity_ID\").agg({\"Target\":\"mean\"}).reset_index()\n",
    "submission_logr_binary_encoding.to_csv('submits/mean_logregress.csv', index=False)"
   ]
  }
 ],
 "metadata": {
  "kernelspec": {
   "display_name": "Python 3",
   "language": "python",
   "name": "python3"
  },
  "language_info": {
   "codemirror_mode": {
    "name": "ipython",
    "version": 3
   },
   "file_extension": ".py",
   "mimetype": "text/x-python",
   "name": "python",
   "nbconvert_exporter": "python",
   "pygments_lexer": "ipython3",
   "version": "3.7.4"
  }
 },
 "nbformat": 4,
 "nbformat_minor": 4
}
