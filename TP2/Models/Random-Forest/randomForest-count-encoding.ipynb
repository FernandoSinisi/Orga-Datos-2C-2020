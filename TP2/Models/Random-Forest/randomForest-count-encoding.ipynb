{
 "cells": [
  {
   "cell_type": "code",
   "execution_count": 1,
   "metadata": {},
   "outputs": [],
   "source": [
    "import pandas as pd\n",
    "from sklearn import model_selection, ensemble, metrics"
   ]
  },
  {
   "cell_type": "code",
   "execution_count": 2,
   "metadata": {},
   "outputs": [],
   "source": [
    "df_train = pd.read_csv('../../Feature_Encoding/data/train_count_encoding.csv')\n",
    "df_test = pd.read_csv('../../Feature_Encoding/data/test_count_encoding.csv')\n",
    "train = pd.read_csv('../../Feature_Engineering/data/other-cleaned_train.csv')"
   ]
  },
  {
   "cell_type": "code",
   "execution_count": 3,
   "metadata": {},
   "outputs": [],
   "source": [
    "for column in df_test.columns.tolist():\n",
    "    df_test[column] = df_test[column].fillna(0)  \n",
    "\n",
    "df_test= df_test.replace('', 0)"
   ]
  },
  {
   "cell_type": "code",
   "execution_count": 4,
   "metadata": {},
   "outputs": [],
   "source": [
    "def cross_val(model, x_train, y_train):\n",
    "    score_cross_val = model_selection.cross_val_score(model, x_train, y_train, cv=5)\n",
    "    print(score_cross_val.mean())"
   ]
  },
  {
   "cell_type": "code",
   "execution_count": 5,
   "metadata": {},
   "outputs": [],
   "source": [
    "def test_model(model, x_test, y_test):\n",
    "    predictions = model.predict_proba(x_test)[:,1]\n",
    "    logloss = metrics.log_loss(y_test, predictions)\n",
    "    accuracy = metrics.accuracy_score(y_test, predictions.round())\n",
    "    print(\"Accuracy: %.2f%%, Logloss: %.2f\" % (accuracy*100.0, logloss))"
   ]
  },
  {
   "cell_type": "code",
   "execution_count": 6,
   "metadata": {},
   "outputs": [],
   "source": [
    "def RandomForest_con_gridsearch(x_train, y_train, x_validation, y_validation):\n",
    "\n",
    "  rf = ensemble.RandomForestClassifier()\n",
    "  params_rf = {'n_estimators': [50, 100, 150],'max_depth':[3,10,6,15]}\n",
    "  rf_gs = model_selection.GridSearchCV(rf, params_rf, cv=5)\n",
    "  rf_gs.fit(x_train, y_train)\n",
    "  rf_best = rf_gs.best_estimator_\n",
    "\n",
    "  print(rf_gs.best_params_)\n",
    "  print('rf: {}'.format(rf_best.score(x_validation, y_validation)))\n",
    "\n",
    "  return rf_best"
   ]
  },
  {
   "cell_type": "code",
   "execution_count": 7,
   "metadata": {},
   "outputs": [],
   "source": [
    "y = train.Target\n",
    "x_train, x_validation, y_train, y_validation = model_selection.train_test_split(df_train, y, test_size=0.3, stratify=y)"
   ]
  },
  {
   "cell_type": "code",
   "execution_count": 8,
   "metadata": {},
   "outputs": [
    {
     "name": "stdout",
     "output_type": "stream",
     "text": [
      "{'max_depth': 15, 'n_estimators': 100}\n",
      "rf: 0.9145113524185587\n"
     ]
    }
   ],
   "source": [
    "rf = RandomForest_con_gridsearch(x_train, y_train, x_validation, y_validation)"
   ]
  },
  {
   "cell_type": "code",
   "execution_count": 9,
   "metadata": {},
   "outputs": [
    {
     "name": "stdout",
     "output_type": "stream",
     "text": [
      "Accuracy: 91.45%, Logloss: 0.23\n"
     ]
    }
   ],
   "source": [
    "test_model(rf, x_validation, y_validation)"
   ]
  },
  {
   "cell_type": "code",
   "execution_count": 10,
   "metadata": {},
   "outputs": [
    {
     "name": "stdout",
     "output_type": "stream",
     "text": [
      "0.9086986845280419\n"
     ]
    }
   ],
   "source": [
    "cross_val(rf, x_train, y_train)"
   ]
  },
  {
   "cell_type": "code",
   "execution_count": 11,
   "metadata": {},
   "outputs": [],
   "source": [
    "y_pred = rf.predict_proba(df_test)[:,1]\n",
    "submission_rf = pd.DataFrame(data={'Opportunity_ID':df_test['Opportunity_ID'], 'Target': y_pred})\n",
    "submission_rf = submission_rf.groupby(\"Opportunity_ID\").agg({\"Target\":\"mean\"}).reset_index()\n",
    "submission_rf.to_csv('../submits/count_rf.csv', index=False)"
   ]
  }
 ],
 "metadata": {
  "kernelspec": {
   "display_name": "Python 3",
   "language": "python",
   "name": "python3"
  },
  "language_info": {
   "codemirror_mode": {
    "name": "ipython",
    "version": 3
   },
   "file_extension": ".py",
   "mimetype": "text/x-python",
   "name": "python",
   "nbconvert_exporter": "python",
   "pygments_lexer": "ipython3",
   "version": "3.8.5"
  }
 },
 "nbformat": 4,
 "nbformat_minor": 4
}
