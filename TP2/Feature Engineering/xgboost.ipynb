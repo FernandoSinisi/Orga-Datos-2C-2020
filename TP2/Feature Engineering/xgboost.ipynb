{
 "cells": [
  {
   "cell_type": "code",
   "execution_count": 147,
   "metadata": {},
   "outputs": [],
   "source": [
    "import numpy as np\n",
    "from sklearn.model_selection import RandomizedSearchCV\n",
    "from sklearn.model_selection import train_test_split\n",
    "import scipy.stats as stats\n",
    "from sklearn.metrics import log_loss\n",
    "import sklearn.metrics \n",
    "import xgboost as xgb\n",
    "import category_encoders\n",
    "import pandas as pd"
   ]
  },
  {
   "cell_type": "code",
   "execution_count": 148,
   "metadata": {},
   "outputs": [
    {
     "data": {
      "text/plain": [
       "dict_keys(['explained_variance', 'r2', 'max_error', 'neg_median_absolute_error', 'neg_mean_absolute_error', 'neg_mean_squared_error', 'neg_mean_squared_log_error', 'neg_root_mean_squared_error', 'neg_mean_poisson_deviance', 'neg_mean_gamma_deviance', 'accuracy', 'roc_auc', 'roc_auc_ovr', 'roc_auc_ovo', 'roc_auc_ovr_weighted', 'roc_auc_ovo_weighted', 'balanced_accuracy', 'average_precision', 'neg_log_loss', 'neg_brier_score', 'adjusted_rand_score', 'homogeneity_score', 'completeness_score', 'v_measure_score', 'mutual_info_score', 'adjusted_mutual_info_score', 'normalized_mutual_info_score', 'fowlkes_mallows_score', 'precision', 'precision_macro', 'precision_micro', 'precision_samples', 'precision_weighted', 'recall', 'recall_macro', 'recall_micro', 'recall_samples', 'recall_weighted', 'f1', 'f1_macro', 'f1_micro', 'f1_samples', 'f1_weighted', 'jaccard', 'jaccard_macro', 'jaccard_micro', 'jaccard_samples', 'jaccard_weighted'])"
      ]
     },
     "execution_count": 148,
     "metadata": {},
     "output_type": "execute_result"
    }
   ],
   "source": [
    "sklearn.metrics.SCORERS.keys()"
   ]
  },
  {
   "cell_type": "code",
   "execution_count": 149,
   "metadata": {},
   "outputs": [],
   "source": [
    "df_train = pd.read_csv('data/train.csv')\n",
    "df_test = pd.read_csv('data/test.csv')\n",
    "features = pd.read_csv('data/features.csv')"
   ]
  },
  {
   "cell_type": "code",
   "execution_count": 150,
   "metadata": {},
   "outputs": [],
   "source": [
    "target = features[\"Stage\"]\n",
    "features.drop(columns=[\"Stage\"], inplace=True)"
   ]
  },
  {
   "cell_type": "code",
   "execution_count": 151,
   "metadata": {},
   "outputs": [
    {
     "data": {
      "text/html": [
       "<div>\n",
       "<style scoped>\n",
       "    .dataframe tbody tr th:only-of-type {\n",
       "        vertical-align: middle;\n",
       "    }\n",
       "\n",
       "    .dataframe tbody tr th {\n",
       "        vertical-align: top;\n",
       "    }\n",
       "\n",
       "    .dataframe thead th {\n",
       "        text-align: right;\n",
       "    }\n",
       "</style>\n",
       "<table border=\"1\" class=\"dataframe\">\n",
       "  <thead>\n",
       "    <tr style=\"text-align: right;\">\n",
       "      <th></th>\n",
       "      <th>Pricing, Delivery_Terms_Quote_Appr</th>\n",
       "      <th>Pricing, Delivery_Terms_Approved</th>\n",
       "      <th>Bureaucratic_Code_0_Approval</th>\n",
       "      <th>Bureaucratic_Code_0_Approved</th>\n",
       "      <th>Submitted_for_Approval</th>\n",
       "      <th>ASP</th>\n",
       "      <th>ASP_(converted)</th>\n",
       "      <th>TRF</th>\n",
       "      <th>Total_Amount</th>\n",
       "      <th>Total_Taxable_Amount</th>\n",
       "    </tr>\n",
       "  </thead>\n",
       "  <tbody>\n",
       "    <tr>\n",
       "      <th>0</th>\n",
       "      <td>0</td>\n",
       "      <td>0</td>\n",
       "      <td>0</td>\n",
       "      <td>0</td>\n",
       "      <td>0</td>\n",
       "      <td>0.315</td>\n",
       "      <td>0.35629</td>\n",
       "      <td>2</td>\n",
       "      <td>662287.5</td>\n",
       "      <td>662287.5</td>\n",
       "    </tr>\n",
       "  </tbody>\n",
       "</table>\n",
       "</div>"
      ],
      "text/plain": [
       "   Pricing, Delivery_Terms_Quote_Appr  Pricing, Delivery_Terms_Approved  \\\n",
       "0                                   0                                 0   \n",
       "\n",
       "   Bureaucratic_Code_0_Approval  Bureaucratic_Code_0_Approved  \\\n",
       "0                             0                             0   \n",
       "\n",
       "   Submitted_for_Approval    ASP  ASP_(converted)  TRF  Total_Amount  \\\n",
       "0                       0  0.315          0.35629    2      662287.5   \n",
       "\n",
       "   Total_Taxable_Amount  \n",
       "0              662287.5  "
      ]
     },
     "execution_count": 151,
     "metadata": {},
     "output_type": "execute_result"
    }
   ],
   "source": [
    "best_features = features.loc[:,[\"Pricing, Delivery_Terms_Quote_Appr\",\"Pricing, Delivery_Terms_Approved\",\"Bureaucratic_Code_0_Approval\",\\\n",
    "                       \"Bureaucratic_Code_0_Approved\",\"Submitted_for_Approval\",\"ASP\",\"ASP_(converted)\",\"TRF\",\\\n",
    "                        \"Total_Amount\",\"Total_Taxable_Amount\"]]\n",
    "best_features.head(1)"
   ]
  },
  {
   "cell_type": "code",
   "execution_count": 152,
   "metadata": {},
   "outputs": [],
   "source": [
    "xtrb,xteb,ytrb,yteb=train_test_split(best_features,target)"
   ]
  },
  {
   "cell_type": "code",
   "execution_count": 153,
   "metadata": {},
   "outputs": [],
   "source": [
    "#params={\n",
    " #   'n_estimators':stats.randint(10,500),\n",
    "  #  'learning_rate':stats.uniform(0.01,0.3),\n",
    "  #  'subsample':stats.uniform(0.3,0.7),\n",
    " #   'min_child_weight':[1,5,10],\n",
    " #   'max_depth':[3,10,6],\n",
    "  #  'gamma':stats.randint(0,10),\n",
    "   # 'colsample_bytree':stats.uniform(0.,0.6)\n",
    "#}\n",
    "\n",
    "params={\n",
    "    'n_estimators':stats.randint(5,10),\n",
    "    'learning_rate':stats.uniform(0.1,0.2),\n",
    "    'max_depth':[3,5,7],\n",
    "    'gamma':stats.randint(8,12),\n",
    "    'alpha':stats.randint(8,12),\n",
    "    'colsample_bytree':stats.uniform(0.2,0.4)\n",
    "}\n",
    "\n",
    "\n",
    "xgboost_search = RandomizedSearchCV(xgb.XGBClassifier(n_jobs=-1),\n",
    "                          param_distributions=params,\n",
    "                          cv=2,\n",
    "                          scoring='neg_log_loss',\n",
    "                          verbose=1,\n",
    "                          n_iter=100)"
   ]
  },
  {
   "cell_type": "code",
   "execution_count": 154,
   "metadata": {},
   "outputs": [
    {
     "name": "stdout",
     "output_type": "stream",
     "text": [
      "Fitting 2 folds for each of 100 candidates, totalling 200 fits\n"
     ]
    },
    {
     "name": "stderr",
     "output_type": "stream",
     "text": [
      "[Parallel(n_jobs=1)]: Using backend SequentialBackend with 1 concurrent workers.\n",
      "[Parallel(n_jobs=1)]: Done 200 out of 200 | elapsed:    4.2s finished\n"
     ]
    },
    {
     "data": {
      "text/plain": [
       "RandomizedSearchCV(cv=2, estimator=XGBClassifier(n_jobs=-1), n_iter=100,\n",
       "                   param_distributions={'alpha': <scipy.stats._distn_infrastructure.rv_frozen object at 0x7feee360c210>,\n",
       "                                        'colsample_bytree': <scipy.stats._distn_infrastructure.rv_frozen object at 0x7feee361afd0>,\n",
       "                                        'gamma': <scipy.stats._distn_infrastructure.rv_frozen object at 0x7feee360cc90>,\n",
       "                                        'learning_rate': <scipy.stats._distn_infrastructure.rv_frozen object at 0x7feee360cf50>,\n",
       "                                        'max_depth': [3, 5, 7],\n",
       "                                        'n_estimators': <scipy.stats._distn_infrastructure.rv_frozen object at 0x7feee16e5910>},\n",
       "                   scoring='neg_log_loss', verbose=1)"
      ]
     },
     "execution_count": 154,
     "metadata": {},
     "output_type": "execute_result"
    }
   ],
   "source": [
    "xgboost_search.fit(xtrb,ytrb)"
   ]
  },
  {
   "cell_type": "code",
   "execution_count": 155,
   "metadata": {},
   "outputs": [
    {
     "name": "stdout",
     "output_type": "stream",
     "text": [
      "-0.4539473525681987 XGBClassifier(alpha=11, colsample_bytree=0.5663535118998535, gamma=8,\n",
      "              learning_rate=0.29021836075911334, max_depth=7, n_estimators=8,\n",
      "              n_jobs=-1)\n"
     ]
    }
   ],
   "source": [
    "print(xgboost_search.best_score_, xgboost_search.best_estimator_)"
   ]
  },
  {
   "cell_type": "code",
   "execution_count": 156,
   "metadata": {},
   "outputs": [
    {
     "data": {
      "text/plain": [
       "-0.4413017254923791"
      ]
     },
     "execution_count": 156,
     "metadata": {},
     "output_type": "execute_result"
    }
   ],
   "source": [
    "xgboost_search.score(X=xteb,y=yteb)"
   ]
  },
  {
   "cell_type": "code",
   "execution_count": 157,
   "metadata": {},
   "outputs": [
    {
     "data": {
      "text/html": [
       "<div>\n",
       "<style scoped>\n",
       "    .dataframe tbody tr th:only-of-type {\n",
       "        vertical-align: middle;\n",
       "    }\n",
       "\n",
       "    .dataframe tbody tr th {\n",
       "        vertical-align: top;\n",
       "    }\n",
       "\n",
       "    .dataframe thead th {\n",
       "        text-align: right;\n",
       "    }\n",
       "</style>\n",
       "<table border=\"1\" class=\"dataframe\">\n",
       "  <thead>\n",
       "    <tr style=\"text-align: right;\">\n",
       "      <th></th>\n",
       "      <th>0</th>\n",
       "      <th>1</th>\n",
       "      <th>2</th>\n",
       "      <th>3</th>\n",
       "      <th>4</th>\n",
       "      <th>5</th>\n",
       "      <th>6</th>\n",
       "      <th>7</th>\n",
       "      <th>8</th>\n",
       "      <th>9</th>\n",
       "    </tr>\n",
       "  </thead>\n",
       "  <tbody>\n",
       "    <tr>\n",
       "      <th>0</th>\n",
       "      <td>Pricing, Delivery_Terms_Quote_Appr</td>\n",
       "      <td>Pricing, Delivery_Terms_Approved</td>\n",
       "      <td>Bureaucratic_Code_0_Approval</td>\n",
       "      <td>Bureaucratic_Code_0_Approved</td>\n",
       "      <td>Submitted_for_Approval</td>\n",
       "      <td>ASP</td>\n",
       "      <td>ASP_(converted)</td>\n",
       "      <td>TRF</td>\n",
       "      <td>Total_Amount</td>\n",
       "      <td>Total_Taxable_Amount</td>\n",
       "    </tr>\n",
       "    <tr>\n",
       "      <th>1</th>\n",
       "      <td>0.0280644</td>\n",
       "      <td>0.379716</td>\n",
       "      <td>0.0482786</td>\n",
       "      <td>0.049367</td>\n",
       "      <td>0</td>\n",
       "      <td>0.0634855</td>\n",
       "      <td>0.0585002</td>\n",
       "      <td>0.274041</td>\n",
       "      <td>0.0317251</td>\n",
       "      <td>0.0668222</td>\n",
       "    </tr>\n",
       "  </tbody>\n",
       "</table>\n",
       "</div>"
      ],
      "text/plain": [
       "                                    0                                 1  \\\n",
       "0  Pricing, Delivery_Terms_Quote_Appr  Pricing, Delivery_Terms_Approved   \n",
       "1                           0.0280644                          0.379716   \n",
       "\n",
       "                              2                             3  \\\n",
       "0  Bureaucratic_Code_0_Approval  Bureaucratic_Code_0_Approved   \n",
       "1                     0.0482786                      0.049367   \n",
       "\n",
       "                        4          5                6         7             8  \\\n",
       "0  Submitted_for_Approval        ASP  ASP_(converted)       TRF  Total_Amount   \n",
       "1                       0  0.0634855        0.0585002  0.274041     0.0317251   \n",
       "\n",
       "                      9  \n",
       "0  Total_Taxable_Amount  \n",
       "1             0.0668222  "
      ]
     },
     "execution_count": 157,
     "metadata": {},
     "output_type": "execute_result"
    }
   ],
   "source": [
    "xgboost_predictor = xgboost_search.best_estimator_\n",
    "importance = xgboost_predictor.feature_importances_\n",
    "pd.DataFrame([best_features.columns,importance])"
   ]
  },
  {
   "cell_type": "code",
   "execution_count": 158,
   "metadata": {},
   "outputs": [
    {
     "data": {
      "text/plain": [
       "XGBClassifier(alpha=11, colsample_bytree=0.5663535118998535, gamma=8,\n",
       "              learning_rate=0.29021836075911334, max_depth=7, n_estimators=8,\n",
       "              n_jobs=-1)"
      ]
     },
     "execution_count": 158,
     "metadata": {},
     "output_type": "execute_result"
    }
   ],
   "source": [
    "xgboost_predictor.fit(best_features,target)"
   ]
  },
  {
   "cell_type": "code",
   "execution_count": 159,
   "metadata": {},
   "outputs": [],
   "source": [
    "to_predict = df_test.loc[:,[\"Pricing, Delivery_Terms_Quote_Appr\",\"Pricing, Delivery_Terms_Approved\",\"Bureaucratic_Code_0_Approval\",\\\n",
    "                       \"Bureaucratic_Code_0_Approved\",\"Submitted_for_Approval\",\"ASP\",\"ASP_(converted)\",\"TRF\",\\\n",
    "                        \"Total_Amount\",\"Total_Taxable_Amount\"]]\n",
    "\n",
    "prediction = xgboost_predictor.predict(to_predict)\n",
    "df_test[\"Target\"] = prediction\n",
    "df_test.head()\n",
    "\n",
    "subm = df_test.groupby(\"Opportunity_ID\").mean()\n",
    "subm = subm.loc[:,[\"Target\"]]\n",
    "subm.head()\n",
    "subm.to_csv('data/submit_xgboost.csv')"
   ]
  },
  {
   "cell_type": "code",
   "execution_count": null,
   "metadata": {},
   "outputs": [],
   "source": []
  },
  {
   "cell_type": "code",
   "execution_count": null,
   "metadata": {},
   "outputs": [],
   "source": [
    "\n"
   ]
  }
 ],
 "metadata": {
  "kernelspec": {
   "display_name": "Python 3",
   "language": "python",
   "name": "python3"
  },
  "language_info": {
   "codemirror_mode": {
    "name": "ipython",
    "version": 3
   },
   "file_extension": ".py",
   "mimetype": "text/x-python",
   "name": "python",
   "nbconvert_exporter": "python",
   "pygments_lexer": "ipython3",
   "version": "3.7.4"
  }
 },
 "nbformat": 4,
 "nbformat_minor": 4
}
