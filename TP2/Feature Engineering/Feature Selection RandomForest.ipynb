{
 "cells": [
  {
   "cell_type": "code",
   "execution_count": 1,
   "metadata": {},
   "outputs": [],
   "source": [
    "import pandas as pd\n",
    "import numpy as np\n",
    "from sklearn.ensemble import RandomForestClassifier\n",
    "from sklearn.feature_selection import SelectFromModel\n",
    "from sklearn import preprocessing"
   ]
  },
  {
   "cell_type": "code",
   "execution_count": 2,
   "metadata": {},
   "outputs": [],
   "source": [
    "train = pd.read_csv('data/cleaned_train.csv')\n",
    "train = train.fillna(0)"
   ]
  },
  {
   "cell_type": "code",
   "execution_count": 3,
   "metadata": {},
   "outputs": [],
   "source": [
    "features_names = ['Opportunity_ID', 'Items_Count', 'Region', 'Territory',\n",
    "       'Pricing, Delivery_Terms_Quote_Appr', 'Bureaucratic_Code_0_Approval',\n",
    "       'Bureaucratic_Code_0_Approved', 'Submitted_for_Approval',\n",
    "       'Bureaucratic_Code', 'Account_Created_Date', 'Billing_Country',\n",
    "       'Account_Name', 'Opportunity_Name', 'Account_Owner',\n",
    "       'Opportunity_Owner', 'Account_Type', 'Opportunity_Type', 'Quote_Type',\n",
    "       'Delivery_Terms', 'Currency', 'Last_Modified_By', 'Product_Family',\n",
    "       'Product_Name', 'ASP_Currency', 'ASP', 'ASP_(converted)_Currency',\n",
    "       'ASP_(converted)', 'Month', 'Delivery_Quarter', 'Delivery_Year', 'TRF',\n",
    "       'Total_Amount_Currency', 'Total_Amount',\n",
    "       'Total_Taxable_Amount_Currency', 'Total_Taxable_Amount',\n",
    "       'Prod_Category_A', 'diferencia_en_dias', 'Last_Modified_DOY',\n",
    "       'Last_Modified_Year', 'Opportunity_Created_DOY', 'Quote_Expiry_DOY', 'Quote_Expiry_Year',\n",
    "       'Planned_Delivery_Start_DOY', 'Planned_Delivery_Start_Year',\n",
    "       'Planned_Delivery_End_DOY', 'Planned_Delivery_End_Year']"
   ]
  },
  {
   "cell_type": "code",
   "execution_count": 4,
   "metadata": {},
   "outputs": [],
   "source": [
    "Region = list(train['Region'])\n",
    "le = preprocessing.LabelEncoder()\n",
    "Region_codificada = le.fit_transform(Region)"
   ]
  },
  {
   "cell_type": "code",
   "execution_count": 5,
   "metadata": {},
   "outputs": [],
   "source": [
    "Territory = list(train['Territory'])\n",
    "le = preprocessing.LabelEncoder()\n",
    "Territory_codificada = le.fit_transform(Territory)"
   ]
  },
  {
   "cell_type": "code",
   "execution_count": 6,
   "metadata": {},
   "outputs": [],
   "source": [
    "Billing_Country = list(train['Billing_Country'])\n",
    "le = preprocessing.LabelEncoder()\n",
    "Billing_Country_codificada = le.fit_transform(Billing_Country)"
   ]
  },
  {
   "cell_type": "code",
   "execution_count": 7,
   "metadata": {},
   "outputs": [],
   "source": [
    "Account_Name = list(train['Account_Name'])\n",
    "le = preprocessing.LabelEncoder()\n",
    "Account_Name_codificada = le.fit_transform(Account_Name)"
   ]
  },
  {
   "cell_type": "code",
   "execution_count": 8,
   "metadata": {},
   "outputs": [],
   "source": [
    "Opportunity_Name = list(train['Opportunity_Name'])\n",
    "le = preprocessing.LabelEncoder()\n",
    "Opportunity_Name_codificada = le.fit_transform(Opportunity_Name)"
   ]
  },
  {
   "cell_type": "code",
   "execution_count": 9,
   "metadata": {},
   "outputs": [],
   "source": [
    "Account_Owner = list(train['Account_Owner'])\n",
    "le = preprocessing.LabelEncoder()\n",
    "Account_Owner_codificada = le.fit_transform(Account_Owner)"
   ]
  },
  {
   "cell_type": "code",
   "execution_count": 10,
   "metadata": {},
   "outputs": [],
   "source": [
    "Opportunity_Type = list(train['Opportunity_Type'])\n",
    "le = preprocessing.LabelEncoder()\n",
    "Opportunity_Type_codificada = le.fit_transform(Opportunity_Type)"
   ]
  },
  {
   "cell_type": "code",
   "execution_count": 11,
   "metadata": {},
   "outputs": [],
   "source": [
    "Quote_Type = list(train['Quote_Type'])\n",
    "le = preprocessing.LabelEncoder()\n",
    "Quote_Type_codificada = le.fit_transform(Quote_Type)"
   ]
  },
  {
   "cell_type": "code",
   "execution_count": 12,
   "metadata": {},
   "outputs": [],
   "source": [
    "Account_Type = list(train['Account_Type'])\n",
    "le = preprocessing.LabelEncoder()\n",
    "Account_Type_codificada = le.fit_transform(Account_Type)"
   ]
  },
  {
   "cell_type": "code",
   "execution_count": 13,
   "metadata": {},
   "outputs": [],
   "source": [
    "Opportunity_Owner = list(train['Opportunity_Owner'])\n",
    "le = preprocessing.LabelEncoder()\n",
    "Opportunity_Owner_codificada = le.fit_transform(Opportunity_Owner)"
   ]
  },
  {
   "cell_type": "code",
   "execution_count": 14,
   "metadata": {},
   "outputs": [],
   "source": [
    "Delivery_Terms = list(train['Delivery_Terms'])\n",
    "le = preprocessing.LabelEncoder()\n",
    "Delivery_Terms_codificada = le.fit_transform(Delivery_Terms)"
   ]
  },
  {
   "cell_type": "code",
   "execution_count": 15,
   "metadata": {},
   "outputs": [],
   "source": [
    "Currency = list(train['Currency'])\n",
    "le = preprocessing.LabelEncoder()\n",
    "Currency_codificada = le.fit_transform(Currency)"
   ]
  },
  {
   "cell_type": "code",
   "execution_count": 16,
   "metadata": {},
   "outputs": [],
   "source": [
    "Last_Modified_By = list(train['Last_Modified_By'])\n",
    "le = preprocessing.LabelEncoder()\n",
    "Last_Modified_By_codificada = le.fit_transform(Last_Modified_By)"
   ]
  },
  {
   "cell_type": "code",
   "execution_count": 17,
   "metadata": {},
   "outputs": [],
   "source": [
    "Product_Family = list(train['Product_Family'])\n",
    "le = preprocessing.LabelEncoder()\n",
    "Product_Family_codificada = le.fit_transform(Product_Family)"
   ]
  },
  {
   "cell_type": "code",
   "execution_count": 18,
   "metadata": {},
   "outputs": [],
   "source": [
    "Product_Name = list(train['Product_Name'])\n",
    "le = preprocessing.LabelEncoder()\n",
    "Product_Name_codificada = le.fit_transform(Product_Name)"
   ]
  },
  {
   "cell_type": "code",
   "execution_count": 19,
   "metadata": {},
   "outputs": [],
   "source": [
    "ASP_Currency = list(train['ASP_Currency'])\n",
    "le = preprocessing.LabelEncoder()\n",
    "ASP_Currency_codificada = le.fit_transform(ASP_Currency)"
   ]
  },
  {
   "cell_type": "code",
   "execution_count": 20,
   "metadata": {},
   "outputs": [],
   "source": [
    "ASP_converted_Currency = list(train['ASP_(converted)_Currency'])\n",
    "le = preprocessing.LabelEncoder()\n",
    "ASP_converted_Currency_codificada = le.fit_transform(ASP_converted_Currency)"
   ]
  },
  {
   "cell_type": "code",
   "execution_count": 21,
   "metadata": {},
   "outputs": [],
   "source": [
    "Delivery_Quarter = list(train['Delivery_Quarter'])\n",
    "le = preprocessing.LabelEncoder()\n",
    "Delivery_Quarter_codificada = le.fit_transform(Delivery_Quarter)"
   ]
  },
  {
   "cell_type": "code",
   "execution_count": 22,
   "metadata": {},
   "outputs": [],
   "source": [
    "Total_Amount_Currency = list(train['Total_Amount_Currency'])\n",
    "le = preprocessing.LabelEncoder()\n",
    "Total_Amount_Currency_codificada = le.fit_transform(Total_Amount_Currency)"
   ]
  },
  {
   "cell_type": "code",
   "execution_count": 23,
   "metadata": {},
   "outputs": [],
   "source": [
    "Total_Taxable_Amount_Currency = list(train['Total_Taxable_Amount_Currency'])\n",
    "le = preprocessing.LabelEncoder()\n",
    "Total_Taxable_Amount_Currency_codificada = le.fit_transform(Total_Taxable_Amount_Currency)"
   ]
  },
  {
   "cell_type": "code",
   "execution_count": 24,
   "metadata": {},
   "outputs": [],
   "source": [
    "Prod_Category_A = list(train['Prod_Category_A'])\n",
    "le = preprocessing.LabelEncoder()\n",
    "Prod_Category_A_codificada = le.fit_transform(Prod_Category_A)"
   ]
  },
  {
   "cell_type": "code",
   "execution_count": 25,
   "metadata": {},
   "outputs": [],
   "source": [
    "Bureaucratic_Code = list(train['Bureaucratic_Code'])\n",
    "le = preprocessing.LabelEncoder()\n",
    "Bureaucratic_Code_codificada = le.fit_transform(Bureaucratic_Code)"
   ]
  },
  {
   "cell_type": "code",
   "execution_count": 27,
   "metadata": {},
   "outputs": [],
   "source": [
    "Opportunity_ID = pd.to_numeric(train['Opportunity_ID'],errors='coerce')\n",
    "Items_Count = pd.to_numeric(train['Items_Count'],errors='coerce')\n",
    "Pricing_Delivery_Terms_Quote_Appr = pd.to_numeric(train['Pricing, Delivery_Terms_Quote_Appr'],errors='coerce')\n",
    "np.nan_to_num(Pricing_Delivery_Terms_Quote_Appr)\n",
    "Bureaucratic_Code_0_Approval = pd.to_numeric(train['Bureaucratic_Code_0_Approval'],errors='coerce')\n",
    "Bureaucratic_Code_0_Approved = pd.to_numeric(train['Bureaucratic_Code_0_Approved'],errors='coerce')\n",
    "Submitted_for_Approval = pd.to_numeric(train['Submitted_for_Approval'],errors='coerce')\n",
    "np.nan_to_num(Submitted_for_Approval)\n",
    "ASP = pd.to_numeric(train['ASP'],errors='coerce')\n",
    "np.nan_to_num(ASP)\n",
    "ASP_converted = pd.to_numeric(train['ASP_(converted)'],errors='coerce')\n",
    "np.nan_to_num(ASP_converted)\n",
    "Delivery_Year = pd.to_numeric(train['Delivery_Year'],errors='coerce')\n",
    "np.nan_to_num(Delivery_Year)\n",
    "TRF = pd.to_numeric(train['TRF'],errors='coerce')\n",
    "np.nan_to_num(TRF)\n",
    "Total_Amount = pd.to_numeric(train['Total_Amount'],errors='coerce')\n",
    "np.nan_to_num(Total_Amount)\n",
    "Total_Taxable_Amount = pd.to_numeric(train['Total_Taxable_Amount'],errors='coerce')\n",
    "np.nan_to_num(Total_Taxable_Amount)\n",
    "diferencia_en_dias = pd.to_numeric(train['diferencia_en_dias'],errors='coerce')\n",
    "Last_Modified_DOY = pd.to_numeric(train['Last_Modified_DOY'],errors='coerce')\n",
    "Last_Modified_Year = pd.to_numeric(train['Last_Modified_Year'],errors='coerce')\n",
    "Opportunity_Created_DOY = pd.to_numeric(train['Opportunity_Created_DOY'],errors='coerce')\n",
    "Opportunity_Created_Year = pd.to_numeric(train['Opportunity_Created_Year'],errors='coerce')\n",
    "Quote_Expiry_DOY = pd.to_numeric(train['Quote_Expiry_DOY'],errors='coerce')\n",
    "Quote_Expiry_Year = pd.to_numeric(train['Quote_Expiry_Year'],errors='coerce')\n",
    "Planned_Delivery_Start_DOY = pd.to_numeric(train['Planned_Delivery_Start_DOY'],errors='coerce')\n",
    "Planned_Delivery_Start_Year = pd.to_numeric(train['Planned_Delivery_Start_Year'],errors='coerce')\n",
    "Opportunity_Created_DOY = pd.to_numeric(train['Opportunity_Created_DOY'],errors='coerce')\n",
    "Planned_Delivery_End_Year = pd.to_numeric(train['Planned_Delivery_End_Year'],errors='coerce')\n",
    "\n"
   ]
  },
  {
   "cell_type": "code",
   "execution_count": 28,
   "metadata": {},
   "outputs": [],
   "source": [
    "features = list(zip(np.nan_to_num(Opportunity_ID), np.nan_to_num(Items_Count), Region_codificada, Territory_codificada,\n",
    "       Pricing_Delivery_Terms_Quote_Appr, Bureaucratic_Code_0_Approval,\n",
    "       Bureaucratic_Code_0_Approved, Submitted_for_Approval,\n",
    "       Bureaucratic_Code_codificada, Billing_Country_codificada,\n",
    "       Account_Name_codificada, Opportunity_Name_codificada, Account_Owner_codificada,\n",
    "       Opportunity_Owner_codificada, Account_Type_codificada, Opportunity_Type_codificada, Quote_Type_codificada,\n",
    "       Delivery_Terms_codificada, Currency_codificada, Last_Modified_By_codificada, Product_Family_codificada,\n",
    "       Product_Name_codificada, ASP_Currency_codificada, ASP, ASP_converted_Currency_codificada,\n",
    "       ASP_converted, Delivery_Quarter_codificada, Delivery_Year, TRF,\n",
    "       Total_Amount_Currency_codificada, Total_Amount,\n",
    "       Total_Taxable_Amount_Currency_codificada, Total_Taxable_Amount,\n",
    "       Prod_Category_A_codificada, diferencia_en_dias, Last_Modified_DOY,\n",
    "       Last_Modified_Year, Opportunity_Created_DOY, Quote_Expiry_DOY, Quote_Expiry_Year,\n",
    "       Planned_Delivery_Start_DOY, Planned_Delivery_Start_Year,\n",
    "       Planned_Delivery_End_DOY, Planned_Delivery_End_Year))"
   ]
  },
  {
   "cell_type": "markdown",
   "metadata": {},
   "source": [
    "Creacion de un modelo de Random forest para seleccionar los features mas relevantes de los encontrados"
   ]
  },
  {
   "cell_type": "code",
   "execution_count": 29,
   "metadata": {},
   "outputs": [],
   "source": [
    "RF_clf = RandomForestClassifier(n_estimators=10000,random_state=42,n_jobs=-1)"
   ]
  },
  {
   "cell_type": "code",
   "execution_count": 30,
   "metadata": {},
   "outputs": [
    {
     "ename": "ValueError",
     "evalue": "Input contains NaN, infinity or a value too large for dtype('float32').",
     "output_type": "error",
     "traceback": [
      "\u001b[0;31m---------------------------------------------------------------------------\u001b[0m",
      "\u001b[0;31mValueError\u001b[0m                                Traceback (most recent call last)",
      "\u001b[0;32m<ipython-input-30-be896b061b0a>\u001b[0m in \u001b[0;36m<module>\u001b[0;34m\u001b[0m\n\u001b[0;32m----> 1\u001b[0;31m \u001b[0mRF_clf\u001b[0m\u001b[0;34m.\u001b[0m\u001b[0mfit\u001b[0m\u001b[0;34m(\u001b[0m\u001b[0mfeatures\u001b[0m\u001b[0;34m,\u001b[0m \u001b[0mtrain\u001b[0m\u001b[0;34m.\u001b[0m\u001b[0mTarget\u001b[0m\u001b[0;34m)\u001b[0m\u001b[0;34m\u001b[0m\u001b[0;34m\u001b[0m\u001b[0m\n\u001b[0m",
      "\u001b[0;32m~/.local/lib/python3.8/site-packages/sklearn/ensemble/_forest.py\u001b[0m in \u001b[0;36mfit\u001b[0;34m(self, X, y, sample_weight)\u001b[0m\n\u001b[1;32m    302\u001b[0m                 \u001b[0;34m\"sparse multilabel-indicator for y is not supported.\"\u001b[0m\u001b[0;34m\u001b[0m\u001b[0;34m\u001b[0m\u001b[0m\n\u001b[1;32m    303\u001b[0m             )\n\u001b[0;32m--> 304\u001b[0;31m         X, y = self._validate_data(X, y, multi_output=True,\n\u001b[0m\u001b[1;32m    305\u001b[0m                                    accept_sparse=\"csc\", dtype=DTYPE)\n\u001b[1;32m    306\u001b[0m         \u001b[0;32mif\u001b[0m \u001b[0msample_weight\u001b[0m \u001b[0;32mis\u001b[0m \u001b[0;32mnot\u001b[0m \u001b[0;32mNone\u001b[0m\u001b[0;34m:\u001b[0m\u001b[0;34m\u001b[0m\u001b[0;34m\u001b[0m\u001b[0m\n",
      "\u001b[0;32m~/.local/lib/python3.8/site-packages/sklearn/base.py\u001b[0m in \u001b[0;36m_validate_data\u001b[0;34m(self, X, y, reset, validate_separately, **check_params)\u001b[0m\n\u001b[1;32m    431\u001b[0m                 \u001b[0my\u001b[0m \u001b[0;34m=\u001b[0m \u001b[0mcheck_array\u001b[0m\u001b[0;34m(\u001b[0m\u001b[0my\u001b[0m\u001b[0;34m,\u001b[0m \u001b[0;34m**\u001b[0m\u001b[0mcheck_y_params\u001b[0m\u001b[0;34m)\u001b[0m\u001b[0;34m\u001b[0m\u001b[0;34m\u001b[0m\u001b[0m\n\u001b[1;32m    432\u001b[0m             \u001b[0;32melse\u001b[0m\u001b[0;34m:\u001b[0m\u001b[0;34m\u001b[0m\u001b[0;34m\u001b[0m\u001b[0m\n\u001b[0;32m--> 433\u001b[0;31m                 \u001b[0mX\u001b[0m\u001b[0;34m,\u001b[0m \u001b[0my\u001b[0m \u001b[0;34m=\u001b[0m \u001b[0mcheck_X_y\u001b[0m\u001b[0;34m(\u001b[0m\u001b[0mX\u001b[0m\u001b[0;34m,\u001b[0m \u001b[0my\u001b[0m\u001b[0;34m,\u001b[0m \u001b[0;34m**\u001b[0m\u001b[0mcheck_params\u001b[0m\u001b[0;34m)\u001b[0m\u001b[0;34m\u001b[0m\u001b[0;34m\u001b[0m\u001b[0m\n\u001b[0m\u001b[1;32m    434\u001b[0m             \u001b[0mout\u001b[0m \u001b[0;34m=\u001b[0m \u001b[0mX\u001b[0m\u001b[0;34m,\u001b[0m \u001b[0my\u001b[0m\u001b[0;34m\u001b[0m\u001b[0;34m\u001b[0m\u001b[0m\n\u001b[1;32m    435\u001b[0m \u001b[0;34m\u001b[0m\u001b[0m\n",
      "\u001b[0;32m~/.local/lib/python3.8/site-packages/sklearn/utils/validation.py\u001b[0m in \u001b[0;36minner_f\u001b[0;34m(*args, **kwargs)\u001b[0m\n\u001b[1;32m     61\u001b[0m             \u001b[0mextra_args\u001b[0m \u001b[0;34m=\u001b[0m \u001b[0mlen\u001b[0m\u001b[0;34m(\u001b[0m\u001b[0margs\u001b[0m\u001b[0;34m)\u001b[0m \u001b[0;34m-\u001b[0m \u001b[0mlen\u001b[0m\u001b[0;34m(\u001b[0m\u001b[0mall_args\u001b[0m\u001b[0;34m)\u001b[0m\u001b[0;34m\u001b[0m\u001b[0;34m\u001b[0m\u001b[0m\n\u001b[1;32m     62\u001b[0m             \u001b[0;32mif\u001b[0m \u001b[0mextra_args\u001b[0m \u001b[0;34m<=\u001b[0m \u001b[0;36m0\u001b[0m\u001b[0;34m:\u001b[0m\u001b[0;34m\u001b[0m\u001b[0;34m\u001b[0m\u001b[0m\n\u001b[0;32m---> 63\u001b[0;31m                 \u001b[0;32mreturn\u001b[0m \u001b[0mf\u001b[0m\u001b[0;34m(\u001b[0m\u001b[0;34m*\u001b[0m\u001b[0margs\u001b[0m\u001b[0;34m,\u001b[0m \u001b[0;34m**\u001b[0m\u001b[0mkwargs\u001b[0m\u001b[0;34m)\u001b[0m\u001b[0;34m\u001b[0m\u001b[0;34m\u001b[0m\u001b[0m\n\u001b[0m\u001b[1;32m     64\u001b[0m \u001b[0;34m\u001b[0m\u001b[0m\n\u001b[1;32m     65\u001b[0m             \u001b[0;31m# extra_args > 0\u001b[0m\u001b[0;34m\u001b[0m\u001b[0;34m\u001b[0m\u001b[0;34m\u001b[0m\u001b[0m\n",
      "\u001b[0;32m~/.local/lib/python3.8/site-packages/sklearn/utils/validation.py\u001b[0m in \u001b[0;36mcheck_X_y\u001b[0;34m(X, y, accept_sparse, accept_large_sparse, dtype, order, copy, force_all_finite, ensure_2d, allow_nd, multi_output, ensure_min_samples, ensure_min_features, y_numeric, estimator)\u001b[0m\n\u001b[1;32m    812\u001b[0m         \u001b[0;32mraise\u001b[0m \u001b[0mValueError\u001b[0m\u001b[0;34m(\u001b[0m\u001b[0;34m\"y cannot be None\"\u001b[0m\u001b[0;34m)\u001b[0m\u001b[0;34m\u001b[0m\u001b[0;34m\u001b[0m\u001b[0m\n\u001b[1;32m    813\u001b[0m \u001b[0;34m\u001b[0m\u001b[0m\n\u001b[0;32m--> 814\u001b[0;31m     X = check_array(X, accept_sparse=accept_sparse,\n\u001b[0m\u001b[1;32m    815\u001b[0m                     \u001b[0maccept_large_sparse\u001b[0m\u001b[0;34m=\u001b[0m\u001b[0maccept_large_sparse\u001b[0m\u001b[0;34m,\u001b[0m\u001b[0;34m\u001b[0m\u001b[0;34m\u001b[0m\u001b[0m\n\u001b[1;32m    816\u001b[0m                     \u001b[0mdtype\u001b[0m\u001b[0;34m=\u001b[0m\u001b[0mdtype\u001b[0m\u001b[0;34m,\u001b[0m \u001b[0morder\u001b[0m\u001b[0;34m=\u001b[0m\u001b[0morder\u001b[0m\u001b[0;34m,\u001b[0m \u001b[0mcopy\u001b[0m\u001b[0;34m=\u001b[0m\u001b[0mcopy\u001b[0m\u001b[0;34m,\u001b[0m\u001b[0;34m\u001b[0m\u001b[0;34m\u001b[0m\u001b[0m\n",
      "\u001b[0;32m~/.local/lib/python3.8/site-packages/sklearn/utils/validation.py\u001b[0m in \u001b[0;36minner_f\u001b[0;34m(*args, **kwargs)\u001b[0m\n\u001b[1;32m     61\u001b[0m             \u001b[0mextra_args\u001b[0m \u001b[0;34m=\u001b[0m \u001b[0mlen\u001b[0m\u001b[0;34m(\u001b[0m\u001b[0margs\u001b[0m\u001b[0;34m)\u001b[0m \u001b[0;34m-\u001b[0m \u001b[0mlen\u001b[0m\u001b[0;34m(\u001b[0m\u001b[0mall_args\u001b[0m\u001b[0;34m)\u001b[0m\u001b[0;34m\u001b[0m\u001b[0;34m\u001b[0m\u001b[0m\n\u001b[1;32m     62\u001b[0m             \u001b[0;32mif\u001b[0m \u001b[0mextra_args\u001b[0m \u001b[0;34m<=\u001b[0m \u001b[0;36m0\u001b[0m\u001b[0;34m:\u001b[0m\u001b[0;34m\u001b[0m\u001b[0;34m\u001b[0m\u001b[0m\n\u001b[0;32m---> 63\u001b[0;31m                 \u001b[0;32mreturn\u001b[0m \u001b[0mf\u001b[0m\u001b[0;34m(\u001b[0m\u001b[0;34m*\u001b[0m\u001b[0margs\u001b[0m\u001b[0;34m,\u001b[0m \u001b[0;34m**\u001b[0m\u001b[0mkwargs\u001b[0m\u001b[0;34m)\u001b[0m\u001b[0;34m\u001b[0m\u001b[0;34m\u001b[0m\u001b[0m\n\u001b[0m\u001b[1;32m     64\u001b[0m \u001b[0;34m\u001b[0m\u001b[0m\n\u001b[1;32m     65\u001b[0m             \u001b[0;31m# extra_args > 0\u001b[0m\u001b[0;34m\u001b[0m\u001b[0;34m\u001b[0m\u001b[0;34m\u001b[0m\u001b[0m\n",
      "\u001b[0;32m~/.local/lib/python3.8/site-packages/sklearn/utils/validation.py\u001b[0m in \u001b[0;36mcheck_array\u001b[0;34m(array, accept_sparse, accept_large_sparse, dtype, order, copy, force_all_finite, ensure_2d, allow_nd, ensure_min_samples, ensure_min_features, estimator)\u001b[0m\n\u001b[1;32m    661\u001b[0m \u001b[0;34m\u001b[0m\u001b[0m\n\u001b[1;32m    662\u001b[0m         \u001b[0;32mif\u001b[0m \u001b[0mforce_all_finite\u001b[0m\u001b[0;34m:\u001b[0m\u001b[0;34m\u001b[0m\u001b[0;34m\u001b[0m\u001b[0m\n\u001b[0;32m--> 663\u001b[0;31m             _assert_all_finite(array,\n\u001b[0m\u001b[1;32m    664\u001b[0m                                allow_nan=force_all_finite == 'allow-nan')\n\u001b[1;32m    665\u001b[0m \u001b[0;34m\u001b[0m\u001b[0m\n",
      "\u001b[0;32m~/.local/lib/python3.8/site-packages/sklearn/utils/validation.py\u001b[0m in \u001b[0;36m_assert_all_finite\u001b[0;34m(X, allow_nan, msg_dtype)\u001b[0m\n\u001b[1;32m    101\u001b[0m                 not allow_nan and not np.isfinite(X).all()):\n\u001b[1;32m    102\u001b[0m             \u001b[0mtype_err\u001b[0m \u001b[0;34m=\u001b[0m \u001b[0;34m'infinity'\u001b[0m \u001b[0;32mif\u001b[0m \u001b[0mallow_nan\u001b[0m \u001b[0;32melse\u001b[0m \u001b[0;34m'NaN, infinity'\u001b[0m\u001b[0;34m\u001b[0m\u001b[0;34m\u001b[0m\u001b[0m\n\u001b[0;32m--> 103\u001b[0;31m             raise ValueError(\n\u001b[0m\u001b[1;32m    104\u001b[0m                     \u001b[0mmsg_err\u001b[0m\u001b[0;34m.\u001b[0m\u001b[0mformat\u001b[0m\u001b[0;34m\u001b[0m\u001b[0;34m\u001b[0m\u001b[0m\n\u001b[1;32m    105\u001b[0m                     (type_err,\n",
      "\u001b[0;31mValueError\u001b[0m: Input contains NaN, infinity or a value too large for dtype('float32')."
     ]
    }
   ],
   "source": [
    "RF_clf.fit(features, train.Target)"
   ]
  }
 ],
 "metadata": {
  "kernelspec": {
   "display_name": "Python 3",
   "language": "python",
   "name": "python3"
  },
  "language_info": {
   "codemirror_mode": {
    "name": "ipython",
    "version": 3
   },
   "file_extension": ".py",
   "mimetype": "text/x-python",
   "name": "python",
   "nbconvert_exporter": "python",
   "pygments_lexer": "ipython3",
   "version": "3.8.5"
  }
 },
 "nbformat": 4,
 "nbformat_minor": 4
}
