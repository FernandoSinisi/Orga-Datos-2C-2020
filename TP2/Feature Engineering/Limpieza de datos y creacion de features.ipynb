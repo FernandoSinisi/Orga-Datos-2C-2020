{
 "cells": [
  {
   "cell_type": "code",
   "execution_count": 1,
   "metadata": {},
   "outputs": [],
   "source": [
    "import numpy as np\n",
    "import category_encoders\n",
    "import pandas as pd\n",
    "from sklearn.model_selection import GridSearchCV"
   ]
  },
  {
   "cell_type": "code",
   "execution_count": 2,
   "metadata": {},
   "outputs": [],
   "source": [
    "train = pd.read_csv('data/train.csv')\n",
    "test = pd.read_csv('data/test.csv')"
   ]
  },
  {
   "cell_type": "markdown",
   "metadata": {},
   "source": [
    "# Limpieza de datos"
   ]
  },
  {
   "cell_type": "markdown",
   "metadata": {},
   "source": [
    "Eliminar columnas que tienen mas de la mitad de sus datos vacios"
   ]
  },
  {
   "cell_type": "code",
   "execution_count": 3,
   "metadata": {},
   "outputs": [],
   "source": [
    "clean_train = train.drop(columns = ['Sales_Contract_No', 'Last_Activity','Actual_Delivery_Date','Price','Size','Product_Type','Brand', 'Product_Category_B', 'Source '])\n",
    "clean_test = test.drop(columns = ['Sales_Contract_No', 'Last_Activity','Actual_Delivery_Date','Price','Size','Product_Type','Brand', 'Product_Category_B', 'Source '])"
   ]
  },
  {
   "cell_type": "markdown",
   "metadata": {},
   "source": [
    "Filtrar registros que esten en estado finalizado y conversion en valores binarios  \n",
    "Closed Won = 1 - Closed Lost = 0"
   ]
  },
  {
   "cell_type": "code",
   "execution_count": 4,
   "metadata": {},
   "outputs": [],
   "source": [
    "clean_train = clean_train[(clean_train['Stage'] == 'Closed Won') | (clean_train['Stage'] == 'Closed Lost')]\n",
    "clean_train['Stage'] = clean_train['Stage'].transform(func=lambda x : 1 if x=='Closed Won' else 0)"
   ]
  },
  {
   "cell_type": "markdown",
   "metadata": {},
   "source": [
    "Reemplazar los datos vacios con \"Nan\""
   ]
  },
  {
   "cell_type": "code",
   "execution_count": 5,
   "metadata": {},
   "outputs": [],
   "source": [
    "clean_train = clean_train.fillna(\"Nan\")\n",
    "clean_test = clean_test.fillna(\"Nan\")"
   ]
  },
  {
   "cell_type": "markdown",
   "metadata": {},
   "source": [
    "# Creacion de features"
   ]
  },
  {
   "cell_type": "markdown",
   "metadata": {},
   "source": [
    "Convierto columnas con fecha a date"
   ]
  },
  {
   "cell_type": "code",
   "execution_count": 6,
   "metadata": {},
   "outputs": [],
   "source": [
    "clean_train[\"Last_Modified_Date\"] = pd.to_datetime(clean_train[\"Last_Modified_Date\"], errors='coerce')\n",
    "clean_train[\"Opportunity_Created_Date\"] = pd.to_datetime(clean_train[\"Opportunity_Created_Date\"], errors='coerce')\n",
    "clean_train[\"Quote_Expiry_Date\"] = pd.to_datetime(clean_train[\"Quote_Expiry_Date\"], errors='coerce')\n",
    "clean_train[\"Planned_Delivery_Start_Date\"] = pd.to_datetime(clean_train[\"Planned_Delivery_Start_Date\"], errors='coerce')\n",
    "clean_train[\"Planned_Delivery_End_Date\"] = pd.to_datetime(clean_train[\"Planned_Delivery_End_Date\"], errors='coerce')\n",
    "\n",
    "clean_test[\"Last_Modified_Date\"] = pd.to_datetime(clean_test[\"Last_Modified_Date\"], errors='coerce')\n",
    "clean_test[\"Opportunity_Created_Date\"] = pd.to_datetime(clean_test[\"Opportunity_Created_Date\"], errors='coerce')\n",
    "clean_test[\"Quote_Expiry_Date\"] = pd.to_datetime(clean_test[\"Quote_Expiry_Date\"], errors='coerce')\n",
    "clean_test[\"Planned_Delivery_Start_Date\"] = pd.to_datetime(clean_test[\"Planned_Delivery_Start_Date\"], errors='coerce')\n",
    "clean_test[\"Planned_Delivery_End_Date\"] = pd.to_datetime(clean_test[\"Planned_Delivery_End_Date\"], errors='coerce')"
   ]
  },
  {
   "cell_type": "markdown",
   "metadata": {},
   "source": [
    "Agrego columna Diferencia en dias entre la fecha de creacion de la oportunidad y la ultima modificacion de la oportunidad"
   ]
  },
  {
   "cell_type": "code",
   "execution_count": 7,
   "metadata": {},
   "outputs": [],
   "source": [
    "clean_train[\"diferencia_en_dias\"] = (clean_train[\"Last_Modified_Date\"] - clean_train[\"Opportunity_Created_Date\"]).dt.days\n",
    "\n",
    "clean_test[\"diferencia_en_dias\"] = (clean_test[\"Last_Modified_Date\"] - clean_test[\"Opportunity_Created_Date\"]).dt.days"
   ]
  },
  {
   "cell_type": "markdown",
   "metadata": {},
   "source": [
    "Casteo variables numericas"
   ]
  },
  {
   "cell_type": "code",
   "execution_count": 8,
   "metadata": {},
   "outputs": [],
   "source": [
    "clean_train[\"ASP_(converted)\"] = pd.to_numeric(clean_train[\"ASP_(converted)\"],errors='coerce')\n",
    "clean_train[\"ASP\"] = pd.to_numeric(clean_train[\"ASP\"],errors='coerce')\n",
    "clean_train[\"ASP_(converted)_Currency\"] = pd.to_numeric(clean_train[\"ASP_(converted)_Currency\"],errors='coerce')\n",
    "clean_train[\"TRF\"] = pd.to_numeric(clean_train[\"TRF\"],errors='coerce')"
   ]
  },
  {
   "cell_type": "code",
   "execution_count": 9,
   "metadata": {},
   "outputs": [],
   "source": [
    "clean_test[\"ASP_(converted)\"] = pd.to_numeric(clean_test[\"ASP_(converted)\"],errors='coerce')\n",
    "clean_test[\"ASP\"] = pd.to_numeric(clean_test[\"ASP\"],errors='coerce')\n",
    "clean_test[\"ASP_(converted)_Currency\"] = pd.to_numeric(clean_test[\"ASP_(converted)_Currency\"],errors='coerce')\n",
    "clean_test[\"TRF\"] = pd.to_numeric(clean_test[\"TRF\"],errors='coerce')"
   ]
  },
  {
   "cell_type": "markdown",
   "metadata": {},
   "source": [
    "Agrupando por misma oportunidad, se agrega al cantidad de items por oportunidad"
   ]
  },
  {
   "cell_type": "code",
   "execution_count": 10,
   "metadata": {},
   "outputs": [],
   "source": [
    "opportunities_train = clean_train.groupby([\"Opportunity_ID\"]).agg({'ID': 'count',\n",
    "                                                                 'Region': 'first',\n",
    "                                                                 'Territory': 'first',\n",
    "                                                                 'Pricing, Delivery_Terms_Quote_Appr': 'first',\n",
    "                                                                 'Bureaucratic_Code_0_Approval': 'first',\n",
    "                                                                 'Bureaucratic_Code_0_Approved': 'first',\n",
    "                                                                  'Submitted_for_Approval': 'first',\n",
    "                                                                  'Bureaucratic_Code': 'first',\n",
    "                                                                  'Account_Created_Date': 'first',\n",
    "                                                                  'Billing_Country': 'first', \n",
    "                                                                  'Account_Name': 'first', \n",
    "                                                                  'Opportunity_Name': 'first', \n",
    "                                                                  'Account_Owner': 'first', \n",
    "                                                                  'Opportunity_Owner': 'first', \n",
    "                                                                  'Account_Type': 'first', \n",
    "                                                                  'Opportunity_Type': 'first', \n",
    "                                                                  'Quote_Type': 'first', \n",
    "                                                                  'Delivery_Terms': 'first', \n",
    "                                                                  'Opportunity_Created_Date': 'first', \n",
    "                                                                  'Currency': 'first', \n",
    "                                                                  'Quote_Expiry_Date': 'first', \n",
    "                                                                  'Last_Modified_Date': 'first', \n",
    "                                                                  'Last_Modified_By': 'first', \n",
    "                                                                  'Product_Family': 'first', \n",
    "                                                                  'Product_Name': 'first', \n",
    "                                                                  'ASP_Currency': 'first', \n",
    "                                                                  'ASP': 'mean', \n",
    "                                                                  'ASP_(converted)_Currency': 'mean', \n",
    "                                                                  'ASP_(converted)': 'mean', \n",
    "                                                                  'Planned_Delivery_Start_Date': 'first', \n",
    "                                                                  'Planned_Delivery_End_Date': 'first', \n",
    "                                                                  'Month': 'first',\n",
    "                                                                  'Delivery_Quarter': 'first',\n",
    "                                                                  'Delivery_Year': 'first',\n",
    "                                                                  'TRF': 'mean',\n",
    "                                                                  'Total_Amount_Currency': 'first',\n",
    "                                                                  'Total_Amount': 'sum',\n",
    "                                                                  'Total_Taxable_Amount_Currency': 'sum',\n",
    "                                                                  'Total_Taxable_Amount': 'sum',\n",
    "                                                                  'Prod_Category_A': 'first',\n",
    "                                                                  'diferencia_en_dias': 'first', \n",
    "                                                                   'Stage': 'first'\n",
    "                                                                 }).reset_index()"
   ]
  },
  {
   "cell_type": "code",
   "execution_count": 11,
   "metadata": {},
   "outputs": [],
   "source": [
    "opportunities_test = clean_test.groupby([\"Opportunity_ID\"]).agg({'ID': 'count',\n",
    "                                                                 'Region': 'first',\n",
    "                                                                 'Territory': 'first',\n",
    "                                                                 'Pricing, Delivery_Terms_Quote_Appr': 'first',\n",
    "                                                                 'Bureaucratic_Code_0_Approval': 'first',\n",
    "                                                                 'Bureaucratic_Code_0_Approved': 'first',\n",
    "                                                                  'Submitted_for_Approval': 'first',\n",
    "                                                                  'Bureaucratic_Code': 'first',\n",
    "                                                                  'Account_Created_Date': 'first',\n",
    "                                                                  'Billing_Country': 'first', \n",
    "                                                                  'Account_Name': 'first', \n",
    "                                                                  'Opportunity_Name': 'first', \n",
    "                                                                  'Account_Owner': 'first', \n",
    "                                                                  'Opportunity_Owner': 'first', \n",
    "                                                                  'Account_Type': 'first', \n",
    "                                                                  'Opportunity_Type': 'first', \n",
    "                                                                  'Quote_Type': 'first', \n",
    "                                                                  'Delivery_Terms': 'first', \n",
    "                                                                  'Opportunity_Created_Date': 'first', \n",
    "                                                                  'Currency': 'first', \n",
    "                                                                  'Quote_Expiry_Date': 'first', \n",
    "                                                                  'Last_Modified_Date': 'first', \n",
    "                                                                  'Last_Modified_By': 'first', \n",
    "                                                                  'Product_Family': 'first', \n",
    "                                                                  'Product_Name': 'first', \n",
    "                                                                  'ASP_Currency': 'first', \n",
    "                                                                  'ASP': 'mean', \n",
    "                                                                  'ASP_(converted)_Currency': 'mean', \n",
    "                                                                  'ASP_(converted)': 'mean', \n",
    "                                                                  'Planned_Delivery_Start_Date': 'first', \n",
    "                                                                  'Planned_Delivery_End_Date': 'first', \n",
    "                                                                  'Month': 'first',\n",
    "                                                                  'Delivery_Quarter': 'first',\n",
    "                                                                  'Delivery_Year': 'first',\n",
    "                                                                  'TRF': 'mean',\n",
    "                                                                  'Total_Amount_Currency': 'first',\n",
    "                                                                  'Total_Amount': 'sum',\n",
    "                                                                  'Total_Taxable_Amount_Currency': 'sum',\n",
    "                                                                  'Total_Taxable_Amount': 'sum',\n",
    "                                                                  'Prod_Category_A': 'first',\n",
    "                                                                  'diferencia_en_dias': 'first'\n",
    "                                                                }).reset_index()"
   ]
  },
  {
   "cell_type": "code",
   "execution_count": 12,
   "metadata": {},
   "outputs": [],
   "source": [
    "opportunities_train.rename(columns={'ID':'Items_Count'}, inplace=True)"
   ]
  },
  {
   "cell_type": "code",
   "execution_count": 13,
   "metadata": {},
   "outputs": [],
   "source": [
    "opportunities_test.rename(columns={'ID':'Items_Count'}, inplace=True)"
   ]
  },
  {
   "cell_type": "markdown",
   "metadata": {},
   "source": [
    "Division variables de tipo fecha en DOY, año"
   ]
  },
  {
   "cell_type": "code",
   "execution_count": 14,
   "metadata": {},
   "outputs": [],
   "source": [
    "opportunities_train[\"Last_Modified_DOY\"] = opportunities_train['Last_Modified_Date'].dt.dayofyear\n",
    "opportunities_train[\"Last_Modified_Year\"] = opportunities_train['Last_Modified_Date'].dt.year\n",
    "\n",
    "opportunities_train[\"Opportunity_Created_DOY\"] = opportunities_train[\"Opportunity_Created_Date\"].dt.dayofyear\n",
    "opportunities_train[\"Opportunity_Created_Year\"] = opportunities_train[\"Opportunity_Created_Date\"]\n",
    "\n",
    "opportunities_train[\"Quote_Expiry_DOY\"] = opportunities_train[\"Quote_Expiry_Date\"].dt.dayofyear\n",
    "opportunities_train[\"Quote_Expiry_Year\"] = opportunities_train[\"Quote_Expiry_Date\"].dt.year\n",
    "\n",
    "opportunities_train[\"Planned_Delivery_Start_DOY\"] = opportunities_train[\"Planned_Delivery_Start_Date\"].dt.dayofyear\n",
    "opportunities_train[\"Planned_Delivery_Start_Year\"] = opportunities_train[\"Planned_Delivery_Start_Date\"].dt.year\n",
    "\n",
    "opportunities_train[\"Planned_Delivery_End_DOY\"] = opportunities_train[\"Planned_Delivery_End_Date\"].dt.dayofyear\n",
    "opportunities_train[\"Planned_Delivery_End_Year\"] = opportunities_train[\"Planned_Delivery_End_Date\"].dt.year \n",
    "\n",
    "\n",
    "opportunities_train.drop(columns = ['Planned_Delivery_End_Date', 'Planned_Delivery_Start_Date','Quote_Expiry_Date','Opportunity_Created_Date','Last_Modified_Date'], inplace=True)\n",
    "\n"
   ]
  },
  {
   "cell_type": "code",
   "execution_count": 15,
   "metadata": {},
   "outputs": [],
   "source": [
    "opportunities_test[\"Last_Modified_DOY\"] = opportunities_test['Last_Modified_Date'].dt.dayofyear\n",
    "opportunities_test[\"Last_Modified_Year\"] = opportunities_test['Last_Modified_Date'].dt.year\n",
    "\n",
    "opportunities_test[\"Opportunity_Created_DOY\"] = opportunities_test[\"Opportunity_Created_Date\"].dt.dayofyear\n",
    "opportunities_test[\"Opportunity_Created_Year\"] = opportunities_test[\"Opportunity_Created_Date\"]\n",
    "\n",
    "opportunities_test[\"Quote_Expiry_DOY\"] = opportunities_test[\"Quote_Expiry_Date\"].dt.dayofyear\n",
    "opportunities_test[\"Quote_Expiry_Year\"] = opportunities_test[\"Quote_Expiry_Date\"].dt.year\n",
    "\n",
    "opportunities_test[\"Planned_Delivery_Start_DOY\"] = opportunities_test[\"Planned_Delivery_Start_Date\"].dt.dayofyear\n",
    "opportunities_test[\"Planned_Delivery_Start_Year\"] = opportunities_test[\"Planned_Delivery_Start_Date\"].dt.year\n",
    "\n",
    "opportunities_test[\"Planned_Delivery_End_DOY\"] = opportunities_test[\"Planned_Delivery_End_Date\"].dt.dayofyear\n",
    "opportunities_test[\"Planned_Delivery_End_Year\"] = opportunities_test[\"Planned_Delivery_End_Date\"].dt.year \n",
    "\n",
    "\n",
    "opportunities_test.drop(columns = ['Planned_Delivery_End_Date', 'Planned_Delivery_Start_Date','Quote_Expiry_Date','Opportunity_Created_Date','Last_Modified_Date'], inplace=True)"
   ]
  },
  {
   "cell_type": "markdown",
   "metadata": {},
   "source": [
    "Dejar la columna Stage al final "
   ]
  },
  {
   "cell_type": "code",
   "execution_count": 16,
   "metadata": {},
   "outputs": [],
   "source": [
    "opportunities_train[\"Target\"] = opportunities_train[\"Stage\"]\n",
    "opportunities_train.drop(columns = ['Stage'], inplace=True)"
   ]
  },
  {
   "cell_type": "code",
   "execution_count": 17,
   "metadata": {},
   "outputs": [],
   "source": [
    "opportunities_train.to_csv('data/cleaned_train.csv')\n",
    "opportunities_test.to_csv('data/cleaned_test.csv')"
   ]
  }
 ],
 "metadata": {
  "kernelspec": {
   "display_name": "Python 3",
   "language": "python",
   "name": "python3"
  },
  "language_info": {
   "codemirror_mode": {
    "name": "ipython",
    "version": 3
   },
   "file_extension": ".py",
   "mimetype": "text/x-python",
   "name": "python",
   "nbconvert_exporter": "python",
   "pygments_lexer": "ipython3",
   "version": "3.8.5"
  }
 },
 "nbformat": 4,
 "nbformat_minor": 4
}
