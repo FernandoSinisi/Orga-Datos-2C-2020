{
  "nbformat": 4,
  "nbformat_minor": 0,
  "metadata": {
    "colab": {
      "name": "Feature Encoding con FastText.ipynb",
      "provenance": []
    },
    "kernelspec": {
      "name": "python3",
      "display_name": "Python 3"
    }
  },
  "cells": [
    {
      "cell_type": "code",
      "metadata": {
        "id": "mEOj-Sc3Dos1"
      },
      "source": [
        "import pandas as pd\n",
        "import numpy as np\n",
        "import string\n",
        "import re\n",
        "from sklearn.pipeline import Pipeline\n",
        "from sklearn.feature_extraction.text import CountVectorizer\n",
        "from sklearn.feature_extraction.text import TfidfVectorizer\n",
        "from sklearn.neighbors import KNeighborsClassifier\n",
        "from gensim.models import FastText \n",
        "from tqdm import tqdm"
      ],
      "execution_count": 1,
      "outputs": []
    },
    {
      "cell_type": "code",
      "metadata": {
        "id": "qlF7QMHrDyw8"
      },
      "source": [
        "from pydrive.auth import GoogleAuth\n",
        "from pydrive.drive import GoogleDrive\n",
        "from google.colab import auth\n",
        "from oauth2client.client import GoogleCredentials\n",
        "from google.colab import files\n",
        "# Authenticate and create the PyDrive client\n",
        "auth.authenticate_user()\n",
        "gauth = GoogleAuth()\n",
        "gauth.credentials = GoogleCredentials.get_application_default()\n",
        "drive = GoogleDrive(gauth)"
      ],
      "execution_count": 2,
      "outputs": []
    },
    {
      "cell_type": "code",
      "metadata": {
        "id": "q1mi-kaoEFTj"
      },
      "source": [
        "train_limpio = pd.read_csv('cleaned_train.csv')\n",
        "test_limpio = pd.read_csv('cleaned_test.csv')\n",
        "train = pd.read_csv('train.csv')\n",
        "test = pd.read_csv('test.csv')"
      ],
      "execution_count": 3,
      "outputs": []
    },
    {
      "cell_type": "code",
      "metadata": {
        "id": "yEm8j-gWEPtb"
      },
      "source": [
        "id = '1eWJLOjsG04oOtYXJ6eta7VnudJPIlBh_'\n",
        "downloaded = drive.CreateFile({'id': id})\n",
        "downloaded.GetContentFile('wiki-news-300d-1M-subword.vec')"
      ],
      "execution_count": 4,
      "outputs": []
    },
    {
      "cell_type": "code",
      "metadata": {
        "colab": {
          "base_uri": "https://localhost:8080/"
        },
        "id": "lMuftSBUEVEV",
        "outputId": "46a898df-3f8e-46e3-c45e-90b968ce21b5"
      },
      "source": [
        "def load_fasttext():\n",
        "    \n",
        "    print('loading word embeddings...')\n",
        "    embeddings_index = {}\n",
        "    f = open('wiki-news-300d-1M-subword.vec',encoding='utf-8')\n",
        "    for line in tqdm(f):\n",
        "        values = line.strip().rsplit(' ')\n",
        "        word = values[0]\n",
        "        coefs = np.asarray(values[1:], dtype='float32')\n",
        "        embeddings_index[word] = coefs\n",
        "    f.close()\n",
        "    print('found %s word vectors' % len(embeddings_index))\n",
        "    \n",
        "    return embeddings_index\n",
        "\n",
        "embeddings_index = load_fasttext()"
      ],
      "execution_count": 5,
      "outputs": [
        {
          "output_type": "stream",
          "text": [
            "1302it [00:00, 13011.02it/s]"
          ],
          "name": "stderr"
        },
        {
          "output_type": "stream",
          "text": [
            "loading word embeddings...\n"
          ],
          "name": "stdout"
        },
        {
          "output_type": "stream",
          "text": [
            "999995it [01:15, 13295.17it/s]"
          ],
          "name": "stderr"
        },
        {
          "output_type": "stream",
          "text": [
            "found 999995 word vectors\n"
          ],
          "name": "stdout"
        },
        {
          "output_type": "stream",
          "text": [
            "\n"
          ],
          "name": "stderr"
        }
      ]
    },
    {
      "cell_type": "code",
      "metadata": {
        "id": "t7nrSN1EEZXM"
      },
      "source": [
        "def get_average(text):\n",
        "  counter = np.zeros(300)\n",
        "  words = str(text).split(\" \")\n",
        "  for word in words:\n",
        "    if word in embeddings_index.keys():\n",
        "      counter += embeddings_index[word]\n",
        "  return counter/len(words)"
      ],
      "execution_count": 6,
      "outputs": []
    },
    {
      "cell_type": "markdown",
      "metadata": {
        "id": "EPdAHDEYFB_a"
      },
      "source": [
        "Elimino los features menos importantes segun el xgboost classifier"
      ]
    },
    {
      "cell_type": "code",
      "metadata": {
        "id": "q8XBaOi8FLAD"
      },
      "source": [
        "train_limpio.drop(columns = ['Unnamed: 0', 'Account_Created_Date', 'Month', 'Delivery_Quarter',\n",
        "                             'Last_Modified_Year', 'Pricing, Delivery_Terms_Quote_Appr', \n",
        "                             'Delivery_Year', 'Planned_Delivery_End_Year', 'Region', 'Bureaucratic_Code_0_Approval', \n",
        "                             'Bureaucratic_Code_0_Approved', 'Quote_Expiry_Year', \n",
        "                             'Items_Count', 'Total_Taxable_Amount_Currency', 'Opportunity_Type', \n",
        "                             'Currency'], inplace=True)"
      ],
      "execution_count": 7,
      "outputs": []
    },
    {
      "cell_type": "code",
      "metadata": {
        "id": "cCLmPIklHVnE"
      },
      "source": [
        "train_limpio['Territory'] = train_limpio['Territory'].apply(lambda x: np.mean(get_average(x)))\n",
        "train_limpio['Billing_Country'] = train_limpio['Billing_Country'].apply(lambda x: np.mean(get_average(x)))\n",
        "train_limpio['Account_Name'] = train_limpio['Account_Name'].apply(lambda x: np.mean(get_average(x)))\n",
        "train_limpio['Opportunity_Name'] = train_limpio['Opportunity_Name'].apply(lambda x: np.mean(get_average(x)))\n",
        "train_limpio['Account_Owner'] = train_limpio['Account_Owner'].apply(lambda x: np.mean(get_average(x)))\n",
        "train_limpio['Opportunity_Owner'] = train_limpio['Opportunity_Owner'].apply(lambda x: np.mean(get_average(x)))\n",
        "train_limpio['Account_Type'] = train_limpio['Account_Type'].apply(lambda x: np.mean(get_average(x)))\n",
        "train_limpio['Quote_Type'] = train_limpio['Quote_Type'].apply(lambda x: np.mean(get_average(x)))\n",
        "train_limpio['Delivery_Terms'] = train_limpio['Delivery_Terms'].apply(lambda x: np.mean(get_average(x)))\n",
        "train_limpio['Last_Modified_By'] = train_limpio['Last_Modified_By'].apply(lambda x: np.mean(get_average(x)))\n",
        "train_limpio['Product_Family'] = train_limpio['Product_Family'].apply(lambda x: np.mean(get_average(x)))\n",
        "train_limpio['ASP_Currency'] = train_limpio['ASP_Currency'].apply(lambda x: np.mean(get_average(x)))\n",
        "train_limpio['ASP_(converted)_Currency'] = train_limpio['ASP_(converted)_Currency'].apply(lambda x: np.mean(get_average(x)))\n",
        "train_limpio['Total_Amount_Currency'] = train_limpio['Total_Amount_Currency'].apply(lambda x: np.mean(get_average(x)))\n",
        "train_limpio['Prod_Category_A'] = train_limpio['Prod_Category_A'].apply(lambda x: np.mean(get_average(x)))\n",
        "train_limpio['Account_Type'] = train_limpio['Account_Type'].apply(lambda x: np.mean(get_average(x)))\n",
        "train_limpio['Account_Type'] = train_limpio['Account_Type'].apply(lambda x: np.mean(get_average(x)))\n",
        "train_limpio['Product_Name'] = train_limpio['Product_Name'].apply(lambda x: np.mean(get_average(x)))\n",
        "train_limpio['Bureaucratic_Code'] = train_limpio['Bureaucratic_Code'].apply(lambda x: np.mean(get_average(x)))\t\n",
        "\t\n"
      ],
      "execution_count": 8,
      "outputs": []
    },
    {
      "cell_type": "code",
      "metadata": {
        "id": "2o3iaPyQLSag"
      },
      "source": [
        "test_limpio['Territory'] = test_limpio['Territory'].apply(lambda x: np.mean(get_average(x)))\n",
        "test_limpio['Billing_Country'] = test_limpio['Billing_Country'].apply(lambda x: np.mean(get_average(x)))\n",
        "test_limpio['Account_Name'] = test_limpio['Account_Name'].apply(lambda x: np.mean(get_average(x)))\n",
        "test_limpio['Opportunity_Name'] = test_limpio['Opportunity_Name'].apply(lambda x: np.mean(get_average(x)))\n",
        "test_limpio['Account_Owner'] = test_limpio['Account_Owner'].apply(lambda x: np.mean(get_average(x)))\n",
        "test_limpio['Opportunity_Owner'] = test_limpio['Opportunity_Owner'].apply(lambda x: np.mean(get_average(x)))\n",
        "test_limpio['Account_Type'] = test_limpio['Account_Type'].apply(lambda x: np.mean(get_average(x)))\n",
        "test_limpio['Quote_Type'] = test_limpio['Quote_Type'].apply(lambda x: np.mean(get_average(x)))\n",
        "test_limpio['Delivery_Terms'] = test_limpio['Delivery_Terms'].apply(lambda x: np.mean(get_average(x)))\n",
        "test_limpio['Last_Modified_By'] = test_limpio['Last_Modified_By'].apply(lambda x: np.mean(get_average(x)))\n",
        "test_limpio['Product_Family'] = test_limpio['Product_Family'].apply(lambda x: np.mean(get_average(x)))\n",
        "test_limpio['ASP_Currency'] = test_limpio['ASP_Currency'].apply(lambda x: np.mean(get_average(x)))\n",
        "test_limpio['ASP_(converted)_Currency'] = test_limpio['ASP_(converted)_Currency'].apply(lambda x: np.mean(get_average(x)))\n",
        "test_limpio['Total_Amount_Currency'] = test_limpio['Total_Amount_Currency'].apply(lambda x: np.mean(get_average(x)))\n",
        "test_limpio['Prod_Category_A'] = test_limpio['Prod_Category_A'].apply(lambda x: np.mean(get_average(x)))\n",
        "test_limpio['Account_Type'] = test_limpio['Account_Type'].apply(lambda x: np.mean(get_average(x)))\n",
        "test_limpio['Account_Type'] = test_limpio['Account_Type'].apply(lambda x: np.mean(get_average(x)))\n",
        "test_limpio['Product_Name'] = test_limpio['Product_Name'].apply(lambda x: np.mean(get_average(x)))\n",
        "test_limpio['Bureaucratic_Code'] = test_limpio['Bureaucratic_Code'].apply(lambda x: np.mean(get_average(x)))"
      ],
      "execution_count": 9,
      "outputs": []
    },
    {
      "cell_type": "code",
      "metadata": {
        "id": "LDe72oGZMvQ6"
      },
      "source": [
        "train_limpio.to_csv('data/cleaned_train_FT.csv')\n",
        "test_limpio.to_csv('data/cleaned_test_FT.csv')"
      ],
      "execution_count": 10,
      "outputs": []
    }
  ]
}