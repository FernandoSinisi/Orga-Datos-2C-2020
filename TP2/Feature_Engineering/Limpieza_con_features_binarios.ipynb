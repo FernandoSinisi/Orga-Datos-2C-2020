{
 "cells": [
  {
   "cell_type": "code",
   "execution_count": 1,
   "metadata": {},
   "outputs": [],
   "source": [
    "import numpy as np\n",
    "import category_encoders\n",
    "import pandas as pd\n",
    "from sklearn.model_selection import GridSearchCV"
   ]
  },
  {
   "cell_type": "code",
   "execution_count": 2,
   "metadata": {},
   "outputs": [],
   "source": [
    "train = pd.read_csv('data/train.csv')\n",
    "test = pd.read_csv('data/test.csv')"
   ]
  },
  {
   "cell_type": "markdown",
   "metadata": {},
   "source": [
    "# Limpieza de datos"
   ]
  },
  {
   "cell_type": "markdown",
   "metadata": {},
   "source": [
    "Eliminar columnas que tienen mas de la mitad de sus datos vacios"
   ]
  },
  {
   "cell_type": "code",
   "execution_count": 3,
   "metadata": {},
   "outputs": [],
   "source": [
    "clean_train = train.drop(columns = ['Last_Activity','Actual_Delivery_Date','Price','Size','Product_Type','Brand', 'Product_Category_B', 'Source '])\n",
    "clean_test = test.drop(columns = ['Last_Activity','Actual_Delivery_Date','Price','Size','Product_Type','Brand', 'Product_Category_B', 'Source '])"
   ]
  },
  {
   "cell_type": "markdown",
   "metadata": {},
   "source": [
    "Elimanar columnas que no me aportan nada como la columna que provoca 'target leakage' "
   ]
  },
  {
   "cell_type": "code",
   "execution_count": 4,
   "metadata": {},
   "outputs": [],
   "source": [
    "clean_train = clean_train.drop(columns = ['Sales_Contract_No', 'Opportunity_Name'])\n",
    "clean_test = clean_test.drop(columns = ['Sales_Contract_No', 'Opportunity_Name'])\n",
    "#FALTA ELIMINAR EL OPPORTUNITY_ID pero lo necesitamos para agrupar y luego armar el submit"
   ]
  },
  {
   "cell_type": "markdown",
   "metadata": {},
   "source": [
    "Filtrar registros que esten en estado finalizado y conversion en valores binarios  \n",
    "Closed Won = 1 - Closed Lost = 0"
   ]
  },
  {
   "cell_type": "code",
   "execution_count": 5,
   "metadata": {},
   "outputs": [],
   "source": [
    "clean_train = clean_train[(clean_train['Stage'] == 'Closed Won') | (clean_train['Stage'] == 'Closed Lost')]\n",
    "clean_train['Stage'] = clean_train['Stage'].transform(func=lambda x : 1 if x=='Closed Won' else 0)"
   ]
  },
  {
   "cell_type": "markdown",
   "metadata": {},
   "source": [
    "Reemplazar los datos vacios con \"Nan\""
   ]
  },
  {
   "cell_type": "code",
   "execution_count": 6,
   "metadata": {},
   "outputs": [],
   "source": [
    "clean_train = clean_train.fillna(\"Nan\")\n",
    "clean_test = clean_test.fillna(\"Nan\")"
   ]
  },
  {
   "cell_type": "markdown",
   "metadata": {},
   "source": [
    "# Creacion de features"
   ]
  },
  {
   "cell_type": "code",
   "execution_count": 7,
   "metadata": {},
   "outputs": [],
   "source": [
    "features_train = clean_train.copy()\n",
    "features_test = clean_test.copy()"
   ]
  },
  {
   "cell_type": "markdown",
   "metadata": {},
   "source": [
    "Convierto columnas con fecha a date"
   ]
  },
  {
   "cell_type": "code",
   "execution_count": 8,
   "metadata": {},
   "outputs": [],
   "source": [
    "features_train[\"Last_Modified_Date\"] = pd.to_datetime(features_train[\"Last_Modified_Date\"], errors='coerce')\n",
    "features_train[\"Opportunity_Created_Date\"] = pd.to_datetime(features_train[\"Opportunity_Created_Date\"], errors='coerce')\n",
    "features_train[\"Quote_Expiry_Date\"] = pd.to_datetime(features_train[\"Quote_Expiry_Date\"], errors='coerce')\n",
    "features_train[\"Planned_Delivery_Start_Date\"] = pd.to_datetime(features_train[\"Planned_Delivery_Start_Date\"], errors='coerce')\n",
    "features_train[\"Planned_Delivery_End_Date\"] = pd.to_datetime(features_train[\"Planned_Delivery_End_Date\"], errors='coerce')\n",
    "\n",
    "features_test[\"Last_Modified_Date\"] = pd.to_datetime(features_test[\"Last_Modified_Date\"], errors='coerce')\n",
    "features_test[\"Opportunity_Created_Date\"] = pd.to_datetime(features_test[\"Opportunity_Created_Date\"], errors='coerce')\n",
    "features_test[\"Quote_Expiry_Date\"] = pd.to_datetime(features_test[\"Quote_Expiry_Date\"], errors='coerce')\n",
    "features_test[\"Planned_Delivery_Start_Date\"] = pd.to_datetime(features_test[\"Planned_Delivery_Start_Date\"], errors='coerce')\n",
    "features_test[\"Planned_Delivery_End_Date\"] = pd.to_datetime(features_test[\"Planned_Delivery_End_Date\"], errors='coerce')"
   ]
  },
  {
   "cell_type": "markdown",
   "metadata": {},
   "source": [
    "Agrego columna Diferencia en dias entre la fecha de creacion de la oportunidad y la ultima modificacion de la oportunidad"
   ]
  },
  {
   "cell_type": "code",
   "execution_count": 9,
   "metadata": {},
   "outputs": [],
   "source": [
    "features_train[\"diferencia_en_dias\"] = (features_train[\"Last_Modified_Date\"] - features_train[\"Opportunity_Created_Date\"]).dt.days\n",
    "\n",
    "features_test[\"diferencia_en_dias\"] = (features_test[\"Last_Modified_Date\"] - features_test[\"Opportunity_Created_Date\"]).dt.days"
   ]
  },
  {
   "cell_type": "markdown",
   "metadata": {},
   "source": [
    "Casteo variables numericas"
   ]
  },
  {
   "cell_type": "code",
   "execution_count": 10,
   "metadata": {},
   "outputs": [],
   "source": [
    "features_train[\"ASP_(converted)\"] = pd.to_numeric(features_train[\"ASP_(converted)\"],errors='coerce')\n",
    "features_train[\"ASP\"] = pd.to_numeric(features_train[\"ASP\"],errors='coerce')\n",
    "features_train[\"TRF\"] = pd.to_numeric(features_train[\"TRF\"],errors='coerce')\n",
    "features_train[\"Total_Amount\"] = pd.to_numeric(features_train[\"Total_Amount\"],errors='coerce')\n",
    "features_train[\"Total_Taxable_Amount\"] = pd.to_numeric(features_train[\"TRF\"],errors='coerce')"
   ]
  },
  {
   "cell_type": "code",
   "execution_count": 11,
   "metadata": {},
   "outputs": [],
   "source": [
    "features_test[\"ASP_(converted)\"] = pd.to_numeric(features_test[\"ASP_(converted)\"],errors='coerce')\n",
    "features_test[\"ASP\"] = pd.to_numeric(features_test[\"ASP\"],errors='coerce')\n",
    "features_test[\"TRF\"] = pd.to_numeric(features_test[\"TRF\"],errors='coerce')\n",
    "features_test[\"Total_Amount\"] = pd.to_numeric(features_test[\"Total_Amount\"],errors='coerce')\n",
    "features_test[\"Total_Taxable_Amount\"] = pd.to_numeric(features_test[\"TRF\"],errors='coerce')"
   ]
  },
  {
   "cell_type": "markdown",
   "metadata": {},
   "source": [
    "Division variables de tipo fecha en DOY, año"
   ]
  },
  {
   "cell_type": "code",
   "execution_count": 12,
   "metadata": {},
   "outputs": [],
   "source": [
    "features_train[\"Last_Modified_DOY\"] = features_train['Last_Modified_Date'].dt.dayofyear\n",
    "features_train[\"Last_Modified_Year\"] = features_train['Last_Modified_Date'].dt.year\n",
    "\n",
    "features_train[\"Opportunity_Created_DOY\"] = features_train[\"Opportunity_Created_Date\"].dt.dayofyear\n",
    "features_train[\"Opportunity_Created_Year\"] = features_train[\"Opportunity_Created_Date\"]\n",
    "\n",
    "features_train[\"Quote_Expiry_DOY\"] = features_train[\"Quote_Expiry_Date\"].dt.dayofyear\n",
    "features_train[\"Quote_Expiry_Year\"] = features_train[\"Quote_Expiry_Date\"].dt.year\n",
    "\n",
    "features_train[\"Planned_Delivery_Start_DOY\"] = features_train[\"Planned_Delivery_Start_Date\"].dt.dayofyear\n",
    "features_train[\"Planned_Delivery_Start_Year\"] = features_train[\"Planned_Delivery_Start_Date\"].dt.year\n",
    "\n",
    "features_train[\"Planned_Delivery_End_DOY\"] = features_train[\"Planned_Delivery_End_Date\"].dt.dayofyear\n",
    "features_train[\"Planned_Delivery_End_Year\"] = features_train[\"Planned_Delivery_End_Date\"].dt.year \n",
    "\n",
    "\n",
    "features_train.drop(columns = ['Planned_Delivery_End_Date', 'Planned_Delivery_Start_Date','Quote_Expiry_Date','Opportunity_Created_Date','Last_Modified_Date'], inplace=True)\n",
    "\n",
    "features_train[\"Quote_Expiry_DOY\"] = features_train[\"Quote_Expiry_DOY\"].fillna('Nan')\n",
    "features_train[\"Quote_Expiry_Year\"] = features_train[\"Quote_Expiry_Year\"].fillna('Nan')\n",
    "features_train[\"Planned_Delivery_End_DOY\"] = features_train[\"Planned_Delivery_End_DOY\"].fillna('Nan')\n",
    "features_train[\"Planned_Delivery_End_Year\"] = features_train[\"Planned_Delivery_End_Year\"].fillna('Nan')"
   ]
  },
  {
   "cell_type": "code",
   "execution_count": 13,
   "metadata": {},
   "outputs": [],
   "source": [
    "features_test[\"Last_Modified_DOY\"] = features_test['Last_Modified_Date'].dt.dayofyear\n",
    "features_test[\"Last_Modified_Year\"] = features_test['Last_Modified_Date'].dt.year\n",
    "\n",
    "features_test[\"Opportunity_Created_DOY\"] = features_test[\"Opportunity_Created_Date\"].dt.dayofyear\n",
    "features_test[\"Opportunity_Created_Year\"] = features_test[\"Opportunity_Created_Date\"]\n",
    "\n",
    "features_test[\"Quote_Expiry_DOY\"] = features_test[\"Quote_Expiry_Date\"].dt.dayofyear\n",
    "features_test[\"Quote_Expiry_Year\"] = features_test[\"Quote_Expiry_Date\"].dt.year\n",
    "\n",
    "features_test[\"Planned_Delivery_Start_DOY\"] = features_test[\"Planned_Delivery_Start_Date\"].dt.dayofyear\n",
    "features_test[\"Planned_Delivery_Start_Year\"] = features_test[\"Planned_Delivery_Start_Date\"].dt.year\n",
    "\n",
    "features_test[\"Planned_Delivery_End_DOY\"] = features_test[\"Planned_Delivery_End_Date\"].dt.dayofyear\n",
    "features_test[\"Planned_Delivery_End_Year\"] = features_test[\"Planned_Delivery_End_Date\"].dt.year \n",
    "\n",
    "features_test.drop(columns = ['Planned_Delivery_End_Date', 'Planned_Delivery_Start_Date','Quote_Expiry_Date','Opportunity_Created_Date','Last_Modified_Date'], inplace=True)\n",
    "\n",
    "features_test[\"Quote_Expiry_DOY\"] = features_test[\"Quote_Expiry_DOY\"].fillna('Nan')\n",
    "features_test[\"Quote_Expiry_Year\"] = features_test[\"Quote_Expiry_Year\"].fillna('Nan')\n",
    "features_test[\"Planned_Delivery_End_DOY\"] = features_test[\"Planned_Delivery_End_DOY\"].fillna('Nan')\n",
    "features_test[\"Planned_Delivery_End_Year\"] = features_test[\"Planned_Delivery_End_Year\"].fillna('Nan')"
   ]
  },
  {
   "cell_type": "markdown",
   "metadata": {},
   "source": [
    "Agrego columnas como concatenacion de columnas"
   ]
  },
  {
   "cell_type": "code",
   "execution_count": 14,
   "metadata": {},
   "outputs": [],
   "source": [
    "features_train[\"Delivery_Quarter_of_Year\"] = features_train[\"Delivery_Quarter\"] +\"-\"+ (features_train[\"Delivery_Year\"].astype(str))"
   ]
  },
  {
   "cell_type": "code",
   "execution_count": 15,
   "metadata": {},
   "outputs": [],
   "source": [
    "features_test[\"Delivery_Quarter_of_Year\"] = features_test[\"Delivery_Quarter\"] +\"-\"+ (features_test[\"Delivery_Year\"].astype(str))"
   ]
  },
  {
   "cell_type": "code",
   "execution_count": 16,
   "metadata": {},
   "outputs": [],
   "source": [
    "features_train[\"Region_Territory_Country\"] = features_train[\"Region\"] +\" \"\\\n",
    "+ features_train[\"Territory\"]+\" \"\\\n",
    "+ features_train[\"Billing_Country\"]"
   ]
  },
  {
   "cell_type": "code",
   "execution_count": 17,
   "metadata": {},
   "outputs": [],
   "source": [
    "features_test[\"Region_Territory_Country\"] = features_test[\"Region\"] +\" \"\\\n",
    "+ features_test[\"Territory\"]+\" \"\\\n",
    "+ features_test[\"Billing_Country\"]"
   ]
  },
  {
   "cell_type": "code",
   "execution_count": 18,
   "metadata": {},
   "outputs": [],
   "source": [
    "features_train[\"Product_Family_Name\"] = features_train[\"Product_Family\"] +\"-\"+ features_train[\"Product_Name\"]"
   ]
  },
  {
   "cell_type": "code",
   "execution_count": 19,
   "metadata": {},
   "outputs": [],
   "source": [
    "features_test[\"Product_Family_Name\"] = features_test[\"Product_Family\"] +\"-\"+ features_test[\"Product_Name\"]"
   ]
  },
  {
   "cell_type": "markdown",
   "metadata": {},
   "source": [
    "Agrego columna binaria si el asp es mayor al promedio o no (uso el convertido por el tipo de moneda)"
   ]
  },
  {
   "cell_type": "code",
   "execution_count": 20,
   "metadata": {},
   "outputs": [],
   "source": [
    "#Obtengo el promedio eliminando las 2 filas que tenian valores mal\n",
    "features_train.loc[:,[\"Opportunity_ID\",\"ASP_(converted)\"]].sort_values(by='ASP_(converted)',ascending=False).head()\n",
    "asp_mean_train = features_train.drop([1177, 1164])[\"ASP_(converted)\"].mean()\n",
    "#Lleno las 9 filas del set que no tienen datos de ASP con el promedio\n",
    "features_train[\"ASP\"] = features_train['ASP'].fillna(asp_mean_train)\n",
    "features_train[\"ASP_(converted)\"] = features_train['ASP_(converted)'].fillna(asp_mean_train)\n",
    "#Coloco 1 si es mayor al promedio 0 en caso contrario\n",
    "features_train[\"ASP_Higher_Mean\"] = features_train['ASP_(converted)'].transform(func=lambda x : 1 if x >= asp_mean_train else 0)"
   ]
  },
  {
   "cell_type": "code",
   "execution_count": 21,
   "metadata": {},
   "outputs": [],
   "source": [
    "#Obtengo el promedio eliminando las 2 filas que tenian valores mal\n",
    "features_test.loc[:,[\"Opportunity_ID\",\"ASP_(converted)\"]].sort_values(by='ASP_(converted)',ascending=False).head()\n",
    "asp_mean_test = features_test.drop([810])[\"ASP_(converted)\"].mean()\n",
    "features_test[\"ASP\"] = features_test['ASP'].fillna(asp_mean_test)\n",
    "features_test[\"ASP_(converted)\"] = features_test['ASP_(converted)'].fillna(asp_mean_test)\n",
    "#Coloco 1 si es mayor al promedio 0 en caso contrario\n",
    "features_test[\"ASP_Higher_Mean\"] = features_test['ASP_(converted)'].transform(func=lambda x : 1 if x >= asp_mean_test else 0)"
   ]
  },
  {
   "cell_type": "markdown",
   "metadata": {},
   "source": [
    "Agrego columna binaria si las toneladas de frigorias de la oportunidad es mayor al promedio"
   ]
  },
  {
   "cell_type": "code",
   "execution_count": 22,
   "metadata": {},
   "outputs": [],
   "source": [
    "trf_mean_train = features_train[\"TRF\"].mean()\n",
    "#Coloco 1 si es mayor al promedio 0 en caso contrario\n",
    "features_train[\"TRF_Higher_Mean\"] = features_train['TRF'].transform(func=lambda x : 1 if x >= trf_mean_train else 0)"
   ]
  },
  {
   "cell_type": "code",
   "execution_count": 23,
   "metadata": {},
   "outputs": [],
   "source": [
    "trf_mean_test = features_test[\"TRF\"].mean()\n",
    "#Coloco 1 si es mayor al promedio 0 en caso contrario\n",
    "features_test[\"TRF_Higher_Mean\"] = features_test['TRF'].transform(func=lambda x : 1 if x >= trf_mean_test else 0)"
   ]
  },
  {
   "cell_type": "markdown",
   "metadata": {},
   "source": [
    "Agrego columna binaria si el responsable de cuenta es el mismo que el responsable de oportunidad"
   ]
  },
  {
   "cell_type": "code",
   "execution_count": 24,
   "metadata": {},
   "outputs": [],
   "source": [
    "features_train[\"Same_Owner\"] = features_train[\"Account_Owner\"] == features_train[\"Opportunity_Owner\"]\n",
    "features_train[\"Same_Owner\"] = features_train[\"Same_Owner\"].transform(func=lambda x : 1 if x else 0)"
   ]
  },
  {
   "cell_type": "code",
   "execution_count": 25,
   "metadata": {},
   "outputs": [],
   "source": [
    "features_test[\"Same_Owner\"] = features_test[\"Account_Owner\"] == features_test[\"Opportunity_Owner\"]\n",
    "features_test[\"Same_Owner\"] = features_test[\"Same_Owner\"].transform(func=lambda x : 1 if x else 0)"
   ]
  },
  {
   "cell_type": "markdown",
   "metadata": {},
   "source": [
    "Agrego columna binaria si el responsable de cuenta es el ultimo que modifico oportunidad"
   ]
  },
  {
   "cell_type": "code",
   "execution_count": 26,
   "metadata": {},
   "outputs": [],
   "source": [
    "features_train[\"Last_Modified_By_Account_Owner\"] = features_train[\"Account_Owner\"] == features_train[\"Last_Modified_By\"]\n",
    "features_train[\"Last_Modified_By_Account_Owner\"] = features_train[\"Last_Modified_By_Account_Owner\"].transform(func=lambda x : 1 if x else 0)"
   ]
  },
  {
   "cell_type": "code",
   "execution_count": 27,
   "metadata": {},
   "outputs": [],
   "source": [
    "features_test[\"Last_Modified_By_Account_Owner\"] = features_test[\"Account_Owner\"] == features_test[\"Last_Modified_By\"]\n",
    "features_test[\"Last_Modified_By_Account_Owner\"] = features_test[\"Last_Modified_By_Account_Owner\"].transform(func=lambda x : 1 if x else 0)"
   ]
  },
  {
   "cell_type": "markdown",
   "metadata": {},
   "source": [
    "Agrego columna binaria si el responsable de oportunidad es el ultimo que modifico oportunidad"
   ]
  },
  {
   "cell_type": "code",
   "execution_count": 28,
   "metadata": {},
   "outputs": [],
   "source": [
    "features_train[\"Last_Modified_By_Opportunity_Owner\"] = features_train[\"Opportunity_Owner\"] == features_train[\"Last_Modified_By\"]\n",
    "features_train[\"Last_Modified_By_Opportunity_Owner\"] = features_train[\"Last_Modified_By_Opportunity_Owner\"].transform(func=lambda x : 1 if x else 0)"
   ]
  },
  {
   "cell_type": "code",
   "execution_count": 29,
   "metadata": {},
   "outputs": [],
   "source": [
    "features_test[\"Last_Modified_By_Opportunity_Owner\"] = features_test[\"Opportunity_Owner\"] == features_test[\"Last_Modified_By\"]\n",
    "features_test[\"Last_Modified_By_Opportunity_Owner\"] = features_test[\"Last_Modified_By_Opportunity_Owner\"].transform(func=lambda x : 1 if x else 0)"
   ]
  },
  {
   "cell_type": "markdown",
   "metadata": {},
   "source": [
    "Dejar la columna Stage al final "
   ]
  },
  {
   "cell_type": "code",
   "execution_count": 30,
   "metadata": {},
   "outputs": [],
   "source": [
    "features_train[\"Target\"] = features_train[\"Stage\"]\n",
    "features_train.drop(columns = ['Stage'], inplace=True)"
   ]
  },
  {
   "cell_type": "code",
   "execution_count": 31,
   "metadata": {},
   "outputs": [],
   "source": [
    "features_train.to_csv('data/other-cleaned_train.csv')\n",
    "features_test.to_csv('data/other-cleaned_test.csv')"
   ]
  }
 ],
 "metadata": {
  "kernelspec": {
   "display_name": "Python 3",
   "language": "python",
   "name": "python3"
  },
  "language_info": {
   "codemirror_mode": {
    "name": "ipython",
    "version": 3
   },
   "file_extension": ".py",
   "mimetype": "text/x-python",
   "name": "python",
   "nbconvert_exporter": "python",
   "pygments_lexer": "ipython3",
   "version": "3.7.4"
  }
 },
 "nbformat": 4,
 "nbformat_minor": 4
}
