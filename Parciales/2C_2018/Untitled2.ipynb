{
 "cells": [
  {
   "cell_type": "markdown",
   "metadata": {},
   "source": [
    "## Parcial Pandas - 2do Cuatrimestre 2020"
   ]
  },
  {
   "cell_type": "markdown",
   "metadata": {},
   "source": [
    "### Sinisi Fernando - 99139"
   ]
  },
  {
   "cell_type": "raw",
   "metadata": {},
   "source": [
    "Punto 1:  Listar aquellos usuarios que tengan un total de sesiones mayor al promedio de sesiones por usuario\n",
    "del sistema. Ej: si el promedio de los usuarios cuenta con 20 sesiones, se debe listar los usuarios que\n",
    "tengan más de 20 sesiones asociadas."
   ]
  },
  {
   "cell_type": "code",
   "execution_count": null,
   "metadata": {},
   "outputs": [],
   "source": [
    "df['cantidadSesiones'] = df.groupby('uid').transform('count')['sessionid']\n",
    "df.loc[df['cantidadSesiones'] > (df['cantidadSesiones'].mean()),'uid'].unique()"
   ]
  },
  {
   "cell_type": "raw",
   "metadata": {},
   "source": [
    "Punto 2: Calcular el valor promedio de los eventos 'ecommerce.view-product',\n",
    "'ecommerce.checkout', 'ecommerce.conversion' para aquellos usuarios que hayan realizado\n",
    "más de 25 sesiones. Los resultados deben ser presentados en un dataframe con las siguientes\n",
    "columnas ('uid','ecommerce_view_product_mean', 'ecommerce_checkout_mean',\n",
    "'ecommerce_conversion_mean')."
   ]
  },
  {
   "cell_type": "code",
   "execution_count": null,
   "metadata": {},
   "outputs": [],
   "source": [
    "df2 = df.loc[df['cantidadSesiones'] > 25, :].groupby(['uid','event']).agg({'value':'mean'}).unstack().reset_index()\n",
    "df2.columns = ['uid','ecommerce_checkout_mean','ecommerce_conversion_mean','ecommerce_view_product_mean']\n",
    "nuevoOrden = ['uid','ecommerce_view_product_mean','ecommerce_checkout_mean','ecommerce_conversion_mean']\n",
    "dfresult = df2[nuevoOrden]\n",
    "dfresult"
   ]
  },
  {
   "cell_type": "code",
   "execution_count": null,
   "metadata": {},
   "outputs": [],
   "source": []
  }
 ],
 "metadata": {
  "kernelspec": {
   "display_name": "Python 3",
   "language": "python",
   "name": "python3"
  },
  "language_info": {
   "codemirror_mode": {
    "name": "ipython",
    "version": 3
   },
   "file_extension": ".py",
   "mimetype": "text/x-python",
   "name": "python",
   "nbconvert_exporter": "python",
   "pygments_lexer": "ipython3",
   "version": "3.7.4"
  }
 },
 "nbformat": 4,
 "nbformat_minor": 4
}
