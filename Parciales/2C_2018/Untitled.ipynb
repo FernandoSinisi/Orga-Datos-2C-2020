{
 "cells": [
  {
   "cell_type": "markdown",
   "metadata": {},
   "source": [
    "## Parcial Pandas - 2do Cuatrimestre 2020"
   ]
  },
  {
   "cell_type": "markdown",
   "metadata": {},
   "source": [
    "### Sinisi Fernando - 99139"
   ]
  },
  {
   "cell_type": "code",
   "execution_count": 118,
   "metadata": {},
   "outputs": [
    {
     "data": {
      "text/html": [
       "<div>\n",
       "<style scoped>\n",
       "    .dataframe tbody tr th:only-of-type {\n",
       "        vertical-align: middle;\n",
       "    }\n",
       "\n",
       "    .dataframe tbody tr th {\n",
       "        vertical-align: top;\n",
       "    }\n",
       "\n",
       "    .dataframe thead th {\n",
       "        text-align: right;\n",
       "    }\n",
       "</style>\n",
       "<table border=\"1\" class=\"dataframe\">\n",
       "  <thead>\n",
       "    <tr style=\"text-align: right;\">\n",
       "      <th></th>\n",
       "      <th>uid</th>\n",
       "      <th>sessionid</th>\n",
       "      <th>event</th>\n",
       "      <th>value</th>\n",
       "      <th>datetime</th>\n",
       "    </tr>\n",
       "  </thead>\n",
       "  <tbody>\n",
       "    <tr>\n",
       "      <td>0</td>\n",
       "      <td>uid1</td>\n",
       "      <td>ses1</td>\n",
       "      <td>ecommerce.view-product</td>\n",
       "      <td>10</td>\n",
       "      <td>PID_1</td>\n",
       "    </tr>\n",
       "    <tr>\n",
       "      <td>1</td>\n",
       "      <td>uid1</td>\n",
       "      <td>ses2</td>\n",
       "      <td>ecommerce.view-product</td>\n",
       "      <td>15</td>\n",
       "      <td>PID_1</td>\n",
       "    </tr>\n",
       "    <tr>\n",
       "      <td>2</td>\n",
       "      <td>uid2</td>\n",
       "      <td>ses3</td>\n",
       "      <td>ecommerce.checkout</td>\n",
       "      <td>20</td>\n",
       "      <td>PID_2</td>\n",
       "    </tr>\n",
       "    <tr>\n",
       "      <td>3</td>\n",
       "      <td>uid3</td>\n",
       "      <td>ses4</td>\n",
       "      <td>ecommerce.checkout</td>\n",
       "      <td>25</td>\n",
       "      <td>PID_2</td>\n",
       "    </tr>\n",
       "    <tr>\n",
       "      <td>4</td>\n",
       "      <td>uid3</td>\n",
       "      <td>ses5</td>\n",
       "      <td>ecommerce.conversion</td>\n",
       "      <td>30</td>\n",
       "      <td>PID_2</td>\n",
       "    </tr>\n",
       "  </tbody>\n",
       "</table>\n",
       "</div>"
      ],
      "text/plain": [
       "    uid sessionid                   event  value datetime\n",
       "0  uid1      ses1  ecommerce.view-product     10    PID_1\n",
       "1  uid1      ses2  ecommerce.view-product     15    PID_1\n",
       "2  uid2      ses3      ecommerce.checkout     20    PID_2\n",
       "3  uid3      ses4      ecommerce.checkout     25    PID_2\n",
       "4  uid3      ses5    ecommerce.conversion     30    PID_2"
      ]
     },
     "execution_count": 118,
     "metadata": {},
     "output_type": "execute_result"
    }
   ],
   "source": [
    "import pandas as pd\n",
    "import datetime as dt\n",
    "\n",
    "data = {\n",
    "        'uid': ['uid1','uid1','uid2','uid3','uid3'],\n",
    "        'sessionid': ['ses1','ses2','ses3','ses4','ses5'],\n",
    "        'event': ['ecommerce.view-product','ecommerce.view-product','ecommerce.checkout','ecommerce.checkout','ecommerce.conversion'],\n",
    "        'value': [10,15,20,25,30],\n",
    "        'datetime': ['PID_1','PID_1','PID_2','PID_2','PID_2']\n",
    "}\n",
    "\n",
    "df = pd.DataFrame(data, columns = data.keys())\n",
    "df"
   ]
  },
  {
   "cell_type": "raw",
   "metadata": {},
   "source": [
    "Punto 1:  Listar aquellos usuarios que tengan un total de sesiones mayor al promedio de sesiones por usuario\n",
    "del sistema. Ej: si el promedio de los usuarios cuenta con 20 sesiones, se debe listar los usuarios que\n",
    "tengan más de 20 sesiones asociadas."
   ]
  },
  {
   "cell_type": "code",
   "execution_count": 119,
   "metadata": {},
   "outputs": [
    {
     "data": {
      "text/plain": [
       "array(['uid1', 'uid3'], dtype=object)"
      ]
     },
     "execution_count": 119,
     "metadata": {},
     "output_type": "execute_result"
    }
   ],
   "source": [
    "df['cantidadSesiones'] = df.groupby('uid').transform('count')['sessionid']\n",
    "df.loc[df['cantidadSesiones'] > (df['cantidadSesiones'].mean()),'uid'].unique()"
   ]
  },
  {
   "cell_type": "raw",
   "metadata": {},
   "source": [
    "Punto 2: Calcular el valor promedio de los eventos 'ecommerce.view-product',\n",
    "'ecommerce.checkout', 'ecommerce.conversion' para aquellos usuarios que hayan realizado\n",
    "más de 25 sesiones. Los resultados deben ser presentados en un dataframe con las siguientes\n",
    "columnas ('uid','ecommerce_view_product_mean', 'ecommerce_checkout_mean',\n",
    "'ecommerce_conversion_mean')."
   ]
  },
  {
   "cell_type": "code",
   "execution_count": 120,
   "metadata": {},
   "outputs": [
    {
     "data": {
      "text/html": [
       "<div>\n",
       "<style scoped>\n",
       "    .dataframe tbody tr th:only-of-type {\n",
       "        vertical-align: middle;\n",
       "    }\n",
       "\n",
       "    .dataframe tbody tr th {\n",
       "        vertical-align: top;\n",
       "    }\n",
       "\n",
       "    .dataframe thead th {\n",
       "        text-align: right;\n",
       "    }\n",
       "</style>\n",
       "<table border=\"1\" class=\"dataframe\">\n",
       "  <thead>\n",
       "    <tr style=\"text-align: right;\">\n",
       "      <th></th>\n",
       "      <th>uid</th>\n",
       "      <th>ecommerce_view_product_mean</th>\n",
       "      <th>ecommerce_checkout_mean</th>\n",
       "      <th>ecommerce_conversion_mean</th>\n",
       "    </tr>\n",
       "  </thead>\n",
       "  <tbody>\n",
       "    <tr>\n",
       "      <td>0</td>\n",
       "      <td>uid1</td>\n",
       "      <td>12.5</td>\n",
       "      <td>NaN</td>\n",
       "      <td>NaN</td>\n",
       "    </tr>\n",
       "    <tr>\n",
       "      <td>1</td>\n",
       "      <td>uid3</td>\n",
       "      <td>NaN</td>\n",
       "      <td>25.0</td>\n",
       "      <td>30.0</td>\n",
       "    </tr>\n",
       "  </tbody>\n",
       "</table>\n",
       "</div>"
      ],
      "text/plain": [
       "    uid  ecommerce_view_product_mean  ecommerce_checkout_mean  \\\n",
       "0  uid1                         12.5                      NaN   \n",
       "1  uid3                          NaN                     25.0   \n",
       "\n",
       "   ecommerce_conversion_mean  \n",
       "0                        NaN  \n",
       "1                       30.0  "
      ]
     },
     "execution_count": 120,
     "metadata": {},
     "output_type": "execute_result"
    }
   ],
   "source": [
    "df2 = df.loc[df['cantidadSesiones'] > 1, :].groupby(['uid','event']).agg({'value':'mean'}).unstack().reset_index()\n",
    "df2.columns = ['uid','ecommerce_checkout_mean','ecommerce_conversion_mean','ecommerce_view_product_mean']\n",
    "nuevoOrden = ['uid','ecommerce_view_product_mean','ecommerce_checkout_mean','ecommerce_conversion_mean']\n",
    "dfresult = df2[nuevoOrden]\n",
    "dfresult"
   ]
  }
 ],
 "metadata": {
  "kernelspec": {
   "display_name": "Python 3",
   "language": "python",
   "name": "python3"
  },
  "language_info": {
   "codemirror_mode": {
    "name": "ipython",
    "version": 3
   },
   "file_extension": ".py",
   "mimetype": "text/x-python",
   "name": "python",
   "nbconvert_exporter": "python",
   "pygments_lexer": "ipython3",
   "version": "3.7.4"
  }
 },
 "nbformat": 4,
 "nbformat_minor": 4
}
