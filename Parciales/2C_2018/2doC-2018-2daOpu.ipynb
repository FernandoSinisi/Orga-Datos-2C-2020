{
 "cells": [
  {
   "cell_type": "markdown",
   "metadata": {},
   "source": [
    "### 2do Cuatrimestre 2018 2da Oportunidad"
   ]
  },
  {
   "cell_type": "raw",
   "metadata": {},
   "source": [
    "El dataframe (sales) lista las ventas de productos con los siguientes campos:\n",
    "Dia, Mes, Año, ProductID, Importe(USD). Para un mismo dia, mes y año puede\n",
    "venderse n veces el mismo producto. Por otro lado tenemos una descripción de los\n",
    "productos en el dataframe (products): ProductId, Title, Category, Description.\n",
    "Category puede ser \"Men\", \"Women\", \"Kids\"\n",
    "Proponer un programa en Pandas que permita:"
   ]
  },
  {
   "cell_type": "code",
   "execution_count": 197,
   "metadata": {},
   "outputs": [],
   "source": [
    "from datetime import datetime\n",
    "import datetime as dt\n",
    "import pandas as pd\n",
    "\n",
    "# armamos un data frame\n",
    "sales_data = {\n",
    "        'Dia': [7,20,15,17,18, 16, 3, 4],\n",
    "        'Mes': [1,2,3,3,3, 3, 4, 4], \n",
    "        'Año': [2019, 2019, 2020, 2020, 2020, 2020, 2020, 2020],\n",
    "        'ProductID': ['PID_1','PID_1','PID_2','PID_2','PID_2', 'PID_2', 'PID_3', 'PID_3'],\n",
    "        'Importe(USD)': [10,15,20,20,30, 31, 150, 40]\n",
    "}\n",
    "\n",
    "product_data = {\n",
    "        'ProductId': ['PID_1','PID_2','PID_3','PID_4','PID_5'],\n",
    "        'Title': ['Title_1','Title_2','Title_3','Title_4','Title_5'],\n",
    "        'Category': ['Men','Women','Men','Kids','Men'],\n",
    "        'Description': ['Des_1','Des_2','Des_3','Des_4','Des_5']\n",
    "}\n",
    "\n",
    "sales = pd.DataFrame(sales_data, columns = sales_data.keys())\n",
    "products = pd.DataFrame(product_data, columns = product_data.keys())"
   ]
  },
  {
   "cell_type": "code",
   "execution_count": 198,
   "metadata": {},
   "outputs": [
    {
     "name": "stdout",
     "output_type": "stream",
     "text": [
      "<class 'pandas.core.frame.DataFrame'>\n",
      "RangeIndex: 8 entries, 0 to 7\n",
      "Data columns (total 5 columns):\n",
      "Dia             8 non-null int64\n",
      "Mes             8 non-null int64\n",
      "Año             8 non-null int64\n",
      "ProductID       8 non-null object\n",
      "Importe(USD)    8 non-null int64\n",
      "dtypes: int64(4), object(1)\n",
      "memory usage: 448.0+ bytes\n"
     ]
    }
   ],
   "source": [
    "sales.info()\n"
   ]
  },
  {
   "cell_type": "code",
   "execution_count": 199,
   "metadata": {},
   "outputs": [
    {
     "data": {
      "text/html": [
       "<div>\n",
       "<style scoped>\n",
       "    .dataframe tbody tr th:only-of-type {\n",
       "        vertical-align: middle;\n",
       "    }\n",
       "\n",
       "    .dataframe tbody tr th {\n",
       "        vertical-align: top;\n",
       "    }\n",
       "\n",
       "    .dataframe thead th {\n",
       "        text-align: right;\n",
       "    }\n",
       "</style>\n",
       "<table border=\"1\" class=\"dataframe\">\n",
       "  <thead>\n",
       "    <tr style=\"text-align: right;\">\n",
       "      <th></th>\n",
       "      <th>ProductId</th>\n",
       "      <th>Title</th>\n",
       "      <th>Category</th>\n",
       "      <th>Description</th>\n",
       "    </tr>\n",
       "  </thead>\n",
       "  <tbody>\n",
       "    <tr>\n",
       "      <td>0</td>\n",
       "      <td>PID_1</td>\n",
       "      <td>Title_1</td>\n",
       "      <td>Men</td>\n",
       "      <td>Des_1</td>\n",
       "    </tr>\n",
       "    <tr>\n",
       "      <td>1</td>\n",
       "      <td>PID_2</td>\n",
       "      <td>Title_2</td>\n",
       "      <td>Women</td>\n",
       "      <td>Des_2</td>\n",
       "    </tr>\n",
       "    <tr>\n",
       "      <td>2</td>\n",
       "      <td>PID_3</td>\n",
       "      <td>Title_3</td>\n",
       "      <td>Men</td>\n",
       "      <td>Des_3</td>\n",
       "    </tr>\n",
       "    <tr>\n",
       "      <td>3</td>\n",
       "      <td>PID_4</td>\n",
       "      <td>Title_4</td>\n",
       "      <td>Kids</td>\n",
       "      <td>Des_4</td>\n",
       "    </tr>\n",
       "    <tr>\n",
       "      <td>4</td>\n",
       "      <td>PID_5</td>\n",
       "      <td>Title_5</td>\n",
       "      <td>Men</td>\n",
       "      <td>Des_5</td>\n",
       "    </tr>\n",
       "  </tbody>\n",
       "</table>\n",
       "</div>"
      ],
      "text/plain": [
       "  ProductId    Title Category Description\n",
       "0     PID_1  Title_1      Men       Des_1\n",
       "1     PID_2  Title_2    Women       Des_2\n",
       "2     PID_3  Title_3      Men       Des_3\n",
       "3     PID_4  Title_4     Kids       Des_4\n",
       "4     PID_5  Title_5      Men       Des_5"
      ]
     },
     "execution_count": 199,
     "metadata": {},
     "output_type": "execute_result"
    }
   ],
   "source": [
    "products"
   ]
  },
  {
   "cell_type": "raw",
   "metadata": {},
   "source": [
    "a) Indicar los títulos de los productos de la categoría \"Men\" para los cuales el\n",
    "Importe de venta supera el promedio mensual de ventas de los productos de la\n",
    "misma categoría. (por ejemplo si el promedio de Abril de \"Men\" es 120 dolares y\n",
    "un producto se vendió en Abril a 135 dolares lo tenemos que listar). Usar Transform. (*** 7pts)"
   ]
  },
  {
   "cell_type": "code",
   "execution_count": 200,
   "metadata": {},
   "outputs": [],
   "source": [
    "sales_filtered = sales.loc[:,['ProductID','Mes','Importe(USD)']]\n",
    "products_filtered = products.loc[:,['ProductId','Category','Title']]"
   ]
  },
  {
   "cell_type": "code",
   "execution_count": 201,
   "metadata": {},
   "outputs": [
    {
     "data": {
      "text/html": [
       "<div>\n",
       "<style scoped>\n",
       "    .dataframe tbody tr th:only-of-type {\n",
       "        vertical-align: middle;\n",
       "    }\n",
       "\n",
       "    .dataframe tbody tr th {\n",
       "        vertical-align: top;\n",
       "    }\n",
       "\n",
       "    .dataframe thead th {\n",
       "        text-align: right;\n",
       "    }\n",
       "</style>\n",
       "<table border=\"1\" class=\"dataframe\">\n",
       "  <thead>\n",
       "    <tr style=\"text-align: right;\">\n",
       "      <th></th>\n",
       "      <th>ProductID</th>\n",
       "      <th>Mes</th>\n",
       "      <th>Importe(USD)</th>\n",
       "      <th>ProductId</th>\n",
       "      <th>Category</th>\n",
       "      <th>Title</th>\n",
       "    </tr>\n",
       "  </thead>\n",
       "  <tbody>\n",
       "    <tr>\n",
       "      <td>0</td>\n",
       "      <td>PID_1</td>\n",
       "      <td>1</td>\n",
       "      <td>10</td>\n",
       "      <td>PID_1</td>\n",
       "      <td>Men</td>\n",
       "      <td>Title_1</td>\n",
       "    </tr>\n",
       "    <tr>\n",
       "      <td>1</td>\n",
       "      <td>PID_1</td>\n",
       "      <td>2</td>\n",
       "      <td>15</td>\n",
       "      <td>PID_1</td>\n",
       "      <td>Men</td>\n",
       "      <td>Title_1</td>\n",
       "    </tr>\n",
       "    <tr>\n",
       "      <td>2</td>\n",
       "      <td>PID_2</td>\n",
       "      <td>3</td>\n",
       "      <td>20</td>\n",
       "      <td>PID_2</td>\n",
       "      <td>Women</td>\n",
       "      <td>Title_2</td>\n",
       "    </tr>\n",
       "    <tr>\n",
       "      <td>3</td>\n",
       "      <td>PID_2</td>\n",
       "      <td>3</td>\n",
       "      <td>20</td>\n",
       "      <td>PID_2</td>\n",
       "      <td>Women</td>\n",
       "      <td>Title_2</td>\n",
       "    </tr>\n",
       "    <tr>\n",
       "      <td>4</td>\n",
       "      <td>PID_2</td>\n",
       "      <td>3</td>\n",
       "      <td>30</td>\n",
       "      <td>PID_2</td>\n",
       "      <td>Women</td>\n",
       "      <td>Title_2</td>\n",
       "    </tr>\n",
       "    <tr>\n",
       "      <td>5</td>\n",
       "      <td>PID_2</td>\n",
       "      <td>3</td>\n",
       "      <td>31</td>\n",
       "      <td>PID_2</td>\n",
       "      <td>Women</td>\n",
       "      <td>Title_2</td>\n",
       "    </tr>\n",
       "    <tr>\n",
       "      <td>6</td>\n",
       "      <td>PID_3</td>\n",
       "      <td>4</td>\n",
       "      <td>150</td>\n",
       "      <td>PID_3</td>\n",
       "      <td>Men</td>\n",
       "      <td>Title_3</td>\n",
       "    </tr>\n",
       "    <tr>\n",
       "      <td>7</td>\n",
       "      <td>PID_3</td>\n",
       "      <td>4</td>\n",
       "      <td>40</td>\n",
       "      <td>PID_3</td>\n",
       "      <td>Men</td>\n",
       "      <td>Title_3</td>\n",
       "    </tr>\n",
       "  </tbody>\n",
       "</table>\n",
       "</div>"
      ],
      "text/plain": [
       "  ProductID  Mes  Importe(USD) ProductId Category    Title\n",
       "0     PID_1    1            10     PID_1      Men  Title_1\n",
       "1     PID_1    2            15     PID_1      Men  Title_1\n",
       "2     PID_2    3            20     PID_2    Women  Title_2\n",
       "3     PID_2    3            20     PID_2    Women  Title_2\n",
       "4     PID_2    3            30     PID_2    Women  Title_2\n",
       "5     PID_2    3            31     PID_2    Women  Title_2\n",
       "6     PID_3    4           150     PID_3      Men  Title_3\n",
       "7     PID_3    4            40     PID_3      Men  Title_3"
      ]
     },
     "execution_count": 201,
     "metadata": {},
     "output_type": "execute_result"
    }
   ],
   "source": [
    "df_merge = sales_filtered.merge(products_filtered,left_on = 'ProductID',right_on='ProductId')\n",
    "df_merge"
   ]
  },
  {
   "cell_type": "code",
   "execution_count": 202,
   "metadata": {},
   "outputs": [
    {
     "name": "stderr",
     "output_type": "stream",
     "text": [
      "/usr/local/anaconda3/lib/python3.7/site-packages/ipykernel_launcher.py:2: SettingWithCopyWarning: \n",
      "A value is trying to be set on a copy of a slice from a DataFrame.\n",
      "Try using .loc[row_indexer,col_indexer] = value instead\n",
      "\n",
      "See the caveats in the documentation: http://pandas.pydata.org/pandas-docs/stable/user_guide/indexing.html#returning-a-view-versus-a-copy\n",
      "  \n"
     ]
    },
    {
     "data": {
      "text/html": [
       "<div>\n",
       "<style scoped>\n",
       "    .dataframe tbody tr th:only-of-type {\n",
       "        vertical-align: middle;\n",
       "    }\n",
       "\n",
       "    .dataframe tbody tr th {\n",
       "        vertical-align: top;\n",
       "    }\n",
       "\n",
       "    .dataframe thead th {\n",
       "        text-align: right;\n",
       "    }\n",
       "</style>\n",
       "<table border=\"1\" class=\"dataframe\">\n",
       "  <thead>\n",
       "    <tr style=\"text-align: right;\">\n",
       "      <th></th>\n",
       "      <th>ProductID</th>\n",
       "      <th>Mes</th>\n",
       "      <th>Importe(USD)</th>\n",
       "      <th>ProductId</th>\n",
       "      <th>Category</th>\n",
       "      <th>Title</th>\n",
       "      <th>PromedioMensual</th>\n",
       "    </tr>\n",
       "  </thead>\n",
       "  <tbody>\n",
       "    <tr>\n",
       "      <td>0</td>\n",
       "      <td>PID_1</td>\n",
       "      <td>1</td>\n",
       "      <td>10</td>\n",
       "      <td>PID_1</td>\n",
       "      <td>Men</td>\n",
       "      <td>Title_1</td>\n",
       "      <td>10</td>\n",
       "    </tr>\n",
       "    <tr>\n",
       "      <td>1</td>\n",
       "      <td>PID_1</td>\n",
       "      <td>2</td>\n",
       "      <td>15</td>\n",
       "      <td>PID_1</td>\n",
       "      <td>Men</td>\n",
       "      <td>Title_1</td>\n",
       "      <td>15</td>\n",
       "    </tr>\n",
       "    <tr>\n",
       "      <td>6</td>\n",
       "      <td>PID_3</td>\n",
       "      <td>4</td>\n",
       "      <td>150</td>\n",
       "      <td>PID_3</td>\n",
       "      <td>Men</td>\n",
       "      <td>Title_3</td>\n",
       "      <td>95</td>\n",
       "    </tr>\n",
       "    <tr>\n",
       "      <td>7</td>\n",
       "      <td>PID_3</td>\n",
       "      <td>4</td>\n",
       "      <td>40</td>\n",
       "      <td>PID_3</td>\n",
       "      <td>Men</td>\n",
       "      <td>Title_3</td>\n",
       "      <td>95</td>\n",
       "    </tr>\n",
       "  </tbody>\n",
       "</table>\n",
       "</div>"
      ],
      "text/plain": [
       "  ProductID  Mes  Importe(USD) ProductId Category    Title  PromedioMensual\n",
       "0     PID_1    1            10     PID_1      Men  Title_1               10\n",
       "1     PID_1    2            15     PID_1      Men  Title_1               15\n",
       "6     PID_3    4           150     PID_3      Men  Title_3               95\n",
       "7     PID_3    4            40     PID_3      Men  Title_3               95"
      ]
     },
     "execution_count": 202,
     "metadata": {},
     "output_type": "execute_result"
    }
   ],
   "source": [
    "df_merge_men = df_merge.loc[df_merge['Category'] == 'Men',:]\n",
    "df_merge_men['PromedioMensual'] = df_merge_men.groupby('Mes')['Importe(USD)'].transform('mean') \n",
    "df_merge_men\n"
   ]
  },
  {
   "cell_type": "code",
   "execution_count": 203,
   "metadata": {},
   "outputs": [
    {
     "data": {
      "text/plain": [
       "6    Title_3\n",
       "Name: Title, dtype: object"
      ]
     },
     "execution_count": 203,
     "metadata": {},
     "output_type": "execute_result"
    }
   ],
   "source": [
    "df_merge_men.loc[df_merge_men['Importe(USD)'] > df_merge_men['PromedioMensual'],:]['Title']"
   ]
  },
  {
   "cell_type": "raw",
   "metadata": {},
   "source": [
    "b) Indicar el top-10 de productos que se vendieron mayor cantidad de días de forma consecutiva. (**** 8 pts)"
   ]
  },
  {
   "cell_type": "code",
   "execution_count": 204,
   "metadata": {},
   "outputs": [
    {
     "data": {
      "text/html": [
       "<div>\n",
       "<style scoped>\n",
       "    .dataframe tbody tr th:only-of-type {\n",
       "        vertical-align: middle;\n",
       "    }\n",
       "\n",
       "    .dataframe tbody tr th {\n",
       "        vertical-align: top;\n",
       "    }\n",
       "\n",
       "    .dataframe thead th {\n",
       "        text-align: right;\n",
       "    }\n",
       "</style>\n",
       "<table border=\"1\" class=\"dataframe\">\n",
       "  <thead>\n",
       "    <tr style=\"text-align: right;\">\n",
       "      <th></th>\n",
       "      <th>Dia</th>\n",
       "      <th>Mes</th>\n",
       "      <th>Año</th>\n",
       "      <th>ProductID</th>\n",
       "      <th>Importe(USD)</th>\n",
       "    </tr>\n",
       "  </thead>\n",
       "  <tbody>\n",
       "    <tr>\n",
       "      <td>0</td>\n",
       "      <td>7</td>\n",
       "      <td>1</td>\n",
       "      <td>2019</td>\n",
       "      <td>PID_1</td>\n",
       "      <td>10</td>\n",
       "    </tr>\n",
       "    <tr>\n",
       "      <td>1</td>\n",
       "      <td>20</td>\n",
       "      <td>2</td>\n",
       "      <td>2019</td>\n",
       "      <td>PID_1</td>\n",
       "      <td>15</td>\n",
       "    </tr>\n",
       "    <tr>\n",
       "      <td>2</td>\n",
       "      <td>15</td>\n",
       "      <td>3</td>\n",
       "      <td>2020</td>\n",
       "      <td>PID_2</td>\n",
       "      <td>20</td>\n",
       "    </tr>\n",
       "    <tr>\n",
       "      <td>3</td>\n",
       "      <td>17</td>\n",
       "      <td>3</td>\n",
       "      <td>2020</td>\n",
       "      <td>PID_2</td>\n",
       "      <td>20</td>\n",
       "    </tr>\n",
       "    <tr>\n",
       "      <td>4</td>\n",
       "      <td>18</td>\n",
       "      <td>3</td>\n",
       "      <td>2020</td>\n",
       "      <td>PID_2</td>\n",
       "      <td>30</td>\n",
       "    </tr>\n",
       "    <tr>\n",
       "      <td>5</td>\n",
       "      <td>16</td>\n",
       "      <td>3</td>\n",
       "      <td>2020</td>\n",
       "      <td>PID_2</td>\n",
       "      <td>31</td>\n",
       "    </tr>\n",
       "    <tr>\n",
       "      <td>6</td>\n",
       "      <td>3</td>\n",
       "      <td>4</td>\n",
       "      <td>2020</td>\n",
       "      <td>PID_3</td>\n",
       "      <td>150</td>\n",
       "    </tr>\n",
       "    <tr>\n",
       "      <td>7</td>\n",
       "      <td>4</td>\n",
       "      <td>4</td>\n",
       "      <td>2020</td>\n",
       "      <td>PID_3</td>\n",
       "      <td>40</td>\n",
       "    </tr>\n",
       "  </tbody>\n",
       "</table>\n",
       "</div>"
      ],
      "text/plain": [
       "   Dia  Mes   Año ProductID  Importe(USD)\n",
       "0    7    1  2019     PID_1            10\n",
       "1   20    2  2019     PID_1            15\n",
       "2   15    3  2020     PID_2            20\n",
       "3   17    3  2020     PID_2            20\n",
       "4   18    3  2020     PID_2            30\n",
       "5   16    3  2020     PID_2            31\n",
       "6    3    4  2020     PID_3           150\n",
       "7    4    4  2020     PID_3            40"
      ]
     },
     "execution_count": 204,
     "metadata": {},
     "output_type": "execute_result"
    }
   ],
   "source": [
    "sales"
   ]
  },
  {
   "cell_type": "code",
   "execution_count": 231,
   "metadata": {},
   "outputs": [
    {
     "data": {
      "text/html": [
       "<div>\n",
       "<style scoped>\n",
       "    .dataframe tbody tr th:only-of-type {\n",
       "        vertical-align: middle;\n",
       "    }\n",
       "\n",
       "    .dataframe tbody tr th {\n",
       "        vertical-align: top;\n",
       "    }\n",
       "\n",
       "    .dataframe thead th {\n",
       "        text-align: right;\n",
       "    }\n",
       "</style>\n",
       "<table border=\"1\" class=\"dataframe\">\n",
       "  <thead>\n",
       "    <tr style=\"text-align: right;\">\n",
       "      <th></th>\n",
       "      <th>DiasConsecutivos</th>\n",
       "    </tr>\n",
       "    <tr>\n",
       "      <th>ProductID</th>\n",
       "      <th></th>\n",
       "    </tr>\n",
       "  </thead>\n",
       "  <tbody>\n",
       "    <tr>\n",
       "      <td>PID_2</td>\n",
       "      <td>3.0</td>\n",
       "    </tr>\n",
       "    <tr>\n",
       "      <td>PID_3</td>\n",
       "      <td>1.0</td>\n",
       "    </tr>\n",
       "    <tr>\n",
       "      <td>PID_1</td>\n",
       "      <td>0.0</td>\n",
       "    </tr>\n",
       "  </tbody>\n",
       "</table>\n",
       "</div>"
      ],
      "text/plain": [
       "           DiasConsecutivos\n",
       "ProductID                  \n",
       "PID_2                   3.0\n",
       "PID_3                   1.0\n",
       "PID_1                   0.0"
      ]
     },
     "execution_count": 231,
     "metadata": {},
     "output_type": "execute_result"
    }
   ],
   "source": [
    "sales['Fecha'] = pd.to_datetime(sales['Año'].astype('str') +'-'+sales['Mes'].astype('str')+'-'+sales['Dia'].astype('str'))\n",
    "sales['FechaDays'] = sales['Fecha'] - pd.to_datetime('2019-01-01',format = '%Y-%m-%d')\n",
    "sales_filter = sales.loc[:,['ProductID','Fecha','FechaDays']].sort_values(by = ['FechaDays'])\n",
    "sales_filter['DiasConsecutivos'] = sales_filter.groupby('ProductID').agg({'FechaDays':'diff'}) == dt.timedelta(days = 1)\n",
    "sales_filter.groupby('ProductID').agg({'DiasConsecutivos':'sum'}).nlargest(10, \"DiasConsecutivos\")\n"
   ]
  },
  {
   "cell_type": "code",
   "execution_count": null,
   "metadata": {},
   "outputs": [],
   "source": []
  },
  {
   "cell_type": "code",
   "execution_count": null,
   "metadata": {},
   "outputs": [],
   "source": []
  },
  {
   "cell_type": "code",
   "execution_count": null,
   "metadata": {},
   "outputs": [],
   "source": []
  }
 ],
 "metadata": {
  "kernelspec": {
   "display_name": "Python 3",
   "language": "python",
   "name": "python3"
  },
  "language_info": {
   "codemirror_mode": {
    "name": "ipython",
    "version": 3
   },
   "file_extension": ".py",
   "mimetype": "text/x-python",
   "name": "python",
   "nbconvert_exporter": "python",
   "pygments_lexer": "ipython3",
   "version": "3.7.4"
  }
 },
 "nbformat": 4,
 "nbformat_minor": 4
}
