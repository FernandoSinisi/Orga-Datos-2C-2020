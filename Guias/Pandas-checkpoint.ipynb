{
 "cells": [
  {
   "cell_type": "markdown",
   "metadata": {},
   "source": [
    "GUIA PANDAS  \n",
    "Ejercicio 1"
   ]
  },
  {
   "cell_type": "markdown",
   "metadata": {},
   "source": [
    "1- Dado el registro de notas de los alumnos de la forma (padrón, materia, nota, fecha). Se pide resolver utilizando Pandas:  \n",
    "A. Cuál es el promedio general de notas.  \n",
    "B. Cuál es la nota más alta y la nota más baja registrada durante el año 2019.  \n",
    "C. Cuál es el padrón con mayor cantidad de materias aprobadas durante el último cuatrimestre.  \n",
    "D. Cuál es la nota promedio por materia.  \n",
    "E.Cuál es la nota promedio por padrón.  \n"
   ]
  },
  {
   "cell_type": "code",
   "execution_count": 69,
   "metadata": {},
   "outputs": [],
   "source": [
    "import datetime as dt\n",
    "import pandas as pd\n",
    "import numpy as np\n",
    "import sys\n",
    "\n",
    "# armamos un data frame\n",
    "alumnos_data = {\n",
    "        'padron': ['102214','984283','102291','102214','102214', '101456', '101456', '101456'],\n",
    "        'materia': ['Analisis','Analisis','Fisica I','Algebra','Algebra', 'Fisica II', 'Datos', 'Estructura'], \n",
    "        'nota': [4, 2, 6, 8, 5, 7, 9, 10],\n",
    "        'fecha': ['2019-01-01','2019-01-01','2019-01-01','2019-10-10','2020-05-01', '1986-01-01', '2019-01-01', '2019-05-08']\n",
    "}\n",
    "\n",
    "alumnos = pd.DataFrame(alumnos_data, columns = alumnos_data.keys())"
   ]
  },
  {
   "cell_type": "code",
   "execution_count": 70,
   "metadata": {},
   "outputs": [
    {
     "data": {
      "text/html": [
       "<div>\n",
       "<style scoped>\n",
       "    .dataframe tbody tr th:only-of-type {\n",
       "        vertical-align: middle;\n",
       "    }\n",
       "\n",
       "    .dataframe tbody tr th {\n",
       "        vertical-align: top;\n",
       "    }\n",
       "\n",
       "    .dataframe thead th {\n",
       "        text-align: right;\n",
       "    }\n",
       "</style>\n",
       "<table border=\"1\" class=\"dataframe\">\n",
       "  <thead>\n",
       "    <tr style=\"text-align: right;\">\n",
       "      <th></th>\n",
       "      <th>padron</th>\n",
       "      <th>materia</th>\n",
       "      <th>nota</th>\n",
       "      <th>fecha</th>\n",
       "    </tr>\n",
       "  </thead>\n",
       "  <tbody>\n",
       "    <tr>\n",
       "      <th>0</th>\n",
       "      <td>102214</td>\n",
       "      <td>Analisis</td>\n",
       "      <td>4</td>\n",
       "      <td>2019-01-01</td>\n",
       "    </tr>\n",
       "    <tr>\n",
       "      <th>1</th>\n",
       "      <td>984283</td>\n",
       "      <td>Analisis</td>\n",
       "      <td>2</td>\n",
       "      <td>2019-01-01</td>\n",
       "    </tr>\n",
       "    <tr>\n",
       "      <th>2</th>\n",
       "      <td>102291</td>\n",
       "      <td>Fisica I</td>\n",
       "      <td>6</td>\n",
       "      <td>2019-01-01</td>\n",
       "    </tr>\n",
       "    <tr>\n",
       "      <th>3</th>\n",
       "      <td>102214</td>\n",
       "      <td>Algebra</td>\n",
       "      <td>8</td>\n",
       "      <td>2019-10-10</td>\n",
       "    </tr>\n",
       "    <tr>\n",
       "      <th>4</th>\n",
       "      <td>102214</td>\n",
       "      <td>Algebra</td>\n",
       "      <td>5</td>\n",
       "      <td>2020-05-01</td>\n",
       "    </tr>\n",
       "    <tr>\n",
       "      <th>5</th>\n",
       "      <td>101456</td>\n",
       "      <td>Fisica II</td>\n",
       "      <td>7</td>\n",
       "      <td>1986-01-01</td>\n",
       "    </tr>\n",
       "    <tr>\n",
       "      <th>6</th>\n",
       "      <td>101456</td>\n",
       "      <td>Datos</td>\n",
       "      <td>9</td>\n",
       "      <td>2019-01-01</td>\n",
       "    </tr>\n",
       "    <tr>\n",
       "      <th>7</th>\n",
       "      <td>101456</td>\n",
       "      <td>Estructura</td>\n",
       "      <td>10</td>\n",
       "      <td>2019-05-08</td>\n",
       "    </tr>\n",
       "  </tbody>\n",
       "</table>\n",
       "</div>"
      ],
      "text/plain": [
       "   padron     materia  nota       fecha\n",
       "0  102214    Analisis     4  2019-01-01\n",
       "1  984283    Analisis     2  2019-01-01\n",
       "2  102291    Fisica I     6  2019-01-01\n",
       "3  102214     Algebra     8  2019-10-10\n",
       "4  102214     Algebra     5  2020-05-01\n",
       "5  101456   Fisica II     7  1986-01-01\n",
       "6  101456       Datos     9  2019-01-01\n",
       "7  101456  Estructura    10  2019-05-08"
      ]
     },
     "execution_count": 70,
     "metadata": {},
     "output_type": "execute_result"
    }
   ],
   "source": [
    "alumnos"
   ]
  },
  {
   "cell_type": "markdown",
   "metadata": {},
   "source": [
    "A. Cuál es el promedio general de notas."
   ]
  },
  {
   "cell_type": "code",
   "execution_count": 71,
   "metadata": {},
   "outputs": [
    {
     "name": "stdout",
     "output_type": "stream",
     "text": [
      "El el promedio general de notas es 6.375\n"
     ]
    }
   ],
   "source": [
    "promedio_gral = alumnos['nota'].mean()\n",
    "print(\"El el promedio general de notas es \" + str(promedio_gral))"
   ]
  },
  {
   "cell_type": "markdown",
   "metadata": {},
   "source": [
    "B. Cuál es la nota más alta y la nota más baja registrada durante el año 2019."
   ]
  },
  {
   "cell_type": "code",
   "execution_count": 72,
   "metadata": {},
   "outputs": [],
   "source": [
    "alumnos['fecha'] = pd.to_datetime(alumnos['fecha'])\n",
    "notas_2019 = alumnos[alumnos.fecha.dt.year == 2019]"
   ]
  },
  {
   "cell_type": "code",
   "execution_count": 73,
   "metadata": {},
   "outputs": [
    {
     "name": "stdout",
     "output_type": "stream",
     "text": [
      "La nota más alta del año 2019 es 10\n",
      "La nota minima del año 2019 es 2\n"
     ]
    }
   ],
   "source": [
    "nota_max_2019 = notas_2019['nota'].max()\n",
    "nota_min_2019 = notas_2019['nota'].min()\n",
    "print(\"La nota más alta del año 2019 es \" + str(nota_max_2019))\n",
    "print(\"La nota minima del año 2019 es \" + str(nota_min_2019))"
   ]
  },
  {
   "cell_type": "markdown",
   "metadata": {},
   "source": [
    "C. Cuál es el padrón con mayor cantidad de materias aprobadas durante el último cuatrimestre(1° 2019)."
   ]
  },
  {
   "cell_type": "code",
   "execution_count": 110,
   "metadata": {},
   "outputs": [
    {
     "data": {
      "text/html": [
       "<div>\n",
       "<style scoped>\n",
       "    .dataframe tbody tr th:only-of-type {\n",
       "        vertical-align: middle;\n",
       "    }\n",
       "\n",
       "    .dataframe tbody tr th {\n",
       "        vertical-align: top;\n",
       "    }\n",
       "\n",
       "    .dataframe thead th {\n",
       "        text-align: right;\n",
       "    }\n",
       "</style>\n",
       "<table border=\"1\" class=\"dataframe\">\n",
       "  <thead>\n",
       "    <tr style=\"text-align: right;\">\n",
       "      <th></th>\n",
       "      <th>nota</th>\n",
       "      <th>cantidad</th>\n",
       "    </tr>\n",
       "    <tr>\n",
       "      <th>padron</th>\n",
       "      <th></th>\n",
       "      <th></th>\n",
       "    </tr>\n",
       "  </thead>\n",
       "  <tbody>\n",
       "    <tr>\n",
       "      <th>101456</th>\n",
       "      <td>19</td>\n",
       "      <td>2</td>\n",
       "    </tr>\n",
       "  </tbody>\n",
       "</table>\n",
       "</div>"
      ],
      "text/plain": [
       "        nota  cantidad\n",
       "padron                \n",
       "101456    19         2"
      ]
     },
     "execution_count": 110,
     "metadata": {},
     "output_type": "execute_result"
    }
   ],
   "source": [
    "notas_1C_2019 = notas_2019[notas_2019.fecha.dt.month < 6]\n",
    "# Opcion alternativa \n",
    "# aux = notas_1C_2019.copy(deep=True)\n",
    "# aux['cantidad'] = 1\n",
    "# aux = aux[aux.nota > 3]\n",
    "# aux.groupby('padron').agg(np.sum).nlargest(1, 'cantidad')"
   ]
  },
  {
   "cell_type": "code",
   "execution_count": 93,
   "metadata": {},
   "outputs": [
    {
     "data": {
      "text/plain": [
       "101456    2\n",
       "Name: padron, dtype: int64"
      ]
     },
     "execution_count": 93,
     "metadata": {},
     "output_type": "execute_result"
    }
   ],
   "source": [
    "padron_max = notas_1C_2019[notas_1C_2019.nota > 3]['padron'].value_counts().head(1)\n",
    "# padron_max = notas_1C_2019.loc[notas_1C_2019.nota > 3, ['padron']]['padron'].value_counts().head(1)\n",
    "padron_max"
   ]
  },
  {
   "cell_type": "markdown",
   "metadata": {},
   "source": [
    "E.Cuál es la nota promedio por padrón."
   ]
  },
  {
   "cell_type": "code",
   "execution_count": 94,
   "metadata": {},
   "outputs": [
    {
     "data": {
      "text/html": [
       "<div>\n",
       "<style scoped>\n",
       "    .dataframe tbody tr th:only-of-type {\n",
       "        vertical-align: middle;\n",
       "    }\n",
       "\n",
       "    .dataframe tbody tr th {\n",
       "        vertical-align: top;\n",
       "    }\n",
       "\n",
       "    .dataframe thead th {\n",
       "        text-align: right;\n",
       "    }\n",
       "</style>\n",
       "<table border=\"1\" class=\"dataframe\">\n",
       "  <thead>\n",
       "    <tr style=\"text-align: right;\">\n",
       "      <th></th>\n",
       "      <th>nota</th>\n",
       "    </tr>\n",
       "    <tr>\n",
       "      <th>padron</th>\n",
       "      <th></th>\n",
       "    </tr>\n",
       "  </thead>\n",
       "  <tbody>\n",
       "    <tr>\n",
       "      <th>101456</th>\n",
       "      <td>8.666667</td>\n",
       "    </tr>\n",
       "    <tr>\n",
       "      <th>102214</th>\n",
       "      <td>5.666667</td>\n",
       "    </tr>\n",
       "    <tr>\n",
       "      <th>102291</th>\n",
       "      <td>6.000000</td>\n",
       "    </tr>\n",
       "    <tr>\n",
       "      <th>984283</th>\n",
       "      <td>2.000000</td>\n",
       "    </tr>\n",
       "  </tbody>\n",
       "</table>\n",
       "</div>"
      ],
      "text/plain": [
       "            nota\n",
       "padron          \n",
       "101456  8.666667\n",
       "102214  5.666667\n",
       "102291  6.000000\n",
       "984283  2.000000"
      ]
     },
     "execution_count": 94,
     "metadata": {},
     "output_type": "execute_result"
    }
   ],
   "source": [
    "alumnos.groupby('padron').agg(np.mean) "
   ]
  }
 ],
 "metadata": {
  "kernelspec": {
   "display_name": "Python 3",
   "language": "python",
   "name": "python3"
  },
  "language_info": {
   "codemirror_mode": {
    "name": "ipython",
    "version": 3
   },
   "file_extension": ".py",
   "mimetype": "text/x-python",
   "name": "python",
   "nbconvert_exporter": "python",
   "pygments_lexer": "ipython3",
   "version": "3.7.4"
  }
 },
 "nbformat": 4,
 "nbformat_minor": 4
}
