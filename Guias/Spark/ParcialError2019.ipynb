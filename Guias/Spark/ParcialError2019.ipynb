{
 "cells": [
  {
   "cell_type": "code",
   "execution_count": 171,
   "metadata": {},
   "outputs": [],
   "source": [
    "from pyspark import SparkContext\n",
    "from pyspark.sql import SQLContext\n",
    "from datetime import datetime\n",
    "from pyspark.sql.functions import to_timestamp\n",
    "\n",
    "\n",
    "sc = SparkContext.getOrCreate()"
   ]
  },
  {
   "cell_type": "markdown",
   "metadata": {},
   "source": [
    "## Ejercicio Spark parcial 1C - 2019 - Primera oportunidad"
   ]
  },
  {
   "cell_type": "raw",
   "metadata": {},
   "source": [
    " El servicio meteorológico registra datos del\n",
    "tiempo para todas las ciudades donde posee\n",
    "una base de medición.\n",
    "Esta información se encuentra en dos RDD.\n",
    "En el primero se tiene información de las\n",
    "bases de medición: (ID_BASE, NOMBRE,\n",
    "PCIA, CIUDAD, LAT, LON).\n",
    "El segundo posee información sobre las\n",
    "mediciones en sí: (TIMESTAMP, ID_BASE,\n",
    "TEMPERATURA, HUMEDAD, PRESIÓN,\n",
    "DIRECCIÓN VIENTO, VELOCIDAD VIENTO).\n",
    "Se desea obtener un reporte para las bases de\n",
    "la Provincia de Buenos Aires(provincia 2). El mismo debe\n",
    "informar los ID y nombre de bases de\n",
    "medición que hayan registrado una variación\n",
    "de temperatura promedio mensual mayor al\n",
    "30% en el año 2018 (dada la temperatura\n",
    "promedio de un mes, esta se debe comparar\n",
    "con el promedio del mes anterior, para\n",
    "determinar la variación porcentual)."
   ]
  },
  {
   "cell_type": "code",
   "execution_count": 172,
   "metadata": {},
   "outputs": [],
   "source": [
    "bases_mediciones = [\n",
    "    (0, \"marambio\", \"provincia0\",\"ciudad0\", 0, -120),\n",
    "    (0, \"marambio\", \"provincia0\",\"ciudad0\", 0, -120),\n",
    "    (1, \"ushuaia\", \"provincia1\",\"ciudad1\", 0, -150),\n",
    "    (1, \"ushuaia\", \"provincia1\",\"ciudad1\", 0, -150),\n",
    "    (1, \"ushuaia\", \"provincia1\",\"ciudad1\", 0, -150),\n",
    "    (2, \"alaska\", \"provincia2\",\"ciudad2\", 0, 150),\n",
    "    (2, \"alaska_3\", \"provincia2\",\"ciudad2\", 0, 150),\n",
    "    (2, \"alaska_5\", \"provincia2\",\"ciudad2\", 0, 150),\n",
    "    (2,\"alaska_1\",\"provincia2\",\"ciudad2\", 0, 150),\n",
    "    (3, \"quito\", \"provincia3\",\"ciudad3\", 0,0)\n",
    "]\n",
    "\n",
    "mediciones = [\n",
    "    #timestamp  id   temp  hum  pre     viento        velocidad\n",
    "    (1540416608,0   ,0   ,30  ,1013   ,\"direccion 1\", 120),\n",
    "    (1515369600,0   ,0   ,0   ,1014   ,\"direccion 1\",120),\n",
    "    (1518048000,1   ,0   ,20  , 1012  , \"direccion 1\",150),\n",
    "    (1514592000,2   ,0   ,10  ,1014   , \"direccion 1\",150),\n",
    "    (1527638400,5   ,1   ,45. ,1013   ,\"direccion 1\",150),\n",
    "    (1496102400,0   ,2   ,15  ,1013   ,\"direccion 1\",150),\n",
    "    (1442016000,1   ,7   ,12  ,1013   ,\"direccion 1\",150),\n",
    "    (1520208000,6   ,0   ,13  ,1013   ,\"direccion 1\",150),\n",
    "    (1541248337,5   ,0   ,22  ,1013   ,\"direccion 1\",150),\n",
    "    (1546217831,1   ,1   ,30  ,1013    ,\"direccion 1\",20)\n",
    "]\n",
    "\n",
    "rdd_b_med = sc.parallelize(bases_mediciones)\n",
    "rdd_med = sc.parallelize(mediciones)\n",
    "\n",
    "#d1 y d2 representan en timestamp las fechas limites que necesito para los reportes\n",
    "d1 = datetime.strptime(\"2017-12-01\" , \"%Y-%m-%d\")\n",
    "d2 = datetime.strptime(\"2018-12-31\" , \"%Y-%m-%d\")"
   ]
  },
  {
   "cell_type": "code",
   "execution_count": 181,
   "metadata": {},
   "outputs": [],
   "source": [
    "def my_to_datetime(x):\n",
    "    return datetime.fromtimestamp(x)"
   ]
  },
  {
   "cell_type": "code",
   "execution_count": 174,
   "metadata": {},
   "outputs": [],
   "source": [
    "rdd_buenos_aires = rdd_b_med.filter(lambda x: x[2] == 'provincia2').map(lambda x: (x[0],x[1]))"
   ]
  },
  {
   "cell_type": "code",
   "execution_count": 204,
   "metadata": {},
   "outputs": [
    {
     "data": {
      "text/plain": [
       "[((0, 1), 0.0), ((0, 10), 0.0), ((1, 2), 0.0), ((1, 12), 1.0), ((2, 12), 0.0)]"
      ]
     },
     "execution_count": 204,
     "metadata": {},
     "output_type": "execute_result"
    }
   ],
   "source": [
    "\n",
    "rdd_med.filter(lambda x: my_to_datetime(x[0]) >= d1 and my_to_datetime(x[0]) <= d2) \\\n",
    ".map(lambda x: ((x[1],my_to_datetime(x[0]).month),(x[2], 1))) \\\n",
    ".reduceByKey(lambda x,y: (x[1][0] + y[1][0], x[1][1] + x[1][1])) \\\n",
    ".map(lambda x: (x[0],(x[1][0]/x[1][1]))) \\\n",
    ".sortByKey() \\\n",
    ".take(5)\n",
    "#.map(lambda x: (x[1],(x[0],x[2]))) \\\n",
    "#.join(rdd_buenos_aires).take(5) \\\n",
    "#.map(lambda x: ((x[0],(my_to_datetime(x[1][0][0])).month),(x[1][0][1],x[1][1],1))) \\\n"
   ]
  },
  {
   "cell_type": "code",
   "execution_count": null,
   "metadata": {},
   "outputs": [],
   "source": []
  },
  {
   "cell_type": "code",
   "execution_count": null,
   "metadata": {},
   "outputs": [],
   "source": []
  }
 ],
 "metadata": {
  "kernelspec": {
   "display_name": "Python 3",
   "language": "python",
   "name": "python3"
  },
  "language_info": {
   "codemirror_mode": {
    "name": "ipython",
    "version": 3
   },
   "file_extension": ".py",
   "mimetype": "text/x-python",
   "name": "python",
   "nbconvert_exporter": "python",
   "pygments_lexer": "ipython3",
   "version": "3.7.4"
  }
 },
 "nbformat": 4,
 "nbformat_minor": 4
}
