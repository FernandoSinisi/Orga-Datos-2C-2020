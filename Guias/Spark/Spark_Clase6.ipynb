{
 "cells": [
  {
   "cell_type": "markdown",
   "metadata": {
    "id": "JCKfIhFUQiyg"
   },
   "source": [
    "# Creamos el Spark Context"
   ]
  },
  {
   "cell_type": "code",
   "execution_count": 143,
   "metadata": {
    "id": "5ENPglW_4Cco"
   },
   "outputs": [],
   "source": [
    "from pyspark import SparkContext\n",
    "from pyspark.sql import SQLContext\n",
    "from pydrive.drive import GoogleDrive\n",
    "#from google.colab import auth\n",
    "from pydrive.auth import GoogleAuth\n",
    "from oauth2client.client import GoogleCredentials\n",
    "\n",
    "#auth.authenticate_user()\n",
    "#gauth = GoogleAuth()\n",
    "#gauth.credentials = GoogleCredentials.get_application_default()\n",
    "#drive = GoogleDrive(gauth)\n",
    "\n",
    "\n",
    "#  Por si hay mas de un contexto de PySpark corriendo (por ejemplo, otro Notebook), esto para utilizar el mismo.\n",
    "sc = SparkContext.getOrCreate()"
   ]
  },
  {
   "cell_type": "code",
   "execution_count": 144,
   "metadata": {
    "id": "68-dxCy6IqWv"
   },
   "outputs": [
    {
     "data": {
      "text/plain": [
       "pyspark.context.SparkContext"
      ]
     },
     "execution_count": 144,
     "metadata": {},
     "output_type": "execute_result"
    }
   ],
   "source": [
    "type(sc)"
   ]
  },
  {
   "cell_type": "markdown",
   "metadata": {
    "id": "-CbdyUxRQuO1"
   },
   "source": [
    "# Lectura de datos en Spark"
   ]
  },
  {
   "cell_type": "markdown",
   "metadata": {
    "id": "4hsKVzAOJCNZ"
   },
   "source": [
    "## Paralelizando una coleccion de python"
   ]
  },
  {
   "cell_type": "code",
   "execution_count": 145,
   "metadata": {
    "id": "SlaLdgdfI6Nm"
   },
   "outputs": [
    {
     "data": {
      "text/plain": [
       "1000"
      ]
     },
     "execution_count": 145,
     "metadata": {},
     "output_type": "execute_result"
    }
   ],
   "source": [
    "## creamos 1000 enteros en una lista\n",
    "integersList = range(1,1001)\n",
    "len(integersList)"
   ]
  },
  {
   "cell_type": "code",
   "execution_count": 146,
   "metadata": {
    "id": "Cg31cLQYJQFP"
   },
   "outputs": [
    {
     "data": {
      "text/plain": [
       "[(0, 1, 2, 2017, 20), (2, 2, 3, 2017, 30), (1, 1, 7, 2017, 15)]"
      ]
     },
     "execution_count": 146,
     "metadata": {},
     "output_type": "execute_result"
    }
   ],
   "source": [
    "## Paralelizamos la coleccion utilizando 8 particiones o slices\n",
    "## Esta operacion es una transformacion de datos en un RDD\n",
    "## Dado que Spark usa lazy evaluation, no corren jobs de Spark\n",
    "## hasta el momento\n",
    "integersListRDD = sc.parallelize(integersList, 8)\n",
    "type(integersListRDD)\n",
    "\n",
    "### Asi se crean rdd con datos\n",
    "\n",
    "datos = [\n",
    "    (0, 1, 2, 2017, 20),\n",
    "    (2, 2, 3, 2017, 30),\n",
    "    (1, 1, 7, 2017, 15),\n",
    "    (0, 1, 3, 2015, 23),\n",
    "    (3, 3, 1, 2017, 10),\n",
    "    (3, 3, 8, 2016, 17),\n",
    "    (3, 3, 6, 2017, 5),\n",
    "    (0, 4, 10, 2017, 12),\n",
    "    (15, 2, 5, 2017, 15),\n",
    "    (0, 5, 1, 2017, 70)\n",
    "]\n",
    "\n",
    "rdd_ejemplo = sc.parallelize(datos)\n",
    "rdd_ejemplo.take(3)"
   ]
  },
  {
   "cell_type": "code",
   "execution_count": 147,
   "metadata": {
    "id": "1YieMrEDJXEQ"
   },
   "outputs": [
    {
     "data": {
      "text/plain": [
       "8"
      ]
     },
     "execution_count": 147,
     "metadata": {},
     "output_type": "execute_result"
    }
   ],
   "source": [
    "## podemos ver tambien otra informacion interesante del RDD\n",
    "## el numero de particiones\n",
    "integersListRDD.getNumPartitions()"
   ]
  },
  {
   "cell_type": "code",
   "execution_count": 148,
   "metadata": {
    "id": "3R9126T7JiA0"
   },
   "outputs": [
    {
     "data": {
      "text/plain": [
       "b'(8) PythonRDD[176] at RDD at PythonRDD.scala:53 []\\n |  ParallelCollectionRDD[172] at parallelize at PythonRDD.scala:195 []'"
      ]
     },
     "execution_count": 148,
     "metadata": {},
     "output_type": "execute_result"
    }
   ],
   "source": [
    "## el conjunto de transformaciones que se aplica\n",
    "integersListRDD.toDebugString()"
   ]
  },
  {
   "cell_type": "code",
   "execution_count": 149,
   "metadata": {
    "id": "ekG7ZqGOJm3-"
   },
   "outputs": [],
   "source": [
    "## para ver mas metodos disponibles del RDD\n",
    "#help(integersListRDD)"
   ]
  },
  {
   "cell_type": "code",
   "execution_count": 150,
   "metadata": {
    "id": "9vE0HNwGKMgE"
   },
   "outputs": [
    {
     "data": {
      "text/plain": [
       "[1, 2, 3, 4, 5]"
      ]
     },
     "execution_count": 150,
     "metadata": {},
     "output_type": "execute_result"
    }
   ],
   "source": [
    "integersListRDD.take(5)"
   ]
  },
  {
   "cell_type": "code",
   "execution_count": 151,
   "metadata": {
    "id": "uTkCa9z4KSDX"
   },
   "outputs": [
    {
     "data": {
      "text/plain": [
       "1000"
      ]
     },
     "execution_count": 151,
     "metadata": {},
     "output_type": "execute_result"
    }
   ],
   "source": [
    "integersListRDD.count()"
   ]
  },
  {
   "cell_type": "markdown",
   "metadata": {
    "id": "oxRHG4v4R4Rz"
   },
   "source": [
    "## Leyendo archivo con textFile"
   ]
  },
  {
   "cell_type": "code",
   "execution_count": 152,
   "metadata": {
    "id": "RRIlDQRr4EkJ"
   },
   "outputs": [],
   "source": [
    "#downloaded = drive.CreateFile({'id':\"1ybtSQxrqVqbRrl_3FMzMYW03Flp4zM-j\"})   # replace the id with id of file you want to access\n",
    "#downloaded.GetContentFile('s.txt') \n",
    "rdd = sc.textFile('shakespeare.txt')"
   ]
  },
  {
   "cell_type": "code",
   "execution_count": 153,
   "metadata": {
    "id": "cPzWiShdsa8T"
   },
   "outputs": [
    {
     "data": {
      "text/plain": [
       "shakespeare.txt MapPartitionsRDD[180] at textFile at NativeMethodAccessorImpl.java:0"
      ]
     },
     "execution_count": 153,
     "metadata": {},
     "output_type": "execute_result"
    }
   ],
   "source": [
    "rdd"
   ]
  },
  {
   "cell_type": "code",
   "execution_count": 154,
   "metadata": {
    "id": "wxiacj7U9-Fh"
   },
   "outputs": [
    {
     "data": {
      "text/plain": [
       "124614"
      ]
     },
     "execution_count": 154,
     "metadata": {},
     "output_type": "execute_result"
    }
   ],
   "source": [
    "rdd.count()"
   ]
  },
  {
   "cell_type": "code",
   "execution_count": 155,
   "metadata": {
    "id": "Z7ot8-hDKZqR"
   },
   "outputs": [
    {
     "data": {
      "text/plain": [
       "['1609', '', 'THE SONNETS', '', 'by William Shakespeare']"
      ]
     },
     "execution_count": 155,
     "metadata": {},
     "output_type": "execute_result"
    }
   ],
   "source": [
    "rdd.take(5)"
   ]
  },
  {
   "cell_type": "markdown",
   "metadata": {
    "id": "iQuEiCSwTFcL"
   },
   "source": [
    "## Leyendo datos con el sqlContext"
   ]
  },
  {
   "cell_type": "code",
   "execution_count": 156,
   "metadata": {
    "id": "xjqckKbCSN6m"
   },
   "outputs": [],
   "source": [
    "sqlContext = SQLContext(sc)"
   ]
  },
  {
   "cell_type": "code",
   "execution_count": 157,
   "metadata": {
    "id": "cBkiBRPxUbLe"
   },
   "outputs": [],
   "source": [
    "#dataframe = sqlContext.read.text('s.txt')"
   ]
  },
  {
   "cell_type": "code",
   "execution_count": 158,
   "metadata": {
    "id": "WogrwH_4Uo97"
   },
   "outputs": [],
   "source": [
    "#dataframe"
   ]
  },
  {
   "cell_type": "code",
   "execution_count": 159,
   "metadata": {
    "id": "yWc_JpLHUqqz"
   },
   "outputs": [],
   "source": [
    "#rddCsv = dataframe.rdd"
   ]
  },
  {
   "cell_type": "code",
   "execution_count": 160,
   "metadata": {
    "id": "YqN2PigYUv2P"
   },
   "outputs": [],
   "source": [
    "#rddCsv"
   ]
  },
  {
   "cell_type": "code",
   "execution_count": 161,
   "metadata": {
    "id": "6u4liP2TUx3P"
   },
   "outputs": [],
   "source": [
    "#rddCsv.take(5)"
   ]
  },
  {
   "cell_type": "markdown",
   "metadata": {
    "id": "9cKE58VzTabI"
   },
   "source": [
    "Tambien se pueden leer archivos csv, json, parquet, jdbc, etc"
   ]
  },
  {
   "cell_type": "markdown",
   "metadata": {
    "id": "tQ2zW38tNPao"
   },
   "source": [
    "# Acciones"
   ]
  },
  {
   "cell_type": "markdown",
   "metadata": {
    "id": "YK9_c-ZANS6q"
   },
   "source": [
    "## Count"
   ]
  },
  {
   "cell_type": "markdown",
   "metadata": {
    "id": "1bQR6UgRDcF8"
   },
   "source": [
    "Obtiene la cantidad de registros del RDD"
   ]
  },
  {
   "cell_type": "code",
   "execution_count": 162,
   "metadata": {
    "id": "vL9EXNnGNYPg"
   },
   "outputs": [
    {
     "data": {
      "text/plain": [
       "1000"
      ]
     },
     "execution_count": 162,
     "metadata": {},
     "output_type": "execute_result"
    }
   ],
   "source": [
    "integersListRDD.count()"
   ]
  },
  {
   "cell_type": "markdown",
   "metadata": {
    "id": "-uui6n-EBjhG"
   },
   "source": [
    "### Take"
   ]
  },
  {
   "cell_type": "markdown",
   "metadata": {
    "id": "kdULVg5pDg1W"
   },
   "source": [
    "Obtiene los primeros n registros del RDD"
   ]
  },
  {
   "cell_type": "code",
   "execution_count": 163,
   "metadata": {
    "id": "d-TEqf-RNbqG"
   },
   "outputs": [
    {
     "data": {
      "text/plain": [
       "[1, 2, 3, 4, 5]"
      ]
     },
     "execution_count": 163,
     "metadata": {},
     "output_type": "execute_result"
    }
   ],
   "source": [
    "integersListRDD.take(5)"
   ]
  },
  {
   "cell_type": "markdown",
   "metadata": {
    "id": "S3KYoynwBnBf"
   },
   "source": [
    "## Collect"
   ]
  },
  {
   "cell_type": "markdown",
   "metadata": {
    "id": "9tBbHaOFDk1Q"
   },
   "source": [
    "Obtiene TODOS los registros del RDD. Esto es un potencial problema, ya que si los datos no son acotados va a sobrecargar el driver. Solo se debe ejecutar si de antemano conocemos que la cantidad de datos es acotada."
   ]
  },
  {
   "cell_type": "code",
   "execution_count": 164,
   "metadata": {
    "id": "dVwrmdsQNezf"
   },
   "outputs": [
    {
     "data": {
      "text/plain": [
       "[1,\n",
       " 2,\n",
       " 3,\n",
       " 4,\n",
       " 5,\n",
       " 6,\n",
       " 7,\n",
       " 8,\n",
       " 9,\n",
       " 10,\n",
       " 11,\n",
       " 12,\n",
       " 13,\n",
       " 14,\n",
       " 15,\n",
       " 16,\n",
       " 17,\n",
       " 18,\n",
       " 19,\n",
       " 20,\n",
       " 21,\n",
       " 22,\n",
       " 23,\n",
       " 24,\n",
       " 25,\n",
       " 26,\n",
       " 27,\n",
       " 28,\n",
       " 29,\n",
       " 30,\n",
       " 31,\n",
       " 32,\n",
       " 33,\n",
       " 34,\n",
       " 35,\n",
       " 36,\n",
       " 37,\n",
       " 38,\n",
       " 39,\n",
       " 40,\n",
       " 41,\n",
       " 42,\n",
       " 43,\n",
       " 44,\n",
       " 45,\n",
       " 46,\n",
       " 47,\n",
       " 48,\n",
       " 49,\n",
       " 50,\n",
       " 51,\n",
       " 52,\n",
       " 53,\n",
       " 54,\n",
       " 55,\n",
       " 56,\n",
       " 57,\n",
       " 58,\n",
       " 59,\n",
       " 60,\n",
       " 61,\n",
       " 62,\n",
       " 63,\n",
       " 64,\n",
       " 65,\n",
       " 66,\n",
       " 67,\n",
       " 68,\n",
       " 69,\n",
       " 70,\n",
       " 71,\n",
       " 72,\n",
       " 73,\n",
       " 74,\n",
       " 75,\n",
       " 76,\n",
       " 77,\n",
       " 78,\n",
       " 79,\n",
       " 80,\n",
       " 81,\n",
       " 82,\n",
       " 83,\n",
       " 84,\n",
       " 85,\n",
       " 86,\n",
       " 87,\n",
       " 88,\n",
       " 89,\n",
       " 90,\n",
       " 91,\n",
       " 92,\n",
       " 93,\n",
       " 94,\n",
       " 95,\n",
       " 96,\n",
       " 97,\n",
       " 98,\n",
       " 99,\n",
       " 100,\n",
       " 101,\n",
       " 102,\n",
       " 103,\n",
       " 104,\n",
       " 105,\n",
       " 106,\n",
       " 107,\n",
       " 108,\n",
       " 109,\n",
       " 110,\n",
       " 111,\n",
       " 112,\n",
       " 113,\n",
       " 114,\n",
       " 115,\n",
       " 116,\n",
       " 117,\n",
       " 118,\n",
       " 119,\n",
       " 120,\n",
       " 121,\n",
       " 122,\n",
       " 123,\n",
       " 124,\n",
       " 125,\n",
       " 126,\n",
       " 127,\n",
       " 128,\n",
       " 129,\n",
       " 130,\n",
       " 131,\n",
       " 132,\n",
       " 133,\n",
       " 134,\n",
       " 135,\n",
       " 136,\n",
       " 137,\n",
       " 138,\n",
       " 139,\n",
       " 140,\n",
       " 141,\n",
       " 142,\n",
       " 143,\n",
       " 144,\n",
       " 145,\n",
       " 146,\n",
       " 147,\n",
       " 148,\n",
       " 149,\n",
       " 150,\n",
       " 151,\n",
       " 152,\n",
       " 153,\n",
       " 154,\n",
       " 155,\n",
       " 156,\n",
       " 157,\n",
       " 158,\n",
       " 159,\n",
       " 160,\n",
       " 161,\n",
       " 162,\n",
       " 163,\n",
       " 164,\n",
       " 165,\n",
       " 166,\n",
       " 167,\n",
       " 168,\n",
       " 169,\n",
       " 170,\n",
       " 171,\n",
       " 172,\n",
       " 173,\n",
       " 174,\n",
       " 175,\n",
       " 176,\n",
       " 177,\n",
       " 178,\n",
       " 179,\n",
       " 180,\n",
       " 181,\n",
       " 182,\n",
       " 183,\n",
       " 184,\n",
       " 185,\n",
       " 186,\n",
       " 187,\n",
       " 188,\n",
       " 189,\n",
       " 190,\n",
       " 191,\n",
       " 192,\n",
       " 193,\n",
       " 194,\n",
       " 195,\n",
       " 196,\n",
       " 197,\n",
       " 198,\n",
       " 199,\n",
       " 200,\n",
       " 201,\n",
       " 202,\n",
       " 203,\n",
       " 204,\n",
       " 205,\n",
       " 206,\n",
       " 207,\n",
       " 208,\n",
       " 209,\n",
       " 210,\n",
       " 211,\n",
       " 212,\n",
       " 213,\n",
       " 214,\n",
       " 215,\n",
       " 216,\n",
       " 217,\n",
       " 218,\n",
       " 219,\n",
       " 220,\n",
       " 221,\n",
       " 222,\n",
       " 223,\n",
       " 224,\n",
       " 225,\n",
       " 226,\n",
       " 227,\n",
       " 228,\n",
       " 229,\n",
       " 230,\n",
       " 231,\n",
       " 232,\n",
       " 233,\n",
       " 234,\n",
       " 235,\n",
       " 236,\n",
       " 237,\n",
       " 238,\n",
       " 239,\n",
       " 240,\n",
       " 241,\n",
       " 242,\n",
       " 243,\n",
       " 244,\n",
       " 245,\n",
       " 246,\n",
       " 247,\n",
       " 248,\n",
       " 249,\n",
       " 250,\n",
       " 251,\n",
       " 252,\n",
       " 253,\n",
       " 254,\n",
       " 255,\n",
       " 256,\n",
       " 257,\n",
       " 258,\n",
       " 259,\n",
       " 260,\n",
       " 261,\n",
       " 262,\n",
       " 263,\n",
       " 264,\n",
       " 265,\n",
       " 266,\n",
       " 267,\n",
       " 268,\n",
       " 269,\n",
       " 270,\n",
       " 271,\n",
       " 272,\n",
       " 273,\n",
       " 274,\n",
       " 275,\n",
       " 276,\n",
       " 277,\n",
       " 278,\n",
       " 279,\n",
       " 280,\n",
       " 281,\n",
       " 282,\n",
       " 283,\n",
       " 284,\n",
       " 285,\n",
       " 286,\n",
       " 287,\n",
       " 288,\n",
       " 289,\n",
       " 290,\n",
       " 291,\n",
       " 292,\n",
       " 293,\n",
       " 294,\n",
       " 295,\n",
       " 296,\n",
       " 297,\n",
       " 298,\n",
       " 299,\n",
       " 300,\n",
       " 301,\n",
       " 302,\n",
       " 303,\n",
       " 304,\n",
       " 305,\n",
       " 306,\n",
       " 307,\n",
       " 308,\n",
       " 309,\n",
       " 310,\n",
       " 311,\n",
       " 312,\n",
       " 313,\n",
       " 314,\n",
       " 315,\n",
       " 316,\n",
       " 317,\n",
       " 318,\n",
       " 319,\n",
       " 320,\n",
       " 321,\n",
       " 322,\n",
       " 323,\n",
       " 324,\n",
       " 325,\n",
       " 326,\n",
       " 327,\n",
       " 328,\n",
       " 329,\n",
       " 330,\n",
       " 331,\n",
       " 332,\n",
       " 333,\n",
       " 334,\n",
       " 335,\n",
       " 336,\n",
       " 337,\n",
       " 338,\n",
       " 339,\n",
       " 340,\n",
       " 341,\n",
       " 342,\n",
       " 343,\n",
       " 344,\n",
       " 345,\n",
       " 346,\n",
       " 347,\n",
       " 348,\n",
       " 349,\n",
       " 350,\n",
       " 351,\n",
       " 352,\n",
       " 353,\n",
       " 354,\n",
       " 355,\n",
       " 356,\n",
       " 357,\n",
       " 358,\n",
       " 359,\n",
       " 360,\n",
       " 361,\n",
       " 362,\n",
       " 363,\n",
       " 364,\n",
       " 365,\n",
       " 366,\n",
       " 367,\n",
       " 368,\n",
       " 369,\n",
       " 370,\n",
       " 371,\n",
       " 372,\n",
       " 373,\n",
       " 374,\n",
       " 375,\n",
       " 376,\n",
       " 377,\n",
       " 378,\n",
       " 379,\n",
       " 380,\n",
       " 381,\n",
       " 382,\n",
       " 383,\n",
       " 384,\n",
       " 385,\n",
       " 386,\n",
       " 387,\n",
       " 388,\n",
       " 389,\n",
       " 390,\n",
       " 391,\n",
       " 392,\n",
       " 393,\n",
       " 394,\n",
       " 395,\n",
       " 396,\n",
       " 397,\n",
       " 398,\n",
       " 399,\n",
       " 400,\n",
       " 401,\n",
       " 402,\n",
       " 403,\n",
       " 404,\n",
       " 405,\n",
       " 406,\n",
       " 407,\n",
       " 408,\n",
       " 409,\n",
       " 410,\n",
       " 411,\n",
       " 412,\n",
       " 413,\n",
       " 414,\n",
       " 415,\n",
       " 416,\n",
       " 417,\n",
       " 418,\n",
       " 419,\n",
       " 420,\n",
       " 421,\n",
       " 422,\n",
       " 423,\n",
       " 424,\n",
       " 425,\n",
       " 426,\n",
       " 427,\n",
       " 428,\n",
       " 429,\n",
       " 430,\n",
       " 431,\n",
       " 432,\n",
       " 433,\n",
       " 434,\n",
       " 435,\n",
       " 436,\n",
       " 437,\n",
       " 438,\n",
       " 439,\n",
       " 440,\n",
       " 441,\n",
       " 442,\n",
       " 443,\n",
       " 444,\n",
       " 445,\n",
       " 446,\n",
       " 447,\n",
       " 448,\n",
       " 449,\n",
       " 450,\n",
       " 451,\n",
       " 452,\n",
       " 453,\n",
       " 454,\n",
       " 455,\n",
       " 456,\n",
       " 457,\n",
       " 458,\n",
       " 459,\n",
       " 460,\n",
       " 461,\n",
       " 462,\n",
       " 463,\n",
       " 464,\n",
       " 465,\n",
       " 466,\n",
       " 467,\n",
       " 468,\n",
       " 469,\n",
       " 470,\n",
       " 471,\n",
       " 472,\n",
       " 473,\n",
       " 474,\n",
       " 475,\n",
       " 476,\n",
       " 477,\n",
       " 478,\n",
       " 479,\n",
       " 480,\n",
       " 481,\n",
       " 482,\n",
       " 483,\n",
       " 484,\n",
       " 485,\n",
       " 486,\n",
       " 487,\n",
       " 488,\n",
       " 489,\n",
       " 490,\n",
       " 491,\n",
       " 492,\n",
       " 493,\n",
       " 494,\n",
       " 495,\n",
       " 496,\n",
       " 497,\n",
       " 498,\n",
       " 499,\n",
       " 500,\n",
       " 501,\n",
       " 502,\n",
       " 503,\n",
       " 504,\n",
       " 505,\n",
       " 506,\n",
       " 507,\n",
       " 508,\n",
       " 509,\n",
       " 510,\n",
       " 511,\n",
       " 512,\n",
       " 513,\n",
       " 514,\n",
       " 515,\n",
       " 516,\n",
       " 517,\n",
       " 518,\n",
       " 519,\n",
       " 520,\n",
       " 521,\n",
       " 522,\n",
       " 523,\n",
       " 524,\n",
       " 525,\n",
       " 526,\n",
       " 527,\n",
       " 528,\n",
       " 529,\n",
       " 530,\n",
       " 531,\n",
       " 532,\n",
       " 533,\n",
       " 534,\n",
       " 535,\n",
       " 536,\n",
       " 537,\n",
       " 538,\n",
       " 539,\n",
       " 540,\n",
       " 541,\n",
       " 542,\n",
       " 543,\n",
       " 544,\n",
       " 545,\n",
       " 546,\n",
       " 547,\n",
       " 548,\n",
       " 549,\n",
       " 550,\n",
       " 551,\n",
       " 552,\n",
       " 553,\n",
       " 554,\n",
       " 555,\n",
       " 556,\n",
       " 557,\n",
       " 558,\n",
       " 559,\n",
       " 560,\n",
       " 561,\n",
       " 562,\n",
       " 563,\n",
       " 564,\n",
       " 565,\n",
       " 566,\n",
       " 567,\n",
       " 568,\n",
       " 569,\n",
       " 570,\n",
       " 571,\n",
       " 572,\n",
       " 573,\n",
       " 574,\n",
       " 575,\n",
       " 576,\n",
       " 577,\n",
       " 578,\n",
       " 579,\n",
       " 580,\n",
       " 581,\n",
       " 582,\n",
       " 583,\n",
       " 584,\n",
       " 585,\n",
       " 586,\n",
       " 587,\n",
       " 588,\n",
       " 589,\n",
       " 590,\n",
       " 591,\n",
       " 592,\n",
       " 593,\n",
       " 594,\n",
       " 595,\n",
       " 596,\n",
       " 597,\n",
       " 598,\n",
       " 599,\n",
       " 600,\n",
       " 601,\n",
       " 602,\n",
       " 603,\n",
       " 604,\n",
       " 605,\n",
       " 606,\n",
       " 607,\n",
       " 608,\n",
       " 609,\n",
       " 610,\n",
       " 611,\n",
       " 612,\n",
       " 613,\n",
       " 614,\n",
       " 615,\n",
       " 616,\n",
       " 617,\n",
       " 618,\n",
       " 619,\n",
       " 620,\n",
       " 621,\n",
       " 622,\n",
       " 623,\n",
       " 624,\n",
       " 625,\n",
       " 626,\n",
       " 627,\n",
       " 628,\n",
       " 629,\n",
       " 630,\n",
       " 631,\n",
       " 632,\n",
       " 633,\n",
       " 634,\n",
       " 635,\n",
       " 636,\n",
       " 637,\n",
       " 638,\n",
       " 639,\n",
       " 640,\n",
       " 641,\n",
       " 642,\n",
       " 643,\n",
       " 644,\n",
       " 645,\n",
       " 646,\n",
       " 647,\n",
       " 648,\n",
       " 649,\n",
       " 650,\n",
       " 651,\n",
       " 652,\n",
       " 653,\n",
       " 654,\n",
       " 655,\n",
       " 656,\n",
       " 657,\n",
       " 658,\n",
       " 659,\n",
       " 660,\n",
       " 661,\n",
       " 662,\n",
       " 663,\n",
       " 664,\n",
       " 665,\n",
       " 666,\n",
       " 667,\n",
       " 668,\n",
       " 669,\n",
       " 670,\n",
       " 671,\n",
       " 672,\n",
       " 673,\n",
       " 674,\n",
       " 675,\n",
       " 676,\n",
       " 677,\n",
       " 678,\n",
       " 679,\n",
       " 680,\n",
       " 681,\n",
       " 682,\n",
       " 683,\n",
       " 684,\n",
       " 685,\n",
       " 686,\n",
       " 687,\n",
       " 688,\n",
       " 689,\n",
       " 690,\n",
       " 691,\n",
       " 692,\n",
       " 693,\n",
       " 694,\n",
       " 695,\n",
       " 696,\n",
       " 697,\n",
       " 698,\n",
       " 699,\n",
       " 700,\n",
       " 701,\n",
       " 702,\n",
       " 703,\n",
       " 704,\n",
       " 705,\n",
       " 706,\n",
       " 707,\n",
       " 708,\n",
       " 709,\n",
       " 710,\n",
       " 711,\n",
       " 712,\n",
       " 713,\n",
       " 714,\n",
       " 715,\n",
       " 716,\n",
       " 717,\n",
       " 718,\n",
       " 719,\n",
       " 720,\n",
       " 721,\n",
       " 722,\n",
       " 723,\n",
       " 724,\n",
       " 725,\n",
       " 726,\n",
       " 727,\n",
       " 728,\n",
       " 729,\n",
       " 730,\n",
       " 731,\n",
       " 732,\n",
       " 733,\n",
       " 734,\n",
       " 735,\n",
       " 736,\n",
       " 737,\n",
       " 738,\n",
       " 739,\n",
       " 740,\n",
       " 741,\n",
       " 742,\n",
       " 743,\n",
       " 744,\n",
       " 745,\n",
       " 746,\n",
       " 747,\n",
       " 748,\n",
       " 749,\n",
       " 750,\n",
       " 751,\n",
       " 752,\n",
       " 753,\n",
       " 754,\n",
       " 755,\n",
       " 756,\n",
       " 757,\n",
       " 758,\n",
       " 759,\n",
       " 760,\n",
       " 761,\n",
       " 762,\n",
       " 763,\n",
       " 764,\n",
       " 765,\n",
       " 766,\n",
       " 767,\n",
       " 768,\n",
       " 769,\n",
       " 770,\n",
       " 771,\n",
       " 772,\n",
       " 773,\n",
       " 774,\n",
       " 775,\n",
       " 776,\n",
       " 777,\n",
       " 778,\n",
       " 779,\n",
       " 780,\n",
       " 781,\n",
       " 782,\n",
       " 783,\n",
       " 784,\n",
       " 785,\n",
       " 786,\n",
       " 787,\n",
       " 788,\n",
       " 789,\n",
       " 790,\n",
       " 791,\n",
       " 792,\n",
       " 793,\n",
       " 794,\n",
       " 795,\n",
       " 796,\n",
       " 797,\n",
       " 798,\n",
       " 799,\n",
       " 800,\n",
       " 801,\n",
       " 802,\n",
       " 803,\n",
       " 804,\n",
       " 805,\n",
       " 806,\n",
       " 807,\n",
       " 808,\n",
       " 809,\n",
       " 810,\n",
       " 811,\n",
       " 812,\n",
       " 813,\n",
       " 814,\n",
       " 815,\n",
       " 816,\n",
       " 817,\n",
       " 818,\n",
       " 819,\n",
       " 820,\n",
       " 821,\n",
       " 822,\n",
       " 823,\n",
       " 824,\n",
       " 825,\n",
       " 826,\n",
       " 827,\n",
       " 828,\n",
       " 829,\n",
       " 830,\n",
       " 831,\n",
       " 832,\n",
       " 833,\n",
       " 834,\n",
       " 835,\n",
       " 836,\n",
       " 837,\n",
       " 838,\n",
       " 839,\n",
       " 840,\n",
       " 841,\n",
       " 842,\n",
       " 843,\n",
       " 844,\n",
       " 845,\n",
       " 846,\n",
       " 847,\n",
       " 848,\n",
       " 849,\n",
       " 850,\n",
       " 851,\n",
       " 852,\n",
       " 853,\n",
       " 854,\n",
       " 855,\n",
       " 856,\n",
       " 857,\n",
       " 858,\n",
       " 859,\n",
       " 860,\n",
       " 861,\n",
       " 862,\n",
       " 863,\n",
       " 864,\n",
       " 865,\n",
       " 866,\n",
       " 867,\n",
       " 868,\n",
       " 869,\n",
       " 870,\n",
       " 871,\n",
       " 872,\n",
       " 873,\n",
       " 874,\n",
       " 875,\n",
       " 876,\n",
       " 877,\n",
       " 878,\n",
       " 879,\n",
       " 880,\n",
       " 881,\n",
       " 882,\n",
       " 883,\n",
       " 884,\n",
       " 885,\n",
       " 886,\n",
       " 887,\n",
       " 888,\n",
       " 889,\n",
       " 890,\n",
       " 891,\n",
       " 892,\n",
       " 893,\n",
       " 894,\n",
       " 895,\n",
       " 896,\n",
       " 897,\n",
       " 898,\n",
       " 899,\n",
       " 900,\n",
       " 901,\n",
       " 902,\n",
       " 903,\n",
       " 904,\n",
       " 905,\n",
       " 906,\n",
       " 907,\n",
       " 908,\n",
       " 909,\n",
       " 910,\n",
       " 911,\n",
       " 912,\n",
       " 913,\n",
       " 914,\n",
       " 915,\n",
       " 916,\n",
       " 917,\n",
       " 918,\n",
       " 919,\n",
       " 920,\n",
       " 921,\n",
       " 922,\n",
       " 923,\n",
       " 924,\n",
       " 925,\n",
       " 926,\n",
       " 927,\n",
       " 928,\n",
       " 929,\n",
       " 930,\n",
       " 931,\n",
       " 932,\n",
       " 933,\n",
       " 934,\n",
       " 935,\n",
       " 936,\n",
       " 937,\n",
       " 938,\n",
       " 939,\n",
       " 940,\n",
       " 941,\n",
       " 942,\n",
       " 943,\n",
       " 944,\n",
       " 945,\n",
       " 946,\n",
       " 947,\n",
       " 948,\n",
       " 949,\n",
       " 950,\n",
       " 951,\n",
       " 952,\n",
       " 953,\n",
       " 954,\n",
       " 955,\n",
       " 956,\n",
       " 957,\n",
       " 958,\n",
       " 959,\n",
       " 960,\n",
       " 961,\n",
       " 962,\n",
       " 963,\n",
       " 964,\n",
       " 965,\n",
       " 966,\n",
       " 967,\n",
       " 968,\n",
       " 969,\n",
       " 970,\n",
       " 971,\n",
       " 972,\n",
       " 973,\n",
       " 974,\n",
       " 975,\n",
       " 976,\n",
       " 977,\n",
       " 978,\n",
       " 979,\n",
       " 980,\n",
       " 981,\n",
       " 982,\n",
       " 983,\n",
       " 984,\n",
       " 985,\n",
       " 986,\n",
       " 987,\n",
       " 988,\n",
       " 989,\n",
       " 990,\n",
       " 991,\n",
       " 992,\n",
       " 993,\n",
       " 994,\n",
       " 995,\n",
       " 996,\n",
       " 997,\n",
       " 998,\n",
       " 999,\n",
       " 1000]"
      ]
     },
     "execution_count": 164,
     "metadata": {},
     "output_type": "execute_result"
    }
   ],
   "source": [
    "integersListRDD.collect() # danger"
   ]
  },
  {
   "cell_type": "markdown",
   "metadata": {
    "id": "qkau0dZTBq8Z"
   },
   "source": [
    "## First"
   ]
  },
  {
   "cell_type": "markdown",
   "metadata": {
    "id": "HFWwYplgD_3a"
   },
   "source": [
    "Obtiene el primer registro del RDD"
   ]
  },
  {
   "cell_type": "code",
   "execution_count": 165,
   "metadata": {
    "id": "HOYGelqqNkCC"
   },
   "outputs": [
    {
     "data": {
      "text/plain": [
       "1"
      ]
     },
     "execution_count": 165,
     "metadata": {},
     "output_type": "execute_result"
    }
   ],
   "source": [
    "integersListRDD.first()"
   ]
  },
  {
   "cell_type": "markdown",
   "metadata": {
    "id": "7FwrpPTlBuhZ"
   },
   "source": [
    "## TakeOrdered"
   ]
  },
  {
   "cell_type": "markdown",
   "metadata": {
    "id": "l0OucoHZEC6h"
   },
   "source": [
    "Obtiene los primeros n registros en base a un orden indicado."
   ]
  },
  {
   "cell_type": "code",
   "execution_count": 166,
   "metadata": {
    "id": "DslDO0f8NtI2"
   },
   "outputs": [
    {
     "data": {
      "text/plain": [
       "[1000, 999, 998, 997, 996]"
      ]
     },
     "execution_count": 166,
     "metadata": {},
     "output_type": "execute_result"
    }
   ],
   "source": [
    "integersListRDD.takeOrdered(5, key=lambda x: -x)"
   ]
  },
  {
   "cell_type": "markdown",
   "metadata": {
    "id": "YunCyrJBBxii"
   },
   "source": [
    "## TakeSample"
   ]
  },
  {
   "cell_type": "markdown",
   "metadata": {
    "id": "sZkX85HOEJnY"
   },
   "source": [
    "Obtiene una muestra de n registros con o sin reemplazo."
   ]
  },
  {
   "cell_type": "code",
   "execution_count": 167,
   "metadata": {
    "id": "R94o47hlN-OG"
   },
   "outputs": [
    {
     "data": {
      "text/plain": [
       "[655, 941, 296, 502, 599]"
      ]
     },
     "execution_count": 167,
     "metadata": {},
     "output_type": "execute_result"
    }
   ],
   "source": [
    "integersListRDD.takeSample(False, 5)"
   ]
  },
  {
   "cell_type": "markdown",
   "metadata": {
    "id": "gfFmi9hMB0fz"
   },
   "source": [
    "## Reduce"
   ]
  },
  {
   "cell_type": "markdown",
   "metadata": {
    "id": "SZTXTiN6EQ41"
   },
   "source": [
    "Obtiene un solo registro, combinando el resultado en base a una función dada."
   ]
  },
  {
   "cell_type": "markdown",
   "metadata": {
    "id": "uA5TMBcKEkrM"
   },
   "source": [
    "Suma de todos los nros del RDD:"
   ]
  },
  {
   "cell_type": "code",
   "execution_count": 168,
   "metadata": {
    "id": "w1aRuIdcOG8T"
   },
   "outputs": [
    {
     "data": {
      "text/plain": [
       "500500"
      ]
     },
     "execution_count": 168,
     "metadata": {},
     "output_type": "execute_result"
    }
   ],
   "source": [
    "integersListRDD.reduce(lambda a,b: a+b)"
   ]
  },
  {
   "cell_type": "markdown",
   "metadata": {
    "id": "iPldfWT_EnQW"
   },
   "source": [
    "Número más grande del RDD:"
   ]
  },
  {
   "cell_type": "code",
   "execution_count": 169,
   "metadata": {
    "id": "uoZe4PTeEZU0"
   },
   "outputs": [
    {
     "data": {
      "text/plain": [
       "1000"
      ]
     },
     "execution_count": 169,
     "metadata": {},
     "output_type": "execute_result"
    }
   ],
   "source": [
    "integersListRDD.reduce(lambda a,b: a if a > b else b)"
   ]
  },
  {
   "cell_type": "markdown",
   "metadata": {
    "id": "bqtSjN_4B2sY"
   },
   "source": [
    "## CountByKey"
   ]
  },
  {
   "cell_type": "markdown",
   "metadata": {
    "id": "MDx7ZMX2Esdw"
   },
   "source": [
    "Cuenta ocurrencias de registros para cada clave."
   ]
  },
  {
   "cell_type": "markdown",
   "metadata": {
    "id": "sIC-fAW-EziF"
   },
   "source": [
    "En Spark para que un registro sea considerado con clave debe se una tupla de unicamente dos elementos. El primer elemento es la key y el segundo el valor. A su vez, la key y el valor pueden estar compuestos por tuplas."
   ]
  },
  {
   "cell_type": "markdown",
   "metadata": {
    "id": "HioGdGD8FJld"
   },
   "source": [
    "Cuento cuántos nros múltiplo de 2 hay y cuántos no:"
   ]
  },
  {
   "cell_type": "code",
   "execution_count": 170,
   "metadata": {
    "id": "iMrNtCjlOOvW"
   },
   "outputs": [
    {
     "data": {
      "text/plain": [
       "defaultdict(int, {1: 500, 0: 500})"
      ]
     },
     "execution_count": 170,
     "metadata": {},
     "output_type": "execute_result"
    }
   ],
   "source": [
    "integersListRDD.map(lambda x: (x % 2, 1)).countByKey()"
   ]
  },
  {
   "cell_type": "markdown",
   "metadata": {
    "id": "wICWjRrq9LGk"
   },
   "source": [
    "# Transformaciones"
   ]
  },
  {
   "cell_type": "markdown",
   "metadata": {
    "id": "htCboCCE9OxU"
   },
   "source": [
    "### Map"
   ]
  },
  {
   "cell_type": "markdown",
   "metadata": {
    "id": "4Osz4fFVFZkW"
   },
   "source": [
    "Transforma cada registro en base a la función dada."
   ]
  },
  {
   "cell_type": "code",
   "execution_count": 171,
   "metadata": {
    "id": "-Amp0bYmSG-c"
   },
   "outputs": [
    {
     "data": {
      "text/plain": [
       "[2, 4, 6, 8, 10]"
      ]
     },
     "execution_count": 171,
     "metadata": {},
     "output_type": "execute_result"
    }
   ],
   "source": [
    "integersListRDD.map(lambda x: x*2).take(5)"
   ]
  },
  {
   "cell_type": "code",
   "execution_count": 172,
   "metadata": {
    "id": "hM5gotbf9R-W"
   },
   "outputs": [
    {
     "data": {
      "text/plain": [
       "[(1, 1), (0, 2), (1, 3), (0, 4), (1, 5)]"
      ]
     },
     "execution_count": 172,
     "metadata": {},
     "output_type": "execute_result"
    }
   ],
   "source": [
    "integersListRDD.map(lambda x: (x % 2, x)).take(5)"
   ]
  },
  {
   "cell_type": "markdown",
   "metadata": {
    "id": "UGGRoh-d9k4P"
   },
   "source": [
    "## Filter"
   ]
  },
  {
   "cell_type": "markdown",
   "metadata": {
    "id": "zQfdye1DF2zO"
   },
   "source": [
    "Filtra registros en base a la función dada."
   ]
  },
  {
   "cell_type": "code",
   "execution_count": 173,
   "metadata": {
    "id": "S0l43_s89wpW"
   },
   "outputs": [
    {
     "data": {
      "text/plain": [
       "[2, 4, 6, 8, 10]"
      ]
     },
     "execution_count": 173,
     "metadata": {},
     "output_type": "execute_result"
    }
   ],
   "source": [
    "integersListRDD.filter(lambda x: x % 2 == 0).take(5)"
   ]
  },
  {
   "cell_type": "code",
   "execution_count": 174,
   "metadata": {
    "id": "vWEZW0D70HWU"
   },
   "outputs": [
    {
     "data": {
      "text/plain": [
       "500"
      ]
     },
     "execution_count": 174,
     "metadata": {},
     "output_type": "execute_result"
    }
   ],
   "source": [
    "integersListRDD.filter(lambda x: x % 2 == 0).count()"
   ]
  },
  {
   "cell_type": "markdown",
   "metadata": {
    "id": "y0ZHNYdO-ExA"
   },
   "source": [
    "## FlatMap"
   ]
  },
  {
   "cell_type": "markdown",
   "metadata": {
    "id": "NHE01zeXGGOK"
   },
   "source": [
    "Similar a Map, pero cada registro puede generar 0, 1 o más registros."
   ]
  },
  {
   "cell_type": "markdown",
   "metadata": {
    "id": "mVQdUOkHGQgl"
   },
   "source": [
    "Para cada registro original genero un nuevo registro con el nro, otro con el nro menos uno y otro con el registro más uno:"
   ]
  },
  {
   "cell_type": "code",
   "execution_count": 175,
   "metadata": {
    "id": "09N_gedZ-BSu"
   },
   "outputs": [
    {
     "data": {
      "text/plain": [
       "3000"
      ]
     },
     "execution_count": 175,
     "metadata": {},
     "output_type": "execute_result"
    }
   ],
   "source": [
    "integersFlat = integersListRDD.flatMap(lambda x: [(x), (x-1), (x+1)])\n",
    "integersFlat.count()"
   ]
  },
  {
   "cell_type": "markdown",
   "metadata": {
    "id": "uOJAhi5O-haG"
   },
   "source": [
    "## ReduceByKey"
   ]
  },
  {
   "cell_type": "markdown",
   "metadata": {
    "id": "90kFEtpmGafZ"
   },
   "source": [
    "Combina los registros para una misma clave en base a una función de reduce."
   ]
  },
  {
   "cell_type": "markdown",
   "metadata": {
    "id": "FLUeA__1yVFj"
   },
   "source": [
    "La función de reduce debe ser **conmutativa** y **asociativa**."
   ]
  },
  {
   "cell_type": "markdown",
   "metadata": {
    "id": "PcWSQNr7Gggz"
   },
   "source": [
    "Del RDD salida del flatMap cuento cuantos registros hay para cada nro:"
   ]
  },
  {
   "cell_type": "code",
   "execution_count": 176,
   "metadata": {
    "id": "5ak--UX3-zLm"
   },
   "outputs": [
    {
     "data": {
      "text/plain": [
       "1002"
      ]
     },
     "execution_count": 176,
     "metadata": {},
     "output_type": "execute_result"
    }
   ],
   "source": [
    "integersFlat.map(lambda x: (x, 1)).reduceByKey(lambda a,b: a+b).count()"
   ]
  },
  {
   "cell_type": "code",
   "execution_count": 177,
   "metadata": {
    "id": "VbH-NuM61Dbb"
   },
   "outputs": [
    {
     "data": {
      "text/plain": [
       "[(0, 1),\n",
       " (8, 3),\n",
       " (16, 3),\n",
       " (24, 3),\n",
       " (32, 3),\n",
       " (40, 3),\n",
       " (48, 3),\n",
       " (56, 3),\n",
       " (64, 3),\n",
       " (72, 3)]"
      ]
     },
     "execution_count": 177,
     "metadata": {},
     "output_type": "execute_result"
    }
   ],
   "source": [
    "integersFlat.map(lambda x: (x, 1)).reduceByKey(lambda a,b: a+b).take(10)"
   ]
  },
  {
   "cell_type": "code",
   "execution_count": 178,
   "metadata": {
    "id": "SwncZCGB1Ind"
   },
   "outputs": [
    {
     "data": {
      "text/plain": [
       "(1001, 1)"
      ]
     },
     "execution_count": 178,
     "metadata": {},
     "output_type": "execute_result"
    }
   ],
   "source": [
    "integersFlat.map(lambda x: (x, 1)).reduceByKey(lambda a,b: a+b).reduce(lambda a,b: a if a > b else b)"
   ]
  },
  {
   "cell_type": "markdown",
   "metadata": {
    "id": "rXS7ZVE4_lDB"
   },
   "source": [
    "## GroupByKey"
   ]
  },
  {
   "cell_type": "markdown",
   "metadata": {
    "id": "qRhtk2zFGr2g"
   },
   "source": [
    "Agrupa los registros para cada clave. Es similar a reduceByKey pero con \n",
    "groupByKey se obtiene todos los registros para cada clave.\n",
    "\n",
    "Solo se debe utilizar si es necesario la información de cada registro y la cantidad de registros por clave no es demasiado grande.\n",
    "\n",
    "GroupByKey es una transformación costosa.\n",
    "\n",
    "Si se desea realizar una agregación, usar reduceByKey. Usar groupByKey para hacer una agregación esta MAL."
   ]
  },
  {
   "cell_type": "markdown",
   "metadata": {
    "id": "XM84FFQbHxcZ"
   },
   "source": [
    "Necesito saber cuales son los nros múltiplos de 2 y cuales no:"
   ]
  },
  {
   "cell_type": "code",
   "execution_count": 179,
   "metadata": {
    "id": "dXi4mcm0_kFB"
   },
   "outputs": [
    {
     "data": {
      "text/plain": [
       "[(0,\n",
       "  [2,\n",
       "   4,\n",
       "   6,\n",
       "   8,\n",
       "   10,\n",
       "   12,\n",
       "   14,\n",
       "   16,\n",
       "   18,\n",
       "   20,\n",
       "   22,\n",
       "   24,\n",
       "   26,\n",
       "   28,\n",
       "   30,\n",
       "   32,\n",
       "   34,\n",
       "   36,\n",
       "   38,\n",
       "   40,\n",
       "   42,\n",
       "   44,\n",
       "   46,\n",
       "   48,\n",
       "   50,\n",
       "   52,\n",
       "   54,\n",
       "   56,\n",
       "   58,\n",
       "   60,\n",
       "   62,\n",
       "   64,\n",
       "   66,\n",
       "   68,\n",
       "   70,\n",
       "   72,\n",
       "   74,\n",
       "   76,\n",
       "   78,\n",
       "   80,\n",
       "   82,\n",
       "   84,\n",
       "   86,\n",
       "   88,\n",
       "   90,\n",
       "   92,\n",
       "   94,\n",
       "   96,\n",
       "   98,\n",
       "   100,\n",
       "   102,\n",
       "   104,\n",
       "   106,\n",
       "   108,\n",
       "   110,\n",
       "   112,\n",
       "   114,\n",
       "   116,\n",
       "   118,\n",
       "   120,\n",
       "   122,\n",
       "   124,\n",
       "   126,\n",
       "   128,\n",
       "   130,\n",
       "   132,\n",
       "   134,\n",
       "   136,\n",
       "   138,\n",
       "   140,\n",
       "   142,\n",
       "   144,\n",
       "   146,\n",
       "   148,\n",
       "   150,\n",
       "   152,\n",
       "   154,\n",
       "   156,\n",
       "   158,\n",
       "   160,\n",
       "   162,\n",
       "   164,\n",
       "   166,\n",
       "   168,\n",
       "   170,\n",
       "   172,\n",
       "   174,\n",
       "   176,\n",
       "   178,\n",
       "   180,\n",
       "   182,\n",
       "   184,\n",
       "   186,\n",
       "   188,\n",
       "   190,\n",
       "   192,\n",
       "   194,\n",
       "   196,\n",
       "   198,\n",
       "   200,\n",
       "   202,\n",
       "   204,\n",
       "   206,\n",
       "   208,\n",
       "   210,\n",
       "   212,\n",
       "   214,\n",
       "   216,\n",
       "   218,\n",
       "   220,\n",
       "   222,\n",
       "   224,\n",
       "   226,\n",
       "   228,\n",
       "   230,\n",
       "   232,\n",
       "   234,\n",
       "   236,\n",
       "   238,\n",
       "   240,\n",
       "   242,\n",
       "   244,\n",
       "   246,\n",
       "   248,\n",
       "   250,\n",
       "   252,\n",
       "   254,\n",
       "   256,\n",
       "   258,\n",
       "   260,\n",
       "   262,\n",
       "   264,\n",
       "   266,\n",
       "   268,\n",
       "   270,\n",
       "   272,\n",
       "   274,\n",
       "   276,\n",
       "   278,\n",
       "   280,\n",
       "   282,\n",
       "   284,\n",
       "   286,\n",
       "   288,\n",
       "   290,\n",
       "   292,\n",
       "   294,\n",
       "   296,\n",
       "   298,\n",
       "   300,\n",
       "   302,\n",
       "   304,\n",
       "   306,\n",
       "   308,\n",
       "   310,\n",
       "   312,\n",
       "   314,\n",
       "   316,\n",
       "   318,\n",
       "   320,\n",
       "   322,\n",
       "   324,\n",
       "   326,\n",
       "   328,\n",
       "   330,\n",
       "   332,\n",
       "   334,\n",
       "   336,\n",
       "   338,\n",
       "   340,\n",
       "   342,\n",
       "   344,\n",
       "   346,\n",
       "   348,\n",
       "   350,\n",
       "   352,\n",
       "   354,\n",
       "   356,\n",
       "   358,\n",
       "   360,\n",
       "   362,\n",
       "   364,\n",
       "   366,\n",
       "   368,\n",
       "   370,\n",
       "   372,\n",
       "   374,\n",
       "   376,\n",
       "   378,\n",
       "   380,\n",
       "   382,\n",
       "   384,\n",
       "   386,\n",
       "   388,\n",
       "   390,\n",
       "   392,\n",
       "   394,\n",
       "   396,\n",
       "   398,\n",
       "   400,\n",
       "   402,\n",
       "   404,\n",
       "   406,\n",
       "   408,\n",
       "   410,\n",
       "   412,\n",
       "   414,\n",
       "   416,\n",
       "   418,\n",
       "   420,\n",
       "   422,\n",
       "   424,\n",
       "   426,\n",
       "   428,\n",
       "   430,\n",
       "   432,\n",
       "   434,\n",
       "   436,\n",
       "   438,\n",
       "   440,\n",
       "   442,\n",
       "   444,\n",
       "   446,\n",
       "   448,\n",
       "   450,\n",
       "   452,\n",
       "   454,\n",
       "   456,\n",
       "   458,\n",
       "   460,\n",
       "   462,\n",
       "   464,\n",
       "   466,\n",
       "   468,\n",
       "   470,\n",
       "   472,\n",
       "   474,\n",
       "   476,\n",
       "   478,\n",
       "   480,\n",
       "   482,\n",
       "   484,\n",
       "   486,\n",
       "   488,\n",
       "   490,\n",
       "   492,\n",
       "   494,\n",
       "   496,\n",
       "   498,\n",
       "   500,\n",
       "   502,\n",
       "   504,\n",
       "   506,\n",
       "   508,\n",
       "   510,\n",
       "   512,\n",
       "   514,\n",
       "   516,\n",
       "   518,\n",
       "   520,\n",
       "   522,\n",
       "   524,\n",
       "   526,\n",
       "   528,\n",
       "   530,\n",
       "   532,\n",
       "   534,\n",
       "   536,\n",
       "   538,\n",
       "   540,\n",
       "   542,\n",
       "   544,\n",
       "   546,\n",
       "   548,\n",
       "   550,\n",
       "   552,\n",
       "   554,\n",
       "   556,\n",
       "   558,\n",
       "   560,\n",
       "   562,\n",
       "   564,\n",
       "   566,\n",
       "   568,\n",
       "   570,\n",
       "   572,\n",
       "   574,\n",
       "   576,\n",
       "   578,\n",
       "   580,\n",
       "   582,\n",
       "   584,\n",
       "   586,\n",
       "   588,\n",
       "   590,\n",
       "   592,\n",
       "   594,\n",
       "   596,\n",
       "   598,\n",
       "   600,\n",
       "   602,\n",
       "   604,\n",
       "   606,\n",
       "   608,\n",
       "   610,\n",
       "   612,\n",
       "   614,\n",
       "   616,\n",
       "   618,\n",
       "   620,\n",
       "   622,\n",
       "   624,\n",
       "   626,\n",
       "   628,\n",
       "   630,\n",
       "   632,\n",
       "   634,\n",
       "   636,\n",
       "   638,\n",
       "   640,\n",
       "   642,\n",
       "   644,\n",
       "   646,\n",
       "   648,\n",
       "   650,\n",
       "   652,\n",
       "   654,\n",
       "   656,\n",
       "   658,\n",
       "   660,\n",
       "   662,\n",
       "   664,\n",
       "   666,\n",
       "   668,\n",
       "   670,\n",
       "   672,\n",
       "   674,\n",
       "   676,\n",
       "   678,\n",
       "   680,\n",
       "   682,\n",
       "   684,\n",
       "   686,\n",
       "   688,\n",
       "   690,\n",
       "   692,\n",
       "   694,\n",
       "   696,\n",
       "   698,\n",
       "   700,\n",
       "   702,\n",
       "   704,\n",
       "   706,\n",
       "   708,\n",
       "   710,\n",
       "   712,\n",
       "   714,\n",
       "   716,\n",
       "   718,\n",
       "   720,\n",
       "   722,\n",
       "   724,\n",
       "   726,\n",
       "   728,\n",
       "   730,\n",
       "   732,\n",
       "   734,\n",
       "   736,\n",
       "   738,\n",
       "   740,\n",
       "   742,\n",
       "   744,\n",
       "   746,\n",
       "   748,\n",
       "   750,\n",
       "   752,\n",
       "   754,\n",
       "   756,\n",
       "   758,\n",
       "   760,\n",
       "   762,\n",
       "   764,\n",
       "   766,\n",
       "   768,\n",
       "   770,\n",
       "   772,\n",
       "   774,\n",
       "   776,\n",
       "   778,\n",
       "   780,\n",
       "   782,\n",
       "   784,\n",
       "   786,\n",
       "   788,\n",
       "   790,\n",
       "   792,\n",
       "   794,\n",
       "   796,\n",
       "   798,\n",
       "   800,\n",
       "   802,\n",
       "   804,\n",
       "   806,\n",
       "   808,\n",
       "   810,\n",
       "   812,\n",
       "   814,\n",
       "   816,\n",
       "   818,\n",
       "   820,\n",
       "   822,\n",
       "   824,\n",
       "   826,\n",
       "   828,\n",
       "   830,\n",
       "   832,\n",
       "   834,\n",
       "   836,\n",
       "   838,\n",
       "   840,\n",
       "   842,\n",
       "   844,\n",
       "   846,\n",
       "   848,\n",
       "   850,\n",
       "   852,\n",
       "   854,\n",
       "   856,\n",
       "   858,\n",
       "   860,\n",
       "   862,\n",
       "   864,\n",
       "   866,\n",
       "   868,\n",
       "   870,\n",
       "   872,\n",
       "   874,\n",
       "   876,\n",
       "   878,\n",
       "   880,\n",
       "   882,\n",
       "   884,\n",
       "   886,\n",
       "   888,\n",
       "   890,\n",
       "   892,\n",
       "   894,\n",
       "   896,\n",
       "   898,\n",
       "   900,\n",
       "   902,\n",
       "   904,\n",
       "   906,\n",
       "   908,\n",
       "   910,\n",
       "   912,\n",
       "   914,\n",
       "   916,\n",
       "   918,\n",
       "   920,\n",
       "   922,\n",
       "   924,\n",
       "   926,\n",
       "   928,\n",
       "   930,\n",
       "   932,\n",
       "   934,\n",
       "   936,\n",
       "   938,\n",
       "   940,\n",
       "   942,\n",
       "   944,\n",
       "   946,\n",
       "   948,\n",
       "   950,\n",
       "   952,\n",
       "   954,\n",
       "   956,\n",
       "   958,\n",
       "   960,\n",
       "   962,\n",
       "   964,\n",
       "   966,\n",
       "   968,\n",
       "   970,\n",
       "   972,\n",
       "   974,\n",
       "   976,\n",
       "   978,\n",
       "   980,\n",
       "   982,\n",
       "   984,\n",
       "   986,\n",
       "   988,\n",
       "   990,\n",
       "   992,\n",
       "   994,\n",
       "   996,\n",
       "   998,\n",
       "   1000]),\n",
       " (1,\n",
       "  [1,\n",
       "   3,\n",
       "   5,\n",
       "   7,\n",
       "   9,\n",
       "   11,\n",
       "   13,\n",
       "   15,\n",
       "   17,\n",
       "   19,\n",
       "   21,\n",
       "   23,\n",
       "   25,\n",
       "   27,\n",
       "   29,\n",
       "   31,\n",
       "   33,\n",
       "   35,\n",
       "   37,\n",
       "   39,\n",
       "   41,\n",
       "   43,\n",
       "   45,\n",
       "   47,\n",
       "   49,\n",
       "   51,\n",
       "   53,\n",
       "   55,\n",
       "   57,\n",
       "   59,\n",
       "   61,\n",
       "   63,\n",
       "   65,\n",
       "   67,\n",
       "   69,\n",
       "   71,\n",
       "   73,\n",
       "   75,\n",
       "   77,\n",
       "   79,\n",
       "   81,\n",
       "   83,\n",
       "   85,\n",
       "   87,\n",
       "   89,\n",
       "   91,\n",
       "   93,\n",
       "   95,\n",
       "   97,\n",
       "   99,\n",
       "   101,\n",
       "   103,\n",
       "   105,\n",
       "   107,\n",
       "   109,\n",
       "   111,\n",
       "   113,\n",
       "   115,\n",
       "   117,\n",
       "   119,\n",
       "   121,\n",
       "   123,\n",
       "   125,\n",
       "   127,\n",
       "   129,\n",
       "   131,\n",
       "   133,\n",
       "   135,\n",
       "   137,\n",
       "   139,\n",
       "   141,\n",
       "   143,\n",
       "   145,\n",
       "   147,\n",
       "   149,\n",
       "   151,\n",
       "   153,\n",
       "   155,\n",
       "   157,\n",
       "   159,\n",
       "   161,\n",
       "   163,\n",
       "   165,\n",
       "   167,\n",
       "   169,\n",
       "   171,\n",
       "   173,\n",
       "   175,\n",
       "   177,\n",
       "   179,\n",
       "   181,\n",
       "   183,\n",
       "   185,\n",
       "   187,\n",
       "   189,\n",
       "   191,\n",
       "   193,\n",
       "   195,\n",
       "   197,\n",
       "   199,\n",
       "   201,\n",
       "   203,\n",
       "   205,\n",
       "   207,\n",
       "   209,\n",
       "   211,\n",
       "   213,\n",
       "   215,\n",
       "   217,\n",
       "   219,\n",
       "   221,\n",
       "   223,\n",
       "   225,\n",
       "   227,\n",
       "   229,\n",
       "   231,\n",
       "   233,\n",
       "   235,\n",
       "   237,\n",
       "   239,\n",
       "   241,\n",
       "   243,\n",
       "   245,\n",
       "   247,\n",
       "   249,\n",
       "   251,\n",
       "   253,\n",
       "   255,\n",
       "   257,\n",
       "   259,\n",
       "   261,\n",
       "   263,\n",
       "   265,\n",
       "   267,\n",
       "   269,\n",
       "   271,\n",
       "   273,\n",
       "   275,\n",
       "   277,\n",
       "   279,\n",
       "   281,\n",
       "   283,\n",
       "   285,\n",
       "   287,\n",
       "   289,\n",
       "   291,\n",
       "   293,\n",
       "   295,\n",
       "   297,\n",
       "   299,\n",
       "   301,\n",
       "   303,\n",
       "   305,\n",
       "   307,\n",
       "   309,\n",
       "   311,\n",
       "   313,\n",
       "   315,\n",
       "   317,\n",
       "   319,\n",
       "   321,\n",
       "   323,\n",
       "   325,\n",
       "   327,\n",
       "   329,\n",
       "   331,\n",
       "   333,\n",
       "   335,\n",
       "   337,\n",
       "   339,\n",
       "   341,\n",
       "   343,\n",
       "   345,\n",
       "   347,\n",
       "   349,\n",
       "   351,\n",
       "   353,\n",
       "   355,\n",
       "   357,\n",
       "   359,\n",
       "   361,\n",
       "   363,\n",
       "   365,\n",
       "   367,\n",
       "   369,\n",
       "   371,\n",
       "   373,\n",
       "   375,\n",
       "   377,\n",
       "   379,\n",
       "   381,\n",
       "   383,\n",
       "   385,\n",
       "   387,\n",
       "   389,\n",
       "   391,\n",
       "   393,\n",
       "   395,\n",
       "   397,\n",
       "   399,\n",
       "   401,\n",
       "   403,\n",
       "   405,\n",
       "   407,\n",
       "   409,\n",
       "   411,\n",
       "   413,\n",
       "   415,\n",
       "   417,\n",
       "   419,\n",
       "   421,\n",
       "   423,\n",
       "   425,\n",
       "   427,\n",
       "   429,\n",
       "   431,\n",
       "   433,\n",
       "   435,\n",
       "   437,\n",
       "   439,\n",
       "   441,\n",
       "   443,\n",
       "   445,\n",
       "   447,\n",
       "   449,\n",
       "   451,\n",
       "   453,\n",
       "   455,\n",
       "   457,\n",
       "   459,\n",
       "   461,\n",
       "   463,\n",
       "   465,\n",
       "   467,\n",
       "   469,\n",
       "   471,\n",
       "   473,\n",
       "   475,\n",
       "   477,\n",
       "   479,\n",
       "   481,\n",
       "   483,\n",
       "   485,\n",
       "   487,\n",
       "   489,\n",
       "   491,\n",
       "   493,\n",
       "   495,\n",
       "   497,\n",
       "   499,\n",
       "   501,\n",
       "   503,\n",
       "   505,\n",
       "   507,\n",
       "   509,\n",
       "   511,\n",
       "   513,\n",
       "   515,\n",
       "   517,\n",
       "   519,\n",
       "   521,\n",
       "   523,\n",
       "   525,\n",
       "   527,\n",
       "   529,\n",
       "   531,\n",
       "   533,\n",
       "   535,\n",
       "   537,\n",
       "   539,\n",
       "   541,\n",
       "   543,\n",
       "   545,\n",
       "   547,\n",
       "   549,\n",
       "   551,\n",
       "   553,\n",
       "   555,\n",
       "   557,\n",
       "   559,\n",
       "   561,\n",
       "   563,\n",
       "   565,\n",
       "   567,\n",
       "   569,\n",
       "   571,\n",
       "   573,\n",
       "   575,\n",
       "   577,\n",
       "   579,\n",
       "   581,\n",
       "   583,\n",
       "   585,\n",
       "   587,\n",
       "   589,\n",
       "   591,\n",
       "   593,\n",
       "   595,\n",
       "   597,\n",
       "   599,\n",
       "   601,\n",
       "   603,\n",
       "   605,\n",
       "   607,\n",
       "   609,\n",
       "   611,\n",
       "   613,\n",
       "   615,\n",
       "   617,\n",
       "   619,\n",
       "   621,\n",
       "   623,\n",
       "   625,\n",
       "   627,\n",
       "   629,\n",
       "   631,\n",
       "   633,\n",
       "   635,\n",
       "   637,\n",
       "   639,\n",
       "   641,\n",
       "   643,\n",
       "   645,\n",
       "   647,\n",
       "   649,\n",
       "   651,\n",
       "   653,\n",
       "   655,\n",
       "   657,\n",
       "   659,\n",
       "   661,\n",
       "   663,\n",
       "   665,\n",
       "   667,\n",
       "   669,\n",
       "   671,\n",
       "   673,\n",
       "   675,\n",
       "   677,\n",
       "   679,\n",
       "   681,\n",
       "   683,\n",
       "   685,\n",
       "   687,\n",
       "   689,\n",
       "   691,\n",
       "   693,\n",
       "   695,\n",
       "   697,\n",
       "   699,\n",
       "   701,\n",
       "   703,\n",
       "   705,\n",
       "   707,\n",
       "   709,\n",
       "   711,\n",
       "   713,\n",
       "   715,\n",
       "   717,\n",
       "   719,\n",
       "   721,\n",
       "   723,\n",
       "   725,\n",
       "   727,\n",
       "   729,\n",
       "   731,\n",
       "   733,\n",
       "   735,\n",
       "   737,\n",
       "   739,\n",
       "   741,\n",
       "   743,\n",
       "   745,\n",
       "   747,\n",
       "   749,\n",
       "   751,\n",
       "   753,\n",
       "   755,\n",
       "   757,\n",
       "   759,\n",
       "   761,\n",
       "   763,\n",
       "   765,\n",
       "   767,\n",
       "   769,\n",
       "   771,\n",
       "   773,\n",
       "   775,\n",
       "   777,\n",
       "   779,\n",
       "   781,\n",
       "   783,\n",
       "   785,\n",
       "   787,\n",
       "   789,\n",
       "   791,\n",
       "   793,\n",
       "   795,\n",
       "   797,\n",
       "   799,\n",
       "   801,\n",
       "   803,\n",
       "   805,\n",
       "   807,\n",
       "   809,\n",
       "   811,\n",
       "   813,\n",
       "   815,\n",
       "   817,\n",
       "   819,\n",
       "   821,\n",
       "   823,\n",
       "   825,\n",
       "   827,\n",
       "   829,\n",
       "   831,\n",
       "   833,\n",
       "   835,\n",
       "   837,\n",
       "   839,\n",
       "   841,\n",
       "   843,\n",
       "   845,\n",
       "   847,\n",
       "   849,\n",
       "   851,\n",
       "   853,\n",
       "   855,\n",
       "   857,\n",
       "   859,\n",
       "   861,\n",
       "   863,\n",
       "   865,\n",
       "   867,\n",
       "   869,\n",
       "   871,\n",
       "   873,\n",
       "   875,\n",
       "   877,\n",
       "   879,\n",
       "   881,\n",
       "   883,\n",
       "   885,\n",
       "   887,\n",
       "   889,\n",
       "   891,\n",
       "   893,\n",
       "   895,\n",
       "   897,\n",
       "   899,\n",
       "   901,\n",
       "   903,\n",
       "   905,\n",
       "   907,\n",
       "   909,\n",
       "   911,\n",
       "   913,\n",
       "   915,\n",
       "   917,\n",
       "   919,\n",
       "   921,\n",
       "   923,\n",
       "   925,\n",
       "   927,\n",
       "   929,\n",
       "   931,\n",
       "   933,\n",
       "   935,\n",
       "   937,\n",
       "   939,\n",
       "   941,\n",
       "   943,\n",
       "   945,\n",
       "   947,\n",
       "   949,\n",
       "   951,\n",
       "   953,\n",
       "   955,\n",
       "   957,\n",
       "   959,\n",
       "   961,\n",
       "   963,\n",
       "   965,\n",
       "   967,\n",
       "   969,\n",
       "   971,\n",
       "   973,\n",
       "   975,\n",
       "   977,\n",
       "   979,\n",
       "   981,\n",
       "   983,\n",
       "   985,\n",
       "   987,\n",
       "   989,\n",
       "   991,\n",
       "   993,\n",
       "   995,\n",
       "   997,\n",
       "   999])]"
      ]
     },
     "execution_count": 179,
     "metadata": {},
     "output_type": "execute_result"
    }
   ],
   "source": [
    "integersListRDD.map(lambda x: (x % 2, x)).groupByKey().map(lambda x: (x[0], list(x[1]))).collect()"
   ]
  },
  {
   "cell_type": "markdown",
   "metadata": {
    "id": "_URCZ87zAcSj"
   },
   "source": [
    "## Distinct"
   ]
  },
  {
   "cell_type": "markdown",
   "metadata": {
    "id": "vDYgJ-WDIde5"
   },
   "source": [
    "Elimina registros duplicados (todo el registro debe coincidir)"
   ]
  },
  {
   "cell_type": "markdown",
   "metadata": {
    "id": "YcLF3Se1Il4k"
   },
   "source": [
    "Del RDD trás aplicar flatMap, obtengo los registros únicos:"
   ]
  },
  {
   "cell_type": "code",
   "execution_count": 180,
   "metadata": {
    "id": "AbVHrMYgCv65"
   },
   "outputs": [
    {
     "data": {
      "text/plain": [
       "1002"
      ]
     },
     "execution_count": 180,
     "metadata": {},
     "output_type": "execute_result"
    }
   ],
   "source": [
    "integersFlat.distinct().count()\n"
   ]
  },
  {
   "cell_type": "markdown",
   "metadata": {
    "id": "bl2uMtBy-CxH"
   },
   "source": [
    "# Ejemplos de transformaciones y acciones con los textos de Shakespeare"
   ]
  },
  {
   "cell_type": "markdown",
   "metadata": {
    "id": "pSNsuSWUVzjL"
   },
   "source": [
    "## Leo de a líneas"
   ]
  },
  {
   "cell_type": "code",
   "execution_count": 181,
   "metadata": {
    "id": "XVzGjkUPJm6X"
   },
   "outputs": [],
   "source": [
    "lines = sc.textFile('shakespeare.txt')"
   ]
  },
  {
   "cell_type": "markdown",
   "metadata": {
    "id": "FwuDYbFQV3wk"
   },
   "source": [
    "## Cantidad de líneas totales"
   ]
  },
  {
   "cell_type": "code",
   "execution_count": 182,
   "metadata": {
    "id": "IMydwl-2JoRX"
   },
   "outputs": [
    {
     "data": {
      "text/plain": [
       "124614"
      ]
     },
     "execution_count": 182,
     "metadata": {},
     "output_type": "execute_result"
    }
   ],
   "source": [
    "lines.count()"
   ]
  },
  {
   "cell_type": "markdown",
   "metadata": {
    "id": "qZEeqhf_V7eM"
   },
   "source": [
    "## Primeras 10 líneas"
   ]
  },
  {
   "cell_type": "code",
   "execution_count": 183,
   "metadata": {
    "id": "RQaWh8CnJqlY"
   },
   "outputs": [
    {
     "data": {
      "text/plain": [
       "['1609',\n",
       " '',\n",
       " 'THE SONNETS',\n",
       " '',\n",
       " 'by William Shakespeare',\n",
       " '',\n",
       " '',\n",
       " '',\n",
       " '                     1',\n",
       " '  From fairest creatures we desire increase,']"
      ]
     },
     "execution_count": 183,
     "metadata": {},
     "output_type": "execute_result"
    }
   ],
   "source": [
    "lines.take(10)"
   ]
  },
  {
   "cell_type": "markdown",
   "metadata": {
    "id": "8vsAsbU7V_h3"
   },
   "source": [
    "## Obtengo las palabras de todas las líneas (flatMap)"
   ]
  },
  {
   "cell_type": "code",
   "execution_count": 184,
   "metadata": {
    "id": "mOOPFmCh4HBJ"
   },
   "outputs": [],
   "source": [
    "words = lines.flatMap(lambda x: x.split())"
   ]
  },
  {
   "cell_type": "code",
   "execution_count": 185,
   "metadata": {
    "id": "DoBtYMOkJ4w2"
   },
   "outputs": [
    {
     "data": {
      "text/plain": [
       "['1609',\n",
       " 'THE',\n",
       " 'SONNETS',\n",
       " 'by',\n",
       " 'William',\n",
       " 'Shakespeare',\n",
       " '1',\n",
       " 'From',\n",
       " 'fairest',\n",
       " 'creatures']"
      ]
     },
     "execution_count": 185,
     "metadata": {},
     "output_type": "execute_result"
    }
   ],
   "source": [
    "words.take(10)"
   ]
  },
  {
   "cell_type": "code",
   "execution_count": 186,
   "metadata": {
    "id": "tRAZmoOzNWgE"
   },
   "outputs": [
    {
     "data": {
      "text/plain": [
       "902892"
      ]
     },
     "execution_count": 186,
     "metadata": {},
     "output_type": "execute_result"
    }
   ],
   "source": [
    "words.count()"
   ]
  },
  {
   "cell_type": "markdown",
   "metadata": {
    "id": "9M-FlX5DWK0d"
   },
   "source": [
    "## Contando palabras (reduceByKey)"
   ]
  },
  {
   "cell_type": "code",
   "execution_count": 187,
   "metadata": {
    "id": "ls1O6FLo-IQk"
   },
   "outputs": [],
   "source": [
    "wordsCount = words.map(lambda x: (x.lower(),1))"
   ]
  },
  {
   "cell_type": "code",
   "execution_count": 188,
   "metadata": {
    "id": "wRgS4oUlKDBT"
   },
   "outputs": [
    {
     "data": {
      "text/plain": [
       "[('1609', 1),\n",
       " ('the', 1),\n",
       " ('sonnets', 1),\n",
       " ('by', 1),\n",
       " ('william', 1),\n",
       " ('shakespeare', 1),\n",
       " ('1', 1),\n",
       " ('from', 1),\n",
       " ('fairest', 1),\n",
       " ('creatures', 1)]"
      ]
     },
     "execution_count": 188,
     "metadata": {},
     "output_type": "execute_result"
    }
   ],
   "source": [
    "wordsCount.take(10)"
   ]
  },
  {
   "cell_type": "code",
   "execution_count": 189,
   "metadata": {
    "id": "N6aAGd8UKANh"
   },
   "outputs": [],
   "source": [
    "wordsCounted = wordsCount.reduceByKey(lambda x,y: x+y)"
   ]
  },
  {
   "cell_type": "code",
   "execution_count": 190,
   "metadata": {
    "id": "hn_lW0hrKr2N"
   },
   "outputs": [
    {
     "data": {
      "text/plain": [
       "[('shakespeare', 258),\n",
       " ('1', 13),\n",
       " ('fairest', 39),\n",
       " ('creatures', 27),\n",
       " ('we', 3210),\n",
       " ('increase,', 9),\n",
       " ('thereby', 21),\n",
       " (\"beauty's\", 30),\n",
       " ('rose', 44),\n",
       " ('never', 959)]"
      ]
     },
     "execution_count": 190,
     "metadata": {},
     "output_type": "execute_result"
    }
   ],
   "source": [
    "wordsCounted.take(10)"
   ]
  },
  {
   "cell_type": "code",
   "execution_count": 191,
   "metadata": {
    "id": "ahh0On2NKtj1"
   },
   "outputs": [
    {
     "data": {
      "text/plain": [
       "[('the', 27681),\n",
       " ('and', 26066),\n",
       " ('i', 19540),\n",
       " ('to', 18737),\n",
       " ('of', 18084),\n",
       " ('a', 14424),\n",
       " ('my', 12456),\n",
       " ('in', 10721),\n",
       " ('you', 10666),\n",
       " ('that', 10489)]"
      ]
     },
     "execution_count": 191,
     "metadata": {},
     "output_type": "execute_result"
    }
   ],
   "source": [
    "wordsCounted.takeOrdered(10, lambda x: -x[1])"
   ]
  },
  {
   "cell_type": "markdown",
   "metadata": {
    "id": "QPpLRI_iW1zj"
   },
   "source": [
    "### Mal uso de groupByKey"
   ]
  },
  {
   "cell_type": "code",
   "execution_count": 192,
   "metadata": {
    "id": "j8j0f4cPW5Ct"
   },
   "outputs": [
    {
     "data": {
      "text/plain": [
       "[('the', <pyspark.resultiterable.ResultIterable at 0x7f88d93fb850>),\n",
       " ('and', <pyspark.resultiterable.ResultIterable at 0x7f88d9420a10>),\n",
       " ('i', <pyspark.resultiterable.ResultIterable at 0x7f88d93fb750>),\n",
       " ('to', <pyspark.resultiterable.ResultIterable at 0x7f88d94204d0>),\n",
       " ('of', <pyspark.resultiterable.ResultIterable at 0x7f88d93fbb90>),\n",
       " ('a', <pyspark.resultiterable.ResultIterable at 0x7f88d94209d0>),\n",
       " ('my', <pyspark.resultiterable.ResultIterable at 0x7f88d9420c50>),\n",
       " ('in', <pyspark.resultiterable.ResultIterable at 0x7f88d93fbb10>),\n",
       " ('you', <pyspark.resultiterable.ResultIterable at 0x7f88d94206d0>),\n",
       " ('that', <pyspark.resultiterable.ResultIterable at 0x7f88d9420710>)]"
      ]
     },
     "execution_count": 192,
     "metadata": {},
     "output_type": "execute_result"
    }
   ],
   "source": [
    "wordsCount.groupByKey().takeOrdered(10, lambda x: -1 * len(x[1]))"
   ]
  },
  {
   "cell_type": "code",
   "execution_count": 193,
   "metadata": {
    "id": "uOEXpY5D5Pu0"
   },
   "outputs": [
    {
     "data": {
      "text/plain": [
       "[('shakespeare',\n",
       "  [1,\n",
       "   1,\n",
       "   1,\n",
       "   1,\n",
       "   1,\n",
       "   1,\n",
       "   1,\n",
       "   1,\n",
       "   1,\n",
       "   1,\n",
       "   1,\n",
       "   1,\n",
       "   1,\n",
       "   1,\n",
       "   1,\n",
       "   1,\n",
       "   1,\n",
       "   1,\n",
       "   1,\n",
       "   1,\n",
       "   1,\n",
       "   1,\n",
       "   1,\n",
       "   1,\n",
       "   1,\n",
       "   1,\n",
       "   1,\n",
       "   1,\n",
       "   1,\n",
       "   1,\n",
       "   1,\n",
       "   1,\n",
       "   1,\n",
       "   1,\n",
       "   1,\n",
       "   1,\n",
       "   1,\n",
       "   1,\n",
       "   1,\n",
       "   1,\n",
       "   1,\n",
       "   1,\n",
       "   1,\n",
       "   1,\n",
       "   1,\n",
       "   1,\n",
       "   1,\n",
       "   1,\n",
       "   1,\n",
       "   1,\n",
       "   1,\n",
       "   1,\n",
       "   1,\n",
       "   1,\n",
       "   1,\n",
       "   1,\n",
       "   1,\n",
       "   1,\n",
       "   1,\n",
       "   1,\n",
       "   1,\n",
       "   1,\n",
       "   1,\n",
       "   1,\n",
       "   1,\n",
       "   1,\n",
       "   1,\n",
       "   1,\n",
       "   1,\n",
       "   1,\n",
       "   1,\n",
       "   1,\n",
       "   1,\n",
       "   1,\n",
       "   1,\n",
       "   1,\n",
       "   1,\n",
       "   1,\n",
       "   1,\n",
       "   1,\n",
       "   1,\n",
       "   1,\n",
       "   1,\n",
       "   1,\n",
       "   1,\n",
       "   1,\n",
       "   1,\n",
       "   1,\n",
       "   1,\n",
       "   1,\n",
       "   1,\n",
       "   1,\n",
       "   1,\n",
       "   1,\n",
       "   1,\n",
       "   1,\n",
       "   1,\n",
       "   1,\n",
       "   1,\n",
       "   1,\n",
       "   1,\n",
       "   1,\n",
       "   1,\n",
       "   1,\n",
       "   1,\n",
       "   1,\n",
       "   1,\n",
       "   1,\n",
       "   1,\n",
       "   1,\n",
       "   1,\n",
       "   1,\n",
       "   1,\n",
       "   1,\n",
       "   1,\n",
       "   1,\n",
       "   1,\n",
       "   1,\n",
       "   1,\n",
       "   1,\n",
       "   1,\n",
       "   1,\n",
       "   1,\n",
       "   1,\n",
       "   1,\n",
       "   1,\n",
       "   1,\n",
       "   1,\n",
       "   1,\n",
       "   1,\n",
       "   1,\n",
       "   1,\n",
       "   1,\n",
       "   1,\n",
       "   1,\n",
       "   1,\n",
       "   1,\n",
       "   1,\n",
       "   1,\n",
       "   1,\n",
       "   1,\n",
       "   1,\n",
       "   1,\n",
       "   1,\n",
       "   1,\n",
       "   1,\n",
       "   1,\n",
       "   1,\n",
       "   1,\n",
       "   1,\n",
       "   1,\n",
       "   1,\n",
       "   1,\n",
       "   1,\n",
       "   1,\n",
       "   1,\n",
       "   1,\n",
       "   1,\n",
       "   1,\n",
       "   1,\n",
       "   1,\n",
       "   1,\n",
       "   1,\n",
       "   1,\n",
       "   1,\n",
       "   1,\n",
       "   1,\n",
       "   1,\n",
       "   1,\n",
       "   1,\n",
       "   1,\n",
       "   1,\n",
       "   1,\n",
       "   1,\n",
       "   1,\n",
       "   1,\n",
       "   1,\n",
       "   1,\n",
       "   1,\n",
       "   1,\n",
       "   1,\n",
       "   1,\n",
       "   1,\n",
       "   1,\n",
       "   1,\n",
       "   1,\n",
       "   1,\n",
       "   1,\n",
       "   1,\n",
       "   1,\n",
       "   1,\n",
       "   1,\n",
       "   1,\n",
       "   1,\n",
       "   1,\n",
       "   1,\n",
       "   1,\n",
       "   1,\n",
       "   1,\n",
       "   1,\n",
       "   1,\n",
       "   1,\n",
       "   1,\n",
       "   1,\n",
       "   1,\n",
       "   1,\n",
       "   1,\n",
       "   1,\n",
       "   1,\n",
       "   1,\n",
       "   1,\n",
       "   1,\n",
       "   1,\n",
       "   1,\n",
       "   1,\n",
       "   1,\n",
       "   1,\n",
       "   1,\n",
       "   1,\n",
       "   1,\n",
       "   1,\n",
       "   1,\n",
       "   1,\n",
       "   1,\n",
       "   1,\n",
       "   1,\n",
       "   1,\n",
       "   1,\n",
       "   1,\n",
       "   1,\n",
       "   1,\n",
       "   1,\n",
       "   1,\n",
       "   1,\n",
       "   1,\n",
       "   1,\n",
       "   1,\n",
       "   1,\n",
       "   1,\n",
       "   1,\n",
       "   1,\n",
       "   1,\n",
       "   1,\n",
       "   1,\n",
       "   1,\n",
       "   1,\n",
       "   1,\n",
       "   1,\n",
       "   1,\n",
       "   1,\n",
       "   1,\n",
       "   1,\n",
       "   1,\n",
       "   1,\n",
       "   1,\n",
       "   1,\n",
       "   1,\n",
       "   1]),\n",
       " ('1', [1, 1, 1, 1, 1, 1, 1, 1, 1, 1, 1, 1, 1]),\n",
       " ('fairest',\n",
       "  [1,\n",
       "   1,\n",
       "   1,\n",
       "   1,\n",
       "   1,\n",
       "   1,\n",
       "   1,\n",
       "   1,\n",
       "   1,\n",
       "   1,\n",
       "   1,\n",
       "   1,\n",
       "   1,\n",
       "   1,\n",
       "   1,\n",
       "   1,\n",
       "   1,\n",
       "   1,\n",
       "   1,\n",
       "   1,\n",
       "   1,\n",
       "   1,\n",
       "   1,\n",
       "   1,\n",
       "   1,\n",
       "   1,\n",
       "   1,\n",
       "   1,\n",
       "   1,\n",
       "   1,\n",
       "   1,\n",
       "   1,\n",
       "   1,\n",
       "   1,\n",
       "   1,\n",
       "   1,\n",
       "   1,\n",
       "   1,\n",
       "   1]),\n",
       " ('creatures',\n",
       "  [1,\n",
       "   1,\n",
       "   1,\n",
       "   1,\n",
       "   1,\n",
       "   1,\n",
       "   1,\n",
       "   1,\n",
       "   1,\n",
       "   1,\n",
       "   1,\n",
       "   1,\n",
       "   1,\n",
       "   1,\n",
       "   1,\n",
       "   1,\n",
       "   1,\n",
       "   1,\n",
       "   1,\n",
       "   1,\n",
       "   1,\n",
       "   1,\n",
       "   1,\n",
       "   1,\n",
       "   1,\n",
       "   1,\n",
       "   1]),\n",
       " ('we',\n",
       "  [1,\n",
       "   1,\n",
       "   1,\n",
       "   1,\n",
       "   1,\n",
       "   1,\n",
       "   1,\n",
       "   1,\n",
       "   1,\n",
       "   1,\n",
       "   1,\n",
       "   1,\n",
       "   1,\n",
       "   1,\n",
       "   1,\n",
       "   1,\n",
       "   1,\n",
       "   1,\n",
       "   1,\n",
       "   1,\n",
       "   1,\n",
       "   1,\n",
       "   1,\n",
       "   1,\n",
       "   1,\n",
       "   1,\n",
       "   1,\n",
       "   1,\n",
       "   1,\n",
       "   1,\n",
       "   1,\n",
       "   1,\n",
       "   1,\n",
       "   1,\n",
       "   1,\n",
       "   1,\n",
       "   1,\n",
       "   1,\n",
       "   1,\n",
       "   1,\n",
       "   1,\n",
       "   1,\n",
       "   1,\n",
       "   1,\n",
       "   1,\n",
       "   1,\n",
       "   1,\n",
       "   1,\n",
       "   1,\n",
       "   1,\n",
       "   1,\n",
       "   1,\n",
       "   1,\n",
       "   1,\n",
       "   1,\n",
       "   1,\n",
       "   1,\n",
       "   1,\n",
       "   1,\n",
       "   1,\n",
       "   1,\n",
       "   1,\n",
       "   1,\n",
       "   1,\n",
       "   1,\n",
       "   1,\n",
       "   1,\n",
       "   1,\n",
       "   1,\n",
       "   1,\n",
       "   1,\n",
       "   1,\n",
       "   1,\n",
       "   1,\n",
       "   1,\n",
       "   1,\n",
       "   1,\n",
       "   1,\n",
       "   1,\n",
       "   1,\n",
       "   1,\n",
       "   1,\n",
       "   1,\n",
       "   1,\n",
       "   1,\n",
       "   1,\n",
       "   1,\n",
       "   1,\n",
       "   1,\n",
       "   1,\n",
       "   1,\n",
       "   1,\n",
       "   1,\n",
       "   1,\n",
       "   1,\n",
       "   1,\n",
       "   1,\n",
       "   1,\n",
       "   1,\n",
       "   1,\n",
       "   1,\n",
       "   1,\n",
       "   1,\n",
       "   1,\n",
       "   1,\n",
       "   1,\n",
       "   1,\n",
       "   1,\n",
       "   1,\n",
       "   1,\n",
       "   1,\n",
       "   1,\n",
       "   1,\n",
       "   1,\n",
       "   1,\n",
       "   1,\n",
       "   1,\n",
       "   1,\n",
       "   1,\n",
       "   1,\n",
       "   1,\n",
       "   1,\n",
       "   1,\n",
       "   1,\n",
       "   1,\n",
       "   1,\n",
       "   1,\n",
       "   1,\n",
       "   1,\n",
       "   1,\n",
       "   1,\n",
       "   1,\n",
       "   1,\n",
       "   1,\n",
       "   1,\n",
       "   1,\n",
       "   1,\n",
       "   1,\n",
       "   1,\n",
       "   1,\n",
       "   1,\n",
       "   1,\n",
       "   1,\n",
       "   1,\n",
       "   1,\n",
       "   1,\n",
       "   1,\n",
       "   1,\n",
       "   1,\n",
       "   1,\n",
       "   1,\n",
       "   1,\n",
       "   1,\n",
       "   1,\n",
       "   1,\n",
       "   1,\n",
       "   1,\n",
       "   1,\n",
       "   1,\n",
       "   1,\n",
       "   1,\n",
       "   1,\n",
       "   1,\n",
       "   1,\n",
       "   1,\n",
       "   1,\n",
       "   1,\n",
       "   1,\n",
       "   1,\n",
       "   1,\n",
       "   1,\n",
       "   1,\n",
       "   1,\n",
       "   1,\n",
       "   1,\n",
       "   1,\n",
       "   1,\n",
       "   1,\n",
       "   1,\n",
       "   1,\n",
       "   1,\n",
       "   1,\n",
       "   1,\n",
       "   1,\n",
       "   1,\n",
       "   1,\n",
       "   1,\n",
       "   1,\n",
       "   1,\n",
       "   1,\n",
       "   1,\n",
       "   1,\n",
       "   1,\n",
       "   1,\n",
       "   1,\n",
       "   1,\n",
       "   1,\n",
       "   1,\n",
       "   1,\n",
       "   1,\n",
       "   1,\n",
       "   1,\n",
       "   1,\n",
       "   1,\n",
       "   1,\n",
       "   1,\n",
       "   1,\n",
       "   1,\n",
       "   1,\n",
       "   1,\n",
       "   1,\n",
       "   1,\n",
       "   1,\n",
       "   1,\n",
       "   1,\n",
       "   1,\n",
       "   1,\n",
       "   1,\n",
       "   1,\n",
       "   1,\n",
       "   1,\n",
       "   1,\n",
       "   1,\n",
       "   1,\n",
       "   1,\n",
       "   1,\n",
       "   1,\n",
       "   1,\n",
       "   1,\n",
       "   1,\n",
       "   1,\n",
       "   1,\n",
       "   1,\n",
       "   1,\n",
       "   1,\n",
       "   1,\n",
       "   1,\n",
       "   1,\n",
       "   1,\n",
       "   1,\n",
       "   1,\n",
       "   1,\n",
       "   1,\n",
       "   1,\n",
       "   1,\n",
       "   1,\n",
       "   1,\n",
       "   1,\n",
       "   1,\n",
       "   1,\n",
       "   1,\n",
       "   1,\n",
       "   1,\n",
       "   1,\n",
       "   1,\n",
       "   1,\n",
       "   1,\n",
       "   1,\n",
       "   1,\n",
       "   1,\n",
       "   1,\n",
       "   1,\n",
       "   1,\n",
       "   1,\n",
       "   1,\n",
       "   1,\n",
       "   1,\n",
       "   1,\n",
       "   1,\n",
       "   1,\n",
       "   1,\n",
       "   1,\n",
       "   1,\n",
       "   1,\n",
       "   1,\n",
       "   1,\n",
       "   1,\n",
       "   1,\n",
       "   1,\n",
       "   1,\n",
       "   1,\n",
       "   1,\n",
       "   1,\n",
       "   1,\n",
       "   1,\n",
       "   1,\n",
       "   1,\n",
       "   1,\n",
       "   1,\n",
       "   1,\n",
       "   1,\n",
       "   1,\n",
       "   1,\n",
       "   1,\n",
       "   1,\n",
       "   1,\n",
       "   1,\n",
       "   1,\n",
       "   1,\n",
       "   1,\n",
       "   1,\n",
       "   1,\n",
       "   1,\n",
       "   1,\n",
       "   1,\n",
       "   1,\n",
       "   1,\n",
       "   1,\n",
       "   1,\n",
       "   1,\n",
       "   1,\n",
       "   1,\n",
       "   1,\n",
       "   1,\n",
       "   1,\n",
       "   1,\n",
       "   1,\n",
       "   1,\n",
       "   1,\n",
       "   1,\n",
       "   1,\n",
       "   1,\n",
       "   1,\n",
       "   1,\n",
       "   1,\n",
       "   1,\n",
       "   1,\n",
       "   1,\n",
       "   1,\n",
       "   1,\n",
       "   1,\n",
       "   1,\n",
       "   1,\n",
       "   1,\n",
       "   1,\n",
       "   1,\n",
       "   1,\n",
       "   1,\n",
       "   1,\n",
       "   1,\n",
       "   1,\n",
       "   1,\n",
       "   1,\n",
       "   1,\n",
       "   1,\n",
       "   1,\n",
       "   1,\n",
       "   1,\n",
       "   1,\n",
       "   1,\n",
       "   1,\n",
       "   1,\n",
       "   1,\n",
       "   1,\n",
       "   1,\n",
       "   1,\n",
       "   1,\n",
       "   1,\n",
       "   1,\n",
       "   1,\n",
       "   1,\n",
       "   1,\n",
       "   1,\n",
       "   1,\n",
       "   1,\n",
       "   1,\n",
       "   1,\n",
       "   1,\n",
       "   1,\n",
       "   1,\n",
       "   1,\n",
       "   1,\n",
       "   1,\n",
       "   1,\n",
       "   1,\n",
       "   1,\n",
       "   1,\n",
       "   1,\n",
       "   1,\n",
       "   1,\n",
       "   1,\n",
       "   1,\n",
       "   1,\n",
       "   1,\n",
       "   1,\n",
       "   1,\n",
       "   1,\n",
       "   1,\n",
       "   1,\n",
       "   1,\n",
       "   1,\n",
       "   1,\n",
       "   1,\n",
       "   1,\n",
       "   1,\n",
       "   1,\n",
       "   1,\n",
       "   1,\n",
       "   1,\n",
       "   1,\n",
       "   1,\n",
       "   1,\n",
       "   1,\n",
       "   1,\n",
       "   1,\n",
       "   1,\n",
       "   1,\n",
       "   1,\n",
       "   1,\n",
       "   1,\n",
       "   1,\n",
       "   1,\n",
       "   1,\n",
       "   1,\n",
       "   1,\n",
       "   1,\n",
       "   1,\n",
       "   1,\n",
       "   1,\n",
       "   1,\n",
       "   1,\n",
       "   1,\n",
       "   1,\n",
       "   1,\n",
       "   1,\n",
       "   1,\n",
       "   1,\n",
       "   1,\n",
       "   1,\n",
       "   1,\n",
       "   1,\n",
       "   1,\n",
       "   1,\n",
       "   1,\n",
       "   1,\n",
       "   1,\n",
       "   1,\n",
       "   1,\n",
       "   1,\n",
       "   1,\n",
       "   1,\n",
       "   1,\n",
       "   1,\n",
       "   1,\n",
       "   1,\n",
       "   1,\n",
       "   1,\n",
       "   1,\n",
       "   1,\n",
       "   1,\n",
       "   1,\n",
       "   1,\n",
       "   1,\n",
       "   1,\n",
       "   1,\n",
       "   1,\n",
       "   1,\n",
       "   1,\n",
       "   1,\n",
       "   1,\n",
       "   1,\n",
       "   1,\n",
       "   1,\n",
       "   1,\n",
       "   1,\n",
       "   1,\n",
       "   1,\n",
       "   1,\n",
       "   1,\n",
       "   1,\n",
       "   1,\n",
       "   1,\n",
       "   1,\n",
       "   1,\n",
       "   1,\n",
       "   1,\n",
       "   1,\n",
       "   1,\n",
       "   1,\n",
       "   1,\n",
       "   1,\n",
       "   1,\n",
       "   1,\n",
       "   1,\n",
       "   1,\n",
       "   1,\n",
       "   1,\n",
       "   1,\n",
       "   1,\n",
       "   1,\n",
       "   1,\n",
       "   1,\n",
       "   1,\n",
       "   1,\n",
       "   1,\n",
       "   1,\n",
       "   1,\n",
       "   1,\n",
       "   1,\n",
       "   1,\n",
       "   1,\n",
       "   1,\n",
       "   1,\n",
       "   1,\n",
       "   1,\n",
       "   1,\n",
       "   1,\n",
       "   1,\n",
       "   1,\n",
       "   1,\n",
       "   1,\n",
       "   1,\n",
       "   1,\n",
       "   1,\n",
       "   1,\n",
       "   1,\n",
       "   1,\n",
       "   1,\n",
       "   1,\n",
       "   1,\n",
       "   1,\n",
       "   1,\n",
       "   1,\n",
       "   1,\n",
       "   1,\n",
       "   1,\n",
       "   1,\n",
       "   1,\n",
       "   1,\n",
       "   1,\n",
       "   1,\n",
       "   1,\n",
       "   1,\n",
       "   1,\n",
       "   1,\n",
       "   1,\n",
       "   1,\n",
       "   1,\n",
       "   1,\n",
       "   1,\n",
       "   1,\n",
       "   1,\n",
       "   1,\n",
       "   1,\n",
       "   1,\n",
       "   1,\n",
       "   1,\n",
       "   1,\n",
       "   1,\n",
       "   1,\n",
       "   1,\n",
       "   1,\n",
       "   1,\n",
       "   1,\n",
       "   1,\n",
       "   1,\n",
       "   1,\n",
       "   1,\n",
       "   1,\n",
       "   1,\n",
       "   1,\n",
       "   1,\n",
       "   1,\n",
       "   1,\n",
       "   1,\n",
       "   1,\n",
       "   1,\n",
       "   1,\n",
       "   1,\n",
       "   1,\n",
       "   1,\n",
       "   1,\n",
       "   1,\n",
       "   1,\n",
       "   1,\n",
       "   1,\n",
       "   1,\n",
       "   1,\n",
       "   1,\n",
       "   1,\n",
       "   1,\n",
       "   1,\n",
       "   1,\n",
       "   1,\n",
       "   1,\n",
       "   1,\n",
       "   1,\n",
       "   1,\n",
       "   1,\n",
       "   1,\n",
       "   1,\n",
       "   1,\n",
       "   1,\n",
       "   1,\n",
       "   1,\n",
       "   1,\n",
       "   1,\n",
       "   1,\n",
       "   1,\n",
       "   1,\n",
       "   1,\n",
       "   1,\n",
       "   1,\n",
       "   1,\n",
       "   1,\n",
       "   1,\n",
       "   1,\n",
       "   1,\n",
       "   1,\n",
       "   1,\n",
       "   1,\n",
       "   1,\n",
       "   1,\n",
       "   1,\n",
       "   1,\n",
       "   1,\n",
       "   1,\n",
       "   1,\n",
       "   1,\n",
       "   1,\n",
       "   1,\n",
       "   1,\n",
       "   1,\n",
       "   1,\n",
       "   1,\n",
       "   1,\n",
       "   1,\n",
       "   1,\n",
       "   1,\n",
       "   1,\n",
       "   1,\n",
       "   1,\n",
       "   1,\n",
       "   1,\n",
       "   1,\n",
       "   1,\n",
       "   1,\n",
       "   1,\n",
       "   1,\n",
       "   1,\n",
       "   1,\n",
       "   1,\n",
       "   1,\n",
       "   1,\n",
       "   1,\n",
       "   1,\n",
       "   1,\n",
       "   1,\n",
       "   1,\n",
       "   1,\n",
       "   1,\n",
       "   1,\n",
       "   1,\n",
       "   1,\n",
       "   1,\n",
       "   1,\n",
       "   1,\n",
       "   1,\n",
       "   1,\n",
       "   1,\n",
       "   1,\n",
       "   1,\n",
       "   1,\n",
       "   1,\n",
       "   1,\n",
       "   1,\n",
       "   1,\n",
       "   1,\n",
       "   1,\n",
       "   1,\n",
       "   1,\n",
       "   1,\n",
       "   1,\n",
       "   1,\n",
       "   1,\n",
       "   1,\n",
       "   1,\n",
       "   1,\n",
       "   1,\n",
       "   1,\n",
       "   1,\n",
       "   1,\n",
       "   1,\n",
       "   1,\n",
       "   1,\n",
       "   1,\n",
       "   1,\n",
       "   1,\n",
       "   1,\n",
       "   1,\n",
       "   1,\n",
       "   1,\n",
       "   1,\n",
       "   1,\n",
       "   1,\n",
       "   1,\n",
       "   1,\n",
       "   1,\n",
       "   1,\n",
       "   1,\n",
       "   1,\n",
       "   1,\n",
       "   1,\n",
       "   1,\n",
       "   1,\n",
       "   1,\n",
       "   1,\n",
       "   1,\n",
       "   1,\n",
       "   1,\n",
       "   1,\n",
       "   1,\n",
       "   1,\n",
       "   1,\n",
       "   1,\n",
       "   1,\n",
       "   1,\n",
       "   1,\n",
       "   1,\n",
       "   1,\n",
       "   1,\n",
       "   1,\n",
       "   1,\n",
       "   1,\n",
       "   1,\n",
       "   1,\n",
       "   1,\n",
       "   1,\n",
       "   1,\n",
       "   1,\n",
       "   1,\n",
       "   1,\n",
       "   1,\n",
       "   1,\n",
       "   1,\n",
       "   1,\n",
       "   1,\n",
       "   1,\n",
       "   1,\n",
       "   1,\n",
       "   1,\n",
       "   1,\n",
       "   1,\n",
       "   1,\n",
       "   1,\n",
       "   1,\n",
       "   1,\n",
       "   1,\n",
       "   1,\n",
       "   1,\n",
       "   1,\n",
       "   1,\n",
       "   1,\n",
       "   1,\n",
       "   1,\n",
       "   1,\n",
       "   1,\n",
       "   1,\n",
       "   1,\n",
       "   1,\n",
       "   1,\n",
       "   1,\n",
       "   1,\n",
       "   1,\n",
       "   1,\n",
       "   1,\n",
       "   1,\n",
       "   1,\n",
       "   1,\n",
       "   1,\n",
       "   1,\n",
       "   1,\n",
       "   1,\n",
       "   1,\n",
       "   1,\n",
       "   1,\n",
       "   1,\n",
       "   1,\n",
       "   1,\n",
       "   1,\n",
       "   1,\n",
       "   1,\n",
       "   1,\n",
       "   1,\n",
       "   1,\n",
       "   1,\n",
       "   1,\n",
       "   1,\n",
       "   1,\n",
       "   1,\n",
       "   1,\n",
       "   1,\n",
       "   1,\n",
       "   1,\n",
       "   1,\n",
       "   1,\n",
       "   1,\n",
       "   1,\n",
       "   1,\n",
       "   1,\n",
       "   1,\n",
       "   1,\n",
       "   1,\n",
       "   1,\n",
       "   1,\n",
       "   1,\n",
       "   1,\n",
       "   1,\n",
       "   1,\n",
       "   1,\n",
       "   1,\n",
       "   1,\n",
       "   1,\n",
       "   1,\n",
       "   1,\n",
       "   1,\n",
       "   1,\n",
       "   1,\n",
       "   1,\n",
       "   1,\n",
       "   1,\n",
       "   1,\n",
       "   1,\n",
       "   1,\n",
       "   1,\n",
       "   1,\n",
       "   1,\n",
       "   1,\n",
       "   1,\n",
       "   1,\n",
       "   1,\n",
       "   1,\n",
       "   1,\n",
       "   1,\n",
       "   1,\n",
       "   1,\n",
       "   1,\n",
       "   1,\n",
       "   1,\n",
       "   1,\n",
       "   1,\n",
       "   1,\n",
       "   1,\n",
       "   1,\n",
       "   1,\n",
       "   1,\n",
       "   1,\n",
       "   1,\n",
       "   1,\n",
       "   1,\n",
       "   1,\n",
       "   1,\n",
       "   1,\n",
       "   1,\n",
       "   1,\n",
       "   1,\n",
       "   1,\n",
       "   1,\n",
       "   1,\n",
       "   1,\n",
       "   1,\n",
       "   1,\n",
       "   1,\n",
       "   1,\n",
       "   1,\n",
       "   1,\n",
       "   1,\n",
       "   1,\n",
       "   1,\n",
       "   1,\n",
       "   1,\n",
       "   1,\n",
       "   1,\n",
       "   1,\n",
       "   1,\n",
       "   1,\n",
       "   1,\n",
       "   1,\n",
       "   1,\n",
       "   1,\n",
       "   1,\n",
       "   1,\n",
       "   1,\n",
       "   1,\n",
       "   1,\n",
       "   1,\n",
       "   1,\n",
       "   1,\n",
       "   1,\n",
       "   1,\n",
       "   1,\n",
       "   1,\n",
       "   1,\n",
       "   1,\n",
       "   1,\n",
       "   1,\n",
       "   1,\n",
       "   1,\n",
       "   1,\n",
       "   1,\n",
       "   1,\n",
       "   1,\n",
       "   1,\n",
       "   1,\n",
       "   1,\n",
       "   1,\n",
       "   1,\n",
       "   1,\n",
       "   1,\n",
       "   1,\n",
       "   1,\n",
       "   1,\n",
       "   1,\n",
       "   1,\n",
       "   1,\n",
       "   1,\n",
       "   1,\n",
       "   1,\n",
       "   1,\n",
       "   1,\n",
       "   1,\n",
       "   1,\n",
       "   1,\n",
       "   1,\n",
       "   1,\n",
       "   1,\n",
       "   1,\n",
       "   1,\n",
       "   1,\n",
       "   1,\n",
       "   1,\n",
       "   1,\n",
       "   1,\n",
       "   1,\n",
       "   1,\n",
       "   1,\n",
       "   1,\n",
       "   1,\n",
       "   1,\n",
       "   1,\n",
       "   1,\n",
       "   1,\n",
       "   1,\n",
       "   1,\n",
       "   1,\n",
       "   1,\n",
       "   1,\n",
       "   1,\n",
       "   1,\n",
       "   1,\n",
       "   1,\n",
       "   1,\n",
       "   1,\n",
       "   1,\n",
       "   1,\n",
       "   1,\n",
       "   1,\n",
       "   1,\n",
       "   1,\n",
       "   1,\n",
       "   1,\n",
       "   1,\n",
       "   1,\n",
       "   1,\n",
       "   1,\n",
       "   1,\n",
       "   1,\n",
       "   1,\n",
       "   1,\n",
       "   1,\n",
       "   1,\n",
       "   1,\n",
       "   1,\n",
       "   1,\n",
       "   1,\n",
       "   1,\n",
       "   1,\n",
       "   1,\n",
       "   1,\n",
       "   1,\n",
       "   1,\n",
       "   1,\n",
       "   1,\n",
       "   1,\n",
       "   1,\n",
       "   1,\n",
       "   1,\n",
       "   1,\n",
       "   1,\n",
       "   1,\n",
       "   1,\n",
       "   1,\n",
       "   1,\n",
       "   1,\n",
       "   1,\n",
       "   1,\n",
       "   1,\n",
       "   1,\n",
       "   1,\n",
       "   1,\n",
       "   ...])]"
      ]
     },
     "execution_count": 193,
     "metadata": {},
     "output_type": "execute_result"
    }
   ],
   "source": [
    "wordsCount.groupByKey().map(lambda a: (a[0], list(a[1]))).take(5)"
   ]
  },
  {
   "cell_type": "code",
   "execution_count": 194,
   "metadata": {
    "id": "AR1N2D4fXpLn"
   },
   "outputs": [
    {
     "data": {
      "text/plain": [
       "[('riper', [1, 1, 1]),\n",
       " ('memory:', [1]),\n",
       " (\"feed'st\", [1, 1, 1]),\n",
       " (\"light's\", [1]),\n",
       " ('fuel,', [1])]"
      ]
     },
     "execution_count": 194,
     "metadata": {},
     "output_type": "execute_result"
    }
   ],
   "source": [
    "wordsCount.groupByKey().filter(lambda x: len(x[1]) < 5).map(lambda a: (a[0], list(a[1]))).take(5)"
   ]
  },
  {
   "cell_type": "markdown",
   "metadata": {
    "id": "4QDBwG7ZYVmV"
   },
   "source": [
    "## Palabra más larga (reduce)"
   ]
  },
  {
   "cell_type": "code",
   "execution_count": 195,
   "metadata": {
    "id": "H-tIGKUtYbeg"
   },
   "outputs": [
    {
     "data": {
      "text/plain": [
       "'http://www.ibiblio.org/gutenberg/etext06'"
      ]
     },
     "execution_count": 195,
     "metadata": {},
     "output_type": "execute_result"
    }
   ],
   "source": [
    "words.reduce(lambda a, b: a if (len(a) > len(b)) else b)"
   ]
  },
  {
   "cell_type": "markdown",
   "metadata": {
    "id": "FWyAXyTfYnL2"
   },
   "source": [
    "## Palabras que empiezan con a (filter)"
   ]
  },
  {
   "cell_type": "code",
   "execution_count": 196,
   "metadata": {
    "id": "lL3AThZsYtcp"
   },
   "outputs": [],
   "source": [
    "wordsA = words.filter(lambda word: word.startswith('a'))"
   ]
  },
  {
   "cell_type": "code",
   "execution_count": 197,
   "metadata": {
    "id": "UAeEHwp9Y1e9"
   },
   "outputs": [
    {
     "data": {
      "text/plain": [
       "63676"
      ]
     },
     "execution_count": 197,
     "metadata": {},
     "output_type": "execute_result"
    }
   ],
   "source": [
    "wordsA.count()"
   ]
  },
  {
   "cell_type": "code",
   "execution_count": 198,
   "metadata": {
    "id": "oqR7v7k1Y39H"
   },
   "outputs": [
    {
     "data": {
      "text/plain": [
       "['as', 'a', 'abundance', 'art', 'and', 'a', 'asked,', 'all', 'all', 'an']"
      ]
     },
     "execution_count": 198,
     "metadata": {},
     "output_type": "execute_result"
    }
   ],
   "source": [
    "wordsA.take(10)"
   ]
  },
  {
   "cell_type": "markdown",
   "metadata": {
    "id": "oh21OigvZBRD"
   },
   "source": [
    "## Palabras únicas que empiezan con a (distinct)"
   ]
  },
  {
   "cell_type": "code",
   "execution_count": 199,
   "metadata": {
    "id": "rI4olhzfZEkV"
   },
   "outputs": [
    {
     "data": {
      "text/plain": [
       "2688"
      ]
     },
     "execution_count": 199,
     "metadata": {},
     "output_type": "execute_result"
    }
   ],
   "source": [
    "wordsA.distinct().count()"
   ]
  },
  {
   "cell_type": "markdown",
   "metadata": {
    "id": "DpKemb9lZOoa"
   },
   "source": [
    "## Cantidad de palabras por frecuencia de repetición ordenados (sortByKey)"
   ]
  },
  {
   "cell_type": "code",
   "execution_count": 200,
   "metadata": {
    "id": "f7WAUcp76rvF"
   },
   "outputs": [
    {
     "data": {
      "text/plain": [
       "[('shakespeare', 258),\n",
       " ('1', 13),\n",
       " ('fairest', 39),\n",
       " ('creatures', 27),\n",
       " ('we', 3210)]"
      ]
     },
     "execution_count": 200,
     "metadata": {},
     "output_type": "execute_result"
    }
   ],
   "source": [
    "wordsCounted.take(5)"
   ]
  },
  {
   "cell_type": "code",
   "execution_count": 201,
   "metadata": {
    "id": "txZj8VR1K0MY"
   },
   "outputs": [],
   "source": [
    "wordsFreq = wordsCounted.map(lambda x: (x[1],1))"
   ]
  },
  {
   "cell_type": "code",
   "execution_count": 202,
   "metadata": {
    "id": "88ZPvuP4LgBt"
   },
   "outputs": [
    {
     "data": {
      "text/plain": [
       "[(258, 1),\n",
       " (13, 1),\n",
       " (39, 1),\n",
       " (27, 1),\n",
       " (3210, 1),\n",
       " (9, 1),\n",
       " (21, 1),\n",
       " (30, 1),\n",
       " (44, 1),\n",
       " (959, 1)]"
      ]
     },
     "execution_count": 202,
     "metadata": {},
     "output_type": "execute_result"
    }
   ],
   "source": [
    "wordsFreq.take(10)"
   ]
  },
  {
   "cell_type": "code",
   "execution_count": 203,
   "metadata": {
    "id": "JGd12kyHZdIS"
   },
   "outputs": [
    {
     "data": {
      "text/plain": [
       "[(1, 31072),\n",
       " (2, 8493),\n",
       " (3, 4342),\n",
       " (4, 2659),\n",
       " (5, 1822),\n",
       " (6, 1338),\n",
       " (7, 1053),\n",
       " (8, 779),\n",
       " (9, 700),\n",
       " (10, 549)]"
      ]
     },
     "execution_count": 203,
     "metadata": {},
     "output_type": "execute_result"
    }
   ],
   "source": [
    "wordsFreq.reduceByKey(lambda a,b: a+b).sortByKey().take(10)"
   ]
  },
  {
   "cell_type": "code",
   "execution_count": 204,
   "metadata": {
    "id": "YhA9tmhZLuZF"
   },
   "outputs": [
    {
     "data": {
      "text/plain": [
       "[(1, 31072),\n",
       " (2, 8493),\n",
       " (3, 4342),\n",
       " (4, 2659),\n",
       " (5, 1822),\n",
       " (6, 1338),\n",
       " (7, 1053),\n",
       " (8, 779),\n",
       " (9, 700),\n",
       " (10, 549)]"
      ]
     },
     "execution_count": 204,
     "metadata": {},
     "output_type": "execute_result"
    }
   ],
   "source": [
    "wordsFreq.reduceByKey(lambda a,b: a+b).takeOrdered(10, lambda x: -x[1])"
   ]
  },
  {
   "cell_type": "markdown",
   "metadata": {
    "id": "AqrkX2Jh73fR"
   },
   "source": [
    "# Transformaciones entre dos RDD"
   ]
  },
  {
   "cell_type": "markdown",
   "metadata": {
    "id": "legQOraf7-ai"
   },
   "source": [
    "## Union"
   ]
  },
  {
   "cell_type": "markdown",
   "metadata": {
    "id": "F76c0ngp8JhD"
   },
   "source": [
    "Obtiene la unión entre dos RDD."
   ]
  },
  {
   "cell_type": "code",
   "execution_count": 205,
   "metadata": {
    "id": "FMqSaDhQOA0V"
   },
   "outputs": [
    {
     "data": {
      "text/plain": [
       "1000"
      ]
     },
     "execution_count": 205,
     "metadata": {},
     "output_type": "execute_result"
    }
   ],
   "source": [
    "integersList2 = range(501,1501)\n",
    "len(integersList2)"
   ]
  },
  {
   "cell_type": "code",
   "execution_count": 206,
   "metadata": {
    "id": "jDB8R4mp9SxM"
   },
   "outputs": [],
   "source": [
    "integersList2RDD = sc.parallelize(integersList2)"
   ]
  },
  {
   "cell_type": "code",
   "execution_count": 207,
   "metadata": {
    "id": "D4jCnCS49bot"
   },
   "outputs": [
    {
     "data": {
      "text/plain": [
       "1000"
      ]
     },
     "execution_count": 207,
     "metadata": {},
     "output_type": "execute_result"
    }
   ],
   "source": [
    "integersList2RDD.count()"
   ]
  },
  {
   "cell_type": "code",
   "execution_count": 208,
   "metadata": {
    "id": "jB-WFpLB9dWF"
   },
   "outputs": [
    {
     "data": {
      "text/plain": [
       "1000"
      ]
     },
     "execution_count": 208,
     "metadata": {},
     "output_type": "execute_result"
    }
   ],
   "source": [
    "integersListRDD.count()"
   ]
  },
  {
   "cell_type": "code",
   "execution_count": 209,
   "metadata": {
    "id": "70C8rrq49lUI"
   },
   "outputs": [],
   "source": [
    "union = integersListRDD.union(integersList2RDD)"
   ]
  },
  {
   "cell_type": "code",
   "execution_count": 210,
   "metadata": {
    "id": "p9lL1l6g9o8y"
   },
   "outputs": [
    {
     "data": {
      "text/plain": [
       "[1, 2, 3, 4, 5]"
      ]
     },
     "execution_count": 210,
     "metadata": {},
     "output_type": "execute_result"
    }
   ],
   "source": [
    "union.take(5)"
   ]
  },
  {
   "cell_type": "code",
   "execution_count": 211,
   "metadata": {
    "id": "cfwo3GW99q0L"
   },
   "outputs": [
    {
     "data": {
      "text/plain": [
       "2000"
      ]
     },
     "execution_count": 211,
     "metadata": {},
     "output_type": "execute_result"
    }
   ],
   "source": [
    "union.count()"
   ]
  },
  {
   "cell_type": "markdown",
   "metadata": {
    "id": "zJ18HxVP9uSW"
   },
   "source": [
    "## Intersection"
   ]
  },
  {
   "cell_type": "markdown",
   "metadata": {
    "id": "p6bSa4ml93CA"
   },
   "source": [
    "Intersección entre dos RDD."
   ]
  },
  {
   "cell_type": "code",
   "execution_count": 212,
   "metadata": {
    "id": "ZJO8WJ1D9sEE"
   },
   "outputs": [],
   "source": [
    "intersection = integersListRDD.intersection(integersList2RDD)"
   ]
  },
  {
   "cell_type": "code",
   "execution_count": 213,
   "metadata": {
    "id": "oQ2IVU3T9-cC"
   },
   "outputs": [
    {
     "data": {
      "text/plain": [
       "500"
      ]
     },
     "execution_count": 213,
     "metadata": {},
     "output_type": "execute_result"
    }
   ],
   "source": [
    "intersection.count()"
   ]
  },
  {
   "cell_type": "code",
   "execution_count": 214,
   "metadata": {
    "id": "hZheIKRNjOio"
   },
   "outputs": [
    {
     "data": {
      "text/plain": [
       "[512, 528, 544, 560, 576, 592, 608, 624, 640, 656]"
      ]
     },
     "execution_count": 214,
     "metadata": {},
     "output_type": "execute_result"
    }
   ],
   "source": [
    "intersection.take(10)"
   ]
  },
  {
   "cell_type": "code",
   "execution_count": 215,
   "metadata": {
    "id": "buyC_d50jSPQ"
   },
   "outputs": [
    {
     "data": {
      "text/plain": [
       "[512,\n",
       " 528,\n",
       " 544,\n",
       " 560,\n",
       " 576,\n",
       " 592,\n",
       " 608,\n",
       " 624,\n",
       " 640,\n",
       " 656,\n",
       " 672,\n",
       " 688,\n",
       " 704,\n",
       " 720,\n",
       " 736,\n",
       " 752,\n",
       " 768,\n",
       " 784,\n",
       " 800,\n",
       " 816,\n",
       " 832,\n",
       " 848,\n",
       " 864,\n",
       " 880,\n",
       " 896,\n",
       " 912,\n",
       " 928,\n",
       " 944,\n",
       " 960,\n",
       " 976,\n",
       " 992,\n",
       " 513,\n",
       " 529,\n",
       " 545,\n",
       " 561,\n",
       " 577,\n",
       " 593,\n",
       " 609,\n",
       " 625,\n",
       " 641,\n",
       " 657,\n",
       " 673,\n",
       " 689,\n",
       " 705,\n",
       " 721,\n",
       " 737,\n",
       " 753,\n",
       " 769,\n",
       " 785,\n",
       " 801,\n",
       " 817,\n",
       " 833,\n",
       " 849,\n",
       " 865,\n",
       " 881,\n",
       " 897,\n",
       " 913,\n",
       " 929,\n",
       " 945,\n",
       " 961,\n",
       " 977,\n",
       " 993,\n",
       " 514,\n",
       " 530,\n",
       " 546,\n",
       " 562,\n",
       " 578,\n",
       " 594,\n",
       " 610,\n",
       " 626,\n",
       " 642,\n",
       " 658,\n",
       " 674,\n",
       " 690,\n",
       " 706,\n",
       " 722,\n",
       " 738,\n",
       " 754,\n",
       " 770,\n",
       " 786,\n",
       " 802,\n",
       " 818,\n",
       " 834,\n",
       " 850,\n",
       " 866,\n",
       " 882,\n",
       " 898,\n",
       " 914,\n",
       " 930,\n",
       " 946,\n",
       " 962,\n",
       " 978,\n",
       " 994,\n",
       " 515,\n",
       " 531,\n",
       " 547,\n",
       " 563,\n",
       " 579,\n",
       " 595,\n",
       " 611,\n",
       " 627,\n",
       " 643,\n",
       " 659,\n",
       " 675,\n",
       " 691,\n",
       " 707,\n",
       " 723,\n",
       " 739,\n",
       " 755,\n",
       " 771,\n",
       " 787,\n",
       " 803,\n",
       " 819,\n",
       " 835,\n",
       " 851,\n",
       " 867,\n",
       " 883,\n",
       " 899,\n",
       " 915,\n",
       " 931,\n",
       " 947,\n",
       " 963,\n",
       " 979,\n",
       " 995,\n",
       " 516,\n",
       " 532,\n",
       " 548,\n",
       " 564,\n",
       " 580,\n",
       " 596,\n",
       " 612,\n",
       " 628,\n",
       " 644,\n",
       " 660,\n",
       " 676,\n",
       " 692,\n",
       " 708,\n",
       " 724,\n",
       " 740,\n",
       " 756,\n",
       " 772,\n",
       " 788,\n",
       " 804,\n",
       " 820,\n",
       " 836,\n",
       " 852,\n",
       " 868,\n",
       " 884,\n",
       " 900,\n",
       " 916,\n",
       " 932,\n",
       " 948,\n",
       " 964,\n",
       " 980,\n",
       " 996,\n",
       " 501,\n",
       " 517,\n",
       " 533,\n",
       " 549,\n",
       " 565,\n",
       " 581,\n",
       " 597,\n",
       " 613,\n",
       " 629,\n",
       " 645,\n",
       " 661,\n",
       " 677,\n",
       " 693,\n",
       " 709,\n",
       " 725,\n",
       " 741,\n",
       " 757,\n",
       " 773,\n",
       " 789,\n",
       " 805,\n",
       " 821,\n",
       " 837,\n",
       " 853,\n",
       " 869,\n",
       " 885,\n",
       " 901,\n",
       " 917,\n",
       " 933,\n",
       " 949,\n",
       " 965,\n",
       " 981,\n",
       " 997,\n",
       " 502,\n",
       " 518,\n",
       " 534,\n",
       " 550,\n",
       " 566,\n",
       " 582,\n",
       " 598,\n",
       " 614,\n",
       " 630,\n",
       " 646,\n",
       " 662,\n",
       " 678,\n",
       " 694,\n",
       " 710,\n",
       " 726,\n",
       " 742,\n",
       " 758,\n",
       " 774,\n",
       " 790,\n",
       " 806,\n",
       " 822,\n",
       " 838,\n",
       " 854,\n",
       " 870,\n",
       " 886,\n",
       " 902,\n",
       " 918,\n",
       " 934,\n",
       " 950,\n",
       " 966,\n",
       " 982,\n",
       " 998,\n",
       " 503,\n",
       " 519,\n",
       " 535,\n",
       " 551,\n",
       " 567,\n",
       " 583,\n",
       " 599,\n",
       " 615,\n",
       " 631,\n",
       " 647,\n",
       " 663,\n",
       " 679,\n",
       " 695,\n",
       " 711,\n",
       " 727,\n",
       " 743,\n",
       " 759,\n",
       " 775,\n",
       " 791,\n",
       " 807,\n",
       " 823,\n",
       " 839,\n",
       " 855,\n",
       " 871,\n",
       " 887,\n",
       " 903,\n",
       " 919,\n",
       " 935,\n",
       " 951,\n",
       " 967,\n",
       " 983,\n",
       " 999,\n",
       " 504,\n",
       " 520,\n",
       " 536,\n",
       " 552,\n",
       " 568,\n",
       " 584,\n",
       " 600,\n",
       " 616,\n",
       " 632,\n",
       " 648,\n",
       " 664,\n",
       " 680,\n",
       " 696,\n",
       " 712,\n",
       " 728,\n",
       " 744,\n",
       " 760,\n",
       " 776,\n",
       " 792,\n",
       " 808,\n",
       " 824,\n",
       " 840,\n",
       " 856,\n",
       " 872,\n",
       " 888,\n",
       " 904,\n",
       " 920,\n",
       " 936,\n",
       " 952,\n",
       " 968,\n",
       " 984,\n",
       " 1000,\n",
       " 505,\n",
       " 521,\n",
       " 537,\n",
       " 553,\n",
       " 569,\n",
       " 585,\n",
       " 601,\n",
       " 617,\n",
       " 633,\n",
       " 649,\n",
       " 665,\n",
       " 681,\n",
       " 697,\n",
       " 713,\n",
       " 729,\n",
       " 745,\n",
       " 761,\n",
       " 777,\n",
       " 793,\n",
       " 809,\n",
       " 825,\n",
       " 841,\n",
       " 857,\n",
       " 873,\n",
       " 889,\n",
       " 905,\n",
       " 921,\n",
       " 937,\n",
       " 953,\n",
       " 969,\n",
       " 985,\n",
       " 506,\n",
       " 522,\n",
       " 538,\n",
       " 554,\n",
       " 570,\n",
       " 586,\n",
       " 602,\n",
       " 618,\n",
       " 634,\n",
       " 650,\n",
       " 666,\n",
       " 682,\n",
       " 698,\n",
       " 714,\n",
       " 730,\n",
       " 746,\n",
       " 762,\n",
       " 778,\n",
       " 794,\n",
       " 810,\n",
       " 826,\n",
       " 842,\n",
       " 858,\n",
       " 874,\n",
       " 890,\n",
       " 906,\n",
       " 922,\n",
       " 938,\n",
       " 954,\n",
       " 970,\n",
       " 986,\n",
       " 507,\n",
       " 523,\n",
       " 539,\n",
       " 555,\n",
       " 571,\n",
       " 587,\n",
       " 603,\n",
       " 619,\n",
       " 635,\n",
       " 651,\n",
       " 667,\n",
       " 683,\n",
       " 699,\n",
       " 715,\n",
       " 731,\n",
       " 747,\n",
       " 763,\n",
       " 779,\n",
       " 795,\n",
       " 811,\n",
       " 827,\n",
       " 843,\n",
       " 859,\n",
       " 875,\n",
       " 891,\n",
       " 907,\n",
       " 923,\n",
       " 939,\n",
       " 955,\n",
       " 971,\n",
       " 987,\n",
       " 508,\n",
       " 524,\n",
       " 540,\n",
       " 556,\n",
       " 572,\n",
       " 588,\n",
       " 604,\n",
       " 620,\n",
       " 636,\n",
       " 652,\n",
       " 668,\n",
       " 684,\n",
       " 700,\n",
       " 716,\n",
       " 732,\n",
       " 748,\n",
       " 764,\n",
       " 780,\n",
       " 796,\n",
       " 812,\n",
       " 828,\n",
       " 844,\n",
       " 860,\n",
       " 876,\n",
       " 892,\n",
       " 908,\n",
       " 924,\n",
       " 940,\n",
       " 956,\n",
       " 972,\n",
       " 988,\n",
       " 509,\n",
       " 525,\n",
       " 541,\n",
       " 557,\n",
       " 573,\n",
       " 589,\n",
       " 605,\n",
       " 621,\n",
       " 637,\n",
       " 653,\n",
       " 669,\n",
       " 685,\n",
       " 701,\n",
       " 717,\n",
       " 733,\n",
       " 749,\n",
       " 765,\n",
       " 781,\n",
       " 797,\n",
       " 813,\n",
       " 829,\n",
       " 845,\n",
       " 861,\n",
       " 877,\n",
       " 893,\n",
       " 909,\n",
       " 925,\n",
       " 941,\n",
       " 957,\n",
       " 973,\n",
       " 989,\n",
       " 510,\n",
       " 526,\n",
       " 542,\n",
       " 558,\n",
       " 574,\n",
       " 590,\n",
       " 606,\n",
       " 622,\n",
       " 638,\n",
       " 654,\n",
       " 670,\n",
       " 686,\n",
       " 702,\n",
       " 718,\n",
       " 734,\n",
       " 750,\n",
       " 766,\n",
       " 782,\n",
       " 798,\n",
       " 814,\n",
       " 830,\n",
       " 846,\n",
       " 862,\n",
       " 878,\n",
       " 894,\n",
       " 910,\n",
       " 926,\n",
       " 942,\n",
       " 958,\n",
       " 974,\n",
       " 990,\n",
       " 511,\n",
       " 527,\n",
       " 543,\n",
       " 559,\n",
       " 575,\n",
       " 591,\n",
       " 607,\n",
       " 623,\n",
       " 639,\n",
       " 655,\n",
       " 671,\n",
       " 687,\n",
       " 703,\n",
       " 719,\n",
       " 735,\n",
       " 751,\n",
       " 767,\n",
       " 783,\n",
       " 799,\n",
       " 815,\n",
       " 831,\n",
       " 847,\n",
       " 863,\n",
       " 879,\n",
       " 895,\n",
       " 911,\n",
       " 927,\n",
       " 943,\n",
       " 959,\n",
       " 975,\n",
       " 991]"
      ]
     },
     "execution_count": 215,
     "metadata": {},
     "output_type": "execute_result"
    }
   ],
   "source": [
    "intersection.collect()"
   ]
  },
  {
   "cell_type": "markdown",
   "metadata": {
    "id": "28l3dlYxJzyi"
   },
   "source": [
    "## Subtract"
   ]
  },
  {
   "cell_type": "markdown",
   "metadata": {
    "id": "9WbPFo35J3tE"
   },
   "source": [
    "Elimina del primer RDD los registros que aparezcan en el segundo."
   ]
  },
  {
   "cell_type": "code",
   "execution_count": 216,
   "metadata": {
    "id": "1GLXtqb9J8ev"
   },
   "outputs": [],
   "source": [
    "subtract = integersListRDD.subtract(integersList2RDD)"
   ]
  },
  {
   "cell_type": "code",
   "execution_count": 217,
   "metadata": {
    "id": "s0zdfroiKHU8"
   },
   "outputs": [
    {
     "data": {
      "text/plain": [
       "500"
      ]
     },
     "execution_count": 217,
     "metadata": {},
     "output_type": "execute_result"
    }
   ],
   "source": [
    "subtract.count()"
   ]
  },
  {
   "cell_type": "code",
   "execution_count": 218,
   "metadata": {
    "id": "TkIvM1Tijnaz"
   },
   "outputs": [
    {
     "data": {
      "text/plain": [
       "[16,\n",
       " 32,\n",
       " 48,\n",
       " 64,\n",
       " 80,\n",
       " 96,\n",
       " 112,\n",
       " 128,\n",
       " 144,\n",
       " 160,\n",
       " 176,\n",
       " 192,\n",
       " 208,\n",
       " 224,\n",
       " 240,\n",
       " 256,\n",
       " 272,\n",
       " 288,\n",
       " 304,\n",
       " 320,\n",
       " 336,\n",
       " 352,\n",
       " 368,\n",
       " 384,\n",
       " 400,\n",
       " 416,\n",
       " 432,\n",
       " 448,\n",
       " 464,\n",
       " 480,\n",
       " 496,\n",
       " 1,\n",
       " 17,\n",
       " 33,\n",
       " 49,\n",
       " 65,\n",
       " 81,\n",
       " 97,\n",
       " 113,\n",
       " 129,\n",
       " 145,\n",
       " 161,\n",
       " 177,\n",
       " 193,\n",
       " 209,\n",
       " 225,\n",
       " 241,\n",
       " 257,\n",
       " 273,\n",
       " 289,\n",
       " 305,\n",
       " 321,\n",
       " 337,\n",
       " 353,\n",
       " 369,\n",
       " 385,\n",
       " 401,\n",
       " 417,\n",
       " 433,\n",
       " 449,\n",
       " 465,\n",
       " 481,\n",
       " 497,\n",
       " 2,\n",
       " 18,\n",
       " 34,\n",
       " 50,\n",
       " 66,\n",
       " 82,\n",
       " 98,\n",
       " 114,\n",
       " 130,\n",
       " 146,\n",
       " 162,\n",
       " 178,\n",
       " 194,\n",
       " 210,\n",
       " 226,\n",
       " 242,\n",
       " 258,\n",
       " 274,\n",
       " 290,\n",
       " 306,\n",
       " 322,\n",
       " 338,\n",
       " 354,\n",
       " 370,\n",
       " 386,\n",
       " 402,\n",
       " 418,\n",
       " 434,\n",
       " 450,\n",
       " 466,\n",
       " 482,\n",
       " 498,\n",
       " 3,\n",
       " 19,\n",
       " 35,\n",
       " 51,\n",
       " 67,\n",
       " 83,\n",
       " 99,\n",
       " 115,\n",
       " 131,\n",
       " 147,\n",
       " 163,\n",
       " 179,\n",
       " 195,\n",
       " 211,\n",
       " 227,\n",
       " 243,\n",
       " 259,\n",
       " 275,\n",
       " 291,\n",
       " 307,\n",
       " 323,\n",
       " 339,\n",
       " 355,\n",
       " 371,\n",
       " 387,\n",
       " 403,\n",
       " 419,\n",
       " 435,\n",
       " 451,\n",
       " 467,\n",
       " 483,\n",
       " 499,\n",
       " 4,\n",
       " 20,\n",
       " 36,\n",
       " 52,\n",
       " 68,\n",
       " 84,\n",
       " 100,\n",
       " 116,\n",
       " 132,\n",
       " 148,\n",
       " 164,\n",
       " 180,\n",
       " 196,\n",
       " 212,\n",
       " 228,\n",
       " 244,\n",
       " 260,\n",
       " 276,\n",
       " 292,\n",
       " 308,\n",
       " 324,\n",
       " 340,\n",
       " 356,\n",
       " 372,\n",
       " 388,\n",
       " 404,\n",
       " 420,\n",
       " 436,\n",
       " 452,\n",
       " 468,\n",
       " 484,\n",
       " 500,\n",
       " 5,\n",
       " 21,\n",
       " 37,\n",
       " 53,\n",
       " 69,\n",
       " 85,\n",
       " 101,\n",
       " 117,\n",
       " 133,\n",
       " 149,\n",
       " 165,\n",
       " 181,\n",
       " 197,\n",
       " 213,\n",
       " 229,\n",
       " 245,\n",
       " 261,\n",
       " 277,\n",
       " 293,\n",
       " 309,\n",
       " 325,\n",
       " 341,\n",
       " 357,\n",
       " 373,\n",
       " 389,\n",
       " 405,\n",
       " 421,\n",
       " 437,\n",
       " 453,\n",
       " 469,\n",
       " 485,\n",
       " 6,\n",
       " 22,\n",
       " 38,\n",
       " 54,\n",
       " 70,\n",
       " 86,\n",
       " 102,\n",
       " 118,\n",
       " 134,\n",
       " 150,\n",
       " 166,\n",
       " 182,\n",
       " 198,\n",
       " 214,\n",
       " 230,\n",
       " 246,\n",
       " 262,\n",
       " 278,\n",
       " 294,\n",
       " 310,\n",
       " 326,\n",
       " 342,\n",
       " 358,\n",
       " 374,\n",
       " 390,\n",
       " 406,\n",
       " 422,\n",
       " 438,\n",
       " 454,\n",
       " 470,\n",
       " 486,\n",
       " 7,\n",
       " 23,\n",
       " 39,\n",
       " 55,\n",
       " 71,\n",
       " 87,\n",
       " 103,\n",
       " 119,\n",
       " 135,\n",
       " 151,\n",
       " 167,\n",
       " 183,\n",
       " 199,\n",
       " 215,\n",
       " 231,\n",
       " 247,\n",
       " 263,\n",
       " 279,\n",
       " 295,\n",
       " 311,\n",
       " 327,\n",
       " 343,\n",
       " 359,\n",
       " 375,\n",
       " 391,\n",
       " 407,\n",
       " 423,\n",
       " 439,\n",
       " 455,\n",
       " 471,\n",
       " 487,\n",
       " 8,\n",
       " 24,\n",
       " 40,\n",
       " 56,\n",
       " 72,\n",
       " 88,\n",
       " 104,\n",
       " 120,\n",
       " 136,\n",
       " 152,\n",
       " 168,\n",
       " 184,\n",
       " 200,\n",
       " 216,\n",
       " 232,\n",
       " 248,\n",
       " 264,\n",
       " 280,\n",
       " 296,\n",
       " 312,\n",
       " 328,\n",
       " 344,\n",
       " 360,\n",
       " 376,\n",
       " 392,\n",
       " 408,\n",
       " 424,\n",
       " 440,\n",
       " 456,\n",
       " 472,\n",
       " 488,\n",
       " 9,\n",
       " 25,\n",
       " 41,\n",
       " 57,\n",
       " 73,\n",
       " 89,\n",
       " 105,\n",
       " 121,\n",
       " 137,\n",
       " 153,\n",
       " 169,\n",
       " 185,\n",
       " 201,\n",
       " 217,\n",
       " 233,\n",
       " 249,\n",
       " 265,\n",
       " 281,\n",
       " 297,\n",
       " 313,\n",
       " 329,\n",
       " 345,\n",
       " 361,\n",
       " 377,\n",
       " 393,\n",
       " 409,\n",
       " 425,\n",
       " 441,\n",
       " 457,\n",
       " 473,\n",
       " 489,\n",
       " 10,\n",
       " 26,\n",
       " 42,\n",
       " 58,\n",
       " 74,\n",
       " 90,\n",
       " 106,\n",
       " 122,\n",
       " 138,\n",
       " 154,\n",
       " 170,\n",
       " 186,\n",
       " 202,\n",
       " 218,\n",
       " 234,\n",
       " 250,\n",
       " 266,\n",
       " 282,\n",
       " 298,\n",
       " 314,\n",
       " 330,\n",
       " 346,\n",
       " 362,\n",
       " 378,\n",
       " 394,\n",
       " 410,\n",
       " 426,\n",
       " 442,\n",
       " 458,\n",
       " 474,\n",
       " 490,\n",
       " 11,\n",
       " 27,\n",
       " 43,\n",
       " 59,\n",
       " 75,\n",
       " 91,\n",
       " 107,\n",
       " 123,\n",
       " 139,\n",
       " 155,\n",
       " 171,\n",
       " 187,\n",
       " 203,\n",
       " 219,\n",
       " 235,\n",
       " 251,\n",
       " 267,\n",
       " 283,\n",
       " 299,\n",
       " 315,\n",
       " 331,\n",
       " 347,\n",
       " 363,\n",
       " 379,\n",
       " 395,\n",
       " 411,\n",
       " 427,\n",
       " 443,\n",
       " 459,\n",
       " 475,\n",
       " 491,\n",
       " 12,\n",
       " 28,\n",
       " 44,\n",
       " 60,\n",
       " 76,\n",
       " 92,\n",
       " 108,\n",
       " 124,\n",
       " 140,\n",
       " 156,\n",
       " 172,\n",
       " 188,\n",
       " 204,\n",
       " 220,\n",
       " 236,\n",
       " 252,\n",
       " 268,\n",
       " 284,\n",
       " 300,\n",
       " 316,\n",
       " 332,\n",
       " 348,\n",
       " 364,\n",
       " 380,\n",
       " 396,\n",
       " 412,\n",
       " 428,\n",
       " 444,\n",
       " 460,\n",
       " 476,\n",
       " 492,\n",
       " 13,\n",
       " 29,\n",
       " 45,\n",
       " 61,\n",
       " 77,\n",
       " 93,\n",
       " 109,\n",
       " 125,\n",
       " 141,\n",
       " 157,\n",
       " 173,\n",
       " 189,\n",
       " 205,\n",
       " 221,\n",
       " 237,\n",
       " 253,\n",
       " 269,\n",
       " 285,\n",
       " 301,\n",
       " 317,\n",
       " 333,\n",
       " 349,\n",
       " 365,\n",
       " 381,\n",
       " 397,\n",
       " 413,\n",
       " 429,\n",
       " 445,\n",
       " 461,\n",
       " 477,\n",
       " 493,\n",
       " 14,\n",
       " 30,\n",
       " 46,\n",
       " 62,\n",
       " 78,\n",
       " 94,\n",
       " 110,\n",
       " 126,\n",
       " 142,\n",
       " 158,\n",
       " 174,\n",
       " 190,\n",
       " 206,\n",
       " 222,\n",
       " 238,\n",
       " 254,\n",
       " 270,\n",
       " 286,\n",
       " 302,\n",
       " 318,\n",
       " 334,\n",
       " 350,\n",
       " 366,\n",
       " 382,\n",
       " 398,\n",
       " 414,\n",
       " 430,\n",
       " 446,\n",
       " 462,\n",
       " 478,\n",
       " 494,\n",
       " 15,\n",
       " 31,\n",
       " 47,\n",
       " 63,\n",
       " 79,\n",
       " 95,\n",
       " 111,\n",
       " 127,\n",
       " 143,\n",
       " 159,\n",
       " 175,\n",
       " 191,\n",
       " 207,\n",
       " 223,\n",
       " 239,\n",
       " 255,\n",
       " 271,\n",
       " 287,\n",
       " 303,\n",
       " 319,\n",
       " 335,\n",
       " 351,\n",
       " 367,\n",
       " 383,\n",
       " 399,\n",
       " 415,\n",
       " 431,\n",
       " 447,\n",
       " 463,\n",
       " 479,\n",
       " 495]"
      ]
     },
     "execution_count": 218,
     "metadata": {},
     "output_type": "execute_result"
    }
   ],
   "source": [
    "subtract.collect()"
   ]
  },
  {
   "cell_type": "markdown",
   "metadata": {
    "id": "NnoXBl3q-H2v"
   },
   "source": [
    "## Joins"
   ]
  },
  {
   "cell_type": "markdown",
   "metadata": {
    "id": "5RYUC49k-Jx3"
   },
   "source": [
    "Con los joins se combinan dos RDD en base a las claves de los registros. Junta cada registro del primer RDD con cada registro del segundo RDD que tengan la misma clave. No agrupa, sino que es de a pares de registro."
   ]
  },
  {
   "cell_type": "code",
   "execution_count": 219,
   "metadata": {
    "id": "WiHtBvLs-ADS"
   },
   "outputs": [],
   "source": [
    "data_alumnos = [\n",
    "  (1,'Damian'),\n",
    "  (2,'Luis'),\n",
    "  (3,'Martin'),\n",
    "  (4,'Natalia'),\n",
    "  (5,'Joaquin')\n",
    "]\n",
    "\n",
    "alumnos = sc.parallelize(data_alumnos)"
   ]
  },
  {
   "cell_type": "code",
   "execution_count": 220,
   "metadata": {
    "id": "BSEG_YQF-sgz"
   },
   "outputs": [
    {
     "data": {
      "text/plain": [
       "[(1, 'Damian'), (2, 'Luis'), (3, 'Martin'), (4, 'Natalia'), (5, 'Joaquin')]"
      ]
     },
     "execution_count": 220,
     "metadata": {},
     "output_type": "execute_result"
    }
   ],
   "source": [
    "alumnos.collect()"
   ]
  },
  {
   "cell_type": "code",
   "execution_count": 221,
   "metadata": {
    "id": "UcQnmQOX-v8X"
   },
   "outputs": [],
   "source": [
    "data_materias_aprobadas = [\n",
    "  (1, 'Algebra'),\n",
    "  (2, 'Análisis Matemático'),\n",
    "  (200, 'Algebra'),\n",
    "  (2, 'Física')\n",
    "]\n",
    "\n",
    "materias_aprobadas = sc.parallelize(data_materias_aprobadas)"
   ]
  },
  {
   "cell_type": "code",
   "execution_count": 222,
   "metadata": {
    "id": "8DMPmYzl_8HI"
   },
   "outputs": [
    {
     "data": {
      "text/plain": [
       "[(1, 'Algebra'), (2, 'Análisis Matemático'), (200, 'Algebra'), (2, 'Física')]"
      ]
     },
     "execution_count": 222,
     "metadata": {},
     "output_type": "execute_result"
    }
   ],
   "source": [
    "materias_aprobadas.collect()"
   ]
  },
  {
   "cell_type": "markdown",
   "metadata": {
    "id": "TUC97o6nE36O"
   },
   "source": [
    "### Inner Join (Join)"
   ]
  },
  {
   "cell_type": "markdown",
   "metadata": {
    "id": "fII6Z3hAE8_3"
   },
   "source": [
    "Cuando se llama para sets de datos del tipo (K,V) y (K,W) devuelve un set de datos del tipo (K, (V,W)) con todos los pares de elementos para cada key. (especificamente los que hay en comun por esa clave en ambos sets de datos)"
   ]
  },
  {
   "cell_type": "code",
   "execution_count": 223,
   "metadata": {
    "id": "flekON_1_9dH"
   },
   "outputs": [
    {
     "data": {
      "text/plain": [
       "[(1, ('Damian', 'Algebra')),\n",
       " (2, ('Luis', 'Análisis Matemático')),\n",
       " (2, ('Luis', 'Física'))]"
      ]
     },
     "execution_count": 223,
     "metadata": {},
     "output_type": "execute_result"
    }
   ],
   "source": [
    "alumnos.join(materias_aprobadas).collect()"
   ]
  },
  {
   "cell_type": "markdown",
   "metadata": {
    "id": "5pkgFzBWFE5S"
   },
   "source": [
    "### Left Outer Join"
   ]
  },
  {
   "cell_type": "markdown",
   "metadata": {
    "id": "h7Sd_L-kHLnh"
   },
   "source": [
    "Cuando se llama para sets de datos del tipo (K,V) y (K,W) devuelve un set de datos del tipo (K, (V,W)) asegurandonos que todos los datos del set de datos izquierdo estaran en el resultado del join."
   ]
  },
  {
   "cell_type": "code",
   "execution_count": 224,
   "metadata": {
    "id": "2e_wWrASFCbH"
   },
   "outputs": [
    {
     "data": {
      "text/plain": [
       "[(1, ('Damian', 'Algebra')),\n",
       " (2, ('Luis', 'Análisis Matemático')),\n",
       " (2, ('Luis', 'Física')),\n",
       " (3, ('Martin', None)),\n",
       " (4, ('Natalia', None)),\n",
       " (5, ('Joaquin', None))]"
      ]
     },
     "execution_count": 224,
     "metadata": {},
     "output_type": "execute_result"
    }
   ],
   "source": [
    "alumnos.leftOuterJoin(materias_aprobadas).collect()"
   ]
  },
  {
   "cell_type": "markdown",
   "metadata": {
    "id": "yL1vuNozHWf2"
   },
   "source": [
    "### Right Outer Join"
   ]
  },
  {
   "cell_type": "markdown",
   "metadata": {
    "id": "JJs-3temHYiM"
   },
   "source": [
    "Cuando se llama para sets de datos del tipo (K,V) y (K,W) devuelve un set de datos del tipo (K, (V,W)) asegurandonos que todos los datos del set de datos derecho estaran en el resultado del join."
   ]
  },
  {
   "cell_type": "code",
   "execution_count": 225,
   "metadata": {
    "id": "AWgbjDenHRXa"
   },
   "outputs": [
    {
     "data": {
      "text/plain": [
       "[(1, ('Damian', 'Algebra')),\n",
       " (2, ('Luis', 'Análisis Matemático')),\n",
       " (2, ('Luis', 'Física')),\n",
       " (200, (None, 'Algebra'))]"
      ]
     },
     "execution_count": 225,
     "metadata": {},
     "output_type": "execute_result"
    }
   ],
   "source": [
    "alumnos.rightOuterJoin(materias_aprobadas).collect()"
   ]
  },
  {
   "cell_type": "markdown",
   "metadata": {
    "id": "d5dKB2iQHhZX"
   },
   "source": [
    "### Outer/Full Join"
   ]
  },
  {
   "cell_type": "markdown",
   "metadata": {
    "id": "Ow57N52-HlDu"
   },
   "source": [
    "\n",
    "Cuando se llama para sets de datos del tipo (K,V) y (K,W) devuelve un set de datos del tipo (K, (V,W)) asegurandonos que todos los datos de ambos set de datos estaran aunque no haya match de keys."
   ]
  },
  {
   "cell_type": "code",
   "execution_count": 226,
   "metadata": {
    "id": "4xUS95vzHdkw"
   },
   "outputs": [
    {
     "data": {
      "text/plain": [
       "[(1, ('Damian', 'Algebra')),\n",
       " (2, ('Luis', 'Análisis Matemático')),\n",
       " (2, ('Luis', 'Física')),\n",
       " (3, ('Martin', None)),\n",
       " (4, ('Natalia', None)),\n",
       " (5, ('Joaquin', None)),\n",
       " (200, (None, 'Algebra'))]"
      ]
     },
     "execution_count": 226,
     "metadata": {},
     "output_type": "execute_result"
    }
   ],
   "source": [
    "alumnos.fullOuterJoin(materias_aprobadas).collect()"
   ]
  },
  {
   "cell_type": "markdown",
   "metadata": {
    "id": "4AieykhPHthx"
   },
   "source": [
    "### Broadcast Join (map-side join)"
   ]
  },
  {
   "cell_type": "markdown",
   "metadata": {
    "id": "ULF_l_PKHvoT"
   },
   "source": [
    "#### Variable Broadcast"
   ]
  },
  {
   "cell_type": "markdown",
   "metadata": {
    "id": "Rm6ouls5H2iG"
   },
   "source": [
    "Una variable Broadcast nos permite mantener una variable solo lectura cacheada en cada una de las maquinas del cluster en vez de enviar esa informacion con cada una de las tareas que se envian al cluster.\n",
    "\n",
    "Esto es particularmente util cuando cuando tareas a partir de multiples etapas (stages) necesitan la misma información o cuando cachear información de forma deserializada es importante.\n",
    "\n",
    "Tener en cuenta que esto **es posible** cuando uno de los data sets o conjunto de datos **es lo suficientemente pequeño para ser broadcasteado a todos los nodos/workers del cluster**."
   ]
  },
  {
   "cell_type": "code",
   "execution_count": 227,
   "metadata": {
    "id": "c_XZYCyZHpA9"
   },
   "outputs": [],
   "source": [
    "# Vamos a suponer que tenemos un RDD de productos por sus IDs identificando ventas de los mismos\n",
    "prodsList = [1,11,1,4,5,11,2,3,4,5,6,4,5,4,3,2,1,11,2,3,4,5,6,4,3,2,1,1]\n",
    "prods = sc.parallelize(prodsList,3)"
   ]
  },
  {
   "cell_type": "code",
   "execution_count": 228,
   "metadata": {
    "id": "cqKNAzbUIInc"
   },
   "outputs": [],
   "source": [
    "# Un hash con los productos y sus nombres\n",
    "productNames = {1:'papas',\n",
    "                2:'cebollas',\n",
    "                3:'tomates',\n",
    "                4:'zanahorias',\n",
    "                5:'batatas',\n",
    "                6:'peras',\n",
    "                7:'cilantro',\n",
    "                8:'apio',\n",
    "                9:'morrones',\n",
    "                10:'manzanas',\n",
    "                11:'naranjas'}\n",
    "\n",
    "# Hacemos un broadcast de la variable\n",
    "bproductNames = sc.broadcast(productNames)"
   ]
  },
  {
   "cell_type": "code",
   "execution_count": 229,
   "metadata": {
    "id": "YbtkGuPuIQVI"
   },
   "outputs": [
    {
     "data": {
      "text/plain": [
       "[(3, 4), (1, 5), (4, 6), (5, 4), (2, 4)]"
      ]
     },
     "execution_count": 229,
     "metadata": {},
     "output_type": "execute_result"
    }
   ],
   "source": [
    "# Buscamos los productos que se vendieron más de 4 veces\n",
    "popularProds = prods.map(lambda x:(x,1))\\\n",
    "    .reduceByKey(lambda x,y:x+y)\\\n",
    "    .filter(lambda x:x[1]>=4)\n",
    "popularProds.collect()"
   ]
  },
  {
   "cell_type": "markdown",
   "metadata": {
    "id": "atJ07Q64Idvx"
   },
   "source": [
    "El join se realiza de forma implicita usando un map y dentro del mismo accediendo a la informacion de la variable a la que se realizo el broadcast via .value"
   ]
  },
  {
   "cell_type": "code",
   "execution_count": 230,
   "metadata": {
    "id": "Rq0QI5QWIWNL"
   },
   "outputs": [
    {
     "data": {
      "text/plain": [
       "[('tomates', 3, 4),\n",
       " ('papas', 1, 5),\n",
       " ('zanahorias', 4, 6),\n",
       " ('batatas', 5, 4),\n",
       " ('cebollas', 2, 4)]"
      ]
     },
     "execution_count": 230,
     "metadata": {},
     "output_type": "execute_result"
    }
   ],
   "source": [
    "popularProds = popularProds.map(\n",
    "    lambda x:(bproductNames.value[x[0]],x[0],x[1]))\n",
    "popularProds.collect()"
   ]
  },
  {
   "cell_type": "markdown",
   "metadata": {
    "id": "-saIXIYOJJwA"
   },
   "source": [
    "#### Ventajas"
   ]
  },
  {
   "cell_type": "markdown",
   "metadata": {
    "id": "GemDSZwrJSXS"
   },
   "source": [
    "Cuando un valor es \"broadcasteado\" al cluster, este es copiado a los nodos/workers **sólo una vez** (en vez de múltiples veces si la información fuera a enviarse en cada task). De esta forma se resuelve la consulta más rapidamente."
   ]
  },
  {
   "cell_type": "markdown",
   "metadata": {
    "id": "S5T0HkWAN-Iw"
   },
   "source": [
    "# Transformaciones sobre las particiones"
   ]
  },
  {
   "cell_type": "code",
   "execution_count": 231,
   "metadata": {
    "id": "RopZZdNOJGvQ"
   },
   "outputs": [
    {
     "data": {
      "text/plain": [
       "8"
      ]
     },
     "execution_count": 231,
     "metadata": {},
     "output_type": "execute_result"
    }
   ],
   "source": [
    "rdd = sc.parallelize(range(1,11))\n",
    "rdd.getNumPartitions()"
   ]
  },
  {
   "cell_type": "code",
   "execution_count": 232,
   "metadata": {
    "id": "lnvORFhIOKqk"
   },
   "outputs": [
    {
     "data": {
      "text/plain": [
       "8"
      ]
     },
     "execution_count": 232,
     "metadata": {},
     "output_type": "execute_result"
    }
   ],
   "source": [
    "sc.defaultParallelism"
   ]
  },
  {
   "cell_type": "code",
   "execution_count": 233,
   "metadata": {
    "id": "vt6pb_QhAQOC"
   },
   "outputs": [
    {
     "data": {
      "text/plain": [
       "[1, 2, 3, 4, 5, 6, 7, 8, 9, 10]"
      ]
     },
     "execution_count": 233,
     "metadata": {},
     "output_type": "execute_result"
    }
   ],
   "source": [
    "rdd.collect()"
   ]
  },
  {
   "cell_type": "markdown",
   "metadata": {
    "id": "Dh3FU26O_zFD"
   },
   "source": []
  },
  {
   "cell_type": "markdown",
   "metadata": {
    "id": "jjMa0g_i99y5"
   },
   "source": [
    "## Glom"
   ]
  },
  {
   "cell_type": "markdown",
   "metadata": {
    "id": "cJngJqoI-Uez"
   },
   "source": [
    "Junta los registros de cada partición en una lista."
   ]
  },
  {
   "cell_type": "code",
   "execution_count": 234,
   "metadata": {
    "id": "J_ONKwAMOPgN"
   },
   "outputs": [
    {
     "data": {
      "text/plain": [
       "[[1], [2], [3], [4, 5], [6], [7], [8], [9, 10]]"
      ]
     },
     "execution_count": 234,
     "metadata": {},
     "output_type": "execute_result"
    }
   ],
   "source": [
    "rdd.glom().collect()"
   ]
  },
  {
   "cell_type": "markdown",
   "metadata": {
    "id": "JQqRRZf4-sZ3"
   },
   "source": [
    "## MapPartitions"
   ]
  },
  {
   "cell_type": "markdown",
   "metadata": {
    "id": "E6eW2l3O-v_4"
   },
   "source": [
    "Devuelve un nuevo RDD aplicando una función a cada partición del RDD."
   ]
  },
  {
   "cell_type": "code",
   "execution_count": 235,
   "metadata": {
    "id": "zh8cyhDeOTUX"
   },
   "outputs": [
    {
     "data": {
      "text/plain": [
       "[1, 2, 3, 9, 6, 7, 8, 19]"
      ]
     },
     "execution_count": 235,
     "metadata": {},
     "output_type": "execute_result"
    }
   ],
   "source": [
    "def f(iterator): yield __builtin__.sum(iterator)\n",
    "rdd.mapPartitions(f).collect()"
   ]
  },
  {
   "cell_type": "markdown",
   "metadata": {
    "id": "aBW1VMB5RdOr"
   },
   "source": [
    "## Repartition"
   ]
  },
  {
   "cell_type": "markdown",
   "metadata": {
    "id": "svqGE-d7RoSp"
   },
   "source": [
    "Reshuffle los datos en el RDD de forma aleatoria para crear más o menos particiones y balancearlas. \n",
    "\n",
    "Hace un shuffle de todo los datos por la red."
   ]
  },
  {
   "cell_type": "code",
   "execution_count": 236,
   "metadata": {
    "id": "6mV5EaYhScbs"
   },
   "outputs": [
    {
     "data": {
      "text/plain": [
       "4"
      ]
     },
     "execution_count": 236,
     "metadata": {},
     "output_type": "execute_result"
    }
   ],
   "source": [
    "rdd = sc.parallelize(range(1,11), 4)\n",
    "rdd.getNumPartitions()"
   ]
  },
  {
   "cell_type": "code",
   "execution_count": 237,
   "metadata": {
    "id": "DOcEeb93SpmS"
   },
   "outputs": [
    {
     "data": {
      "text/plain": [
       "[[1, 2], [3, 4, 5], [6, 7], [8, 9, 10]]"
      ]
     },
     "execution_count": 237,
     "metadata": {},
     "output_type": "execute_result"
    }
   ],
   "source": [
    "rdd.glom().collect()"
   ]
  },
  {
   "cell_type": "code",
   "execution_count": 238,
   "metadata": {
    "id": "UIm6FX5fPYzw"
   },
   "outputs": [],
   "source": [
    "rdd2 = rdd.repartition(2)"
   ]
  },
  {
   "cell_type": "code",
   "execution_count": 239,
   "metadata": {
    "id": "d44SVE6PSH9N"
   },
   "outputs": [
    {
     "data": {
      "text/plain": [
       "2"
      ]
     },
     "execution_count": 239,
     "metadata": {},
     "output_type": "execute_result"
    }
   ],
   "source": [
    "rdd2.getNumPartitions()"
   ]
  },
  {
   "cell_type": "code",
   "execution_count": 240,
   "metadata": {
    "id": "txLaGMBXSItl"
   },
   "outputs": [
    {
     "data": {
      "text/plain": [
       "[[1, 2, 6, 7, 8, 9, 10], [3, 4, 5]]"
      ]
     },
     "execution_count": 240,
     "metadata": {},
     "output_type": "execute_result"
    }
   ],
   "source": [
    "rdd2.glom().collect()"
   ]
  },
  {
   "cell_type": "markdown",
   "metadata": {
    "id": "YX-bJjSOTFXA"
   },
   "source": [
    "Spark no hace shuffle de registros individuales sino de a bloques con un mínimo (no es un problema cuando se manejan grandes cantidades de datos)"
   ]
  },
  {
   "cell_type": "markdown",
   "metadata": {
    "id": "md7oT6F7T-N6"
   },
   "source": [
    "## Coalesce"
   ]
  },
  {
   "cell_type": "markdown",
   "metadata": {
    "id": "-6nPKD5pUK6g"
   },
   "source": [
    "Decrementa la cantidad de particiones del RDD.\n",
    "\n",
    "No hace shuffle por defecto, solo pasa datos de una partición a otra.\n",
    "\n",
    "No quedan balanceadas."
   ]
  },
  {
   "cell_type": "code",
   "execution_count": 241,
   "metadata": {
    "id": "X5jxQeUUSQZJ"
   },
   "outputs": [],
   "source": [
    "rddCoalesce = rdd.coalesce(2)"
   ]
  },
  {
   "cell_type": "code",
   "execution_count": 242,
   "metadata": {
    "id": "ijvk00kuUfs1"
   },
   "outputs": [
    {
     "data": {
      "text/plain": [
       "[[1, 2, 3, 4, 5], [6, 7, 8, 9, 10]]"
      ]
     },
     "execution_count": 242,
     "metadata": {},
     "output_type": "execute_result"
    }
   ],
   "source": [
    "rddCoalesce.glom().collect()"
   ]
  },
  {
   "cell_type": "markdown",
   "metadata": {
    "id": "VNP1bHnPVCfV"
   },
   "source": [
    "## RepartitionAndSortWithinPartitions"
   ]
  },
  {
   "cell_type": "markdown",
   "metadata": {
    "id": "3i7Du_xtbrwG"
   },
   "source": [
    "Reparticiona un RDD de acuerdo a un particionador y ordena los registros en base a su clave.\n",
    "\n",
    "Los registros deben tener clave.\n",
    "\n",
    "Es más eficiente que hacer un repartition y luego un sort dentro de cada partición ya que realiza el sort en el mismo paso de shuffle."
   ]
  },
  {
   "cell_type": "code",
   "execution_count": 243,
   "metadata": {
    "id": "fMkGtQYYUjXJ"
   },
   "outputs": [
    {
     "data": {
      "text/plain": [
       "[(1, 1),\n",
       " (2, 2),\n",
       " (3, 3),\n",
       " (4, 4),\n",
       " (5, 5),\n",
       " (6, 6),\n",
       " (7, 7),\n",
       " (8, 8),\n",
       " (9, 9),\n",
       " (10, 10)]"
      ]
     },
     "execution_count": 243,
     "metadata": {},
     "output_type": "execute_result"
    }
   ],
   "source": [
    "rdd.map(lambda x: (x, x)).collect()"
   ]
  },
  {
   "cell_type": "code",
   "execution_count": 244,
   "metadata": {
    "id": "TVPrXSV0XiUe"
   },
   "outputs": [
    {
     "data": {
      "text/plain": [
       "[[(1, 1), (2, 2)],\n",
       " [(3, 3), (4, 4), (5, 5)],\n",
       " [(6, 6), (7, 7)],\n",
       " [(8, 8), (9, 9), (10, 10)]]"
      ]
     },
     "execution_count": 244,
     "metadata": {},
     "output_type": "execute_result"
    }
   ],
   "source": [
    "rdd.map(lambda x: (x, x)).glom().collect()"
   ]
  },
  {
   "cell_type": "markdown",
   "metadata": {
    "id": "OKEX0nqDca0X"
   },
   "source": [
    "### Ascending"
   ]
  },
  {
   "cell_type": "code",
   "execution_count": 245,
   "metadata": {
    "id": "Cy7qnMGKXbBC"
   },
   "outputs": [
    {
     "data": {
      "text/plain": [
       "[[(2, 2), (4, 4), (6, 6), (8, 8), (10, 10)],\n",
       " [(1, 1), (3, 3), (5, 5), (7, 7), (9, 9)]]"
      ]
     },
     "execution_count": 245,
     "metadata": {},
     "output_type": "execute_result"
    }
   ],
   "source": [
    "rdd.map(lambda x: (x, x)).repartitionAndSortWithinPartitions(2).glom().collect()"
   ]
  },
  {
   "cell_type": "code",
   "execution_count": 246,
   "metadata": {
    "id": "9rK68D2aX1fk"
   },
   "outputs": [
    {
     "data": {
      "text/plain": [
       "[[(0, 3), (0, 6), (0, 9), (2, 2), (2, 5), (2, 8)],\n",
       " [(1, 1), (1, 4), (1, 7), (1, 10)]]"
      ]
     },
     "execution_count": 246,
     "metadata": {},
     "output_type": "execute_result"
    }
   ],
   "source": [
    "rdd.map(lambda x: (x % 3, x)).repartitionAndSortWithinPartitions(2).glom().collect()"
   ]
  },
  {
   "cell_type": "code",
   "execution_count": 247,
   "metadata": {
    "id": "9smRZScuYD8s"
   },
   "outputs": [
    {
     "data": {
      "text/plain": [
       "[[(2, 2), (2, 5), (2, 8), (0, 3), (0, 6), (0, 9)],\n",
       " [(1, 1), (1, 4), (1, 7), (1, 10)]]"
      ]
     },
     "execution_count": 247,
     "metadata": {},
     "output_type": "execute_result"
    }
   ],
   "source": [
    "rdd.map(lambda x: (x % 3, x)).repartitionAndSortWithinPartitions(2, ascending=False).glom().collect()"
   ]
  },
  {
   "cell_type": "markdown",
   "metadata": {
    "id": "yUyetYoZceNB"
   },
   "source": [
    "### PartitionFunc"
   ]
  },
  {
   "cell_type": "code",
   "execution_count": 248,
   "metadata": {
    "id": "-1xwWifQYT9r"
   },
   "outputs": [
    {
     "data": {
      "text/plain": [
       "[[(2, 1),\n",
       "  (4, 2),\n",
       "  (6, 3),\n",
       "  (8, 4),\n",
       "  (10, 5),\n",
       "  (12, 6),\n",
       "  (14, 7),\n",
       "  (16, 8),\n",
       "  (18, 9),\n",
       "  (20, 10)],\n",
       " []]"
      ]
     },
     "execution_count": 248,
     "metadata": {},
     "output_type": "execute_result"
    }
   ],
   "source": [
    "rdd.map(lambda x: (x * 2, x)).repartitionAndSortWithinPartitions(2).glom().collect()"
   ]
  },
  {
   "cell_type": "code",
   "execution_count": 249,
   "metadata": {
    "id": "oDsh3YFLYmel"
   },
   "outputs": [
    {
     "data": {
      "text/plain": [
       "[[(2, 1), (6, 3), (8, 4), (12, 6), (14, 7), (18, 9), (20, 10)],\n",
       " [(4, 2), (10, 5), (16, 8)]]"
      ]
     },
     "execution_count": 249,
     "metadata": {},
     "output_type": "execute_result"
    }
   ],
   "source": [
    "rdd.map(lambda x: (x * 2, x)).repartitionAndSortWithinPartitions(2, partitionFunc=lambda x: (x % 3)).glom().collect()"
   ]
  },
  {
   "cell_type": "markdown",
   "metadata": {
    "id": "ynV8o0DQe-hS"
   },
   "source": [
    "# Persistiendo RDD"
   ]
  },
  {
   "cell_type": "markdown",
   "metadata": {
    "id": "py6LcfQ3fDHc"
   },
   "source": [
    "## Cache"
   ]
  },
  {
   "cell_type": "markdown",
   "metadata": {
    "id": "sKoTPP8DfFYm"
   },
   "source": [
    "Cachea un RDD intermedio que va a ser utilizado varias veces de modo de evitar tener que ejecutar todas las transformaciones cada vez."
   ]
  },
  {
   "cell_type": "code",
   "execution_count": 250,
   "metadata": {
    "id": "7T8S272Idj6g"
   },
   "outputs": [],
   "source": [
    "rdd = sc.parallelize(range(1,100000))"
   ]
  },
  {
   "cell_type": "code",
   "execution_count": 251,
   "metadata": {
    "id": "Nz4CC4u9d43K"
   },
   "outputs": [],
   "source": [
    "rddCached = rdd.map(lambda x: x*10).cache()"
   ]
  },
  {
   "cell_type": "code",
   "execution_count": 252,
   "metadata": {
    "id": "CYQ74fKfeCiY"
   },
   "outputs": [
    {
     "data": {
      "text/plain": [
       "99999"
      ]
     },
     "execution_count": 252,
     "metadata": {},
     "output_type": "execute_result"
    }
   ],
   "source": [
    "rddCached.count()"
   ]
  },
  {
   "cell_type": "code",
   "execution_count": 253,
   "metadata": {
    "id": "i27r47iieEHg"
   },
   "outputs": [
    {
     "data": {
      "text/plain": [
       "[10, 20, 30, 40, 50, 60, 70, 80, 90, 100]"
      ]
     },
     "execution_count": 253,
     "metadata": {},
     "output_type": "execute_result"
    }
   ],
   "source": [
    "rddCached.take(10)"
   ]
  },
  {
   "cell_type": "markdown",
   "metadata": {
    "id": "Q-w0puPNfe5u"
   },
   "source": [
    "## SaveAsTextFile"
   ]
  },
  {
   "cell_type": "markdown",
   "metadata": {
    "id": "s0n6xyV5fiY1"
   },
   "source": [
    "Guarda un RDD a disco en un archivo de texto."
   ]
  },
  {
   "cell_type": "code",
   "execution_count": 254,
   "metadata": {
    "id": "pFBypm_3dU15"
   },
   "outputs": [],
   "source": [
    "rdd.saveAsTextFile('numbers.txt')"
   ]
  },
  {
   "cell_type": "code",
   "execution_count": 255,
   "metadata": {
    "id": "2BB6t8lSdW_6"
   },
   "outputs": [],
   "source": [
    "rddN = sc.textFile('numbers.txt')"
   ]
  },
  {
   "cell_type": "code",
   "execution_count": 256,
   "metadata": {
    "id": "ThBA5KkEdidg"
   },
   "outputs": [
    {
     "data": {
      "text/plain": [
       "['62500',\n",
       " '62501',\n",
       " '62502',\n",
       " '62503',\n",
       " '62504',\n",
       " '62505',\n",
       " '62506',\n",
       " '62507',\n",
       " '62508',\n",
       " '62509',\n",
       " '62510',\n",
       " '62511',\n",
       " '62512',\n",
       " '62513',\n",
       " '62514',\n",
       " '62515',\n",
       " '62516',\n",
       " '62517',\n",
       " '62518',\n",
       " '62519',\n",
       " '62520',\n",
       " '62521',\n",
       " '62522',\n",
       " '62523',\n",
       " '62524',\n",
       " '62525',\n",
       " '62526',\n",
       " '62527',\n",
       " '62528',\n",
       " '62529',\n",
       " '62530',\n",
       " '62531',\n",
       " '62532',\n",
       " '62533',\n",
       " '62534',\n",
       " '62535',\n",
       " '62536',\n",
       " '62537',\n",
       " '62538',\n",
       " '62539',\n",
       " '62540',\n",
       " '62541',\n",
       " '62542',\n",
       " '62543',\n",
       " '62544',\n",
       " '62545',\n",
       " '62546',\n",
       " '62547',\n",
       " '62548',\n",
       " '62549',\n",
       " '62550',\n",
       " '62551',\n",
       " '62552',\n",
       " '62553',\n",
       " '62554',\n",
       " '62555',\n",
       " '62556',\n",
       " '62557',\n",
       " '62558',\n",
       " '62559',\n",
       " '62560',\n",
       " '62561',\n",
       " '62562',\n",
       " '62563',\n",
       " '62564',\n",
       " '62565',\n",
       " '62566',\n",
       " '62567',\n",
       " '62568',\n",
       " '62569',\n",
       " '62570',\n",
       " '62571',\n",
       " '62572',\n",
       " '62573',\n",
       " '62574',\n",
       " '62575',\n",
       " '62576',\n",
       " '62577',\n",
       " '62578',\n",
       " '62579',\n",
       " '62580',\n",
       " '62581',\n",
       " '62582',\n",
       " '62583',\n",
       " '62584',\n",
       " '62585',\n",
       " '62586',\n",
       " '62587',\n",
       " '62588',\n",
       " '62589',\n",
       " '62590',\n",
       " '62591',\n",
       " '62592',\n",
       " '62593',\n",
       " '62594',\n",
       " '62595',\n",
       " '62596',\n",
       " '62597',\n",
       " '62598',\n",
       " '62599',\n",
       " '62600',\n",
       " '62601',\n",
       " '62602',\n",
       " '62603',\n",
       " '62604',\n",
       " '62605',\n",
       " '62606',\n",
       " '62607',\n",
       " '62608',\n",
       " '62609',\n",
       " '62610',\n",
       " '62611',\n",
       " '62612',\n",
       " '62613',\n",
       " '62614',\n",
       " '62615',\n",
       " '62616',\n",
       " '62617',\n",
       " '62618',\n",
       " '62619',\n",
       " '62620',\n",
       " '62621',\n",
       " '62622',\n",
       " '62623',\n",
       " '62624',\n",
       " '62625',\n",
       " '62626',\n",
       " '62627',\n",
       " '62628',\n",
       " '62629',\n",
       " '62630',\n",
       " '62631',\n",
       " '62632',\n",
       " '62633',\n",
       " '62634',\n",
       " '62635',\n",
       " '62636',\n",
       " '62637',\n",
       " '62638',\n",
       " '62639',\n",
       " '62640',\n",
       " '62641',\n",
       " '62642',\n",
       " '62643',\n",
       " '62644',\n",
       " '62645',\n",
       " '62646',\n",
       " '62647',\n",
       " '62648',\n",
       " '62649',\n",
       " '62650',\n",
       " '62651',\n",
       " '62652',\n",
       " '62653',\n",
       " '62654',\n",
       " '62655',\n",
       " '62656',\n",
       " '62657',\n",
       " '62658',\n",
       " '62659',\n",
       " '62660',\n",
       " '62661',\n",
       " '62662',\n",
       " '62663',\n",
       " '62664',\n",
       " '62665',\n",
       " '62666',\n",
       " '62667',\n",
       " '62668',\n",
       " '62669',\n",
       " '62670',\n",
       " '62671',\n",
       " '62672',\n",
       " '62673',\n",
       " '62674',\n",
       " '62675',\n",
       " '62676',\n",
       " '62677',\n",
       " '62678',\n",
       " '62679',\n",
       " '62680',\n",
       " '62681',\n",
       " '62682',\n",
       " '62683',\n",
       " '62684',\n",
       " '62685',\n",
       " '62686',\n",
       " '62687',\n",
       " '62688',\n",
       " '62689',\n",
       " '62690',\n",
       " '62691',\n",
       " '62692',\n",
       " '62693',\n",
       " '62694',\n",
       " '62695',\n",
       " '62696',\n",
       " '62697',\n",
       " '62698',\n",
       " '62699',\n",
       " '62700',\n",
       " '62701',\n",
       " '62702',\n",
       " '62703',\n",
       " '62704',\n",
       " '62705',\n",
       " '62706',\n",
       " '62707',\n",
       " '62708',\n",
       " '62709',\n",
       " '62710',\n",
       " '62711',\n",
       " '62712',\n",
       " '62713',\n",
       " '62714',\n",
       " '62715',\n",
       " '62716',\n",
       " '62717',\n",
       " '62718',\n",
       " '62719',\n",
       " '62720',\n",
       " '62721',\n",
       " '62722',\n",
       " '62723',\n",
       " '62724',\n",
       " '62725',\n",
       " '62726',\n",
       " '62727',\n",
       " '62728',\n",
       " '62729',\n",
       " '62730',\n",
       " '62731',\n",
       " '62732',\n",
       " '62733',\n",
       " '62734',\n",
       " '62735',\n",
       " '62736',\n",
       " '62737',\n",
       " '62738',\n",
       " '62739',\n",
       " '62740',\n",
       " '62741',\n",
       " '62742',\n",
       " '62743',\n",
       " '62744',\n",
       " '62745',\n",
       " '62746',\n",
       " '62747',\n",
       " '62748',\n",
       " '62749',\n",
       " '62750',\n",
       " '62751',\n",
       " '62752',\n",
       " '62753',\n",
       " '62754',\n",
       " '62755',\n",
       " '62756',\n",
       " '62757',\n",
       " '62758',\n",
       " '62759',\n",
       " '62760',\n",
       " '62761',\n",
       " '62762',\n",
       " '62763',\n",
       " '62764',\n",
       " '62765',\n",
       " '62766',\n",
       " '62767',\n",
       " '62768',\n",
       " '62769',\n",
       " '62770',\n",
       " '62771',\n",
       " '62772',\n",
       " '62773',\n",
       " '62774',\n",
       " '62775',\n",
       " '62776',\n",
       " '62777',\n",
       " '62778',\n",
       " '62779',\n",
       " '62780',\n",
       " '62781',\n",
       " '62782',\n",
       " '62783',\n",
       " '62784',\n",
       " '62785',\n",
       " '62786',\n",
       " '62787',\n",
       " '62788',\n",
       " '62789',\n",
       " '62790',\n",
       " '62791',\n",
       " '62792',\n",
       " '62793',\n",
       " '62794',\n",
       " '62795',\n",
       " '62796',\n",
       " '62797',\n",
       " '62798',\n",
       " '62799',\n",
       " '62800',\n",
       " '62801',\n",
       " '62802',\n",
       " '62803',\n",
       " '62804',\n",
       " '62805',\n",
       " '62806',\n",
       " '62807',\n",
       " '62808',\n",
       " '62809',\n",
       " '62810',\n",
       " '62811',\n",
       " '62812',\n",
       " '62813',\n",
       " '62814',\n",
       " '62815',\n",
       " '62816',\n",
       " '62817',\n",
       " '62818',\n",
       " '62819',\n",
       " '62820',\n",
       " '62821',\n",
       " '62822',\n",
       " '62823',\n",
       " '62824',\n",
       " '62825',\n",
       " '62826',\n",
       " '62827',\n",
       " '62828',\n",
       " '62829',\n",
       " '62830',\n",
       " '62831',\n",
       " '62832',\n",
       " '62833',\n",
       " '62834',\n",
       " '62835',\n",
       " '62836',\n",
       " '62837',\n",
       " '62838',\n",
       " '62839',\n",
       " '62840',\n",
       " '62841',\n",
       " '62842',\n",
       " '62843',\n",
       " '62844',\n",
       " '62845',\n",
       " '62846',\n",
       " '62847',\n",
       " '62848',\n",
       " '62849',\n",
       " '62850',\n",
       " '62851',\n",
       " '62852',\n",
       " '62853',\n",
       " '62854',\n",
       " '62855',\n",
       " '62856',\n",
       " '62857',\n",
       " '62858',\n",
       " '62859',\n",
       " '62860',\n",
       " '62861',\n",
       " '62862',\n",
       " '62863',\n",
       " '62864',\n",
       " '62865',\n",
       " '62866',\n",
       " '62867',\n",
       " '62868',\n",
       " '62869',\n",
       " '62870',\n",
       " '62871',\n",
       " '62872',\n",
       " '62873',\n",
       " '62874',\n",
       " '62875',\n",
       " '62876',\n",
       " '62877',\n",
       " '62878',\n",
       " '62879',\n",
       " '62880',\n",
       " '62881',\n",
       " '62882',\n",
       " '62883',\n",
       " '62884',\n",
       " '62885',\n",
       " '62886',\n",
       " '62887',\n",
       " '62888',\n",
       " '62889',\n",
       " '62890',\n",
       " '62891',\n",
       " '62892',\n",
       " '62893',\n",
       " '62894',\n",
       " '62895',\n",
       " '62896',\n",
       " '62897',\n",
       " '62898',\n",
       " '62899',\n",
       " '62900',\n",
       " '62901',\n",
       " '62902',\n",
       " '62903',\n",
       " '62904',\n",
       " '62905',\n",
       " '62906',\n",
       " '62907',\n",
       " '62908',\n",
       " '62909',\n",
       " '62910',\n",
       " '62911',\n",
       " '62912',\n",
       " '62913',\n",
       " '62914',\n",
       " '62915',\n",
       " '62916',\n",
       " '62917',\n",
       " '62918',\n",
       " '62919',\n",
       " '62920',\n",
       " '62921',\n",
       " '62922',\n",
       " '62923',\n",
       " '62924',\n",
       " '62925',\n",
       " '62926',\n",
       " '62927',\n",
       " '62928',\n",
       " '62929',\n",
       " '62930',\n",
       " '62931',\n",
       " '62932',\n",
       " '62933',\n",
       " '62934',\n",
       " '62935',\n",
       " '62936',\n",
       " '62937',\n",
       " '62938',\n",
       " '62939',\n",
       " '62940',\n",
       " '62941',\n",
       " '62942',\n",
       " '62943',\n",
       " '62944',\n",
       " '62945',\n",
       " '62946',\n",
       " '62947',\n",
       " '62948',\n",
       " '62949',\n",
       " '62950',\n",
       " '62951',\n",
       " '62952',\n",
       " '62953',\n",
       " '62954',\n",
       " '62955',\n",
       " '62956',\n",
       " '62957',\n",
       " '62958',\n",
       " '62959',\n",
       " '62960',\n",
       " '62961',\n",
       " '62962',\n",
       " '62963',\n",
       " '62964',\n",
       " '62965',\n",
       " '62966',\n",
       " '62967',\n",
       " '62968',\n",
       " '62969',\n",
       " '62970',\n",
       " '62971',\n",
       " '62972',\n",
       " '62973',\n",
       " '62974',\n",
       " '62975',\n",
       " '62976',\n",
       " '62977',\n",
       " '62978',\n",
       " '62979',\n",
       " '62980',\n",
       " '62981',\n",
       " '62982',\n",
       " '62983',\n",
       " '62984',\n",
       " '62985',\n",
       " '62986',\n",
       " '62987',\n",
       " '62988',\n",
       " '62989',\n",
       " '62990',\n",
       " '62991',\n",
       " '62992',\n",
       " '62993',\n",
       " '62994',\n",
       " '62995',\n",
       " '62996',\n",
       " '62997',\n",
       " '62998',\n",
       " '62999',\n",
       " '63000',\n",
       " '63001',\n",
       " '63002',\n",
       " '63003',\n",
       " '63004',\n",
       " '63005',\n",
       " '63006',\n",
       " '63007',\n",
       " '63008',\n",
       " '63009',\n",
       " '63010',\n",
       " '63011',\n",
       " '63012',\n",
       " '63013',\n",
       " '63014',\n",
       " '63015',\n",
       " '63016',\n",
       " '63017',\n",
       " '63018',\n",
       " '63019',\n",
       " '63020',\n",
       " '63021',\n",
       " '63022',\n",
       " '63023',\n",
       " '63024',\n",
       " '63025',\n",
       " '63026',\n",
       " '63027',\n",
       " '63028',\n",
       " '63029',\n",
       " '63030',\n",
       " '63031',\n",
       " '63032',\n",
       " '63033',\n",
       " '63034',\n",
       " '63035',\n",
       " '63036',\n",
       " '63037',\n",
       " '63038',\n",
       " '63039',\n",
       " '63040',\n",
       " '63041',\n",
       " '63042',\n",
       " '63043',\n",
       " '63044',\n",
       " '63045',\n",
       " '63046',\n",
       " '63047',\n",
       " '63048',\n",
       " '63049',\n",
       " '63050',\n",
       " '63051',\n",
       " '63052',\n",
       " '63053',\n",
       " '63054',\n",
       " '63055',\n",
       " '63056',\n",
       " '63057',\n",
       " '63058',\n",
       " '63059',\n",
       " '63060',\n",
       " '63061',\n",
       " '63062',\n",
       " '63063',\n",
       " '63064',\n",
       " '63065',\n",
       " '63066',\n",
       " '63067',\n",
       " '63068',\n",
       " '63069',\n",
       " '63070',\n",
       " '63071',\n",
       " '63072',\n",
       " '63073',\n",
       " '63074',\n",
       " '63075',\n",
       " '63076',\n",
       " '63077',\n",
       " '63078',\n",
       " '63079',\n",
       " '63080',\n",
       " '63081',\n",
       " '63082',\n",
       " '63083',\n",
       " '63084',\n",
       " '63085',\n",
       " '63086',\n",
       " '63087',\n",
       " '63088',\n",
       " '63089',\n",
       " '63090',\n",
       " '63091',\n",
       " '63092',\n",
       " '63093',\n",
       " '63094',\n",
       " '63095',\n",
       " '63096',\n",
       " '63097',\n",
       " '63098',\n",
       " '63099',\n",
       " '63100',\n",
       " '63101',\n",
       " '63102',\n",
       " '63103',\n",
       " '63104',\n",
       " '63105',\n",
       " '63106',\n",
       " '63107',\n",
       " '63108',\n",
       " '63109',\n",
       " '63110',\n",
       " '63111',\n",
       " '63112',\n",
       " '63113',\n",
       " '63114',\n",
       " '63115',\n",
       " '63116',\n",
       " '63117',\n",
       " '63118',\n",
       " '63119',\n",
       " '63120',\n",
       " '63121',\n",
       " '63122',\n",
       " '63123',\n",
       " '63124',\n",
       " '63125',\n",
       " '63126',\n",
       " '63127',\n",
       " '63128',\n",
       " '63129',\n",
       " '63130',\n",
       " '63131',\n",
       " '63132',\n",
       " '63133',\n",
       " '63134',\n",
       " '63135',\n",
       " '63136',\n",
       " '63137',\n",
       " '63138',\n",
       " '63139',\n",
       " '63140',\n",
       " '63141',\n",
       " '63142',\n",
       " '63143',\n",
       " '63144',\n",
       " '63145',\n",
       " '63146',\n",
       " '63147',\n",
       " '63148',\n",
       " '63149',\n",
       " '63150',\n",
       " '63151',\n",
       " '63152',\n",
       " '63153',\n",
       " '63154',\n",
       " '63155',\n",
       " '63156',\n",
       " '63157',\n",
       " '63158',\n",
       " '63159',\n",
       " '63160',\n",
       " '63161',\n",
       " '63162',\n",
       " '63163',\n",
       " '63164',\n",
       " '63165',\n",
       " '63166',\n",
       " '63167',\n",
       " '63168',\n",
       " '63169',\n",
       " '63170',\n",
       " '63171',\n",
       " '63172',\n",
       " '63173',\n",
       " '63174',\n",
       " '63175',\n",
       " '63176',\n",
       " '63177',\n",
       " '63178',\n",
       " '63179',\n",
       " '63180',\n",
       " '63181',\n",
       " '63182',\n",
       " '63183',\n",
       " '63184',\n",
       " '63185',\n",
       " '63186',\n",
       " '63187',\n",
       " '63188',\n",
       " '63189',\n",
       " '63190',\n",
       " '63191',\n",
       " '63192',\n",
       " '63193',\n",
       " '63194',\n",
       " '63195',\n",
       " '63196',\n",
       " '63197',\n",
       " '63198',\n",
       " '63199',\n",
       " '63200',\n",
       " '63201',\n",
       " '63202',\n",
       " '63203',\n",
       " '63204',\n",
       " '63205',\n",
       " '63206',\n",
       " '63207',\n",
       " '63208',\n",
       " '63209',\n",
       " '63210',\n",
       " '63211',\n",
       " '63212',\n",
       " '63213',\n",
       " '63214',\n",
       " '63215',\n",
       " '63216',\n",
       " '63217',\n",
       " '63218',\n",
       " '63219',\n",
       " '63220',\n",
       " '63221',\n",
       " '63222',\n",
       " '63223',\n",
       " '63224',\n",
       " '63225',\n",
       " '63226',\n",
       " '63227',\n",
       " '63228',\n",
       " '63229',\n",
       " '63230',\n",
       " '63231',\n",
       " '63232',\n",
       " '63233',\n",
       " '63234',\n",
       " '63235',\n",
       " '63236',\n",
       " '63237',\n",
       " '63238',\n",
       " '63239',\n",
       " '63240',\n",
       " '63241',\n",
       " '63242',\n",
       " '63243',\n",
       " '63244',\n",
       " '63245',\n",
       " '63246',\n",
       " '63247',\n",
       " '63248',\n",
       " '63249',\n",
       " '63250',\n",
       " '63251',\n",
       " '63252',\n",
       " '63253',\n",
       " '63254',\n",
       " '63255',\n",
       " '63256',\n",
       " '63257',\n",
       " '63258',\n",
       " '63259',\n",
       " '63260',\n",
       " '63261',\n",
       " '63262',\n",
       " '63263',\n",
       " '63264',\n",
       " '63265',\n",
       " '63266',\n",
       " '63267',\n",
       " '63268',\n",
       " '63269',\n",
       " '63270',\n",
       " '63271',\n",
       " '63272',\n",
       " '63273',\n",
       " '63274',\n",
       " '63275',\n",
       " '63276',\n",
       " '63277',\n",
       " '63278',\n",
       " '63279',\n",
       " '63280',\n",
       " '63281',\n",
       " '63282',\n",
       " '63283',\n",
       " '63284',\n",
       " '63285',\n",
       " '63286',\n",
       " '63287',\n",
       " '63288',\n",
       " '63289',\n",
       " '63290',\n",
       " '63291',\n",
       " '63292',\n",
       " '63293',\n",
       " '63294',\n",
       " '63295',\n",
       " '63296',\n",
       " '63297',\n",
       " '63298',\n",
       " '63299',\n",
       " '63300',\n",
       " '63301',\n",
       " '63302',\n",
       " '63303',\n",
       " '63304',\n",
       " '63305',\n",
       " '63306',\n",
       " '63307',\n",
       " '63308',\n",
       " '63309',\n",
       " '63310',\n",
       " '63311',\n",
       " '63312',\n",
       " '63313',\n",
       " '63314',\n",
       " '63315',\n",
       " '63316',\n",
       " '63317',\n",
       " '63318',\n",
       " '63319',\n",
       " '63320',\n",
       " '63321',\n",
       " '63322',\n",
       " '63323',\n",
       " '63324',\n",
       " '63325',\n",
       " '63326',\n",
       " '63327',\n",
       " '63328',\n",
       " '63329',\n",
       " '63330',\n",
       " '63331',\n",
       " '63332',\n",
       " '63333',\n",
       " '63334',\n",
       " '63335',\n",
       " '63336',\n",
       " '63337',\n",
       " '63338',\n",
       " '63339',\n",
       " '63340',\n",
       " '63341',\n",
       " '63342',\n",
       " '63343',\n",
       " '63344',\n",
       " '63345',\n",
       " '63346',\n",
       " '63347',\n",
       " '63348',\n",
       " '63349',\n",
       " '63350',\n",
       " '63351',\n",
       " '63352',\n",
       " '63353',\n",
       " '63354',\n",
       " '63355',\n",
       " '63356',\n",
       " '63357',\n",
       " '63358',\n",
       " '63359',\n",
       " '63360',\n",
       " '63361',\n",
       " '63362',\n",
       " '63363',\n",
       " '63364',\n",
       " '63365',\n",
       " '63366',\n",
       " '63367',\n",
       " '63368',\n",
       " '63369',\n",
       " '63370',\n",
       " '63371',\n",
       " '63372',\n",
       " '63373',\n",
       " '63374',\n",
       " '63375',\n",
       " '63376',\n",
       " '63377',\n",
       " '63378',\n",
       " '63379',\n",
       " '63380',\n",
       " '63381',\n",
       " '63382',\n",
       " '63383',\n",
       " '63384',\n",
       " '63385',\n",
       " '63386',\n",
       " '63387',\n",
       " '63388',\n",
       " '63389',\n",
       " '63390',\n",
       " '63391',\n",
       " '63392',\n",
       " '63393',\n",
       " '63394',\n",
       " '63395',\n",
       " '63396',\n",
       " '63397',\n",
       " '63398',\n",
       " '63399',\n",
       " '63400',\n",
       " '63401',\n",
       " '63402',\n",
       " '63403',\n",
       " '63404',\n",
       " '63405',\n",
       " '63406',\n",
       " '63407',\n",
       " '63408',\n",
       " '63409',\n",
       " '63410',\n",
       " '63411',\n",
       " '63412',\n",
       " '63413',\n",
       " '63414',\n",
       " '63415',\n",
       " '63416',\n",
       " '63417',\n",
       " '63418',\n",
       " '63419',\n",
       " '63420',\n",
       " '63421',\n",
       " '63422',\n",
       " '63423',\n",
       " '63424',\n",
       " '63425',\n",
       " '63426',\n",
       " '63427',\n",
       " '63428',\n",
       " '63429',\n",
       " '63430',\n",
       " '63431',\n",
       " '63432',\n",
       " '63433',\n",
       " '63434',\n",
       " '63435',\n",
       " '63436',\n",
       " '63437',\n",
       " '63438',\n",
       " '63439',\n",
       " '63440',\n",
       " '63441',\n",
       " '63442',\n",
       " '63443',\n",
       " '63444',\n",
       " '63445',\n",
       " '63446',\n",
       " '63447',\n",
       " '63448',\n",
       " '63449',\n",
       " '63450',\n",
       " '63451',\n",
       " '63452',\n",
       " '63453',\n",
       " '63454',\n",
       " '63455',\n",
       " '63456',\n",
       " '63457',\n",
       " '63458',\n",
       " '63459',\n",
       " '63460',\n",
       " '63461',\n",
       " '63462',\n",
       " '63463',\n",
       " '63464',\n",
       " '63465',\n",
       " '63466',\n",
       " '63467',\n",
       " '63468',\n",
       " '63469',\n",
       " '63470',\n",
       " '63471',\n",
       " '63472',\n",
       " '63473',\n",
       " '63474',\n",
       " '63475',\n",
       " '63476',\n",
       " '63477',\n",
       " '63478',\n",
       " '63479',\n",
       " '63480',\n",
       " '63481',\n",
       " '63482',\n",
       " '63483',\n",
       " '63484',\n",
       " '63485',\n",
       " '63486',\n",
       " '63487',\n",
       " '63488',\n",
       " '63489',\n",
       " '63490',\n",
       " '63491',\n",
       " '63492',\n",
       " '63493',\n",
       " '63494',\n",
       " '63495',\n",
       " '63496',\n",
       " '63497',\n",
       " '63498',\n",
       " '63499',\n",
       " ...]"
      ]
     },
     "execution_count": 256,
     "metadata": {},
     "output_type": "execute_result"
    }
   ],
   "source": [
    "rddN.collect()"
   ]
  },
  {
   "cell_type": "markdown",
   "metadata": {
    "id": "98_lZqcufocO"
   },
   "source": [
    "## SaveAsPickleFile"
   ]
  },
  {
   "cell_type": "markdown",
   "metadata": {
    "id": "-uoTsAuIf1hG"
   },
   "source": [
    "Guarda un RDD a disco en un archivo con los datos serializados."
   ]
  },
  {
   "cell_type": "code",
   "execution_count": 257,
   "metadata": {
    "id": "EE_YrGrEeGaq"
   },
   "outputs": [],
   "source": [
    "rdd.saveAsPickleFile('numbers2.file')"
   ]
  },
  {
   "cell_type": "code",
   "execution_count": 258,
   "metadata": {
    "id": "Ol9nG9vdej3h"
   },
   "outputs": [],
   "source": [
    "rddN2 = sc.pickleFile('numbers2.file')"
   ]
  },
  {
   "cell_type": "code",
   "execution_count": 259,
   "metadata": {
    "id": "nAOGcsPge2r6"
   },
   "outputs": [
    {
     "data": {
      "text/plain": [
       "[62500, 62501, 62502, 62503, 62504, 62505, 62506, 62507, 62508, 62509]"
      ]
     },
     "execution_count": 259,
     "metadata": {},
     "output_type": "execute_result"
    }
   ],
   "source": [
    "rddN2.take(10)"
   ]
  },
  {
   "cell_type": "code",
   "execution_count": null,
   "metadata": {
    "id": "EE5o7gcVe4HC"
   },
   "outputs": [],
   "source": []
  }
 ],
 "metadata": {
  "colab": {
   "collapsed_sections": [],
   "name": "Spark-Clase6.ipynb",
   "provenance": []
  },
  "kernelspec": {
   "display_name": "Python 3",
   "language": "python",
   "name": "python3"
  },
  "language_info": {
   "codemirror_mode": {
    "name": "ipython",
    "version": 3
   },
   "file_extension": ".py",
   "mimetype": "text/x-python",
   "name": "python",
   "nbconvert_exporter": "python",
   "pygments_lexer": "ipython3",
   "version": "3.7.4"
  }
 },
 "nbformat": 4,
 "nbformat_minor": 4
}
