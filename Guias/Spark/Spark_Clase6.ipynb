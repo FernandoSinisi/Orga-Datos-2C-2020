{
 "cells": [
  {
   "cell_type": "markdown",
   "metadata": {
    "id": "JCKfIhFUQiyg"
   },
   "source": [
    "# Creamos el Spark Context"
   ]
  },
  {
   "cell_type": "code",
   "execution_count": 83,
   "metadata": {
    "id": "5ENPglW_4Cco"
   },
   "outputs": [],
   "source": [
    "from pyspark import SparkContext\n",
    "from pyspark.sql import SQLContext\n",
    "from pydrive.drive import GoogleDrive\n",
    "#from google.colab import auth\n",
    "from pydrive.auth import GoogleAuth\n",
    "from oauth2client.client import GoogleCredentials\n",
    "\n",
    "#auth.authenticate_user()\n",
    "#gauth = GoogleAuth()\n",
    "#gauth.credentials = GoogleCredentials.get_application_default()\n",
    "#drive = GoogleDrive(gauth)\n",
    "\n",
    "\n",
    "#  Por si hay mas de un contexto de PySpark corriendo (por ejemplo, otro Notebook), esto para utilizar el mismo.\n",
    "sc = SparkContext.getOrCreate()"
   ]
  },
  {
   "cell_type": "code",
   "execution_count": 84,
   "metadata": {
    "id": "68-dxCy6IqWv"
   },
   "outputs": [
    {
     "data": {
      "text/plain": [
       "pyspark.context.SparkContext"
      ]
     },
     "execution_count": 84,
     "metadata": {},
     "output_type": "execute_result"
    }
   ],
   "source": [
    "type(sc)"
   ]
  },
  {
   "cell_type": "markdown",
   "metadata": {
    "id": "-CbdyUxRQuO1"
   },
   "source": [
    "# Lectura de datos en Spark"
   ]
  },
  {
   "cell_type": "markdown",
   "metadata": {
    "id": "4hsKVzAOJCNZ"
   },
   "source": [
    "## Paralelizando una coleccion de python"
   ]
  },
  {
   "cell_type": "code",
   "execution_count": 85,
   "metadata": {
    "id": "SlaLdgdfI6Nm"
   },
   "outputs": [
    {
     "data": {
      "text/plain": [
       "1000"
      ]
     },
     "execution_count": 85,
     "metadata": {},
     "output_type": "execute_result"
    }
   ],
   "source": [
    "## creamos 1000 enteros en una lista\n",
    "integersList = range(1,1001)\n",
    "len(integersList)"
   ]
  },
  {
   "cell_type": "code",
   "execution_count": 86,
   "metadata": {
    "id": "Cg31cLQYJQFP"
   },
   "outputs": [
    {
     "data": {
      "text/plain": [
       "[(0, 1, 2, 2017, 20), (2, 2, 3, 2017, 30), (1, 1, 7, 2017, 15)]"
      ]
     },
     "execution_count": 86,
     "metadata": {},
     "output_type": "execute_result"
    }
   ],
   "source": [
    "## Paralelizamos la coleccion utilizando 8 particiones o slices\n",
    "## Esta operacion es una transformacion de datos en un RDD\n",
    "## Dado que Spark usa lazy evaluation, no corren jobs de Spark\n",
    "## hasta el momento\n",
    "integersListRDD = sc.parallelize(integersList, 8)\n",
    "type(integersListRDD)\n",
    "\n",
    "### Asi se crean rdd con datos\n",
    "\n",
    "datos = [\n",
    "    (0, 1, 2, 2017, 20),\n",
    "    (2, 2, 3, 2017, 30),\n",
    "    (1, 1, 7, 2017, 15),\n",
    "    (0, 1, 3, 2015, 23),\n",
    "    (3, 3, 1, 2017, 10),\n",
    "    (3, 3, 8, 2016, 17),\n",
    "    (3, 3, 6, 2017, 5),\n",
    "    (0, 4, 10, 2017, 12),\n",
    "    (15, 2, 5, 2017, 15),\n",
    "    (0, 5, 1, 2017, 70)\n",
    "]\n",
    "\n",
    "rdd_ejemplo = sc.parallelize(datos)\n",
    "rdd_ejemplo.take(3)"
   ]
  },
  {
   "cell_type": "code",
   "execution_count": 87,
   "metadata": {
    "id": "1YieMrEDJXEQ"
   },
   "outputs": [
    {
     "data": {
      "text/plain": [
       "8"
      ]
     },
     "execution_count": 87,
     "metadata": {},
     "output_type": "execute_result"
    }
   ],
   "source": [
    "## podemos ver tambien otra informacion interesante del RDD\n",
    "## el numero de particiones\n",
    "integersListRDD.getNumPartitions()"
   ]
  },
  {
   "cell_type": "code",
   "execution_count": 88,
   "metadata": {
    "id": "3R9126T7JiA0"
   },
   "outputs": [
    {
     "data": {
      "text/plain": [
       "b'(8) PythonRDD[68] at RDD at PythonRDD.scala:53 []\\n |  ParallelCollectionRDD[64] at parallelize at PythonRDD.scala:195 []'"
      ]
     },
     "execution_count": 88,
     "metadata": {},
     "output_type": "execute_result"
    }
   ],
   "source": [
    "## el conjunto de transformaciones que se aplica\n",
    "integersListRDD.toDebugString()"
   ]
  },
  {
   "cell_type": "code",
   "execution_count": 89,
   "metadata": {
    "id": "ekG7ZqGOJm3-"
   },
   "outputs": [],
   "source": [
    "## para ver mas metodos disponibles del RDD\n",
    "#help(integersListRDD)"
   ]
  },
  {
   "cell_type": "code",
   "execution_count": 90,
   "metadata": {
    "id": "9vE0HNwGKMgE"
   },
   "outputs": [
    {
     "data": {
      "text/plain": [
       "[1, 2, 3, 4, 5]"
      ]
     },
     "execution_count": 90,
     "metadata": {},
     "output_type": "execute_result"
    }
   ],
   "source": [
    "integersListRDD.take(5)"
   ]
  },
  {
   "cell_type": "code",
   "execution_count": 91,
   "metadata": {
    "id": "uTkCa9z4KSDX"
   },
   "outputs": [
    {
     "data": {
      "text/plain": [
       "1000"
      ]
     },
     "execution_count": 91,
     "metadata": {},
     "output_type": "execute_result"
    }
   ],
   "source": [
    "integersListRDD.count()"
   ]
  },
  {
   "cell_type": "markdown",
   "metadata": {
    "id": "oxRHG4v4R4Rz"
   },
   "source": [
    "## Leyendo archivo con textFile"
   ]
  },
  {
   "cell_type": "code",
   "execution_count": 92,
   "metadata": {
    "id": "RRIlDQRr4EkJ"
   },
   "outputs": [],
   "source": [
    "#downloaded = drive.CreateFile({'id':\"1ybtSQxrqVqbRrl_3FMzMYW03Flp4zM-j\"})   # replace the id with id of file you want to access\n",
    "#downloaded.GetContentFile('s.txt') \n",
    "#rdd = spark.sparkContext.textFile('s.txt')"
   ]
  },
  {
   "cell_type": "code",
   "execution_count": 93,
   "metadata": {
    "id": "cPzWiShdsa8T"
   },
   "outputs": [],
   "source": [
    "#rdd"
   ]
  },
  {
   "cell_type": "code",
   "execution_count": 94,
   "metadata": {
    "id": "wxiacj7U9-Fh"
   },
   "outputs": [],
   "source": [
    "#rdd.count()"
   ]
  },
  {
   "cell_type": "code",
   "execution_count": 95,
   "metadata": {
    "id": "Z7ot8-hDKZqR"
   },
   "outputs": [],
   "source": [
    "#rdd.take(5)"
   ]
  },
  {
   "cell_type": "markdown",
   "metadata": {
    "id": "iQuEiCSwTFcL"
   },
   "source": [
    "## Leyendo datos con el sqlContext"
   ]
  },
  {
   "cell_type": "code",
   "execution_count": 96,
   "metadata": {
    "id": "xjqckKbCSN6m"
   },
   "outputs": [],
   "source": [
    "sqlContext = SQLContext(sc)"
   ]
  },
  {
   "cell_type": "code",
   "execution_count": 97,
   "metadata": {
    "id": "cBkiBRPxUbLe"
   },
   "outputs": [],
   "source": [
    "#dataframe = sqlContext.read.text('s.txt')"
   ]
  },
  {
   "cell_type": "code",
   "execution_count": 98,
   "metadata": {
    "id": "WogrwH_4Uo97"
   },
   "outputs": [],
   "source": [
    "#dataframe"
   ]
  },
  {
   "cell_type": "code",
   "execution_count": 99,
   "metadata": {
    "id": "yWc_JpLHUqqz"
   },
   "outputs": [],
   "source": [
    "#rddCsv = dataframe.rdd"
   ]
  },
  {
   "cell_type": "code",
   "execution_count": 100,
   "metadata": {
    "id": "YqN2PigYUv2P"
   },
   "outputs": [],
   "source": [
    "#rddCsv"
   ]
  },
  {
   "cell_type": "code",
   "execution_count": 101,
   "metadata": {
    "id": "6u4liP2TUx3P"
   },
   "outputs": [],
   "source": [
    "#rddCsv.take(5)"
   ]
  },
  {
   "cell_type": "markdown",
   "metadata": {
    "id": "9cKE58VzTabI"
   },
   "source": [
    "Tambien se pueden leer archivos csv, json, parquet, jdbc, etc"
   ]
  },
  {
   "cell_type": "markdown",
   "metadata": {
    "id": "tQ2zW38tNPao"
   },
   "source": [
    "# Acciones"
   ]
  },
  {
   "cell_type": "markdown",
   "metadata": {
    "id": "YK9_c-ZANS6q"
   },
   "source": [
    "## Count"
   ]
  },
  {
   "cell_type": "markdown",
   "metadata": {
    "id": "1bQR6UgRDcF8"
   },
   "source": [
    "Obtiene la cantidad de registros del RDD"
   ]
  },
  {
   "cell_type": "code",
   "execution_count": 102,
   "metadata": {
    "id": "vL9EXNnGNYPg"
   },
   "outputs": [
    {
     "data": {
      "text/plain": [
       "1000"
      ]
     },
     "execution_count": 102,
     "metadata": {},
     "output_type": "execute_result"
    }
   ],
   "source": [
    "integersListRDD.count()"
   ]
  },
  {
   "cell_type": "markdown",
   "metadata": {
    "id": "-uui6n-EBjhG"
   },
   "source": [
    "### Take"
   ]
  },
  {
   "cell_type": "markdown",
   "metadata": {
    "id": "kdULVg5pDg1W"
   },
   "source": [
    "Obtiene los primeros n registros del RDD"
   ]
  },
  {
   "cell_type": "code",
   "execution_count": 103,
   "metadata": {
    "id": "d-TEqf-RNbqG"
   },
   "outputs": [
    {
     "data": {
      "text/plain": [
       "[1, 2, 3, 4, 5]"
      ]
     },
     "execution_count": 103,
     "metadata": {},
     "output_type": "execute_result"
    }
   ],
   "source": [
    "integersListRDD.take(5)"
   ]
  },
  {
   "cell_type": "markdown",
   "metadata": {
    "id": "S3KYoynwBnBf"
   },
   "source": [
    "## Collect"
   ]
  },
  {
   "cell_type": "markdown",
   "metadata": {
    "id": "9tBbHaOFDk1Q"
   },
   "source": [
    "Obtiene TODOS los registros del RDD. Esto es un potencial problema, ya que si los datos no son acotados va a sobrecargar el driver. Solo se debe ejecutar si de antemano conocemos que la cantidad de datos es acotada."
   ]
  },
  {
   "cell_type": "code",
   "execution_count": 104,
   "metadata": {
    "id": "dVwrmdsQNezf"
   },
   "outputs": [
    {
     "data": {
      "text/plain": [
       "[1,\n",
       " 2,\n",
       " 3,\n",
       " 4,\n",
       " 5,\n",
       " 6,\n",
       " 7,\n",
       " 8,\n",
       " 9,\n",
       " 10,\n",
       " 11,\n",
       " 12,\n",
       " 13,\n",
       " 14,\n",
       " 15,\n",
       " 16,\n",
       " 17,\n",
       " 18,\n",
       " 19,\n",
       " 20,\n",
       " 21,\n",
       " 22,\n",
       " 23,\n",
       " 24,\n",
       " 25,\n",
       " 26,\n",
       " 27,\n",
       " 28,\n",
       " 29,\n",
       " 30,\n",
       " 31,\n",
       " 32,\n",
       " 33,\n",
       " 34,\n",
       " 35,\n",
       " 36,\n",
       " 37,\n",
       " 38,\n",
       " 39,\n",
       " 40,\n",
       " 41,\n",
       " 42,\n",
       " 43,\n",
       " 44,\n",
       " 45,\n",
       " 46,\n",
       " 47,\n",
       " 48,\n",
       " 49,\n",
       " 50,\n",
       " 51,\n",
       " 52,\n",
       " 53,\n",
       " 54,\n",
       " 55,\n",
       " 56,\n",
       " 57,\n",
       " 58,\n",
       " 59,\n",
       " 60,\n",
       " 61,\n",
       " 62,\n",
       " 63,\n",
       " 64,\n",
       " 65,\n",
       " 66,\n",
       " 67,\n",
       " 68,\n",
       " 69,\n",
       " 70,\n",
       " 71,\n",
       " 72,\n",
       " 73,\n",
       " 74,\n",
       " 75,\n",
       " 76,\n",
       " 77,\n",
       " 78,\n",
       " 79,\n",
       " 80,\n",
       " 81,\n",
       " 82,\n",
       " 83,\n",
       " 84,\n",
       " 85,\n",
       " 86,\n",
       " 87,\n",
       " 88,\n",
       " 89,\n",
       " 90,\n",
       " 91,\n",
       " 92,\n",
       " 93,\n",
       " 94,\n",
       " 95,\n",
       " 96,\n",
       " 97,\n",
       " 98,\n",
       " 99,\n",
       " 100,\n",
       " 101,\n",
       " 102,\n",
       " 103,\n",
       " 104,\n",
       " 105,\n",
       " 106,\n",
       " 107,\n",
       " 108,\n",
       " 109,\n",
       " 110,\n",
       " 111,\n",
       " 112,\n",
       " 113,\n",
       " 114,\n",
       " 115,\n",
       " 116,\n",
       " 117,\n",
       " 118,\n",
       " 119,\n",
       " 120,\n",
       " 121,\n",
       " 122,\n",
       " 123,\n",
       " 124,\n",
       " 125,\n",
       " 126,\n",
       " 127,\n",
       " 128,\n",
       " 129,\n",
       " 130,\n",
       " 131,\n",
       " 132,\n",
       " 133,\n",
       " 134,\n",
       " 135,\n",
       " 136,\n",
       " 137,\n",
       " 138,\n",
       " 139,\n",
       " 140,\n",
       " 141,\n",
       " 142,\n",
       " 143,\n",
       " 144,\n",
       " 145,\n",
       " 146,\n",
       " 147,\n",
       " 148,\n",
       " 149,\n",
       " 150,\n",
       " 151,\n",
       " 152,\n",
       " 153,\n",
       " 154,\n",
       " 155,\n",
       " 156,\n",
       " 157,\n",
       " 158,\n",
       " 159,\n",
       " 160,\n",
       " 161,\n",
       " 162,\n",
       " 163,\n",
       " 164,\n",
       " 165,\n",
       " 166,\n",
       " 167,\n",
       " 168,\n",
       " 169,\n",
       " 170,\n",
       " 171,\n",
       " 172,\n",
       " 173,\n",
       " 174,\n",
       " 175,\n",
       " 176,\n",
       " 177,\n",
       " 178,\n",
       " 179,\n",
       " 180,\n",
       " 181,\n",
       " 182,\n",
       " 183,\n",
       " 184,\n",
       " 185,\n",
       " 186,\n",
       " 187,\n",
       " 188,\n",
       " 189,\n",
       " 190,\n",
       " 191,\n",
       " 192,\n",
       " 193,\n",
       " 194,\n",
       " 195,\n",
       " 196,\n",
       " 197,\n",
       " 198,\n",
       " 199,\n",
       " 200,\n",
       " 201,\n",
       " 202,\n",
       " 203,\n",
       " 204,\n",
       " 205,\n",
       " 206,\n",
       " 207,\n",
       " 208,\n",
       " 209,\n",
       " 210,\n",
       " 211,\n",
       " 212,\n",
       " 213,\n",
       " 214,\n",
       " 215,\n",
       " 216,\n",
       " 217,\n",
       " 218,\n",
       " 219,\n",
       " 220,\n",
       " 221,\n",
       " 222,\n",
       " 223,\n",
       " 224,\n",
       " 225,\n",
       " 226,\n",
       " 227,\n",
       " 228,\n",
       " 229,\n",
       " 230,\n",
       " 231,\n",
       " 232,\n",
       " 233,\n",
       " 234,\n",
       " 235,\n",
       " 236,\n",
       " 237,\n",
       " 238,\n",
       " 239,\n",
       " 240,\n",
       " 241,\n",
       " 242,\n",
       " 243,\n",
       " 244,\n",
       " 245,\n",
       " 246,\n",
       " 247,\n",
       " 248,\n",
       " 249,\n",
       " 250,\n",
       " 251,\n",
       " 252,\n",
       " 253,\n",
       " 254,\n",
       " 255,\n",
       " 256,\n",
       " 257,\n",
       " 258,\n",
       " 259,\n",
       " 260,\n",
       " 261,\n",
       " 262,\n",
       " 263,\n",
       " 264,\n",
       " 265,\n",
       " 266,\n",
       " 267,\n",
       " 268,\n",
       " 269,\n",
       " 270,\n",
       " 271,\n",
       " 272,\n",
       " 273,\n",
       " 274,\n",
       " 275,\n",
       " 276,\n",
       " 277,\n",
       " 278,\n",
       " 279,\n",
       " 280,\n",
       " 281,\n",
       " 282,\n",
       " 283,\n",
       " 284,\n",
       " 285,\n",
       " 286,\n",
       " 287,\n",
       " 288,\n",
       " 289,\n",
       " 290,\n",
       " 291,\n",
       " 292,\n",
       " 293,\n",
       " 294,\n",
       " 295,\n",
       " 296,\n",
       " 297,\n",
       " 298,\n",
       " 299,\n",
       " 300,\n",
       " 301,\n",
       " 302,\n",
       " 303,\n",
       " 304,\n",
       " 305,\n",
       " 306,\n",
       " 307,\n",
       " 308,\n",
       " 309,\n",
       " 310,\n",
       " 311,\n",
       " 312,\n",
       " 313,\n",
       " 314,\n",
       " 315,\n",
       " 316,\n",
       " 317,\n",
       " 318,\n",
       " 319,\n",
       " 320,\n",
       " 321,\n",
       " 322,\n",
       " 323,\n",
       " 324,\n",
       " 325,\n",
       " 326,\n",
       " 327,\n",
       " 328,\n",
       " 329,\n",
       " 330,\n",
       " 331,\n",
       " 332,\n",
       " 333,\n",
       " 334,\n",
       " 335,\n",
       " 336,\n",
       " 337,\n",
       " 338,\n",
       " 339,\n",
       " 340,\n",
       " 341,\n",
       " 342,\n",
       " 343,\n",
       " 344,\n",
       " 345,\n",
       " 346,\n",
       " 347,\n",
       " 348,\n",
       " 349,\n",
       " 350,\n",
       " 351,\n",
       " 352,\n",
       " 353,\n",
       " 354,\n",
       " 355,\n",
       " 356,\n",
       " 357,\n",
       " 358,\n",
       " 359,\n",
       " 360,\n",
       " 361,\n",
       " 362,\n",
       " 363,\n",
       " 364,\n",
       " 365,\n",
       " 366,\n",
       " 367,\n",
       " 368,\n",
       " 369,\n",
       " 370,\n",
       " 371,\n",
       " 372,\n",
       " 373,\n",
       " 374,\n",
       " 375,\n",
       " 376,\n",
       " 377,\n",
       " 378,\n",
       " 379,\n",
       " 380,\n",
       " 381,\n",
       " 382,\n",
       " 383,\n",
       " 384,\n",
       " 385,\n",
       " 386,\n",
       " 387,\n",
       " 388,\n",
       " 389,\n",
       " 390,\n",
       " 391,\n",
       " 392,\n",
       " 393,\n",
       " 394,\n",
       " 395,\n",
       " 396,\n",
       " 397,\n",
       " 398,\n",
       " 399,\n",
       " 400,\n",
       " 401,\n",
       " 402,\n",
       " 403,\n",
       " 404,\n",
       " 405,\n",
       " 406,\n",
       " 407,\n",
       " 408,\n",
       " 409,\n",
       " 410,\n",
       " 411,\n",
       " 412,\n",
       " 413,\n",
       " 414,\n",
       " 415,\n",
       " 416,\n",
       " 417,\n",
       " 418,\n",
       " 419,\n",
       " 420,\n",
       " 421,\n",
       " 422,\n",
       " 423,\n",
       " 424,\n",
       " 425,\n",
       " 426,\n",
       " 427,\n",
       " 428,\n",
       " 429,\n",
       " 430,\n",
       " 431,\n",
       " 432,\n",
       " 433,\n",
       " 434,\n",
       " 435,\n",
       " 436,\n",
       " 437,\n",
       " 438,\n",
       " 439,\n",
       " 440,\n",
       " 441,\n",
       " 442,\n",
       " 443,\n",
       " 444,\n",
       " 445,\n",
       " 446,\n",
       " 447,\n",
       " 448,\n",
       " 449,\n",
       " 450,\n",
       " 451,\n",
       " 452,\n",
       " 453,\n",
       " 454,\n",
       " 455,\n",
       " 456,\n",
       " 457,\n",
       " 458,\n",
       " 459,\n",
       " 460,\n",
       " 461,\n",
       " 462,\n",
       " 463,\n",
       " 464,\n",
       " 465,\n",
       " 466,\n",
       " 467,\n",
       " 468,\n",
       " 469,\n",
       " 470,\n",
       " 471,\n",
       " 472,\n",
       " 473,\n",
       " 474,\n",
       " 475,\n",
       " 476,\n",
       " 477,\n",
       " 478,\n",
       " 479,\n",
       " 480,\n",
       " 481,\n",
       " 482,\n",
       " 483,\n",
       " 484,\n",
       " 485,\n",
       " 486,\n",
       " 487,\n",
       " 488,\n",
       " 489,\n",
       " 490,\n",
       " 491,\n",
       " 492,\n",
       " 493,\n",
       " 494,\n",
       " 495,\n",
       " 496,\n",
       " 497,\n",
       " 498,\n",
       " 499,\n",
       " 500,\n",
       " 501,\n",
       " 502,\n",
       " 503,\n",
       " 504,\n",
       " 505,\n",
       " 506,\n",
       " 507,\n",
       " 508,\n",
       " 509,\n",
       " 510,\n",
       " 511,\n",
       " 512,\n",
       " 513,\n",
       " 514,\n",
       " 515,\n",
       " 516,\n",
       " 517,\n",
       " 518,\n",
       " 519,\n",
       " 520,\n",
       " 521,\n",
       " 522,\n",
       " 523,\n",
       " 524,\n",
       " 525,\n",
       " 526,\n",
       " 527,\n",
       " 528,\n",
       " 529,\n",
       " 530,\n",
       " 531,\n",
       " 532,\n",
       " 533,\n",
       " 534,\n",
       " 535,\n",
       " 536,\n",
       " 537,\n",
       " 538,\n",
       " 539,\n",
       " 540,\n",
       " 541,\n",
       " 542,\n",
       " 543,\n",
       " 544,\n",
       " 545,\n",
       " 546,\n",
       " 547,\n",
       " 548,\n",
       " 549,\n",
       " 550,\n",
       " 551,\n",
       " 552,\n",
       " 553,\n",
       " 554,\n",
       " 555,\n",
       " 556,\n",
       " 557,\n",
       " 558,\n",
       " 559,\n",
       " 560,\n",
       " 561,\n",
       " 562,\n",
       " 563,\n",
       " 564,\n",
       " 565,\n",
       " 566,\n",
       " 567,\n",
       " 568,\n",
       " 569,\n",
       " 570,\n",
       " 571,\n",
       " 572,\n",
       " 573,\n",
       " 574,\n",
       " 575,\n",
       " 576,\n",
       " 577,\n",
       " 578,\n",
       " 579,\n",
       " 580,\n",
       " 581,\n",
       " 582,\n",
       " 583,\n",
       " 584,\n",
       " 585,\n",
       " 586,\n",
       " 587,\n",
       " 588,\n",
       " 589,\n",
       " 590,\n",
       " 591,\n",
       " 592,\n",
       " 593,\n",
       " 594,\n",
       " 595,\n",
       " 596,\n",
       " 597,\n",
       " 598,\n",
       " 599,\n",
       " 600,\n",
       " 601,\n",
       " 602,\n",
       " 603,\n",
       " 604,\n",
       " 605,\n",
       " 606,\n",
       " 607,\n",
       " 608,\n",
       " 609,\n",
       " 610,\n",
       " 611,\n",
       " 612,\n",
       " 613,\n",
       " 614,\n",
       " 615,\n",
       " 616,\n",
       " 617,\n",
       " 618,\n",
       " 619,\n",
       " 620,\n",
       " 621,\n",
       " 622,\n",
       " 623,\n",
       " 624,\n",
       " 625,\n",
       " 626,\n",
       " 627,\n",
       " 628,\n",
       " 629,\n",
       " 630,\n",
       " 631,\n",
       " 632,\n",
       " 633,\n",
       " 634,\n",
       " 635,\n",
       " 636,\n",
       " 637,\n",
       " 638,\n",
       " 639,\n",
       " 640,\n",
       " 641,\n",
       " 642,\n",
       " 643,\n",
       " 644,\n",
       " 645,\n",
       " 646,\n",
       " 647,\n",
       " 648,\n",
       " 649,\n",
       " 650,\n",
       " 651,\n",
       " 652,\n",
       " 653,\n",
       " 654,\n",
       " 655,\n",
       " 656,\n",
       " 657,\n",
       " 658,\n",
       " 659,\n",
       " 660,\n",
       " 661,\n",
       " 662,\n",
       " 663,\n",
       " 664,\n",
       " 665,\n",
       " 666,\n",
       " 667,\n",
       " 668,\n",
       " 669,\n",
       " 670,\n",
       " 671,\n",
       " 672,\n",
       " 673,\n",
       " 674,\n",
       " 675,\n",
       " 676,\n",
       " 677,\n",
       " 678,\n",
       " 679,\n",
       " 680,\n",
       " 681,\n",
       " 682,\n",
       " 683,\n",
       " 684,\n",
       " 685,\n",
       " 686,\n",
       " 687,\n",
       " 688,\n",
       " 689,\n",
       " 690,\n",
       " 691,\n",
       " 692,\n",
       " 693,\n",
       " 694,\n",
       " 695,\n",
       " 696,\n",
       " 697,\n",
       " 698,\n",
       " 699,\n",
       " 700,\n",
       " 701,\n",
       " 702,\n",
       " 703,\n",
       " 704,\n",
       " 705,\n",
       " 706,\n",
       " 707,\n",
       " 708,\n",
       " 709,\n",
       " 710,\n",
       " 711,\n",
       " 712,\n",
       " 713,\n",
       " 714,\n",
       " 715,\n",
       " 716,\n",
       " 717,\n",
       " 718,\n",
       " 719,\n",
       " 720,\n",
       " 721,\n",
       " 722,\n",
       " 723,\n",
       " 724,\n",
       " 725,\n",
       " 726,\n",
       " 727,\n",
       " 728,\n",
       " 729,\n",
       " 730,\n",
       " 731,\n",
       " 732,\n",
       " 733,\n",
       " 734,\n",
       " 735,\n",
       " 736,\n",
       " 737,\n",
       " 738,\n",
       " 739,\n",
       " 740,\n",
       " 741,\n",
       " 742,\n",
       " 743,\n",
       " 744,\n",
       " 745,\n",
       " 746,\n",
       " 747,\n",
       " 748,\n",
       " 749,\n",
       " 750,\n",
       " 751,\n",
       " 752,\n",
       " 753,\n",
       " 754,\n",
       " 755,\n",
       " 756,\n",
       " 757,\n",
       " 758,\n",
       " 759,\n",
       " 760,\n",
       " 761,\n",
       " 762,\n",
       " 763,\n",
       " 764,\n",
       " 765,\n",
       " 766,\n",
       " 767,\n",
       " 768,\n",
       " 769,\n",
       " 770,\n",
       " 771,\n",
       " 772,\n",
       " 773,\n",
       " 774,\n",
       " 775,\n",
       " 776,\n",
       " 777,\n",
       " 778,\n",
       " 779,\n",
       " 780,\n",
       " 781,\n",
       " 782,\n",
       " 783,\n",
       " 784,\n",
       " 785,\n",
       " 786,\n",
       " 787,\n",
       " 788,\n",
       " 789,\n",
       " 790,\n",
       " 791,\n",
       " 792,\n",
       " 793,\n",
       " 794,\n",
       " 795,\n",
       " 796,\n",
       " 797,\n",
       " 798,\n",
       " 799,\n",
       " 800,\n",
       " 801,\n",
       " 802,\n",
       " 803,\n",
       " 804,\n",
       " 805,\n",
       " 806,\n",
       " 807,\n",
       " 808,\n",
       " 809,\n",
       " 810,\n",
       " 811,\n",
       " 812,\n",
       " 813,\n",
       " 814,\n",
       " 815,\n",
       " 816,\n",
       " 817,\n",
       " 818,\n",
       " 819,\n",
       " 820,\n",
       " 821,\n",
       " 822,\n",
       " 823,\n",
       " 824,\n",
       " 825,\n",
       " 826,\n",
       " 827,\n",
       " 828,\n",
       " 829,\n",
       " 830,\n",
       " 831,\n",
       " 832,\n",
       " 833,\n",
       " 834,\n",
       " 835,\n",
       " 836,\n",
       " 837,\n",
       " 838,\n",
       " 839,\n",
       " 840,\n",
       " 841,\n",
       " 842,\n",
       " 843,\n",
       " 844,\n",
       " 845,\n",
       " 846,\n",
       " 847,\n",
       " 848,\n",
       " 849,\n",
       " 850,\n",
       " 851,\n",
       " 852,\n",
       " 853,\n",
       " 854,\n",
       " 855,\n",
       " 856,\n",
       " 857,\n",
       " 858,\n",
       " 859,\n",
       " 860,\n",
       " 861,\n",
       " 862,\n",
       " 863,\n",
       " 864,\n",
       " 865,\n",
       " 866,\n",
       " 867,\n",
       " 868,\n",
       " 869,\n",
       " 870,\n",
       " 871,\n",
       " 872,\n",
       " 873,\n",
       " 874,\n",
       " 875,\n",
       " 876,\n",
       " 877,\n",
       " 878,\n",
       " 879,\n",
       " 880,\n",
       " 881,\n",
       " 882,\n",
       " 883,\n",
       " 884,\n",
       " 885,\n",
       " 886,\n",
       " 887,\n",
       " 888,\n",
       " 889,\n",
       " 890,\n",
       " 891,\n",
       " 892,\n",
       " 893,\n",
       " 894,\n",
       " 895,\n",
       " 896,\n",
       " 897,\n",
       " 898,\n",
       " 899,\n",
       " 900,\n",
       " 901,\n",
       " 902,\n",
       " 903,\n",
       " 904,\n",
       " 905,\n",
       " 906,\n",
       " 907,\n",
       " 908,\n",
       " 909,\n",
       " 910,\n",
       " 911,\n",
       " 912,\n",
       " 913,\n",
       " 914,\n",
       " 915,\n",
       " 916,\n",
       " 917,\n",
       " 918,\n",
       " 919,\n",
       " 920,\n",
       " 921,\n",
       " 922,\n",
       " 923,\n",
       " 924,\n",
       " 925,\n",
       " 926,\n",
       " 927,\n",
       " 928,\n",
       " 929,\n",
       " 930,\n",
       " 931,\n",
       " 932,\n",
       " 933,\n",
       " 934,\n",
       " 935,\n",
       " 936,\n",
       " 937,\n",
       " 938,\n",
       " 939,\n",
       " 940,\n",
       " 941,\n",
       " 942,\n",
       " 943,\n",
       " 944,\n",
       " 945,\n",
       " 946,\n",
       " 947,\n",
       " 948,\n",
       " 949,\n",
       " 950,\n",
       " 951,\n",
       " 952,\n",
       " 953,\n",
       " 954,\n",
       " 955,\n",
       " 956,\n",
       " 957,\n",
       " 958,\n",
       " 959,\n",
       " 960,\n",
       " 961,\n",
       " 962,\n",
       " 963,\n",
       " 964,\n",
       " 965,\n",
       " 966,\n",
       " 967,\n",
       " 968,\n",
       " 969,\n",
       " 970,\n",
       " 971,\n",
       " 972,\n",
       " 973,\n",
       " 974,\n",
       " 975,\n",
       " 976,\n",
       " 977,\n",
       " 978,\n",
       " 979,\n",
       " 980,\n",
       " 981,\n",
       " 982,\n",
       " 983,\n",
       " 984,\n",
       " 985,\n",
       " 986,\n",
       " 987,\n",
       " 988,\n",
       " 989,\n",
       " 990,\n",
       " 991,\n",
       " 992,\n",
       " 993,\n",
       " 994,\n",
       " 995,\n",
       " 996,\n",
       " 997,\n",
       " 998,\n",
       " 999,\n",
       " 1000]"
      ]
     },
     "execution_count": 104,
     "metadata": {},
     "output_type": "execute_result"
    }
   ],
   "source": [
    "integersListRDD.collect() # danger"
   ]
  },
  {
   "cell_type": "markdown",
   "metadata": {
    "id": "qkau0dZTBq8Z"
   },
   "source": [
    "## First"
   ]
  },
  {
   "cell_type": "markdown",
   "metadata": {
    "id": "HFWwYplgD_3a"
   },
   "source": [
    "Obtiene el primer registro del RDD"
   ]
  },
  {
   "cell_type": "code",
   "execution_count": 105,
   "metadata": {
    "id": "HOYGelqqNkCC"
   },
   "outputs": [
    {
     "data": {
      "text/plain": [
       "1"
      ]
     },
     "execution_count": 105,
     "metadata": {},
     "output_type": "execute_result"
    }
   ],
   "source": [
    "integersListRDD.first()"
   ]
  },
  {
   "cell_type": "markdown",
   "metadata": {
    "id": "7FwrpPTlBuhZ"
   },
   "source": [
    "## TakeOrdered"
   ]
  },
  {
   "cell_type": "markdown",
   "metadata": {
    "id": "l0OucoHZEC6h"
   },
   "source": [
    "Obtiene los primeros n registros en base a un orden indicado."
   ]
  },
  {
   "cell_type": "code",
   "execution_count": 106,
   "metadata": {
    "id": "DslDO0f8NtI2"
   },
   "outputs": [
    {
     "data": {
      "text/plain": [
       "[1000, 999, 998, 997, 996]"
      ]
     },
     "execution_count": 106,
     "metadata": {},
     "output_type": "execute_result"
    }
   ],
   "source": [
    "integersListRDD.takeOrdered(5, key=lambda x: -x)"
   ]
  },
  {
   "cell_type": "markdown",
   "metadata": {
    "id": "YunCyrJBBxii"
   },
   "source": [
    "## TakeSample"
   ]
  },
  {
   "cell_type": "markdown",
   "metadata": {
    "id": "sZkX85HOEJnY"
   },
   "source": [
    "Obtiene una muestra de n registros con o sin reemplazo."
   ]
  },
  {
   "cell_type": "code",
   "execution_count": 107,
   "metadata": {
    "id": "R94o47hlN-OG"
   },
   "outputs": [
    {
     "data": {
      "text/plain": [
       "[278, 981, 931, 450, 799]"
      ]
     },
     "execution_count": 107,
     "metadata": {},
     "output_type": "execute_result"
    }
   ],
   "source": [
    "integersListRDD.takeSample(False, 5)"
   ]
  },
  {
   "cell_type": "markdown",
   "metadata": {
    "id": "gfFmi9hMB0fz"
   },
   "source": [
    "## Reduce"
   ]
  },
  {
   "cell_type": "markdown",
   "metadata": {
    "id": "SZTXTiN6EQ41"
   },
   "source": [
    "Obtiene un solo registro, combinando el resultado en base a una función dada."
   ]
  },
  {
   "cell_type": "markdown",
   "metadata": {
    "id": "uA5TMBcKEkrM"
   },
   "source": [
    "Suma de todos los nros del RDD:"
   ]
  },
  {
   "cell_type": "code",
   "execution_count": 108,
   "metadata": {
    "id": "w1aRuIdcOG8T"
   },
   "outputs": [
    {
     "data": {
      "text/plain": [
       "500500"
      ]
     },
     "execution_count": 108,
     "metadata": {},
     "output_type": "execute_result"
    }
   ],
   "source": [
    "integersListRDD.reduce(lambda a,b: a+b)"
   ]
  },
  {
   "cell_type": "markdown",
   "metadata": {
    "id": "iPldfWT_EnQW"
   },
   "source": [
    "Número más grande del RDD:"
   ]
  },
  {
   "cell_type": "code",
   "execution_count": 109,
   "metadata": {
    "id": "uoZe4PTeEZU0"
   },
   "outputs": [
    {
     "data": {
      "text/plain": [
       "1000"
      ]
     },
     "execution_count": 109,
     "metadata": {},
     "output_type": "execute_result"
    }
   ],
   "source": [
    "integersListRDD.reduce(lambda a,b: a if a > b else b)"
   ]
  },
  {
   "cell_type": "markdown",
   "metadata": {
    "id": "bqtSjN_4B2sY"
   },
   "source": [
    "## CountByKey"
   ]
  },
  {
   "cell_type": "markdown",
   "metadata": {
    "id": "MDx7ZMX2Esdw"
   },
   "source": [
    "Cuenta ocurrencias de registros para cada clave."
   ]
  },
  {
   "cell_type": "markdown",
   "metadata": {
    "id": "sIC-fAW-EziF"
   },
   "source": [
    "En Spark para que un registro sea considerado con clave debe se una tupla de unicamente dos elementos. El primer elemento es la key y el segundo el valor. A su vez, la key y el valor pueden estar compuestos por tuplas."
   ]
  },
  {
   "cell_type": "markdown",
   "metadata": {
    "id": "HioGdGD8FJld"
   },
   "source": [
    "Cuento cuántos nros múltiplo de 2 hay y cuántos no:"
   ]
  },
  {
   "cell_type": "code",
   "execution_count": 110,
   "metadata": {
    "id": "iMrNtCjlOOvW"
   },
   "outputs": [
    {
     "data": {
      "text/plain": [
       "defaultdict(int, {1: 500, 0: 500})"
      ]
     },
     "execution_count": 110,
     "metadata": {},
     "output_type": "execute_result"
    }
   ],
   "source": [
    "integersListRDD.map(lambda x: (x % 2, 1)).countByKey()"
   ]
  },
  {
   "cell_type": "markdown",
   "metadata": {
    "id": "wICWjRrq9LGk"
   },
   "source": [
    "# Transformaciones"
   ]
  },
  {
   "cell_type": "markdown",
   "metadata": {
    "id": "htCboCCE9OxU"
   },
   "source": [
    "### Map"
   ]
  },
  {
   "cell_type": "markdown",
   "metadata": {
    "id": "4Osz4fFVFZkW"
   },
   "source": [
    "Transforma cada registro en base a la función dada."
   ]
  },
  {
   "cell_type": "code",
   "execution_count": 111,
   "metadata": {
    "id": "-Amp0bYmSG-c"
   },
   "outputs": [
    {
     "data": {
      "text/plain": [
       "[2, 4, 6, 8, 10]"
      ]
     },
     "execution_count": 111,
     "metadata": {},
     "output_type": "execute_result"
    }
   ],
   "source": [
    "integersListRDD.map(lambda x: x*2).take(5)"
   ]
  },
  {
   "cell_type": "code",
   "execution_count": 112,
   "metadata": {
    "id": "hM5gotbf9R-W"
   },
   "outputs": [
    {
     "data": {
      "text/plain": [
       "[(1, 1), (0, 2), (1, 3), (0, 4), (1, 5)]"
      ]
     },
     "execution_count": 112,
     "metadata": {},
     "output_type": "execute_result"
    }
   ],
   "source": [
    "integersListRDD.map(lambda x: (x % 2, x)).take(5)"
   ]
  },
  {
   "cell_type": "markdown",
   "metadata": {
    "id": "UGGRoh-d9k4P"
   },
   "source": [
    "## Filter"
   ]
  },
  {
   "cell_type": "markdown",
   "metadata": {
    "id": "zQfdye1DF2zO"
   },
   "source": [
    "Filtra registros en base a la función dada."
   ]
  },
  {
   "cell_type": "code",
   "execution_count": 113,
   "metadata": {
    "id": "S0l43_s89wpW"
   },
   "outputs": [
    {
     "data": {
      "text/plain": [
       "[2, 4, 6, 8, 10]"
      ]
     },
     "execution_count": 113,
     "metadata": {},
     "output_type": "execute_result"
    }
   ],
   "source": [
    "integersListRDD.filter(lambda x: x % 2 == 0).take(5)"
   ]
  },
  {
   "cell_type": "code",
   "execution_count": 114,
   "metadata": {
    "id": "vWEZW0D70HWU"
   },
   "outputs": [
    {
     "data": {
      "text/plain": [
       "500"
      ]
     },
     "execution_count": 114,
     "metadata": {},
     "output_type": "execute_result"
    }
   ],
   "source": [
    "integersListRDD.filter(lambda x: x % 2 == 0).count()"
   ]
  },
  {
   "cell_type": "markdown",
   "metadata": {
    "id": "y0ZHNYdO-ExA"
   },
   "source": [
    "## FlatMap"
   ]
  },
  {
   "cell_type": "markdown",
   "metadata": {
    "id": "NHE01zeXGGOK"
   },
   "source": [
    "Similar a Map, pero cada registro puede generar 0, 1 o más registros."
   ]
  },
  {
   "cell_type": "markdown",
   "metadata": {
    "id": "mVQdUOkHGQgl"
   },
   "source": [
    "Para cada registro original genero un nuevo registro con el nro, otro con el nro menos uno y otro con el registro más uno:"
   ]
  },
  {
   "cell_type": "code",
   "execution_count": 115,
   "metadata": {
    "id": "09N_gedZ-BSu"
   },
   "outputs": [
    {
     "data": {
      "text/plain": [
       "3000"
      ]
     },
     "execution_count": 115,
     "metadata": {},
     "output_type": "execute_result"
    }
   ],
   "source": [
    "integersFlat = integersListRDD.flatMap(lambda x: [(x), (x-1), (x+1)])\n",
    "integersFlat.count()"
   ]
  },
  {
   "cell_type": "markdown",
   "metadata": {
    "id": "uOJAhi5O-haG"
   },
   "source": [
    "## ReduceByKey"
   ]
  },
  {
   "cell_type": "markdown",
   "metadata": {
    "id": "90kFEtpmGafZ"
   },
   "source": [
    "Combina los registros para una misma clave en base a una función de reduce."
   ]
  },
  {
   "cell_type": "markdown",
   "metadata": {
    "id": "FLUeA__1yVFj"
   },
   "source": [
    "La función de reduce debe ser **conmutativa** y **asociativa**."
   ]
  },
  {
   "cell_type": "markdown",
   "metadata": {
    "id": "PcWSQNr7Gggz"
   },
   "source": [
    "Del RDD salida del flatMap cuento cuantos registros hay para cada nro:"
   ]
  },
  {
   "cell_type": "code",
   "execution_count": 116,
   "metadata": {
    "id": "5ak--UX3-zLm"
   },
   "outputs": [
    {
     "data": {
      "text/plain": [
       "1002"
      ]
     },
     "execution_count": 116,
     "metadata": {},
     "output_type": "execute_result"
    }
   ],
   "source": [
    "integersFlat.map(lambda x: (x, 1)).reduceByKey(lambda a,b: a+b).count()"
   ]
  },
  {
   "cell_type": "code",
   "execution_count": 117,
   "metadata": {
    "id": "VbH-NuM61Dbb"
   },
   "outputs": [
    {
     "data": {
      "text/plain": [
       "[(0, 1),\n",
       " (8, 3),\n",
       " (16, 3),\n",
       " (24, 3),\n",
       " (32, 3),\n",
       " (40, 3),\n",
       " (48, 3),\n",
       " (56, 3),\n",
       " (64, 3),\n",
       " (72, 3)]"
      ]
     },
     "execution_count": 117,
     "metadata": {},
     "output_type": "execute_result"
    }
   ],
   "source": [
    "integersFlat.map(lambda x: (x, 1)).reduceByKey(lambda a,b: a+b).take(10)"
   ]
  },
  {
   "cell_type": "code",
   "execution_count": 118,
   "metadata": {
    "id": "SwncZCGB1Ind"
   },
   "outputs": [
    {
     "data": {
      "text/plain": [
       "(1001, 1)"
      ]
     },
     "execution_count": 118,
     "metadata": {},
     "output_type": "execute_result"
    }
   ],
   "source": [
    "integersFlat.map(lambda x: (x, 1)).reduceByKey(lambda a,b: a+b).reduce(lambda a,b: a if a > b else b)"
   ]
  },
  {
   "cell_type": "markdown",
   "metadata": {
    "id": "rXS7ZVE4_lDB"
   },
   "source": [
    "## GroupByKey"
   ]
  },
  {
   "cell_type": "markdown",
   "metadata": {
    "id": "qRhtk2zFGr2g"
   },
   "source": [
    "Agrupa los registros para cada clave. Es similar a reduceByKey pero con \n",
    "groupByKey se obtiene todos los registros para cada clave.\n",
    "\n",
    "Solo se debe utilizar si es necesario la información de cada registro y la cantidad de registros por clave no es demasiado grande.\n",
    "\n",
    "GroupByKey es una transformación costosa.\n",
    "\n",
    "Si se desea realizar una agregación, usar reduceByKey. Usar groupByKey para hacer una agregación esta MAL."
   ]
  },
  {
   "cell_type": "markdown",
   "metadata": {
    "id": "XM84FFQbHxcZ"
   },
   "source": [
    "Necesito saber cuales son los nros múltiplos de 2 y cuales no:"
   ]
  },
  {
   "cell_type": "code",
   "execution_count": 119,
   "metadata": {
    "id": "dXi4mcm0_kFB"
   },
   "outputs": [
    {
     "data": {
      "text/plain": [
       "[(0,\n",
       "  [2,\n",
       "   4,\n",
       "   6,\n",
       "   8,\n",
       "   10,\n",
       "   12,\n",
       "   14,\n",
       "   16,\n",
       "   18,\n",
       "   20,\n",
       "   22,\n",
       "   24,\n",
       "   26,\n",
       "   28,\n",
       "   30,\n",
       "   32,\n",
       "   34,\n",
       "   36,\n",
       "   38,\n",
       "   40,\n",
       "   42,\n",
       "   44,\n",
       "   46,\n",
       "   48,\n",
       "   50,\n",
       "   52,\n",
       "   54,\n",
       "   56,\n",
       "   58,\n",
       "   60,\n",
       "   62,\n",
       "   64,\n",
       "   66,\n",
       "   68,\n",
       "   70,\n",
       "   72,\n",
       "   74,\n",
       "   76,\n",
       "   78,\n",
       "   80,\n",
       "   82,\n",
       "   84,\n",
       "   86,\n",
       "   88,\n",
       "   90,\n",
       "   92,\n",
       "   94,\n",
       "   96,\n",
       "   98,\n",
       "   100,\n",
       "   102,\n",
       "   104,\n",
       "   106,\n",
       "   108,\n",
       "   110,\n",
       "   112,\n",
       "   114,\n",
       "   116,\n",
       "   118,\n",
       "   120,\n",
       "   122,\n",
       "   124,\n",
       "   126,\n",
       "   128,\n",
       "   130,\n",
       "   132,\n",
       "   134,\n",
       "   136,\n",
       "   138,\n",
       "   140,\n",
       "   142,\n",
       "   144,\n",
       "   146,\n",
       "   148,\n",
       "   150,\n",
       "   152,\n",
       "   154,\n",
       "   156,\n",
       "   158,\n",
       "   160,\n",
       "   162,\n",
       "   164,\n",
       "   166,\n",
       "   168,\n",
       "   170,\n",
       "   172,\n",
       "   174,\n",
       "   176,\n",
       "   178,\n",
       "   180,\n",
       "   182,\n",
       "   184,\n",
       "   186,\n",
       "   188,\n",
       "   190,\n",
       "   192,\n",
       "   194,\n",
       "   196,\n",
       "   198,\n",
       "   200,\n",
       "   202,\n",
       "   204,\n",
       "   206,\n",
       "   208,\n",
       "   210,\n",
       "   212,\n",
       "   214,\n",
       "   216,\n",
       "   218,\n",
       "   220,\n",
       "   222,\n",
       "   224,\n",
       "   226,\n",
       "   228,\n",
       "   230,\n",
       "   232,\n",
       "   234,\n",
       "   236,\n",
       "   238,\n",
       "   240,\n",
       "   242,\n",
       "   244,\n",
       "   246,\n",
       "   248,\n",
       "   250,\n",
       "   252,\n",
       "   254,\n",
       "   256,\n",
       "   258,\n",
       "   260,\n",
       "   262,\n",
       "   264,\n",
       "   266,\n",
       "   268,\n",
       "   270,\n",
       "   272,\n",
       "   274,\n",
       "   276,\n",
       "   278,\n",
       "   280,\n",
       "   282,\n",
       "   284,\n",
       "   286,\n",
       "   288,\n",
       "   290,\n",
       "   292,\n",
       "   294,\n",
       "   296,\n",
       "   298,\n",
       "   300,\n",
       "   302,\n",
       "   304,\n",
       "   306,\n",
       "   308,\n",
       "   310,\n",
       "   312,\n",
       "   314,\n",
       "   316,\n",
       "   318,\n",
       "   320,\n",
       "   322,\n",
       "   324,\n",
       "   326,\n",
       "   328,\n",
       "   330,\n",
       "   332,\n",
       "   334,\n",
       "   336,\n",
       "   338,\n",
       "   340,\n",
       "   342,\n",
       "   344,\n",
       "   346,\n",
       "   348,\n",
       "   350,\n",
       "   352,\n",
       "   354,\n",
       "   356,\n",
       "   358,\n",
       "   360,\n",
       "   362,\n",
       "   364,\n",
       "   366,\n",
       "   368,\n",
       "   370,\n",
       "   372,\n",
       "   374,\n",
       "   376,\n",
       "   378,\n",
       "   380,\n",
       "   382,\n",
       "   384,\n",
       "   386,\n",
       "   388,\n",
       "   390,\n",
       "   392,\n",
       "   394,\n",
       "   396,\n",
       "   398,\n",
       "   400,\n",
       "   402,\n",
       "   404,\n",
       "   406,\n",
       "   408,\n",
       "   410,\n",
       "   412,\n",
       "   414,\n",
       "   416,\n",
       "   418,\n",
       "   420,\n",
       "   422,\n",
       "   424,\n",
       "   426,\n",
       "   428,\n",
       "   430,\n",
       "   432,\n",
       "   434,\n",
       "   436,\n",
       "   438,\n",
       "   440,\n",
       "   442,\n",
       "   444,\n",
       "   446,\n",
       "   448,\n",
       "   450,\n",
       "   452,\n",
       "   454,\n",
       "   456,\n",
       "   458,\n",
       "   460,\n",
       "   462,\n",
       "   464,\n",
       "   466,\n",
       "   468,\n",
       "   470,\n",
       "   472,\n",
       "   474,\n",
       "   476,\n",
       "   478,\n",
       "   480,\n",
       "   482,\n",
       "   484,\n",
       "   486,\n",
       "   488,\n",
       "   490,\n",
       "   492,\n",
       "   494,\n",
       "   496,\n",
       "   498,\n",
       "   500,\n",
       "   502,\n",
       "   504,\n",
       "   506,\n",
       "   508,\n",
       "   510,\n",
       "   512,\n",
       "   514,\n",
       "   516,\n",
       "   518,\n",
       "   520,\n",
       "   522,\n",
       "   524,\n",
       "   526,\n",
       "   528,\n",
       "   530,\n",
       "   532,\n",
       "   534,\n",
       "   536,\n",
       "   538,\n",
       "   540,\n",
       "   542,\n",
       "   544,\n",
       "   546,\n",
       "   548,\n",
       "   550,\n",
       "   552,\n",
       "   554,\n",
       "   556,\n",
       "   558,\n",
       "   560,\n",
       "   562,\n",
       "   564,\n",
       "   566,\n",
       "   568,\n",
       "   570,\n",
       "   572,\n",
       "   574,\n",
       "   576,\n",
       "   578,\n",
       "   580,\n",
       "   582,\n",
       "   584,\n",
       "   586,\n",
       "   588,\n",
       "   590,\n",
       "   592,\n",
       "   594,\n",
       "   596,\n",
       "   598,\n",
       "   600,\n",
       "   602,\n",
       "   604,\n",
       "   606,\n",
       "   608,\n",
       "   610,\n",
       "   612,\n",
       "   614,\n",
       "   616,\n",
       "   618,\n",
       "   620,\n",
       "   622,\n",
       "   624,\n",
       "   626,\n",
       "   628,\n",
       "   630,\n",
       "   632,\n",
       "   634,\n",
       "   636,\n",
       "   638,\n",
       "   640,\n",
       "   642,\n",
       "   644,\n",
       "   646,\n",
       "   648,\n",
       "   650,\n",
       "   652,\n",
       "   654,\n",
       "   656,\n",
       "   658,\n",
       "   660,\n",
       "   662,\n",
       "   664,\n",
       "   666,\n",
       "   668,\n",
       "   670,\n",
       "   672,\n",
       "   674,\n",
       "   676,\n",
       "   678,\n",
       "   680,\n",
       "   682,\n",
       "   684,\n",
       "   686,\n",
       "   688,\n",
       "   690,\n",
       "   692,\n",
       "   694,\n",
       "   696,\n",
       "   698,\n",
       "   700,\n",
       "   702,\n",
       "   704,\n",
       "   706,\n",
       "   708,\n",
       "   710,\n",
       "   712,\n",
       "   714,\n",
       "   716,\n",
       "   718,\n",
       "   720,\n",
       "   722,\n",
       "   724,\n",
       "   726,\n",
       "   728,\n",
       "   730,\n",
       "   732,\n",
       "   734,\n",
       "   736,\n",
       "   738,\n",
       "   740,\n",
       "   742,\n",
       "   744,\n",
       "   746,\n",
       "   748,\n",
       "   750,\n",
       "   752,\n",
       "   754,\n",
       "   756,\n",
       "   758,\n",
       "   760,\n",
       "   762,\n",
       "   764,\n",
       "   766,\n",
       "   768,\n",
       "   770,\n",
       "   772,\n",
       "   774,\n",
       "   776,\n",
       "   778,\n",
       "   780,\n",
       "   782,\n",
       "   784,\n",
       "   786,\n",
       "   788,\n",
       "   790,\n",
       "   792,\n",
       "   794,\n",
       "   796,\n",
       "   798,\n",
       "   800,\n",
       "   802,\n",
       "   804,\n",
       "   806,\n",
       "   808,\n",
       "   810,\n",
       "   812,\n",
       "   814,\n",
       "   816,\n",
       "   818,\n",
       "   820,\n",
       "   822,\n",
       "   824,\n",
       "   826,\n",
       "   828,\n",
       "   830,\n",
       "   832,\n",
       "   834,\n",
       "   836,\n",
       "   838,\n",
       "   840,\n",
       "   842,\n",
       "   844,\n",
       "   846,\n",
       "   848,\n",
       "   850,\n",
       "   852,\n",
       "   854,\n",
       "   856,\n",
       "   858,\n",
       "   860,\n",
       "   862,\n",
       "   864,\n",
       "   866,\n",
       "   868,\n",
       "   870,\n",
       "   872,\n",
       "   874,\n",
       "   876,\n",
       "   878,\n",
       "   880,\n",
       "   882,\n",
       "   884,\n",
       "   886,\n",
       "   888,\n",
       "   890,\n",
       "   892,\n",
       "   894,\n",
       "   896,\n",
       "   898,\n",
       "   900,\n",
       "   902,\n",
       "   904,\n",
       "   906,\n",
       "   908,\n",
       "   910,\n",
       "   912,\n",
       "   914,\n",
       "   916,\n",
       "   918,\n",
       "   920,\n",
       "   922,\n",
       "   924,\n",
       "   926,\n",
       "   928,\n",
       "   930,\n",
       "   932,\n",
       "   934,\n",
       "   936,\n",
       "   938,\n",
       "   940,\n",
       "   942,\n",
       "   944,\n",
       "   946,\n",
       "   948,\n",
       "   950,\n",
       "   952,\n",
       "   954,\n",
       "   956,\n",
       "   958,\n",
       "   960,\n",
       "   962,\n",
       "   964,\n",
       "   966,\n",
       "   968,\n",
       "   970,\n",
       "   972,\n",
       "   974,\n",
       "   976,\n",
       "   978,\n",
       "   980,\n",
       "   982,\n",
       "   984,\n",
       "   986,\n",
       "   988,\n",
       "   990,\n",
       "   992,\n",
       "   994,\n",
       "   996,\n",
       "   998,\n",
       "   1000]),\n",
       " (1,\n",
       "  [1,\n",
       "   3,\n",
       "   5,\n",
       "   7,\n",
       "   9,\n",
       "   11,\n",
       "   13,\n",
       "   15,\n",
       "   17,\n",
       "   19,\n",
       "   21,\n",
       "   23,\n",
       "   25,\n",
       "   27,\n",
       "   29,\n",
       "   31,\n",
       "   33,\n",
       "   35,\n",
       "   37,\n",
       "   39,\n",
       "   41,\n",
       "   43,\n",
       "   45,\n",
       "   47,\n",
       "   49,\n",
       "   51,\n",
       "   53,\n",
       "   55,\n",
       "   57,\n",
       "   59,\n",
       "   61,\n",
       "   63,\n",
       "   65,\n",
       "   67,\n",
       "   69,\n",
       "   71,\n",
       "   73,\n",
       "   75,\n",
       "   77,\n",
       "   79,\n",
       "   81,\n",
       "   83,\n",
       "   85,\n",
       "   87,\n",
       "   89,\n",
       "   91,\n",
       "   93,\n",
       "   95,\n",
       "   97,\n",
       "   99,\n",
       "   101,\n",
       "   103,\n",
       "   105,\n",
       "   107,\n",
       "   109,\n",
       "   111,\n",
       "   113,\n",
       "   115,\n",
       "   117,\n",
       "   119,\n",
       "   121,\n",
       "   123,\n",
       "   125,\n",
       "   127,\n",
       "   129,\n",
       "   131,\n",
       "   133,\n",
       "   135,\n",
       "   137,\n",
       "   139,\n",
       "   141,\n",
       "   143,\n",
       "   145,\n",
       "   147,\n",
       "   149,\n",
       "   151,\n",
       "   153,\n",
       "   155,\n",
       "   157,\n",
       "   159,\n",
       "   161,\n",
       "   163,\n",
       "   165,\n",
       "   167,\n",
       "   169,\n",
       "   171,\n",
       "   173,\n",
       "   175,\n",
       "   177,\n",
       "   179,\n",
       "   181,\n",
       "   183,\n",
       "   185,\n",
       "   187,\n",
       "   189,\n",
       "   191,\n",
       "   193,\n",
       "   195,\n",
       "   197,\n",
       "   199,\n",
       "   201,\n",
       "   203,\n",
       "   205,\n",
       "   207,\n",
       "   209,\n",
       "   211,\n",
       "   213,\n",
       "   215,\n",
       "   217,\n",
       "   219,\n",
       "   221,\n",
       "   223,\n",
       "   225,\n",
       "   227,\n",
       "   229,\n",
       "   231,\n",
       "   233,\n",
       "   235,\n",
       "   237,\n",
       "   239,\n",
       "   241,\n",
       "   243,\n",
       "   245,\n",
       "   247,\n",
       "   249,\n",
       "   251,\n",
       "   253,\n",
       "   255,\n",
       "   257,\n",
       "   259,\n",
       "   261,\n",
       "   263,\n",
       "   265,\n",
       "   267,\n",
       "   269,\n",
       "   271,\n",
       "   273,\n",
       "   275,\n",
       "   277,\n",
       "   279,\n",
       "   281,\n",
       "   283,\n",
       "   285,\n",
       "   287,\n",
       "   289,\n",
       "   291,\n",
       "   293,\n",
       "   295,\n",
       "   297,\n",
       "   299,\n",
       "   301,\n",
       "   303,\n",
       "   305,\n",
       "   307,\n",
       "   309,\n",
       "   311,\n",
       "   313,\n",
       "   315,\n",
       "   317,\n",
       "   319,\n",
       "   321,\n",
       "   323,\n",
       "   325,\n",
       "   327,\n",
       "   329,\n",
       "   331,\n",
       "   333,\n",
       "   335,\n",
       "   337,\n",
       "   339,\n",
       "   341,\n",
       "   343,\n",
       "   345,\n",
       "   347,\n",
       "   349,\n",
       "   351,\n",
       "   353,\n",
       "   355,\n",
       "   357,\n",
       "   359,\n",
       "   361,\n",
       "   363,\n",
       "   365,\n",
       "   367,\n",
       "   369,\n",
       "   371,\n",
       "   373,\n",
       "   375,\n",
       "   377,\n",
       "   379,\n",
       "   381,\n",
       "   383,\n",
       "   385,\n",
       "   387,\n",
       "   389,\n",
       "   391,\n",
       "   393,\n",
       "   395,\n",
       "   397,\n",
       "   399,\n",
       "   401,\n",
       "   403,\n",
       "   405,\n",
       "   407,\n",
       "   409,\n",
       "   411,\n",
       "   413,\n",
       "   415,\n",
       "   417,\n",
       "   419,\n",
       "   421,\n",
       "   423,\n",
       "   425,\n",
       "   427,\n",
       "   429,\n",
       "   431,\n",
       "   433,\n",
       "   435,\n",
       "   437,\n",
       "   439,\n",
       "   441,\n",
       "   443,\n",
       "   445,\n",
       "   447,\n",
       "   449,\n",
       "   451,\n",
       "   453,\n",
       "   455,\n",
       "   457,\n",
       "   459,\n",
       "   461,\n",
       "   463,\n",
       "   465,\n",
       "   467,\n",
       "   469,\n",
       "   471,\n",
       "   473,\n",
       "   475,\n",
       "   477,\n",
       "   479,\n",
       "   481,\n",
       "   483,\n",
       "   485,\n",
       "   487,\n",
       "   489,\n",
       "   491,\n",
       "   493,\n",
       "   495,\n",
       "   497,\n",
       "   499,\n",
       "   501,\n",
       "   503,\n",
       "   505,\n",
       "   507,\n",
       "   509,\n",
       "   511,\n",
       "   513,\n",
       "   515,\n",
       "   517,\n",
       "   519,\n",
       "   521,\n",
       "   523,\n",
       "   525,\n",
       "   527,\n",
       "   529,\n",
       "   531,\n",
       "   533,\n",
       "   535,\n",
       "   537,\n",
       "   539,\n",
       "   541,\n",
       "   543,\n",
       "   545,\n",
       "   547,\n",
       "   549,\n",
       "   551,\n",
       "   553,\n",
       "   555,\n",
       "   557,\n",
       "   559,\n",
       "   561,\n",
       "   563,\n",
       "   565,\n",
       "   567,\n",
       "   569,\n",
       "   571,\n",
       "   573,\n",
       "   575,\n",
       "   577,\n",
       "   579,\n",
       "   581,\n",
       "   583,\n",
       "   585,\n",
       "   587,\n",
       "   589,\n",
       "   591,\n",
       "   593,\n",
       "   595,\n",
       "   597,\n",
       "   599,\n",
       "   601,\n",
       "   603,\n",
       "   605,\n",
       "   607,\n",
       "   609,\n",
       "   611,\n",
       "   613,\n",
       "   615,\n",
       "   617,\n",
       "   619,\n",
       "   621,\n",
       "   623,\n",
       "   625,\n",
       "   627,\n",
       "   629,\n",
       "   631,\n",
       "   633,\n",
       "   635,\n",
       "   637,\n",
       "   639,\n",
       "   641,\n",
       "   643,\n",
       "   645,\n",
       "   647,\n",
       "   649,\n",
       "   651,\n",
       "   653,\n",
       "   655,\n",
       "   657,\n",
       "   659,\n",
       "   661,\n",
       "   663,\n",
       "   665,\n",
       "   667,\n",
       "   669,\n",
       "   671,\n",
       "   673,\n",
       "   675,\n",
       "   677,\n",
       "   679,\n",
       "   681,\n",
       "   683,\n",
       "   685,\n",
       "   687,\n",
       "   689,\n",
       "   691,\n",
       "   693,\n",
       "   695,\n",
       "   697,\n",
       "   699,\n",
       "   701,\n",
       "   703,\n",
       "   705,\n",
       "   707,\n",
       "   709,\n",
       "   711,\n",
       "   713,\n",
       "   715,\n",
       "   717,\n",
       "   719,\n",
       "   721,\n",
       "   723,\n",
       "   725,\n",
       "   727,\n",
       "   729,\n",
       "   731,\n",
       "   733,\n",
       "   735,\n",
       "   737,\n",
       "   739,\n",
       "   741,\n",
       "   743,\n",
       "   745,\n",
       "   747,\n",
       "   749,\n",
       "   751,\n",
       "   753,\n",
       "   755,\n",
       "   757,\n",
       "   759,\n",
       "   761,\n",
       "   763,\n",
       "   765,\n",
       "   767,\n",
       "   769,\n",
       "   771,\n",
       "   773,\n",
       "   775,\n",
       "   777,\n",
       "   779,\n",
       "   781,\n",
       "   783,\n",
       "   785,\n",
       "   787,\n",
       "   789,\n",
       "   791,\n",
       "   793,\n",
       "   795,\n",
       "   797,\n",
       "   799,\n",
       "   801,\n",
       "   803,\n",
       "   805,\n",
       "   807,\n",
       "   809,\n",
       "   811,\n",
       "   813,\n",
       "   815,\n",
       "   817,\n",
       "   819,\n",
       "   821,\n",
       "   823,\n",
       "   825,\n",
       "   827,\n",
       "   829,\n",
       "   831,\n",
       "   833,\n",
       "   835,\n",
       "   837,\n",
       "   839,\n",
       "   841,\n",
       "   843,\n",
       "   845,\n",
       "   847,\n",
       "   849,\n",
       "   851,\n",
       "   853,\n",
       "   855,\n",
       "   857,\n",
       "   859,\n",
       "   861,\n",
       "   863,\n",
       "   865,\n",
       "   867,\n",
       "   869,\n",
       "   871,\n",
       "   873,\n",
       "   875,\n",
       "   877,\n",
       "   879,\n",
       "   881,\n",
       "   883,\n",
       "   885,\n",
       "   887,\n",
       "   889,\n",
       "   891,\n",
       "   893,\n",
       "   895,\n",
       "   897,\n",
       "   899,\n",
       "   901,\n",
       "   903,\n",
       "   905,\n",
       "   907,\n",
       "   909,\n",
       "   911,\n",
       "   913,\n",
       "   915,\n",
       "   917,\n",
       "   919,\n",
       "   921,\n",
       "   923,\n",
       "   925,\n",
       "   927,\n",
       "   929,\n",
       "   931,\n",
       "   933,\n",
       "   935,\n",
       "   937,\n",
       "   939,\n",
       "   941,\n",
       "   943,\n",
       "   945,\n",
       "   947,\n",
       "   949,\n",
       "   951,\n",
       "   953,\n",
       "   955,\n",
       "   957,\n",
       "   959,\n",
       "   961,\n",
       "   963,\n",
       "   965,\n",
       "   967,\n",
       "   969,\n",
       "   971,\n",
       "   973,\n",
       "   975,\n",
       "   977,\n",
       "   979,\n",
       "   981,\n",
       "   983,\n",
       "   985,\n",
       "   987,\n",
       "   989,\n",
       "   991,\n",
       "   993,\n",
       "   995,\n",
       "   997,\n",
       "   999])]"
      ]
     },
     "execution_count": 119,
     "metadata": {},
     "output_type": "execute_result"
    }
   ],
   "source": [
    "integersListRDD.map(lambda x: (x % 2, x)).groupByKey().map(lambda x: (x[0], list(x[1]))).collect()"
   ]
  },
  {
   "cell_type": "markdown",
   "metadata": {
    "id": "_URCZ87zAcSj"
   },
   "source": [
    "## Distinct"
   ]
  },
  {
   "cell_type": "markdown",
   "metadata": {
    "id": "vDYgJ-WDIde5"
   },
   "source": [
    "Elimina registros duplicados (todo el registro debe coincidir)"
   ]
  },
  {
   "cell_type": "markdown",
   "metadata": {
    "id": "YcLF3Se1Il4k"
   },
   "source": [
    "Del RDD trás aplicar flatMap, obtengo los registros únicos:"
   ]
  },
  {
   "cell_type": "code",
   "execution_count": 120,
   "metadata": {
    "id": "AbVHrMYgCv65"
   },
   "outputs": [
    {
     "data": {
      "text/plain": [
       "1002"
      ]
     },
     "execution_count": 120,
     "metadata": {},
     "output_type": "execute_result"
    }
   ],
   "source": [
    "integersFlat.distinct().count()\n"
   ]
  },
  {
   "cell_type": "markdown",
   "metadata": {
    "id": "bl2uMtBy-CxH"
   },
   "source": [
    "# Ejemplos de transformaciones y acciones con los textos de Shakespeare"
   ]
  },
  {
   "cell_type": "markdown",
   "metadata": {
    "id": "pSNsuSWUVzjL"
   },
   "source": [
    "## Leo de a líneas"
   ]
  },
  {
   "cell_type": "code",
   "execution_count": 121,
   "metadata": {
    "id": "XVzGjkUPJm6X"
   },
   "outputs": [
    {
     "ename": "NameError",
     "evalue": "name 'spark' is not defined",
     "output_type": "error",
     "traceback": [
      "\u001b[0;31m---------------------------------------------------------------------------\u001b[0m",
      "\u001b[0;31mNameError\u001b[0m                                 Traceback (most recent call last)",
      "\u001b[0;32m<ipython-input-121-5d30854b6a3e>\u001b[0m in \u001b[0;36m<module>\u001b[0;34m\u001b[0m\n\u001b[0;32m----> 1\u001b[0;31m \u001b[0mlines\u001b[0m \u001b[0;34m=\u001b[0m \u001b[0mspark\u001b[0m\u001b[0;34m.\u001b[0m\u001b[0msparkContext\u001b[0m\u001b[0;34m.\u001b[0m\u001b[0mtextFile\u001b[0m\u001b[0;34m(\u001b[0m\u001b[0;34m's.txt'\u001b[0m\u001b[0;34m)\u001b[0m\u001b[0;34m\u001b[0m\u001b[0;34m\u001b[0m\u001b[0m\n\u001b[0m",
      "\u001b[0;31mNameError\u001b[0m: name 'spark' is not defined"
     ]
    }
   ],
   "source": [
    "lines = spark.sparkContext.textFile('s.txt')"
   ]
  },
  {
   "cell_type": "markdown",
   "metadata": {
    "id": "FwuDYbFQV3wk"
   },
   "source": [
    "## Cantidad de líneas totales"
   ]
  },
  {
   "cell_type": "code",
   "execution_count": null,
   "metadata": {
    "id": "IMydwl-2JoRX"
   },
   "outputs": [],
   "source": [
    "lines.count()"
   ]
  },
  {
   "cell_type": "markdown",
   "metadata": {
    "id": "qZEeqhf_V7eM"
   },
   "source": [
    "## Primeras 10 líneas"
   ]
  },
  {
   "cell_type": "code",
   "execution_count": null,
   "metadata": {
    "id": "RQaWh8CnJqlY"
   },
   "outputs": [],
   "source": [
    "lines.take(10)"
   ]
  },
  {
   "cell_type": "markdown",
   "metadata": {
    "id": "8vsAsbU7V_h3"
   },
   "source": [
    "## Obtengo las palabras de todas las líneas (flatMap)"
   ]
  },
  {
   "cell_type": "code",
   "execution_count": null,
   "metadata": {
    "id": "mOOPFmCh4HBJ"
   },
   "outputs": [],
   "source": [
    "words = lines.flatMap(lambda x: x.split())"
   ]
  },
  {
   "cell_type": "code",
   "execution_count": null,
   "metadata": {
    "id": "DoBtYMOkJ4w2"
   },
   "outputs": [],
   "source": [
    "words.take(10)"
   ]
  },
  {
   "cell_type": "code",
   "execution_count": null,
   "metadata": {
    "id": "tRAZmoOzNWgE"
   },
   "outputs": [],
   "source": [
    "words.count()"
   ]
  },
  {
   "cell_type": "markdown",
   "metadata": {
    "id": "9M-FlX5DWK0d"
   },
   "source": [
    "## Contando palabras (reduceByKey)"
   ]
  },
  {
   "cell_type": "code",
   "execution_count": null,
   "metadata": {
    "id": "ls1O6FLo-IQk"
   },
   "outputs": [],
   "source": [
    "wordsCount = words.map(lambda x: (x.lower(),1))"
   ]
  },
  {
   "cell_type": "code",
   "execution_count": null,
   "metadata": {
    "id": "wRgS4oUlKDBT"
   },
   "outputs": [],
   "source": [
    "wordsCount.take(10)"
   ]
  },
  {
   "cell_type": "code",
   "execution_count": null,
   "metadata": {
    "id": "N6aAGd8UKANh"
   },
   "outputs": [],
   "source": [
    "wordsCounted = wordsCount.reduceByKey(lambda x,y: x+y)"
   ]
  },
  {
   "cell_type": "code",
   "execution_count": null,
   "metadata": {
    "id": "hn_lW0hrKr2N"
   },
   "outputs": [],
   "source": [
    "wordsCounted.take(10)"
   ]
  },
  {
   "cell_type": "code",
   "execution_count": null,
   "metadata": {
    "id": "ahh0On2NKtj1"
   },
   "outputs": [],
   "source": [
    "wordsCounted.takeOrdered(10, lambda x: -x[1])"
   ]
  },
  {
   "cell_type": "markdown",
   "metadata": {
    "id": "QPpLRI_iW1zj"
   },
   "source": [
    "### Mal uso de groupByKey"
   ]
  },
  {
   "cell_type": "code",
   "execution_count": null,
   "metadata": {
    "id": "j8j0f4cPW5Ct"
   },
   "outputs": [],
   "source": [
    "wordsCount.groupByKey().takeOrdered(10, lambda x: -1 * len(x[1]))"
   ]
  },
  {
   "cell_type": "code",
   "execution_count": null,
   "metadata": {
    "id": "uOEXpY5D5Pu0"
   },
   "outputs": [],
   "source": [
    "wordsCount.groupByKey().map(lambda a: (a[0], list(a[1]))).take(5)"
   ]
  },
  {
   "cell_type": "code",
   "execution_count": null,
   "metadata": {
    "id": "AR1N2D4fXpLn"
   },
   "outputs": [],
   "source": [
    "wordsCount.groupByKey().filter(lambda x: len(x[1]) < 5).map(lambda a: (a[0], list(a[1]))).take(5)"
   ]
  },
  {
   "cell_type": "markdown",
   "metadata": {
    "id": "4QDBwG7ZYVmV"
   },
   "source": [
    "## Palabra más larga (reduce)"
   ]
  },
  {
   "cell_type": "code",
   "execution_count": null,
   "metadata": {
    "id": "H-tIGKUtYbeg"
   },
   "outputs": [],
   "source": [
    "words.reduce(lambda a, b: a if (len(a) > len(b)) else b)"
   ]
  },
  {
   "cell_type": "markdown",
   "metadata": {
    "id": "FWyAXyTfYnL2"
   },
   "source": [
    "## Palabras que empiezan con a (filter)"
   ]
  },
  {
   "cell_type": "code",
   "execution_count": null,
   "metadata": {
    "id": "lL3AThZsYtcp"
   },
   "outputs": [],
   "source": [
    "wordsA = words.filter(lambda word: word.startswith('a'))"
   ]
  },
  {
   "cell_type": "code",
   "execution_count": null,
   "metadata": {
    "id": "UAeEHwp9Y1e9"
   },
   "outputs": [],
   "source": [
    "wordsA.count()"
   ]
  },
  {
   "cell_type": "code",
   "execution_count": null,
   "metadata": {
    "id": "oqR7v7k1Y39H"
   },
   "outputs": [],
   "source": [
    "wordsA.take(10)"
   ]
  },
  {
   "cell_type": "markdown",
   "metadata": {
    "id": "oh21OigvZBRD"
   },
   "source": [
    "## Palabras únicas que empiezan con a (distinct)"
   ]
  },
  {
   "cell_type": "code",
   "execution_count": null,
   "metadata": {
    "id": "rI4olhzfZEkV"
   },
   "outputs": [],
   "source": [
    "wordsA.distinct().count()"
   ]
  },
  {
   "cell_type": "markdown",
   "metadata": {
    "id": "DpKemb9lZOoa"
   },
   "source": [
    "## Cantidad de palabras por frecuencia de repetición ordenados (sortByKey)"
   ]
  },
  {
   "cell_type": "code",
   "execution_count": null,
   "metadata": {
    "id": "f7WAUcp76rvF"
   },
   "outputs": [],
   "source": [
    "wordsCounted.take(5)"
   ]
  },
  {
   "cell_type": "code",
   "execution_count": null,
   "metadata": {
    "id": "txZj8VR1K0MY"
   },
   "outputs": [],
   "source": [
    "wordsFreq = wordsCounted.map(lambda x: (x[1],1))"
   ]
  },
  {
   "cell_type": "code",
   "execution_count": null,
   "metadata": {
    "id": "88ZPvuP4LgBt"
   },
   "outputs": [],
   "source": [
    "wordsFreq.take(10)"
   ]
  },
  {
   "cell_type": "code",
   "execution_count": null,
   "metadata": {
    "id": "JGd12kyHZdIS"
   },
   "outputs": [],
   "source": [
    "wordsFreq.reduceByKey(lambda a,b: a+b).sortByKey().take(10)"
   ]
  },
  {
   "cell_type": "code",
   "execution_count": null,
   "metadata": {
    "id": "YhA9tmhZLuZF"
   },
   "outputs": [],
   "source": [
    "wordsFreq.reduceByKey(lambda a,b: a+b).takeOrdered(10, lambda x: -x[1])"
   ]
  },
  {
   "cell_type": "markdown",
   "metadata": {
    "id": "AqrkX2Jh73fR"
   },
   "source": [
    "# Transformaciones entre dos RDD"
   ]
  },
  {
   "cell_type": "markdown",
   "metadata": {
    "id": "legQOraf7-ai"
   },
   "source": [
    "## Union"
   ]
  },
  {
   "cell_type": "markdown",
   "metadata": {
    "id": "F76c0ngp8JhD"
   },
   "source": [
    "Obtiene la unión entre dos RDD."
   ]
  },
  {
   "cell_type": "code",
   "execution_count": null,
   "metadata": {
    "id": "FMqSaDhQOA0V"
   },
   "outputs": [],
   "source": [
    "integersList2 = range(501,1501)\n",
    "len(integersList2)"
   ]
  },
  {
   "cell_type": "code",
   "execution_count": null,
   "metadata": {
    "id": "jDB8R4mp9SxM"
   },
   "outputs": [],
   "source": [
    "integersList2RDD = sc.parallelize(integersList2)"
   ]
  },
  {
   "cell_type": "code",
   "execution_count": null,
   "metadata": {
    "id": "D4jCnCS49bot"
   },
   "outputs": [],
   "source": [
    "integersList2RDD.count()"
   ]
  },
  {
   "cell_type": "code",
   "execution_count": null,
   "metadata": {
    "id": "jB-WFpLB9dWF"
   },
   "outputs": [],
   "source": [
    "integersListRDD.count()"
   ]
  },
  {
   "cell_type": "code",
   "execution_count": null,
   "metadata": {
    "id": "70C8rrq49lUI"
   },
   "outputs": [],
   "source": [
    "union = integersListRDD.union(integersList2RDD)"
   ]
  },
  {
   "cell_type": "code",
   "execution_count": null,
   "metadata": {
    "id": "p9lL1l6g9o8y"
   },
   "outputs": [],
   "source": [
    "union.take(5)"
   ]
  },
  {
   "cell_type": "code",
   "execution_count": null,
   "metadata": {
    "id": "cfwo3GW99q0L"
   },
   "outputs": [],
   "source": [
    "union.count()"
   ]
  },
  {
   "cell_type": "markdown",
   "metadata": {
    "id": "zJ18HxVP9uSW"
   },
   "source": [
    "## Intersection"
   ]
  },
  {
   "cell_type": "markdown",
   "metadata": {
    "id": "p6bSa4ml93CA"
   },
   "source": [
    "Intersección entre dos RDD."
   ]
  },
  {
   "cell_type": "code",
   "execution_count": null,
   "metadata": {
    "id": "ZJO8WJ1D9sEE"
   },
   "outputs": [],
   "source": [
    "intersection = integersListRDD.intersection(integersList2RDD)"
   ]
  },
  {
   "cell_type": "code",
   "execution_count": null,
   "metadata": {
    "id": "oQ2IVU3T9-cC"
   },
   "outputs": [],
   "source": [
    "intersection.count()"
   ]
  },
  {
   "cell_type": "code",
   "execution_count": null,
   "metadata": {
    "id": "hZheIKRNjOio"
   },
   "outputs": [],
   "source": [
    "intersection.take(10)"
   ]
  },
  {
   "cell_type": "code",
   "execution_count": null,
   "metadata": {
    "id": "buyC_d50jSPQ"
   },
   "outputs": [],
   "source": [
    "intersection.collect()"
   ]
  },
  {
   "cell_type": "markdown",
   "metadata": {
    "id": "28l3dlYxJzyi"
   },
   "source": [
    "## Subtract"
   ]
  },
  {
   "cell_type": "markdown",
   "metadata": {
    "id": "9WbPFo35J3tE"
   },
   "source": [
    "Elimina del primer RDD los registros que aparezcan en el segundo."
   ]
  },
  {
   "cell_type": "code",
   "execution_count": null,
   "metadata": {
    "id": "1GLXtqb9J8ev"
   },
   "outputs": [],
   "source": [
    "subtract = integersListRDD.subtract(integersList2RDD)"
   ]
  },
  {
   "cell_type": "code",
   "execution_count": null,
   "metadata": {
    "id": "s0zdfroiKHU8"
   },
   "outputs": [],
   "source": [
    "subtract.count()"
   ]
  },
  {
   "cell_type": "code",
   "execution_count": null,
   "metadata": {
    "id": "TkIvM1Tijnaz"
   },
   "outputs": [],
   "source": [
    "subtract.collect()"
   ]
  },
  {
   "cell_type": "markdown",
   "metadata": {
    "id": "NnoXBl3q-H2v"
   },
   "source": [
    "## Joins"
   ]
  },
  {
   "cell_type": "markdown",
   "metadata": {
    "id": "5RYUC49k-Jx3"
   },
   "source": [
    "Con los joins se combinan dos RDD en base a las claves de los registros. Junta cada registro del primer RDD con cada registro del segundo RDD que tengan la misma clave. No agrupa, sino que es de a pares de registro."
   ]
  },
  {
   "cell_type": "code",
   "execution_count": null,
   "metadata": {
    "id": "WiHtBvLs-ADS"
   },
   "outputs": [],
   "source": [
    "data_alumnos = [\n",
    "  (1,'Damian'),\n",
    "  (2,'Luis'),\n",
    "  (3,'Martin'),\n",
    "  (4,'Natalia'),\n",
    "  (5,'Joaquin')\n",
    "]\n",
    "\n",
    "alumnos = sc.parallelize(data_alumnos)"
   ]
  },
  {
   "cell_type": "code",
   "execution_count": null,
   "metadata": {
    "id": "BSEG_YQF-sgz"
   },
   "outputs": [],
   "source": [
    "alumnos.collect()"
   ]
  },
  {
   "cell_type": "code",
   "execution_count": null,
   "metadata": {
    "id": "UcQnmQOX-v8X"
   },
   "outputs": [],
   "source": [
    "data_materias_aprobadas = [\n",
    "  (1, 'Algebra'),\n",
    "  (2, 'Análisis Matemático'),\n",
    "  (200, 'Algebra'),\n",
    "  (2, 'Física')\n",
    "]\n",
    "\n",
    "materias_aprobadas = sc.parallelize(data_materias_aprobadas)"
   ]
  },
  {
   "cell_type": "code",
   "execution_count": null,
   "metadata": {
    "id": "8DMPmYzl_8HI"
   },
   "outputs": [],
   "source": [
    "materias_aprobadas.collect()"
   ]
  },
  {
   "cell_type": "markdown",
   "metadata": {
    "id": "TUC97o6nE36O"
   },
   "source": [
    "### Inner Join (Join)"
   ]
  },
  {
   "cell_type": "markdown",
   "metadata": {
    "id": "fII6Z3hAE8_3"
   },
   "source": [
    "Cuando se llama para sets de datos del tipo (K,V) y (K,W) devuelve un set de datos del tipo (K, (V,W)) con todos los pares de elementos para cada key. (especificamente los que hay en comun por esa clave en ambos sets de datos)"
   ]
  },
  {
   "cell_type": "code",
   "execution_count": null,
   "metadata": {
    "id": "flekON_1_9dH"
   },
   "outputs": [],
   "source": [
    "alumnos.join(materias_aprobadas).collect()"
   ]
  },
  {
   "cell_type": "markdown",
   "metadata": {
    "id": "5pkgFzBWFE5S"
   },
   "source": [
    "### Left Outer Join"
   ]
  },
  {
   "cell_type": "markdown",
   "metadata": {
    "id": "h7Sd_L-kHLnh"
   },
   "source": [
    "Cuando se llama para sets de datos del tipo (K,V) y (K,W) devuelve un set de datos del tipo (K, (V,W)) asegurandonos que todos los datos del set de datos izquierdo estaran en el resultado del join."
   ]
  },
  {
   "cell_type": "code",
   "execution_count": null,
   "metadata": {
    "id": "2e_wWrASFCbH"
   },
   "outputs": [],
   "source": [
    "alumnos.leftOuterJoin(materias_aprobadas).collect()"
   ]
  },
  {
   "cell_type": "markdown",
   "metadata": {
    "id": "yL1vuNozHWf2"
   },
   "source": [
    "### Right Outer Join"
   ]
  },
  {
   "cell_type": "markdown",
   "metadata": {
    "id": "JJs-3temHYiM"
   },
   "source": [
    "Cuando se llama para sets de datos del tipo (K,V) y (K,W) devuelve un set de datos del tipo (K, (V,W)) asegurandonos que todos los datos del set de datos derecho estaran en el resultado del join."
   ]
  },
  {
   "cell_type": "code",
   "execution_count": null,
   "metadata": {
    "id": "AWgbjDenHRXa"
   },
   "outputs": [],
   "source": [
    "alumnos.rightOuterJoin(materias_aprobadas).collect()"
   ]
  },
  {
   "cell_type": "markdown",
   "metadata": {
    "id": "d5dKB2iQHhZX"
   },
   "source": [
    "### Outer/Full Join"
   ]
  },
  {
   "cell_type": "markdown",
   "metadata": {
    "id": "Ow57N52-HlDu"
   },
   "source": [
    "\n",
    "Cuando se llama para sets de datos del tipo (K,V) y (K,W) devuelve un set de datos del tipo (K, (V,W)) asegurandonos que todos los datos de ambos set de datos estaran aunque no haya match de keys."
   ]
  },
  {
   "cell_type": "code",
   "execution_count": null,
   "metadata": {
    "id": "4xUS95vzHdkw"
   },
   "outputs": [],
   "source": [
    "alumnos.fullOuterJoin(materias_aprobadas).collect()"
   ]
  },
  {
   "cell_type": "markdown",
   "metadata": {
    "id": "4AieykhPHthx"
   },
   "source": [
    "### Broadcast Join (map-side join)"
   ]
  },
  {
   "cell_type": "markdown",
   "metadata": {
    "id": "ULF_l_PKHvoT"
   },
   "source": [
    "#### Variable Broadcast"
   ]
  },
  {
   "cell_type": "markdown",
   "metadata": {
    "id": "Rm6ouls5H2iG"
   },
   "source": [
    "Una variable Broadcast nos permite mantener una variable solo lectura cacheada en cada una de las maquinas del cluster en vez de enviar esa informacion con cada una de las tareas que se envian al cluster.\n",
    "\n",
    "Esto es particularmente util cuando cuando tareas a partir de multiples etapas (stages) necesitan la misma información o cuando cachear información de forma deserializada es importante.\n",
    "\n",
    "Tener en cuenta que esto **es posible** cuando uno de los data sets o conjunto de datos **es lo suficientemente pequeño para ser broadcasteado a todos los nodos/workers del cluster**."
   ]
  },
  {
   "cell_type": "code",
   "execution_count": null,
   "metadata": {
    "id": "c_XZYCyZHpA9"
   },
   "outputs": [],
   "source": [
    "# Vamos a suponer que tenemos un RDD de productos por sus IDs identificando ventas de los mismos\n",
    "prodsList = [1,11,1,4,5,11,2,3,4,5,6,4,5,4,3,2,1,11,2,3,4,5,6,4,3,2,1,1]\n",
    "prods = sc.parallelize(prodsList,3)"
   ]
  },
  {
   "cell_type": "code",
   "execution_count": null,
   "metadata": {
    "id": "cqKNAzbUIInc"
   },
   "outputs": [],
   "source": [
    "# Un hash con los productos y sus nombres\n",
    "productNames = {1:'papas',\n",
    "                2:'cebollas',\n",
    "                3:'tomates',\n",
    "                4:'zanahorias',\n",
    "                5:'batatas',\n",
    "                6:'peras',\n",
    "                7:'cilantro',\n",
    "                8:'apio',\n",
    "                9:'morrones',\n",
    "                10:'manzanas',\n",
    "                11:'naranjas'}\n",
    "\n",
    "# Hacemos un broadcast de la variable\n",
    "bproductNames = sc.broadcast(productNames)"
   ]
  },
  {
   "cell_type": "code",
   "execution_count": null,
   "metadata": {
    "id": "YbtkGuPuIQVI"
   },
   "outputs": [],
   "source": [
    "# Buscamos los productos que se vendieron más de 4 veces\n",
    "popularProds = prods.map(lambda x:(x,1))\\\n",
    "    .reduceByKey(lambda x,y:x+y)\\\n",
    "    .filter(lambda x:x[1]>=4)\n",
    "popularProds.collect()"
   ]
  },
  {
   "cell_type": "markdown",
   "metadata": {
    "id": "atJ07Q64Idvx"
   },
   "source": [
    "El join se realiza de forma implicita usando un map y dentro del mismo accediendo a la informacion de la variable a la que se realizo el broadcast via .value"
   ]
  },
  {
   "cell_type": "code",
   "execution_count": null,
   "metadata": {
    "id": "Rq0QI5QWIWNL"
   },
   "outputs": [],
   "source": [
    "popularProds = popularProds.map(\n",
    "    lambda x:(bproductNames.value[x[0]],x[0],x[1]))\n",
    "popularProds.collect()"
   ]
  },
  {
   "cell_type": "markdown",
   "metadata": {
    "id": "-saIXIYOJJwA"
   },
   "source": [
    "#### Ventajas"
   ]
  },
  {
   "cell_type": "markdown",
   "metadata": {
    "id": "GemDSZwrJSXS"
   },
   "source": [
    "Cuando un valor es \"broadcasteado\" al cluster, este es copiado a los nodos/workers **sólo una vez** (en vez de múltiples veces si la información fuera a enviarse en cada task). De esta forma se resuelve la consulta más rapidamente."
   ]
  },
  {
   "cell_type": "markdown",
   "metadata": {
    "id": "S5T0HkWAN-Iw"
   },
   "source": [
    "# Transformaciones sobre las particiones"
   ]
  },
  {
   "cell_type": "code",
   "execution_count": null,
   "metadata": {
    "id": "RopZZdNOJGvQ"
   },
   "outputs": [],
   "source": [
    "rdd = sc.parallelize(range(1,11))\n",
    "rdd.getNumPartitions()"
   ]
  },
  {
   "cell_type": "code",
   "execution_count": null,
   "metadata": {
    "id": "lnvORFhIOKqk"
   },
   "outputs": [],
   "source": [
    "sc.defaultParallelism"
   ]
  },
  {
   "cell_type": "code",
   "execution_count": null,
   "metadata": {
    "id": "vt6pb_QhAQOC"
   },
   "outputs": [],
   "source": [
    "rdd.collect()"
   ]
  },
  {
   "cell_type": "markdown",
   "metadata": {
    "id": "Dh3FU26O_zFD"
   },
   "source": []
  },
  {
   "cell_type": "markdown",
   "metadata": {
    "id": "jjMa0g_i99y5"
   },
   "source": [
    "## Glom"
   ]
  },
  {
   "cell_type": "markdown",
   "metadata": {
    "id": "cJngJqoI-Uez"
   },
   "source": [
    "Junta los registros de cada partición en una lista."
   ]
  },
  {
   "cell_type": "code",
   "execution_count": null,
   "metadata": {
    "id": "J_ONKwAMOPgN"
   },
   "outputs": [],
   "source": [
    "rdd.glom().collect()"
   ]
  },
  {
   "cell_type": "markdown",
   "metadata": {
    "id": "JQqRRZf4-sZ3"
   },
   "source": [
    "## MapPartitions"
   ]
  },
  {
   "cell_type": "markdown",
   "metadata": {
    "id": "E6eW2l3O-v_4"
   },
   "source": [
    "Devuelve un nuevo RDD aplicando una función a cada partición del RDD."
   ]
  },
  {
   "cell_type": "code",
   "execution_count": null,
   "metadata": {
    "id": "zh8cyhDeOTUX"
   },
   "outputs": [],
   "source": [
    "def f(iterator): yield __builtin__.sum(iterator)\n",
    "rdd.mapPartitions(f).collect()"
   ]
  },
  {
   "cell_type": "markdown",
   "metadata": {
    "id": "aBW1VMB5RdOr"
   },
   "source": [
    "## Repartition"
   ]
  },
  {
   "cell_type": "markdown",
   "metadata": {
    "id": "svqGE-d7RoSp"
   },
   "source": [
    "Reshuffle los datos en el RDD de forma aleatoria para crear más o menos particiones y balancearlas. \n",
    "\n",
    "Hace un shuffle de todo los datos por la red."
   ]
  },
  {
   "cell_type": "code",
   "execution_count": null,
   "metadata": {
    "id": "6mV5EaYhScbs"
   },
   "outputs": [],
   "source": [
    "rdd = sc.parallelize(range(1,11), 4)\n",
    "rdd.getNumPartitions()"
   ]
  },
  {
   "cell_type": "code",
   "execution_count": null,
   "metadata": {
    "id": "DOcEeb93SpmS"
   },
   "outputs": [],
   "source": [
    "rdd.glom().collect()"
   ]
  },
  {
   "cell_type": "code",
   "execution_count": null,
   "metadata": {
    "id": "UIm6FX5fPYzw"
   },
   "outputs": [],
   "source": [
    "rdd2 = rdd.repartition(2)"
   ]
  },
  {
   "cell_type": "code",
   "execution_count": null,
   "metadata": {
    "id": "d44SVE6PSH9N"
   },
   "outputs": [],
   "source": [
    "rdd2.getNumPartitions()"
   ]
  },
  {
   "cell_type": "code",
   "execution_count": null,
   "metadata": {
    "id": "txLaGMBXSItl"
   },
   "outputs": [],
   "source": [
    "rdd2.glom().collect()"
   ]
  },
  {
   "cell_type": "markdown",
   "metadata": {
    "id": "YX-bJjSOTFXA"
   },
   "source": [
    "Spark no hace shuffle de registros individuales sino de a bloques con un mínimo (no es un problema cuando se manejan grandes cantidades de datos)"
   ]
  },
  {
   "cell_type": "markdown",
   "metadata": {
    "id": "md7oT6F7T-N6"
   },
   "source": [
    "## Coalesce"
   ]
  },
  {
   "cell_type": "markdown",
   "metadata": {
    "id": "-6nPKD5pUK6g"
   },
   "source": [
    "Decrementa la cantidad de particiones del RDD.\n",
    "\n",
    "No hace shuffle por defecto, solo pasa datos de una partición a otra.\n",
    "\n",
    "No quedan balanceadas."
   ]
  },
  {
   "cell_type": "code",
   "execution_count": null,
   "metadata": {
    "id": "X5jxQeUUSQZJ"
   },
   "outputs": [],
   "source": [
    "rddCoalesce = rdd.coalesce(2)"
   ]
  },
  {
   "cell_type": "code",
   "execution_count": null,
   "metadata": {
    "id": "ijvk00kuUfs1"
   },
   "outputs": [],
   "source": [
    "rddCoalesce.glom().collect()"
   ]
  },
  {
   "cell_type": "markdown",
   "metadata": {
    "id": "VNP1bHnPVCfV"
   },
   "source": [
    "## RepartitionAndSortWithinPartitions"
   ]
  },
  {
   "cell_type": "markdown",
   "metadata": {
    "id": "3i7Du_xtbrwG"
   },
   "source": [
    "Reparticiona un RDD de acuerdo a un particionador y ordena los registros en base a su clave.\n",
    "\n",
    "Los registros deben tener clave.\n",
    "\n",
    "Es más eficiente que hacer un repartition y luego un sort dentro de cada partición ya que realiza el sort en el mismo paso de shuffle."
   ]
  },
  {
   "cell_type": "code",
   "execution_count": null,
   "metadata": {
    "id": "fMkGtQYYUjXJ"
   },
   "outputs": [],
   "source": [
    "rdd.map(lambda x: (x, x)).collect()"
   ]
  },
  {
   "cell_type": "code",
   "execution_count": null,
   "metadata": {
    "id": "TVPrXSV0XiUe"
   },
   "outputs": [],
   "source": [
    "rdd.map(lambda x: (x, x)).glom().collect()"
   ]
  },
  {
   "cell_type": "markdown",
   "metadata": {
    "id": "OKEX0nqDca0X"
   },
   "source": [
    "### Ascending"
   ]
  },
  {
   "cell_type": "code",
   "execution_count": null,
   "metadata": {
    "id": "Cy7qnMGKXbBC"
   },
   "outputs": [],
   "source": [
    "rdd.map(lambda x: (x, x)).repartitionAndSortWithinPartitions(2).glom().collect()"
   ]
  },
  {
   "cell_type": "code",
   "execution_count": null,
   "metadata": {
    "id": "9rK68D2aX1fk"
   },
   "outputs": [],
   "source": [
    "rdd.map(lambda x: (x % 3, x)).repartitionAndSortWithinPartitions(2).glom().collect()"
   ]
  },
  {
   "cell_type": "code",
   "execution_count": null,
   "metadata": {
    "id": "9smRZScuYD8s"
   },
   "outputs": [],
   "source": [
    "rdd.map(lambda x: (x % 3, x)).repartitionAndSortWithinPartitions(2, ascending=False).glom().collect()"
   ]
  },
  {
   "cell_type": "markdown",
   "metadata": {
    "id": "yUyetYoZceNB"
   },
   "source": [
    "### PartitionFunc"
   ]
  },
  {
   "cell_type": "code",
   "execution_count": null,
   "metadata": {
    "id": "-1xwWifQYT9r"
   },
   "outputs": [],
   "source": [
    "rdd.map(lambda x: (x * 2, x)).repartitionAndSortWithinPartitions(2).glom().collect()"
   ]
  },
  {
   "cell_type": "code",
   "execution_count": null,
   "metadata": {
    "id": "oDsh3YFLYmel"
   },
   "outputs": [],
   "source": [
    "rdd.map(lambda x: (x * 2, x)).repartitionAndSortWithinPartitions(2, partitionFunc=lambda x: (x % 3)).glom().collect()"
   ]
  },
  {
   "cell_type": "markdown",
   "metadata": {
    "id": "ynV8o0DQe-hS"
   },
   "source": [
    "# Persistiendo RDD"
   ]
  },
  {
   "cell_type": "markdown",
   "metadata": {
    "id": "py6LcfQ3fDHc"
   },
   "source": [
    "## Cache"
   ]
  },
  {
   "cell_type": "markdown",
   "metadata": {
    "id": "sKoTPP8DfFYm"
   },
   "source": [
    "Cachea un RDD intermedio que va a ser utilizado varias veces de modo de evitar tener que ejecutar todas las transformaciones cada vez."
   ]
  },
  {
   "cell_type": "code",
   "execution_count": null,
   "metadata": {
    "id": "7T8S272Idj6g"
   },
   "outputs": [],
   "source": [
    "rdd = sc.parallelize(range(1,100000))"
   ]
  },
  {
   "cell_type": "code",
   "execution_count": null,
   "metadata": {
    "id": "Nz4CC4u9d43K"
   },
   "outputs": [],
   "source": [
    "rddCached = rdd.map(lambda x: x*10).cache()"
   ]
  },
  {
   "cell_type": "code",
   "execution_count": null,
   "metadata": {
    "id": "CYQ74fKfeCiY"
   },
   "outputs": [],
   "source": [
    "rddCached.count()"
   ]
  },
  {
   "cell_type": "code",
   "execution_count": null,
   "metadata": {
    "id": "i27r47iieEHg"
   },
   "outputs": [],
   "source": [
    "rddCached.take(10)"
   ]
  },
  {
   "cell_type": "markdown",
   "metadata": {
    "id": "Q-w0puPNfe5u"
   },
   "source": [
    "## SaveAsTextFile"
   ]
  },
  {
   "cell_type": "markdown",
   "metadata": {
    "id": "s0n6xyV5fiY1"
   },
   "source": [
    "Guarda un RDD a disco en un archivo de texto."
   ]
  },
  {
   "cell_type": "code",
   "execution_count": null,
   "metadata": {
    "id": "pFBypm_3dU15"
   },
   "outputs": [],
   "source": [
    "rdd.saveAsTextFile('numbers.txt')"
   ]
  },
  {
   "cell_type": "code",
   "execution_count": null,
   "metadata": {
    "id": "2BB6t8lSdW_6"
   },
   "outputs": [],
   "source": [
    "rddN = sc.textFile('numbers.txt')"
   ]
  },
  {
   "cell_type": "code",
   "execution_count": null,
   "metadata": {
    "id": "ThBA5KkEdidg"
   },
   "outputs": [],
   "source": [
    "rddN.collect()"
   ]
  },
  {
   "cell_type": "markdown",
   "metadata": {
    "id": "98_lZqcufocO"
   },
   "source": [
    "## SaveAsPickleFile"
   ]
  },
  {
   "cell_type": "markdown",
   "metadata": {
    "id": "-uoTsAuIf1hG"
   },
   "source": [
    "Guarda un RDD a disco en un archivo con los datos serializados."
   ]
  },
  {
   "cell_type": "code",
   "execution_count": null,
   "metadata": {
    "id": "EE_YrGrEeGaq"
   },
   "outputs": [],
   "source": [
    "rdd.saveAsPickleFile('numbers2.file')"
   ]
  },
  {
   "cell_type": "code",
   "execution_count": null,
   "metadata": {
    "id": "Ol9nG9vdej3h"
   },
   "outputs": [],
   "source": [
    "rddN2 = sc.pickleFile('numbers2.file')"
   ]
  },
  {
   "cell_type": "code",
   "execution_count": null,
   "metadata": {
    "id": "nAOGcsPge2r6"
   },
   "outputs": [],
   "source": [
    "rddN2.take(10)"
   ]
  },
  {
   "cell_type": "code",
   "execution_count": null,
   "metadata": {
    "id": "EE5o7gcVe4HC"
   },
   "outputs": [],
   "source": []
  }
 ],
 "metadata": {
  "colab": {
   "collapsed_sections": [],
   "name": "Spark-Clase6.ipynb",
   "provenance": []
  },
  "kernelspec": {
   "display_name": "Python 3",
   "language": "python",
   "name": "python3"
  },
  "language_info": {
   "codemirror_mode": {
    "name": "ipython",
    "version": 3
   },
   "file_extension": ".py",
   "mimetype": "text/x-python",
   "name": "python",
   "nbconvert_exporter": "python",
   "pygments_lexer": "ipython3",
   "version": "3.7.4"
  }
 },
 "nbformat": 4,
 "nbformat_minor": 4
}
