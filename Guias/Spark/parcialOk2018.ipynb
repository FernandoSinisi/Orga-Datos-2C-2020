{
 "cells": [
  {
   "cell_type": "raw",
   "metadata": {},
   "source": [
    "info instagram \n",
    "user = (id_user, nickname, pais, fecha_alta)\n",
    "publicacion = (id_publicacion, id_user, id_foto, comentario, fecha)\n",
    "\n",
    "a) top 10 hashtag mas publicados para usuarios del pais argentina\n",
    "b) cachear rdd con pares usuarios (id) que tienen hashtags en comun"
   ]
  },
  {
   "cell_type": "code",
   "execution_count": 127,
   "metadata": {},
   "outputs": [],
   "source": [
    "from pyspark import SparkContext\n",
    "from pyspark.sql import SQLContext\n",
    "from datetime import datetime\n",
    "from pyspark.sql.functions import to_timestamp\n",
    "\n",
    "\n",
    "sc = SparkContext.getOrCreate()"
   ]
  },
  {
   "cell_type": "code",
   "execution_count": 128,
   "metadata": {},
   "outputs": [],
   "source": [
    "user = [\n",
    "    (0, \"fs10\", \"Argentina\",0),\n",
    "    (1, \"viole\", \"Argentina\",1),\n",
    "    (2, \"fede\", \"usa\",\"ciudad1\", 2),\n",
    "    (3, \"seba\", \"japon\",\"ciudad1\", 3),\n",
    "    (4, \"luis\", \"usa\",\"ciudad1\", 4),\n",
    "    (5, \"naty\", \"Argentina\",\"ciudad2\",4)\n",
    "]\n",
    "\n",
    "publicacion = [\n",
    "    (0, 0, \"foto\",\"#aguante_boca #sosdelaB #perro\",0),\n",
    "    (1, 1, \"foto\",\"#hola #perro #\",1),\n",
    "    (2, 2, \"foto\",\"#no_deberia_Estar\", 2),\n",
    "    (3, 2, \"foto\",\"#no_deberia_Estar\", 3),\n",
    "    (4, 2, \"foto\",\"#no_deberia_Estar\", 4),\n",
    "    (5, 1, \"foto\",\"#si_deberia_Estar #no_me_falles #perro\",4),\n",
    "    (6, 3, \"foto\",\"#no_deberia_Estar\",4),\n",
    "    (7, 4, \"foto\",\"#no_deberia_Estar\",4),\n",
    "    (8, 5, \"foto\",\"#van_a_Reprobar #sosdelaB\",4),\n",
    "    (9, 5, \"foto\",\" sin hashtag\",4)\n",
    "]\n",
    "     \n",
    "     \n",
    "rdd_user = sc.parallelize(user)\n",
    "rdd_publicacion = sc.parallelize(publicacion)\n",
    "     "
   ]
  },
  {
   "cell_type": "code",
   "execution_count": 129,
   "metadata": {},
   "outputs": [],
   "source": [
    "def hashtag(s):\n",
    "    lista = []\n",
    "    palabras = s.split(' ')\n",
    "    for palabra in palabras:\n",
    "        if len(palabra) > 1 and palabra[0] == '#':\n",
    "            lista.append(palabra.strip('#'))\n",
    "    return lista"
   ]
  },
  {
   "cell_type": "code",
   "execution_count": 130,
   "metadata": {},
   "outputs": [
    {
     "data": {
      "text/plain": [
       "[('perro', 3), ('sosdelaB', 2), ('si_deberia_Estar', 1)]"
      ]
     },
     "execution_count": 130,
     "metadata": {},
     "output_type": "execute_result"
    }
   ],
   "source": [
    "rdd_user_filter = rdd_user.filter(lambda x: x[2] == 'Argentina').map(lambda x: (x[0],1))\n",
    "rdd_publicacion.map(lambda x: (x[1],x[3])).join(rdd_user_filter)\\\n",
    ".flatMap(lambda x: hashtag(x[1][0]))\\\n",
    ".map(lambda x: (x,1))\\\n",
    ".reduceByKey(lambda x,y: x + y)\\\n",
    ".takeOrdered(3, lambda x: -x[1])\n",
    "\n"
   ]
  }
 ],
 "metadata": {
  "kernelspec": {
   "display_name": "Python 3",
   "language": "python",
   "name": "python3"
  },
  "language_info": {
   "codemirror_mode": {
    "name": "ipython",
    "version": 3
   },
   "file_extension": ".py",
   "mimetype": "text/x-python",
   "name": "python",
   "nbconvert_exporter": "python",
   "pygments_lexer": "ipython3",
   "version": "3.7.4"
  }
 },
 "nbformat": 4,
 "nbformat_minor": 4
}
