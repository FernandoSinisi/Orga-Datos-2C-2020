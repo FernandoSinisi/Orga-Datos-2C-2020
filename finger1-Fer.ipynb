{
 "cells": [
  {
   "cell_type": "code",
   "execution_count": 37,
   "metadata": {},
   "outputs": [],
   "source": [
    "import pandas as pd"
   ]
  },
  {
   "cell_type": "markdown",
   "metadata": {},
   "source": [
    "## Apertura y carga del set de datos a un dataframe"
   ]
  },
  {
   "cell_type": "code",
   "execution_count": 38,
   "metadata": {},
   "outputs": [],
   "source": [
    "df = pd.read_csv('opportunities.csv')"
   ]
  },
  {
   "cell_type": "markdown",
   "metadata": {},
   "source": [
    "## Para la region EMEA los 10 proyectos con mayor monto total"
   ]
  },
  {
   "cell_type": "code",
   "execution_count": 39,
   "metadata": {
    "scrolled": true
   },
   "outputs": [
    {
     "data": {
      "text/html": [
       "<div>\n",
       "<style scoped>\n",
       "    .dataframe tbody tr th:only-of-type {\n",
       "        vertical-align: middle;\n",
       "    }\n",
       "\n",
       "    .dataframe tbody tr th {\n",
       "        vertical-align: top;\n",
       "    }\n",
       "\n",
       "    .dataframe thead th {\n",
       "        text-align: right;\n",
       "    }\n",
       "</style>\n",
       "<table border=\"1\" class=\"dataframe\">\n",
       "  <thead>\n",
       "    <tr style=\"text-align: right;\">\n",
       "      <th></th>\n",
       "      <th>ID</th>\n",
       "      <th>Territory</th>\n",
       "      <th>Delivery_Quarter</th>\n",
       "      <th>Delivery_Year</th>\n",
       "    </tr>\n",
       "  </thead>\n",
       "  <tbody>\n",
       "    <tr>\n",
       "      <td>2179</td>\n",
       "      <td>10808</td>\n",
       "      <td>None</td>\n",
       "      <td>Q2</td>\n",
       "      <td>2016</td>\n",
       "    </tr>\n",
       "    <tr>\n",
       "      <td>3667</td>\n",
       "      <td>8037</td>\n",
       "      <td>SE America</td>\n",
       "      <td>Q3</td>\n",
       "      <td>2017</td>\n",
       "    </tr>\n",
       "    <tr>\n",
       "      <td>2806</td>\n",
       "      <td>4909</td>\n",
       "      <td>UAE (Dubai)</td>\n",
       "      <td>Q1</td>\n",
       "      <td>2017</td>\n",
       "    </tr>\n",
       "    <tr>\n",
       "      <td>1933</td>\n",
       "      <td>10620</td>\n",
       "      <td>Kazakhstan</td>\n",
       "      <td>Q2</td>\n",
       "      <td>2016</td>\n",
       "    </tr>\n",
       "    <tr>\n",
       "      <td>2957</td>\n",
       "      <td>13709</td>\n",
       "      <td>Romania</td>\n",
       "      <td>Q2</td>\n",
       "      <td>2016</td>\n",
       "    </tr>\n",
       "    <tr>\n",
       "      <td>598</td>\n",
       "      <td>4865</td>\n",
       "      <td>France</td>\n",
       "      <td>Q4</td>\n",
       "      <td>2017</td>\n",
       "    </tr>\n",
       "    <tr>\n",
       "      <td>7898</td>\n",
       "      <td>15287</td>\n",
       "      <td>Belgium</td>\n",
       "      <td>Q1</td>\n",
       "      <td>2018</td>\n",
       "    </tr>\n",
       "    <tr>\n",
       "      <td>1817</td>\n",
       "      <td>10350</td>\n",
       "      <td>Romania</td>\n",
       "      <td>Q3</td>\n",
       "      <td>2017</td>\n",
       "    </tr>\n",
       "    <tr>\n",
       "      <td>3684</td>\n",
       "      <td>20848</td>\n",
       "      <td>Italy</td>\n",
       "      <td>Q4</td>\n",
       "      <td>2016</td>\n",
       "    </tr>\n",
       "    <tr>\n",
       "      <td>5669</td>\n",
       "      <td>17668</td>\n",
       "      <td>Germany</td>\n",
       "      <td>Q1</td>\n",
       "      <td>2017</td>\n",
       "    </tr>\n",
       "  </tbody>\n",
       "</table>\n",
       "</div>"
      ],
      "text/plain": [
       "         ID    Territory Delivery_Quarter  Delivery_Year\n",
       "2179  10808         None               Q2           2016\n",
       "3667   8037   SE America               Q3           2017\n",
       "2806   4909  UAE (Dubai)               Q1           2017\n",
       "1933  10620   Kazakhstan               Q2           2016\n",
       "2957  13709      Romania               Q2           2016\n",
       "598    4865       France               Q4           2017\n",
       "7898  15287      Belgium               Q1           2018\n",
       "1817  10350      Romania               Q3           2017\n",
       "3684  20848        Italy               Q4           2016\n",
       "5669  17668      Germany               Q1           2017"
      ]
     },
     "execution_count": 39,
     "metadata": {},
     "output_type": "execute_result"
    }
   ],
   "source": [
    "df.loc[df['Region']=='EMEA',['ID','Territory','Delivery_Quarter','Delivery_Year','Total_Amount']] \\\n",
    ".nlargest(10,'Total_Amount').drop(columns = ['Total_Amount'])"
   ]
  },
  {
   "cell_type": "markdown",
   "metadata": {},
   "source": [
    "## Promedio del precio para Alemania"
   ]
  },
  {
   "cell_type": "code",
   "execution_count": 40,
   "metadata": {},
   "outputs": [
    {
     "name": "stdout",
     "output_type": "stream",
     "text": [
      "El promedio del precio para Germany es de: 0.26467889908256864\n"
     ]
    }
   ],
   "source": [
    "promedio = pd.to_numeric(df.loc[df['Territory']=='Germany',['Price']]['Price'],errors = 'coerce').dropna().mean()\n",
    "print('El promedio del precio para Germany es de: ' + str(promedio))"
   ]
  }
 ],
 "metadata": {
  "kernelspec": {
   "display_name": "Python 3",
   "language": "python",
   "name": "python3"
  },
  "language_info": {
   "codemirror_mode": {
    "name": "ipython",
    "version": 3
   },
   "file_extension": ".py",
   "mimetype": "text/x-python",
   "name": "python",
   "nbconvert_exporter": "python",
   "pygments_lexer": "ipython3",
   "version": "3.6.4"
  }
 },
 "nbformat": 4,
 "nbformat_minor": 2
}
