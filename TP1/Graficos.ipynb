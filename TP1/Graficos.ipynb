{
 "cells": [
  {
   "cell_type": "code",
   "execution_count": 3,
   "metadata": {
    "id": "1Lc5DOCZdpbr"
   },
   "outputs": [],
   "source": [
    "from pydrive.auth import GoogleAuth\n",
    "from pydrive.drive import GoogleDrive\n",
    "#from google.colab import auth\n",
    "from oauth2client.client import GoogleCredentials\n",
    "\n",
    "# Authenticate and create the PyDrive client\n",
    "#auth.authenticate_user()\n",
    "#gauth = GoogleAuth()\n",
    "#gauth.credentials = GoogleCredentials.get_application_default()\n",
    "#drive = GoogleDrive(gauth)"
   ]
  },
  {
   "cell_type": "code",
   "execution_count": 4,
   "metadata": {
    "id": "6rAjeAsVddFk"
   },
   "outputs": [],
   "source": [
    "import pandas as pd\n",
    "import numpy as np\n",
    "import sys\n",
    "import seaborn as sns\n",
    "import matplotlib.pyplot as plt\n",
    "import plotly.graph_objects as go\n",
    "import geopandas as gpd\n",
    "from matplotlib import cm\n",
    "#%matplotlib inline"
   ]
  },
  {
   "cell_type": "code",
   "execution_count": 5,
   "metadata": {
    "id": "EIA2PDVPkHev"
   },
   "outputs": [],
   "source": [
    "df = pd.read_csv('opportunities.csv',low_memory=False)"
   ]
  },
  {
   "cell_type": "markdown",
   "metadata": {
    "id": "-pEd7r4RkAu4"
   },
   "source": [
    "Top 10 localidades con mayor cantidad de oportunidades Closed Won\n",
    "\n",
    "\n",
    "---\n",
    "\n"
   ]
  },
  {
   "cell_type": "code",
   "execution_count": 6,
   "metadata": {
    "colab": {
     "base_uri": "https://localhost:8080/",
     "height": 359
    },
    "id": "2LV9JzUIkmW8",
    "outputId": "1e41b9dc-08d3-4ce6-9e2d-546043f8343f"
   },
   "outputs": [
    {
     "data": {
      "text/html": [
       "<div>\n",
       "<style scoped>\n",
       "    .dataframe tbody tr th:only-of-type {\n",
       "        vertical-align: middle;\n",
       "    }\n",
       "\n",
       "    .dataframe tbody tr th {\n",
       "        vertical-align: top;\n",
       "    }\n",
       "\n",
       "    .dataframe thead th {\n",
       "        text-align: right;\n",
       "    }\n",
       "</style>\n",
       "<table border=\"1\" class=\"dataframe\">\n",
       "  <thead>\n",
       "    <tr style=\"text-align: right;\">\n",
       "      <th></th>\n",
       "      <th>Territory</th>\n",
       "      <th>number_of_closed_wons</th>\n",
       "    </tr>\n",
       "  </thead>\n",
       "  <tbody>\n",
       "    <tr>\n",
       "      <td>29</td>\n",
       "      <td>None</td>\n",
       "      <td>3034</td>\n",
       "    </tr>\n",
       "    <tr>\n",
       "      <td>13</td>\n",
       "      <td>Germany</td>\n",
       "      <td>1023</td>\n",
       "    </tr>\n",
       "    <tr>\n",
       "      <td>26</td>\n",
       "      <td>NW America</td>\n",
       "      <td>973</td>\n",
       "    </tr>\n",
       "    <tr>\n",
       "      <td>0</td>\n",
       "      <td>Australia</td>\n",
       "      <td>696</td>\n",
       "    </tr>\n",
       "    <tr>\n",
       "      <td>19</td>\n",
       "      <td>Japan</td>\n",
       "      <td>546</td>\n",
       "    </tr>\n",
       "    <tr>\n",
       "      <td>16</td>\n",
       "      <td>India</td>\n",
       "      <td>374</td>\n",
       "    </tr>\n",
       "    <tr>\n",
       "      <td>38</td>\n",
       "      <td>Singapore</td>\n",
       "      <td>357</td>\n",
       "    </tr>\n",
       "    <tr>\n",
       "      <td>25</td>\n",
       "      <td>NE America</td>\n",
       "      <td>259</td>\n",
       "    </tr>\n",
       "    <tr>\n",
       "      <td>27</td>\n",
       "      <td>Netherlands</td>\n",
       "      <td>257</td>\n",
       "    </tr>\n",
       "    <tr>\n",
       "      <td>8</td>\n",
       "      <td>China (PRC)</td>\n",
       "      <td>202</td>\n",
       "    </tr>\n",
       "  </tbody>\n",
       "</table>\n",
       "</div>"
      ],
      "text/plain": [
       "      Territory  number_of_closed_wons\n",
       "29         None                   3034\n",
       "13      Germany                   1023\n",
       "26   NW America                    973\n",
       "0     Australia                    696\n",
       "19        Japan                    546\n",
       "16        India                    374\n",
       "38    Singapore                    357\n",
       "25   NE America                    259\n",
       "27  Netherlands                    257\n",
       "8   China (PRC)                    202"
      ]
     },
     "execution_count": 6,
     "metadata": {},
     "output_type": "execute_result"
    }
   ],
   "source": [
    "df_closed_won = df[df['Stage'] == 'Closed Won']\n",
    "df_closed_won = df_closed_won[df_closed_won['Stage'] != None]\n",
    "df_closed_won = df_closed_won.groupby('Territory').agg({\"Stage\":\"count\"}).reset_index()\n",
    "df_closed_won = df_closed_won.rename(columns={\"Stage\": \"number_of_closed_wons\"})\n",
    "df_closed_won = df_closed_won.sort_values(by='number_of_closed_wons', ascending=False).head(10)\n",
    "df_closed_won"
   ]
  },
  {
   "cell_type": "code",
   "execution_count": 7,
   "metadata": {
    "colab": {
     "base_uri": "https://localhost:8080/",
     "height": 432
    },
    "id": "a-JRL_MHd5RB",
    "outputId": "f7324bad-55e4-4eb9-b16c-58da1d492ba6"
   },
   "outputs": [
    {
     "data": {
      "image/png": "[encoded data removed]",
      "text/plain": [
       "<Figure size 1080x504 with 1 Axes>"
      ]
     },
     "metadata": {
      "needs_background": "light"
     },
     "output_type": "display_data"
    }
   ],
   "source": [
    "fig, ax = plt.subplots(figsize = (15, 7))\n",
    "g = sns.barplot(x=df_closed_won['number_of_closed_wons'], \\\n",
    "                y=df_closed_won.Territory, orient='h',ax = ax,)\n",
    "g.set_title(\"Top 10 localidades con mayor cantidad Closed Wons\", fontsize=15)\n",
    "g.set_xlabel(\"cantidades\", fontsize=12)\n",
    "g.set_ylabel(\"localidades\", fontsize=12)\n",
    "plt.savefig(\"top_10_localidades_cw.png\")"
   ]
  },
  {
   "cell_type": "markdown",
   "metadata": {
    "id": "eCVoMcA0rz5c"
   },
   "source": [
    "Top 10 localidades con mayor cantidad de oportunidades Closed Lost"
   ]
  },
  {
   "cell_type": "code",
   "execution_count": 8,
   "metadata": {
    "colab": {
     "base_uri": "https://localhost:8080/",
     "height": 359
    },
    "id": "zqpz3xBusRAP",
    "outputId": "96a14096-af0b-470b-8b35-d46dc21e4da5"
   },
   "outputs": [
    {
     "data": {
      "text/html": [
       "<div>\n",
       "<style scoped>\n",
       "    .dataframe tbody tr th:only-of-type {\n",
       "        vertical-align: middle;\n",
       "    }\n",
       "\n",
       "    .dataframe tbody tr th {\n",
       "        vertical-align: top;\n",
       "    }\n",
       "\n",
       "    .dataframe thead th {\n",
       "        text-align: right;\n",
       "    }\n",
       "</style>\n",
       "<table border=\"1\" class=\"dataframe\">\n",
       "  <thead>\n",
       "    <tr style=\"text-align: right;\">\n",
       "      <th></th>\n",
       "      <th>Territory</th>\n",
       "      <th>number_of_closed_lost</th>\n",
       "    </tr>\n",
       "  </thead>\n",
       "  <tbody>\n",
       "    <tr>\n",
       "      <td>46</td>\n",
       "      <td>None</td>\n",
       "      <td>1947</td>\n",
       "    </tr>\n",
       "    <tr>\n",
       "      <td>23</td>\n",
       "      <td>Germany</td>\n",
       "      <td>659</td>\n",
       "    </tr>\n",
       "    <tr>\n",
       "      <td>43</td>\n",
       "      <td>NW America</td>\n",
       "      <td>587</td>\n",
       "    </tr>\n",
       "    <tr>\n",
       "      <td>2</td>\n",
       "      <td>Australia</td>\n",
       "      <td>506</td>\n",
       "    </tr>\n",
       "    <tr>\n",
       "      <td>42</td>\n",
       "      <td>NE America</td>\n",
       "      <td>501</td>\n",
       "    </tr>\n",
       "    <tr>\n",
       "      <td>26</td>\n",
       "      <td>India</td>\n",
       "      <td>433</td>\n",
       "    </tr>\n",
       "    <tr>\n",
       "      <td>21</td>\n",
       "      <td>France</td>\n",
       "      <td>306</td>\n",
       "    </tr>\n",
       "    <tr>\n",
       "      <td>54</td>\n",
       "      <td>SE America</td>\n",
       "      <td>302</td>\n",
       "    </tr>\n",
       "    <tr>\n",
       "      <td>44</td>\n",
       "      <td>Netherlands</td>\n",
       "      <td>275</td>\n",
       "    </tr>\n",
       "    <tr>\n",
       "      <td>70</td>\n",
       "      <td>United Kingdom</td>\n",
       "      <td>191</td>\n",
       "    </tr>\n",
       "  </tbody>\n",
       "</table>\n",
       "</div>"
      ],
      "text/plain": [
       "         Territory  number_of_closed_lost\n",
       "46            None                   1947\n",
       "23         Germany                    659\n",
       "43      NW America                    587\n",
       "2        Australia                    506\n",
       "42      NE America                    501\n",
       "26           India                    433\n",
       "21          France                    306\n",
       "54      SE America                    302\n",
       "44     Netherlands                    275\n",
       "70  United Kingdom                    191"
      ]
     },
     "execution_count": 8,
     "metadata": {},
     "output_type": "execute_result"
    }
   ],
   "source": [
    "df_closed_lost = df[df['Stage'] == 'Closed Lost']\n",
    "df_closed_lost = df_closed_lost[df_closed_lost['Stage'] != None]\n",
    "df_closed_lost = df_closed_lost.groupby('Territory').agg({\"Stage\":\"count\"}).reset_index()\n",
    "df_closed_lost = df_closed_lost.rename(columns={\"Stage\": \"number_of_closed_lost\"})\n",
    "df_closed_lost = df_closed_lost.sort_values(by='number_of_closed_lost', ascending=False).head(10)\n",
    "df_closed_lost"
   ]
  },
  {
   "cell_type": "code",
   "execution_count": 9,
   "metadata": {
    "colab": {
     "base_uri": "https://localhost:8080/",
     "height": 424
    },
    "id": "0MiBz8LlshzZ",
    "outputId": "e300b0dd-469c-49c2-ca6c-7367997f8f64"
   },
   "outputs": [
    {
     "data": {
      "image/png": "[encoded data removed]",
      "text/plain": [
       "<Figure size 1080x504 with 1 Axes>"
      ]
     },
     "metadata": {
      "needs_background": "light"
     },
     "output_type": "display_data"
    }
   ],
   "source": [
    "fig, ax = plt.subplots(figsize = (15, 7))\n",
    "g = sns.barplot(x=df_closed_lost['number_of_closed_lost'], \\\n",
    "                y=df_closed_lost.Territory, orient='h',ax = ax,)\n",
    "g.set_title(\"Top 10 localidades con mayor cantidad Closed Lost\", fontsize=15)\n",
    "g.set_xlabel(\"cantidades\", fontsize=12)\n",
    "g.set_ylabel(\"localidades\", fontsize=12)\n",
    "plt.savefig(\"top_10_localidades_cl.png\")"
   ]
  },
  {
   "cell_type": "markdown",
   "metadata": {
    "id": "Cwmar2J8s4Bi"
   },
   "source": [
    "Top 10 localidades con mayor cantidad de oportunidades Negotiation (no llega a 10 hay que ponerle otro nombre)"
   ]
  },
  {
   "cell_type": "code",
   "execution_count": 10,
   "metadata": {
    "colab": {
     "base_uri": "https://localhost:8080/",
     "height": 235
    },
    "id": "-WQWAHNFs-GZ",
    "outputId": "bcdbc603-ad62-4233-9307-ca0c4ae05a5b"
   },
   "outputs": [
    {
     "data": {
      "text/html": [
       "<div>\n",
       "<style scoped>\n",
       "    .dataframe tbody tr th:only-of-type {\n",
       "        vertical-align: middle;\n",
       "    }\n",
       "\n",
       "    .dataframe tbody tr th {\n",
       "        vertical-align: top;\n",
       "    }\n",
       "\n",
       "    .dataframe thead th {\n",
       "        text-align: right;\n",
       "    }\n",
       "</style>\n",
       "<table border=\"1\" class=\"dataframe\">\n",
       "  <thead>\n",
       "    <tr style=\"text-align: right;\">\n",
       "      <th></th>\n",
       "      <th>Territory</th>\n",
       "      <th>number_of_negotiation</th>\n",
       "    </tr>\n",
       "  </thead>\n",
       "  <tbody>\n",
       "    <tr>\n",
       "      <td>1</td>\n",
       "      <td>NW America</td>\n",
       "      <td>8</td>\n",
       "    </tr>\n",
       "    <tr>\n",
       "      <td>5</td>\n",
       "      <td>Saudi Arabia</td>\n",
       "      <td>5</td>\n",
       "    </tr>\n",
       "    <tr>\n",
       "      <td>0</td>\n",
       "      <td>Jordan</td>\n",
       "      <td>2</td>\n",
       "    </tr>\n",
       "    <tr>\n",
       "      <td>2</td>\n",
       "      <td>Netherlands</td>\n",
       "      <td>1</td>\n",
       "    </tr>\n",
       "    <tr>\n",
       "      <td>3</td>\n",
       "      <td>None</td>\n",
       "      <td>1</td>\n",
       "    </tr>\n",
       "    <tr>\n",
       "      <td>4</td>\n",
       "      <td>Oman</td>\n",
       "      <td>1</td>\n",
       "    </tr>\n",
       "  </tbody>\n",
       "</table>\n",
       "</div>"
      ],
      "text/plain": [
       "      Territory  number_of_negotiation\n",
       "1    NW America                      8\n",
       "5  Saudi Arabia                      5\n",
       "0        Jordan                      2\n",
       "2   Netherlands                      1\n",
       "3          None                      1\n",
       "4          Oman                      1"
      ]
     },
     "execution_count": 10,
     "metadata": {},
     "output_type": "execute_result"
    }
   ],
   "source": [
    "df_negotiation = df[df['Stage'] == 'Negotiation']\n",
    "df_negotiation = df_negotiation[df_negotiation['Stage'] != None]\n",
    "df_negotiation = df_negotiation.groupby('Territory').agg({\"Stage\":\"count\"}).reset_index()\n",
    "df_negotiation = df_negotiation.rename(columns={\"Stage\": \"number_of_negotiation\"})\n",
    "df_negotiation = df_negotiation.sort_values(by='number_of_negotiation', ascending=False).head(10)\n",
    "df_negotiation"
   ]
  },
  {
   "cell_type": "code",
   "execution_count": 11,
   "metadata": {
    "colab": {
     "base_uri": "https://localhost:8080/",
     "height": 431
    },
    "id": "TD9ALJiLtNzv",
    "outputId": "fcb1eafe-4cc2-4810-9840-551feead6b69"
   },
   "outputs": [
    {
     "data": {
      "image/png": "[encoded data removed]",
      "text/plain": [
       "<Figure size 1080x504 with 1 Axes>"
      ]
     },
     "metadata": {
      "needs_background": "light"
     },
     "output_type": "display_data"
    }
   ],
   "source": [
    "fig, ax = plt.subplots(figsize = (15, 7))\n",
    "g = sns.barplot(x=df_negotiation['number_of_negotiation'], \\\n",
    "                y=df_negotiation.Territory, orient='h',ax = ax,)\n",
    "g.set_title(\"Top 10 localidades con mayor cantidad Negotiation\", fontsize=15)\n",
    "g.set_xlabel(\"cantidades\", fontsize=12)\n",
    "g.set_ylabel(\"localidades\", fontsize=12)\n",
    "plt.savefig(\"top_10_localidades_n.png\")"
   ]
  },
  {
   "cell_type": "markdown",
   "metadata": {
    "id": "-2ahrJkutlAb"
   },
   "source": [
    "Top 10 localidades con mayor cantidad de oportunidades Proposal"
   ]
  },
  {
   "cell_type": "code",
   "execution_count": 12,
   "metadata": {
    "colab": {
     "base_uri": "https://localhost:8080/",
     "height": 359
    },
    "id": "xn8bmVTsto4v",
    "outputId": "8fade757-dd15-4653-d8cc-20348eef0ed5"
   },
   "outputs": [
    {
     "data": {
      "text/html": [
       "<div>\n",
       "<style scoped>\n",
       "    .dataframe tbody tr th:only-of-type {\n",
       "        vertical-align: middle;\n",
       "    }\n",
       "\n",
       "    .dataframe tbody tr th {\n",
       "        vertical-align: top;\n",
       "    }\n",
       "\n",
       "    .dataframe thead th {\n",
       "        text-align: right;\n",
       "    }\n",
       "</style>\n",
       "<table border=\"1\" class=\"dataframe\">\n",
       "  <thead>\n",
       "    <tr style=\"text-align: right;\">\n",
       "      <th></th>\n",
       "      <th>Territory</th>\n",
       "      <th>number_of_proposal</th>\n",
       "    </tr>\n",
       "  </thead>\n",
       "  <tbody>\n",
       "    <tr>\n",
       "      <td>5</td>\n",
       "      <td>None</td>\n",
       "      <td>10</td>\n",
       "    </tr>\n",
       "    <tr>\n",
       "      <td>0</td>\n",
       "      <td>Australia</td>\n",
       "      <td>4</td>\n",
       "    </tr>\n",
       "    <tr>\n",
       "      <td>3</td>\n",
       "      <td>Japan</td>\n",
       "      <td>4</td>\n",
       "    </tr>\n",
       "    <tr>\n",
       "      <td>9</td>\n",
       "      <td>SE America</td>\n",
       "      <td>4</td>\n",
       "    </tr>\n",
       "    <tr>\n",
       "      <td>2</td>\n",
       "      <td>Indonesia</td>\n",
       "      <td>3</td>\n",
       "    </tr>\n",
       "    <tr>\n",
       "      <td>11</td>\n",
       "      <td>UAE (Dubai)</td>\n",
       "      <td>3</td>\n",
       "    </tr>\n",
       "    <tr>\n",
       "      <td>4</td>\n",
       "      <td>Lebanon</td>\n",
       "      <td>2</td>\n",
       "    </tr>\n",
       "    <tr>\n",
       "      <td>1</td>\n",
       "      <td>India</td>\n",
       "      <td>1</td>\n",
       "    </tr>\n",
       "    <tr>\n",
       "      <td>6</td>\n",
       "      <td>Norway</td>\n",
       "      <td>1</td>\n",
       "    </tr>\n",
       "    <tr>\n",
       "      <td>7</td>\n",
       "      <td>Oman</td>\n",
       "      <td>1</td>\n",
       "    </tr>\n",
       "  </tbody>\n",
       "</table>\n",
       "</div>"
      ],
      "text/plain": [
       "      Territory  number_of_proposal\n",
       "5          None                  10\n",
       "0     Australia                   4\n",
       "3         Japan                   4\n",
       "9    SE America                   4\n",
       "2     Indonesia                   3\n",
       "11  UAE (Dubai)                   3\n",
       "4       Lebanon                   2\n",
       "1         India                   1\n",
       "6        Norway                   1\n",
       "7          Oman                   1"
      ]
     },
     "execution_count": 12,
     "metadata": {},
     "output_type": "execute_result"
    }
   ],
   "source": [
    "df_proposal = df[df['Stage'] == 'Proposal']\n",
    "df_proposal = df_proposal[df_proposal['Stage'] != None]\n",
    "df_proposal = df_proposal.groupby('Territory').agg({\"Stage\":\"count\"}).reset_index()\n",
    "df_proposal = df_proposal.rename(columns={\"Stage\": \"number_of_proposal\"})\n",
    "df_proposal = df_proposal.sort_values(by='number_of_proposal', ascending=False).head(10)\n",
    "df_proposal"
   ]
  },
  {
   "cell_type": "code",
   "execution_count": 13,
   "metadata": {
    "colab": {
     "base_uri": "https://localhost:8080/",
     "height": 432
    },
    "id": "SQddpfA3t-ek",
    "outputId": "9b7aa39a-43f4-419d-cf1c-b552899fb816"
   },
   "outputs": [
    {
     "data": {
      "image/png": "[encoded data removed]",
      "text/plain": [
       "<Figure size 1080x504 with 1 Axes>"
      ]
     },
     "metadata": {
      "needs_background": "light"
     },
     "output_type": "display_data"
    }
   ],
   "source": [
    "fig, ax = plt.subplots(figsize = (15, 7))\n",
    "g = sns.barplot(x=df_proposal['number_of_proposal'], \\\n",
    "                y=df_proposal.Territory, orient='h',ax = ax,)\n",
    "g.set_title(\"Top 10 localidades con mayor cantidad Proposal\", fontsize=15)\n",
    "g.set_xlabel(\"cantidades\", fontsize=12)\n",
    "g.set_ylabel(\"localidades\", fontsize=12)\n",
    "plt.savefig(\"top_10_localidades_p.png\")"
   ]
  },
  {
   "cell_type": "markdown",
   "metadata": {
    "id": "e9E1xumHuNFD"
   },
   "source": [
    "Top 10 localidades con mayor cantidad de oportunidades Qualification (tambien son menos de 10)"
   ]
  },
  {
   "cell_type": "code",
   "execution_count": 14,
   "metadata": {
    "colab": {
     "base_uri": "https://localhost:8080/",
     "height": 173
    },
    "id": "FM312odDuZ7e",
    "outputId": "29255409-9af3-4471-b454-a12d4311edbe"
   },
   "outputs": [
    {
     "data": {
      "text/html": [
       "<div>\n",
       "<style scoped>\n",
       "    .dataframe tbody tr th:only-of-type {\n",
       "        vertical-align: middle;\n",
       "    }\n",
       "\n",
       "    .dataframe tbody tr th {\n",
       "        vertical-align: top;\n",
       "    }\n",
       "\n",
       "    .dataframe thead th {\n",
       "        text-align: right;\n",
       "    }\n",
       "</style>\n",
       "<table border=\"1\" class=\"dataframe\">\n",
       "  <thead>\n",
       "    <tr style=\"text-align: right;\">\n",
       "      <th></th>\n",
       "      <th>Territory</th>\n",
       "      <th>number_of_qualification</th>\n",
       "    </tr>\n",
       "  </thead>\n",
       "  <tbody>\n",
       "    <tr>\n",
       "      <td>3</td>\n",
       "      <td>None</td>\n",
       "      <td>7</td>\n",
       "    </tr>\n",
       "    <tr>\n",
       "      <td>0</td>\n",
       "      <td>Australia</td>\n",
       "      <td>2</td>\n",
       "    </tr>\n",
       "    <tr>\n",
       "      <td>1</td>\n",
       "      <td>India</td>\n",
       "      <td>1</td>\n",
       "    </tr>\n",
       "    <tr>\n",
       "      <td>2</td>\n",
       "      <td>Japan</td>\n",
       "      <td>1</td>\n",
       "    </tr>\n",
       "  </tbody>\n",
       "</table>\n",
       "</div>"
      ],
      "text/plain": [
       "   Territory  number_of_qualification\n",
       "3       None                        7\n",
       "0  Australia                        2\n",
       "1      India                        1\n",
       "2      Japan                        1"
      ]
     },
     "execution_count": 14,
     "metadata": {},
     "output_type": "execute_result"
    }
   ],
   "source": [
    "df_qualification = df[df['Stage'] == 'Qualification']\n",
    "df_qualification = df_qualification[df_qualification['Stage'] != None]\n",
    "df_qualification = df_qualification.groupby('Territory').agg({\"Stage\":\"count\"}).reset_index()\n",
    "df_qualification = df_qualification.rename(columns={\"Stage\": \"number_of_qualification\"})\n",
    "df_qualification = df_qualification.sort_values(by='number_of_qualification', ascending=False).head(10)\n",
    "df_qualification"
   ]
  },
  {
   "cell_type": "code",
   "execution_count": 15,
   "metadata": {
    "colab": {
     "base_uri": "https://localhost:8080/",
     "height": 440
    },
    "id": "NPKsGxL5vH5u",
    "outputId": "c25c529f-40d0-4aa5-d643-23da421d7831"
   },
   "outputs": [
    {
     "data": {
      "image/png": "[encoded data removed]",
      "text/plain": [
       "<Figure size 1080x504 with 1 Axes>"
      ]
     },
     "metadata": {
      "needs_background": "light"
     },
     "output_type": "display_data"
    }
   ],
   "source": [
    "fig, ax = plt.subplots(figsize = (15, 7))\n",
    "g = sns.barplot(x=df_qualification['number_of_qualification'], \\\n",
    "                y=df_qualification.Territory, orient='h',ax = ax,)\n",
    "g.set_title(\"Top 10 localidades con mayor cantidad Qualification\", fontsize=15)\n",
    "g.set_xlabel(\"cantidades\", fontsize=12)\n",
    "g.set_ylabel(\"localidades\", fontsize=12)\n",
    "plt.savefig(\"top_10_localidades_q.png\")"
   ]
  },
  {
   "cell_type": "markdown",
   "metadata": {
    "id": "GM6qcAuFva4a"
   },
   "source": [
    "Cantidad de localidades por tipo de stage\n"
   ]
  },
  {
   "cell_type": "code",
   "execution_count": 16,
   "metadata": {
    "colab": {
     "base_uri": "https://localhost:8080/",
     "height": 204
    },
    "id": "YeXkDP-gvoWZ",
    "outputId": "b0722da0-82c3-40a6-e2a0-610d574ee824"
   },
   "outputs": [
    {
     "data": {
      "text/html": [
       "<div>\n",
       "<style scoped>\n",
       "    .dataframe tbody tr th:only-of-type {\n",
       "        vertical-align: middle;\n",
       "    }\n",
       "\n",
       "    .dataframe tbody tr th {\n",
       "        vertical-align: top;\n",
       "    }\n",
       "\n",
       "    .dataframe thead th {\n",
       "        text-align: right;\n",
       "    }\n",
       "</style>\n",
       "<table border=\"1\" class=\"dataframe\">\n",
       "  <thead>\n",
       "    <tr style=\"text-align: right;\">\n",
       "      <th></th>\n",
       "      <th>Stage</th>\n",
       "      <th>number_of_territories</th>\n",
       "    </tr>\n",
       "  </thead>\n",
       "  <tbody>\n",
       "    <tr>\n",
       "      <td>0</td>\n",
       "      <td>Closed Lost</td>\n",
       "      <td>7350</td>\n",
       "    </tr>\n",
       "    <tr>\n",
       "      <td>1</td>\n",
       "      <td>Closed Won</td>\n",
       "      <td>9533</td>\n",
       "    </tr>\n",
       "    <tr>\n",
       "      <td>2</td>\n",
       "      <td>Negotiation</td>\n",
       "      <td>18</td>\n",
       "    </tr>\n",
       "    <tr>\n",
       "      <td>3</td>\n",
       "      <td>Proposal</td>\n",
       "      <td>35</td>\n",
       "    </tr>\n",
       "    <tr>\n",
       "      <td>4</td>\n",
       "      <td>Qualification</td>\n",
       "      <td>11</td>\n",
       "    </tr>\n",
       "  </tbody>\n",
       "</table>\n",
       "</div>"
      ],
      "text/plain": [
       "           Stage  number_of_territories\n",
       "0    Closed Lost                   7350\n",
       "1     Closed Won                   9533\n",
       "2    Negotiation                     18\n",
       "3       Proposal                     35\n",
       "4  Qualification                     11"
      ]
     },
     "execution_count": 16,
     "metadata": {},
     "output_type": "execute_result"
    }
   ],
   "source": [
    "df_stages = df[df['Stage'] == 'Closed Won']\n",
    "df_stages = df[df['Stage'] != None]\n",
    "df_stages = df_stages.groupby('Stage').agg({\"Territory\":\"count\"}).reset_index()\n",
    "df_stages = df_stages.rename(columns={\"Territory\": \"number_of_territories\"})\n",
    "df_stages"
   ]
  },
  {
   "cell_type": "code",
   "execution_count": 17,
   "metadata": {
    "colab": {
     "base_uri": "https://localhost:8080/",
     "height": 348
    },
    "id": "9ewh1UXCwN-Y",
    "outputId": "23c6f82f-9a29-4273-dad8-c38bc84137e1"
   },
   "outputs": [
    {
     "data": {
      "image/png": "[encoded data removed]",
      "text/plain": [
       "<Figure size 432x288 with 1 Axes>"
      ]
     },
     "metadata": {
      "needs_background": "light"
     },
     "output_type": "display_data"
    }
   ],
   "source": [
    "import matplotlib.pyplot as plot\n",
    "df_stages.plot.bar(x=\"Stage\", y=\"number_of_territories\", rot=70, title=\"Cantidad de localidades por tipo de stage\")\n",
    "plot.show(block=True)"
   ]
  }
 ],
 "metadata": {
  "colab": {
   "name": "Graficos.ipynb",
   "provenance": []
  },
  "kernelspec": {
   "display_name": "Python 3",
   "language": "python",
   "name": "python3"
  },
  "language_info": {
   "codemirror_mode": {
    "name": "ipython",
    "version": 3
   },
   "file_extension": ".py",
   "mimetype": "text/x-python",
   "name": "python",
   "nbconvert_exporter": "python",
   "pygments_lexer": "ipython3",
   "version": "3.7.4"
  }
 },
 "nbformat": 4,
 "nbformat_minor": 4
}
