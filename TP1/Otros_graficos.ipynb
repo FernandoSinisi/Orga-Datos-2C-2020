{
 "cells": [
  {
   "cell_type": "code",
   "execution_count": 1,
   "metadata": {
    "colab": {
     "base_uri": "https://localhost:8080/"
    },
    "id": "U8yLFCK9hLi-",
    "outputId": "79d501e8-6406-4fbb-a503-b19131e3ced6"
   },
   "outputs": [
    {
     "name": "stdout",
     "output_type": "stream",
     "text": [
      "Requirement already satisfied: chart_studio in c:\\users\\sebastian\\anaconda3\\lib\\site-packages (1.1.0)\n",
      "Requirement already satisfied: plotly in c:\\users\\sebastian\\anaconda3\\lib\\site-packages (from chart_studio) (4.12.0)\n",
      "Requirement already satisfied: six in c:\\users\\sebastian\\anaconda3\\lib\\site-packages (from chart_studio) (1.15.0)\n",
      "Requirement already satisfied: requests in c:\\users\\sebastian\\anaconda3\\lib\\site-packages (from chart_studio) (2.24.0)\n",
      "Requirement already satisfied: retrying>=1.3.3 in c:\\users\\sebastian\\anaconda3\\lib\\site-packages (from chart_studio) (1.3.3)\n",
      "Requirement already satisfied: chardet<4,>=3.0.2 in c:\\users\\sebastian\\anaconda3\\lib\\site-packages (from requests->chart_studio) (3.0.4)\n",
      "Requirement already satisfied: certifi>=2017.4.17 in c:\\users\\sebastian\\anaconda3\\lib\\site-packages (from requests->chart_studio) (2020.6.20)\n",
      "Requirement already satisfied: urllib3!=1.25.0,!=1.25.1,<1.26,>=1.21.1 in c:\\users\\sebastian\\anaconda3\\lib\\site-packages (from requests->chart_studio) (1.25.9)\n",
      "Requirement already satisfied: idna<3,>=2.5 in c:\\users\\sebastian\\anaconda3\\lib\\site-packages (from requests->chart_studio) (2.10)\n"
     ]
    }
   ],
   "source": [
    "! pip install chart_studio"
   ]
  },
  {
   "cell_type": "code",
   "execution_count": 2,
   "metadata": {
    "id": "pOYWK6g7gze5"
   },
   "outputs": [],
   "source": [
    "#pip install wordcloud\n",
    "import pandas as pd\n",
    "import datetime as dt\n",
    "import matplotlib.pyplot as plt\n",
    "import numpy as np\n",
    "import seaborn as sns\n",
    "import chart_studio.plotly as py\n",
    "import plotly.figure_factory as ff\n",
    "from matplotlib import rc\n",
    "df = pd.read_csv('data/opportunities.csv',low_memory=False)\n",
    "#df.info()"
   ]
  },
  {
   "cell_type": "code",
   "execution_count": 3,
   "metadata": {
    "id": "ZYdXao2PgzfE"
   },
   "outputs": [],
   "source": [
    "#Convierto columna Last_Modified_Date a date\n",
    "df[\"Last_Modified_Date\"] = pd.to_datetime(df[\"Last_Modified_Date\"], errors='coerce')"
   ]
  },
  {
   "cell_type": "code",
   "execution_count": 4,
   "metadata": {
    "id": "8HPvMIs-gzfI"
   },
   "outputs": [],
   "source": [
    "#Convierto columna Opportunity_Created_Date a date\n",
    "df[\"Opportunity_Created_Date\"] = pd.to_datetime(df[\"Opportunity_Created_Date\"], errors='coerce')"
   ]
  },
  {
   "cell_type": "code",
   "execution_count": 5,
   "metadata": {
    "id": "NC0ul7FegzfL"
   },
   "outputs": [],
   "source": [
    "#Agrego columna Diferencia en dias entre la fecha de creacion de la oportunidad y la ultima modificacion de la oportunidad\n",
    "df[\"diferencia_en_dias\"] = (df[\"Last_Modified_Date\"] - df[\"Opportunity_Created_Date\"]).dt.days"
   ]
  },
  {
   "cell_type": "code",
   "execution_count": 6,
   "metadata": {
    "id": "n1CvIHe-gzfO"
   },
   "outputs": [],
   "source": [
    "#Agrupo por oportunidad\n",
    "df_agrupado_x_oportunidad = df.groupby([\"Opportunity_ID\"]).agg({\"Stage\":'first', \"diferencia_en_dias\":\"first\", \"ID\":\"first\"}).reset_index()\n",
    "#df_agrupado_x_oportunidad[df_agrupado_x_oportunidad[\"Opportunity_ID\"] == 2008]"
   ]
  },
  {
   "cell_type": "code",
   "execution_count": 7,
   "metadata": {
    "id": "bMdIcaRDgzfR"
   },
   "outputs": [],
   "source": [
    "#Cantidad de oportunidades segun la cantidad de dias que se tomo en llegar a Closed Won/Lost\n",
    "df_cant_oportunidades_por_cant_dias = df_agrupado_x_oportunidad[(df_agrupado_x_oportunidad[\"Stage\"] == \"Closed Won\") | (df_agrupado_x_oportunidad[\"Stage\"] == \"Closed Lost\")].groupby([\"Stage\", \"diferencia_en_dias\"]).agg({'ID':'count'}).reset_index()\n",
    "df_cant_oportunidades_por_cant_dias.columns = [\"Stage\", \"duracion_oportunidad_en_dias\", \"cantidad_oportunidades\"]\n",
    "#df_cant_oportunidades_por_cant_dias"
   ]
  },
  {
   "cell_type": "markdown",
   "metadata": {
    "id": "PunR6r_KgzfV"
   },
   "source": [
    "### Cantidad de oportunidades por duracion de la oportunidad"
   ]
  },
  {
   "cell_type": "code",
   "execution_count": 8,
   "metadata": {
    "colab": {
     "base_uri": "https://localhost:8080/",
     "height": 198
    },
    "id": "F1M9HBoEgzfV",
    "outputId": "cf09291b-5ac6-4fe8-aad6-e51f201867d6"
   },
   "outputs": [
    {
     "data": {
      "text/html": [
       "<div>\n",
       "<style scoped>\n",
       "    .dataframe tbody tr th:only-of-type {\n",
       "        vertical-align: middle;\n",
       "    }\n",
       "\n",
       "    .dataframe tbody tr th {\n",
       "        vertical-align: top;\n",
       "    }\n",
       "\n",
       "    .dataframe thead th {\n",
       "        text-align: right;\n",
       "    }\n",
       "</style>\n",
       "<table border=\"1\" class=\"dataframe\">\n",
       "  <thead>\n",
       "    <tr style=\"text-align: right;\">\n",
       "      <th></th>\n",
       "      <th>Stage</th>\n",
       "      <th>duracion_oportunidad_en_dias</th>\n",
       "      <th>cantidad_oportunidades</th>\n",
       "    </tr>\n",
       "  </thead>\n",
       "  <tbody>\n",
       "    <tr>\n",
       "      <th>610</th>\n",
       "      <td>Closed Won</td>\n",
       "      <td>0</td>\n",
       "      <td>359</td>\n",
       "    </tr>\n",
       "    <tr>\n",
       "      <th>611</th>\n",
       "      <td>Closed Won</td>\n",
       "      <td>1</td>\n",
       "      <td>238</td>\n",
       "    </tr>\n",
       "    <tr>\n",
       "      <th>612</th>\n",
       "      <td>Closed Won</td>\n",
       "      <td>2</td>\n",
       "      <td>82</td>\n",
       "    </tr>\n",
       "    <tr>\n",
       "      <th>613</th>\n",
       "      <td>Closed Won</td>\n",
       "      <td>3</td>\n",
       "      <td>73</td>\n",
       "    </tr>\n",
       "    <tr>\n",
       "      <th>614</th>\n",
       "      <td>Closed Won</td>\n",
       "      <td>4</td>\n",
       "      <td>43</td>\n",
       "    </tr>\n",
       "  </tbody>\n",
       "</table>\n",
       "</div>"
      ],
      "text/plain": [
       "          Stage  duracion_oportunidad_en_dias  cantidad_oportunidades\n",
       "610  Closed Won                             0                     359\n",
       "611  Closed Won                             1                     238\n",
       "612  Closed Won                             2                      82\n",
       "613  Closed Won                             3                      73\n",
       "614  Closed Won                             4                      43"
      ]
     },
     "execution_count": 8,
     "metadata": {},
     "output_type": "execute_result"
    }
   ],
   "source": [
    "#Separo DF en 2 segun Stage (Close Lost y Closed Won)\n",
    "df_cant_oportunidades_por_cant_dias_Won = df_cant_oportunidades_por_cant_dias[df_cant_oportunidades_por_cant_dias[\"Stage\"] == \"Closed Won\"]\n",
    "df_cant_oportunidades_por_cant_dias_Lost = df_cant_oportunidades_por_cant_dias[df_cant_oportunidades_por_cant_dias[\"Stage\"] == \"Closed Lost\"]\n",
    "#df_cant_oportunidades_por_cant_dias_Won = df_cant_oportunidades_por_cant_dias_Won[df_cant_oportunidades_por_cant_dias_Won[\"duracion_oportunidad_en_dias\"] > 1]\n",
    "#df_cant_oportunidades_por_cant_dias_Lost = df_cant_oportunidades_por_cant_dias_Lost[df_cant_oportunidades_por_cant_dias_Lost[\"duracion_oportunidad_en_dias\"] > 1]\n",
    "df_cant_oportunidades_por_cant_dias_Won.head(5)"
   ]
  },
  {
   "cell_type": "code",
   "execution_count": 37,
   "metadata": {
    "colab": {
     "base_uri": "https://localhost:8080/",
     "height": 343
    },
    "id": "n3C5jQK9gzfY",
    "outputId": "659ca993-2480-4018-cf56-3366968443ab"
   },
   "outputs": [
    {
     "data": {
      "image/png": "[encoded data removed]",
      "text/plain": [
       "<Figure size 432x288 with 1 Axes>"
      ]
     },
     "metadata": {
      "needs_background": "light"
     },
     "output_type": "display_data"
    }
   ],
   "source": [
    "ax = df_cant_oportunidades_por_cant_dias_Won.plot(kind='scatter', x='duracion_oportunidad_en_dias', y='cantidad_oportunidades',color='Green', label='Closed Won')\n",
    "ax.set_ylabel('Cantidad de oportunidades por duracion de la oportunidad')\n",
    "plt.tight_layout()\n",
    "plt.savefig(\"pngs/oportunidades-won-segun-duracion.png\")"
   ]
  },
  {
   "cell_type": "code",
   "execution_count": 38,
   "metadata": {},
   "outputs": [
    {
     "data": {
      "image/png": "[encoded data removed]",
      "text/plain": [
       "<Figure size 432x288 with 1 Axes>"
      ]
     },
     "metadata": {
      "needs_background": "light"
     },
     "output_type": "display_data"
    }
   ],
   "source": [
    "graf = df_cant_oportunidades_por_cant_dias_Lost.plot(kind='scatter', x='duracion_oportunidad_en_dias', y='cantidad_oportunidades', color='Red', label='Closed Lost')\n",
    "graf.set_ylabel('Cantidad de oportunidades por duracion de la oportunidad')\n",
    "plt.tight_layout()\n",
    "plt.savefig(\"pngs/oportunidades-lost-segun-duracion.png\")"
   ]
  },
  {
   "cell_type": "markdown",
   "metadata": {
    "id": "2_J7uRUigzfd"
   },
   "source": [
    "### Porcentaje de oportunidades Lost/Won por duracion de la oportunidad"
   ]
  },
  {
   "cell_type": "code",
   "execution_count": 10,
   "metadata": {
    "colab": {
     "base_uri": "https://localhost:8080/",
     "height": 228
    },
    "id": "NpyZWi0Ggzfd",
    "outputId": "e54fdeee-ac07-40ee-e0a1-2c0da7b3bc5d"
   },
   "outputs": [
    {
     "data": {
      "text/html": [
       "<div>\n",
       "<style scoped>\n",
       "    .dataframe tbody tr th:only-of-type {\n",
       "        vertical-align: middle;\n",
       "    }\n",
       "\n",
       "    .dataframe tbody tr th {\n",
       "        vertical-align: top;\n",
       "    }\n",
       "\n",
       "    .dataframe thead th {\n",
       "        text-align: right;\n",
       "    }\n",
       "</style>\n",
       "<table border=\"1\" class=\"dataframe\">\n",
       "  <thead>\n",
       "    <tr style=\"text-align: right;\">\n",
       "      <th></th>\n",
       "      <th>cantidad_oportunidades_Lost</th>\n",
       "      <th>cantidad_oportunidades_Won</th>\n",
       "    </tr>\n",
       "    <tr>\n",
       "      <th>diferencia_en_dias</th>\n",
       "      <th></th>\n",
       "      <th></th>\n",
       "    </tr>\n",
       "  </thead>\n",
       "  <tbody>\n",
       "    <tr>\n",
       "      <th>0</th>\n",
       "      <td>21.0</td>\n",
       "      <td>359.0</td>\n",
       "    </tr>\n",
       "    <tr>\n",
       "      <th>1</th>\n",
       "      <td>8.0</td>\n",
       "      <td>238.0</td>\n",
       "    </tr>\n",
       "    <tr>\n",
       "      <th>2</th>\n",
       "      <td>17.0</td>\n",
       "      <td>82.0</td>\n",
       "    </tr>\n",
       "    <tr>\n",
       "      <th>3</th>\n",
       "      <td>10.0</td>\n",
       "      <td>73.0</td>\n",
       "    </tr>\n",
       "    <tr>\n",
       "      <th>4</th>\n",
       "      <td>6.0</td>\n",
       "      <td>43.0</td>\n",
       "    </tr>\n",
       "  </tbody>\n",
       "</table>\n",
       "</div>"
      ],
      "text/plain": [
       "                    cantidad_oportunidades_Lost  cantidad_oportunidades_Won\n",
       "diferencia_en_dias                                                         \n",
       "0                                          21.0                       359.0\n",
       "1                                           8.0                       238.0\n",
       "2                                          17.0                        82.0\n",
       "3                                          10.0                        73.0\n",
       "4                                           6.0                        43.0"
      ]
     },
     "execution_count": 10,
     "metadata": {},
     "output_type": "execute_result"
    }
   ],
   "source": [
    "df_cant_oportunidades_lost_vs_won = df_agrupado_x_oportunidad[(df_agrupado_x_oportunidad[\"Stage\"] == \"Closed Won\") | (df_agrupado_x_oportunidad[\"Stage\"] == \"Closed Lost\")].groupby([\"diferencia_en_dias\", \"Stage\"]).agg({'ID':'count'}).unstack()#.reset_index()\n",
    "df_cant_oportunidades_lost_vs_won.columns = [\"cantidad_oportunidades_Lost\", \"cantidad_oportunidades_Won\"]\n",
    "df_cant_oportunidades_lost_vs_won.head()"
   ]
  },
  {
   "cell_type": "code",
   "execution_count": 11,
   "metadata": {
    "colab": {
     "base_uri": "https://localhost:8080/",
     "height": 437
    },
    "id": "d6zExI6Sgzfg",
    "outputId": "71bf55f3-4141-4378-f770-165773596b2c"
   },
   "outputs": [
    {
     "data": {
      "text/html": [
       "<div>\n",
       "<style scoped>\n",
       "    .dataframe tbody tr th:only-of-type {\n",
       "        vertical-align: middle;\n",
       "    }\n",
       "\n",
       "    .dataframe tbody tr th {\n",
       "        vertical-align: top;\n",
       "    }\n",
       "\n",
       "    .dataframe thead th {\n",
       "        text-align: right;\n",
       "    }\n",
       "</style>\n",
       "<table border=\"1\" class=\"dataframe\">\n",
       "  <thead>\n",
       "    <tr style=\"text-align: right;\">\n",
       "      <th></th>\n",
       "      <th>cantidad_oportunidades_Lost</th>\n",
       "      <th>cantidad_oportunidades_Won</th>\n",
       "    </tr>\n",
       "    <tr>\n",
       "      <th>diferencia_en_dias</th>\n",
       "      <th></th>\n",
       "      <th></th>\n",
       "    </tr>\n",
       "  </thead>\n",
       "  <tbody>\n",
       "    <tr>\n",
       "      <th>0</th>\n",
       "      <td>0.055263</td>\n",
       "      <td>0.944737</td>\n",
       "    </tr>\n",
       "    <tr>\n",
       "      <th>1</th>\n",
       "      <td>0.032520</td>\n",
       "      <td>0.967480</td>\n",
       "    </tr>\n",
       "    <tr>\n",
       "      <th>2</th>\n",
       "      <td>0.171717</td>\n",
       "      <td>0.828283</td>\n",
       "    </tr>\n",
       "    <tr>\n",
       "      <th>3</th>\n",
       "      <td>0.120482</td>\n",
       "      <td>0.879518</td>\n",
       "    </tr>\n",
       "    <tr>\n",
       "      <th>4</th>\n",
       "      <td>0.122449</td>\n",
       "      <td>0.877551</td>\n",
       "    </tr>\n",
       "    <tr>\n",
       "      <th>...</th>\n",
       "      <td>...</td>\n",
       "      <td>...</td>\n",
       "    </tr>\n",
       "    <tr>\n",
       "      <th>1214</th>\n",
       "      <td>1.000000</td>\n",
       "      <td>NaN</td>\n",
       "    </tr>\n",
       "    <tr>\n",
       "      <th>1222</th>\n",
       "      <td>1.000000</td>\n",
       "      <td>NaN</td>\n",
       "    </tr>\n",
       "    <tr>\n",
       "      <th>1226</th>\n",
       "      <td>1.000000</td>\n",
       "      <td>NaN</td>\n",
       "    </tr>\n",
       "    <tr>\n",
       "      <th>1499</th>\n",
       "      <td>1.000000</td>\n",
       "      <td>NaN</td>\n",
       "    </tr>\n",
       "    <tr>\n",
       "      <th>1775</th>\n",
       "      <td>1.000000</td>\n",
       "      <td>NaN</td>\n",
       "    </tr>\n",
       "  </tbody>\n",
       "</table>\n",
       "<p>657 rows × 2 columns</p>\n",
       "</div>"
      ],
      "text/plain": [
       "                    cantidad_oportunidades_Lost  cantidad_oportunidades_Won\n",
       "diferencia_en_dias                                                         \n",
       "0                                      0.055263                    0.944737\n",
       "1                                      0.032520                    0.967480\n",
       "2                                      0.171717                    0.828283\n",
       "3                                      0.120482                    0.879518\n",
       "4                                      0.122449                    0.877551\n",
       "...                                         ...                         ...\n",
       "1214                                   1.000000                         NaN\n",
       "1222                                   1.000000                         NaN\n",
       "1226                                   1.000000                         NaN\n",
       "1499                                   1.000000                         NaN\n",
       "1775                                   1.000000                         NaN\n",
       "\n",
       "[657 rows x 2 columns]"
      ]
     },
     "execution_count": 11,
     "metadata": {},
     "output_type": "execute_result"
    }
   ],
   "source": [
    "df_cant_oportunidades_lost_vs_won_perc = df_cant_oportunidades_lost_vs_won.divide(df_cant_oportunidades_lost_vs_won.sum(axis=1), axis=0)\n",
    "df_cant_oportunidades_lost_vs_won_perc"
   ]
  },
  {
   "cell_type": "code",
   "execution_count": 12,
   "metadata": {
    "colab": {
     "base_uri": "https://localhost:8080/",
     "height": 437
    },
    "id": "D5MA_dATgzfj",
    "outputId": "2e8ffff7-0084-49e7-d33b-5a8cb8e17d45"
   },
   "outputs": [
    {
     "data": {
      "text/html": [
       "<div>\n",
       "<style scoped>\n",
       "    .dataframe tbody tr th:only-of-type {\n",
       "        vertical-align: middle;\n",
       "    }\n",
       "\n",
       "    .dataframe tbody tr th {\n",
       "        vertical-align: top;\n",
       "    }\n",
       "\n",
       "    .dataframe thead th {\n",
       "        text-align: right;\n",
       "    }\n",
       "</style>\n",
       "<table border=\"1\" class=\"dataframe\">\n",
       "  <thead>\n",
       "    <tr style=\"text-align: right;\">\n",
       "      <th></th>\n",
       "      <th>cantidad_oportunidades_Lost</th>\n",
       "      <th>cantidad_oportunidades_Won</th>\n",
       "    </tr>\n",
       "    <tr>\n",
       "      <th>diferencia_en_dias</th>\n",
       "      <th></th>\n",
       "      <th></th>\n",
       "    </tr>\n",
       "  </thead>\n",
       "  <tbody>\n",
       "    <tr>\n",
       "      <th>0</th>\n",
       "      <td>0.055263</td>\n",
       "      <td>0.944737</td>\n",
       "    </tr>\n",
       "    <tr>\n",
       "      <th>1</th>\n",
       "      <td>0.032520</td>\n",
       "      <td>0.967480</td>\n",
       "    </tr>\n",
       "    <tr>\n",
       "      <th>2</th>\n",
       "      <td>0.171717</td>\n",
       "      <td>0.828283</td>\n",
       "    </tr>\n",
       "    <tr>\n",
       "      <th>3</th>\n",
       "      <td>0.120482</td>\n",
       "      <td>0.879518</td>\n",
       "    </tr>\n",
       "    <tr>\n",
       "      <th>4</th>\n",
       "      <td>0.122449</td>\n",
       "      <td>0.877551</td>\n",
       "    </tr>\n",
       "    <tr>\n",
       "      <th>...</th>\n",
       "      <td>...</td>\n",
       "      <td>...</td>\n",
       "    </tr>\n",
       "    <tr>\n",
       "      <th>617</th>\n",
       "      <td>0.500000</td>\n",
       "      <td>0.500000</td>\n",
       "    </tr>\n",
       "    <tr>\n",
       "      <th>623</th>\n",
       "      <td>0.666667</td>\n",
       "      <td>0.333333</td>\n",
       "    </tr>\n",
       "    <tr>\n",
       "      <th>684</th>\n",
       "      <td>0.500000</td>\n",
       "      <td>0.500000</td>\n",
       "    </tr>\n",
       "    <tr>\n",
       "      <th>956</th>\n",
       "      <td>0.500000</td>\n",
       "      <td>0.500000</td>\n",
       "    </tr>\n",
       "    <tr>\n",
       "      <th>998</th>\n",
       "      <td>0.800000</td>\n",
       "      <td>0.200000</td>\n",
       "    </tr>\n",
       "  </tbody>\n",
       "</table>\n",
       "<p>442 rows × 2 columns</p>\n",
       "</div>"
      ],
      "text/plain": [
       "                    cantidad_oportunidades_Lost  cantidad_oportunidades_Won\n",
       "diferencia_en_dias                                                         \n",
       "0                                      0.055263                    0.944737\n",
       "1                                      0.032520                    0.967480\n",
       "2                                      0.171717                    0.828283\n",
       "3                                      0.120482                    0.879518\n",
       "4                                      0.122449                    0.877551\n",
       "...                                         ...                         ...\n",
       "617                                    0.500000                    0.500000\n",
       "623                                    0.666667                    0.333333\n",
       "684                                    0.500000                    0.500000\n",
       "956                                    0.500000                    0.500000\n",
       "998                                    0.800000                    0.200000\n",
       "\n",
       "[442 rows x 2 columns]"
      ]
     },
     "execution_count": 12,
     "metadata": {},
     "output_type": "execute_result"
    }
   ],
   "source": [
    "#df_cant_oportunidades_lost_vs_won_perc = df_cant_oportunidades_lost_vs_won_perc[(df_cant_oportunidades_lost_vs_won_perc.index > 400) & (df_cant_oportunidades_lost_vs_won_perc.index < 450)]\n",
    "##df_cant_oportunidades_lost_vs_won_perc = df_cant_oportunidades_lost_vs_won_perc.fillna(0)\n",
    "##df_cant_oportunidades_lost_vs_won_perc = df_cant_oportunidades_lost_vs_won_perc.loc[(df_cant_oportunidades_lost_vs_won_perc[\"cantidad_oportunidades_Lost\"] + df_cant_oportunidades_lost_vs_won_perc[\"cantidad_oportunidades_Won\"]) > 0,:]\n",
    "#df_cant_oportunidades_lost_vs_won_perc.info()\n",
    "df_cant_oportunidades_lost_vs_won_perc = df_cant_oportunidades_lost_vs_won_perc.dropna()\n",
    "df_cant_oportunidades_lost_vs_won_perc\n",
    "#df_cant_oportunidades_lost_vs_won_perc = df_cant_oportunidades_lost_vs_won_perc[(df_cant_oportunidades_lost_vs_won_perc.index > 300) & (df_cant_oportunidades_lost_vs_won_perc.index < 550)]"
   ]
  },
  {
   "cell_type": "code",
   "execution_count": 39,
   "metadata": {
    "colab": {
     "base_uri": "https://localhost:8080/",
     "height": 281
    },
    "id": "WM0ey4jWgzfm",
    "outputId": "12369c16-1fb3-42a0-c2f8-9ec685ad4139"
   },
   "outputs": [
    {
     "data": {
      "image/png": "[encoded data removed]",
      "text/plain": [
       "<Figure size 432x288 with 1 Axes>"
      ]
     },
     "metadata": {
      "needs_background": "light"
     },
     "output_type": "display_data"
    },
    {
     "data": {
      "text/plain": [
       "<Figure size 432x288 with 0 Axes>"
      ]
     },
     "metadata": {},
     "output_type": "display_data"
    }
   ],
   "source": [
    "rows = len(df_cant_oportunidades_lost_vs_won_perc.index + 1)\n",
    "#df_cant_oportunidades_lost_vs_won_perc.index\n",
    "plt.stackplot(range(0,rows),  df_cant_oportunidades_lost_vs_won_perc[\"cantidad_oportunidades_Lost\"],  df_cant_oportunidades_lost_vs_won_perc[\"cantidad_oportunidades_Won\"], labels=['Lost','Won'])\n",
    "plt.legend(loc='upper left')\n",
    "plt.margins(0,0)\n",
    "plt.title('Porcentaje de oportunidades Lost/Won por duracion de la oportunidad')\n",
    "plt.show()\n",
    "plt.tight_layout()\n",
    "plt.savefig(\"pngs/porcentaje-oportunidades-lost-won-por-duracion-de-oportunidad.png\")"
   ]
  },
  {
   "cell_type": "markdown",
   "metadata": {
    "id": "MTXWsuXXgzfp"
   },
   "source": [
    "### Porcentaje de Lost VS Won por intervalos de 10 dias"
   ]
  },
  {
   "cell_type": "code",
   "execution_count": 14,
   "metadata": {
    "colab": {
     "base_uri": "https://localhost:8080/",
     "height": 467
    },
    "id": "KrcxcDa5gzfp",
    "outputId": "b7f169b0-ab1c-4efd-94ac-68a0b733d66a"
   },
   "outputs": [
    {
     "data": {
      "text/html": [
       "<div>\n",
       "<style scoped>\n",
       "    .dataframe tbody tr th:only-of-type {\n",
       "        vertical-align: middle;\n",
       "    }\n",
       "\n",
       "    .dataframe tbody tr th {\n",
       "        vertical-align: top;\n",
       "    }\n",
       "\n",
       "    .dataframe thead tr th {\n",
       "        text-align: left;\n",
       "    }\n",
       "\n",
       "    .dataframe thead tr:last-of-type th {\n",
       "        text-align: right;\n",
       "    }\n",
       "</style>\n",
       "<table border=\"1\" class=\"dataframe\">\n",
       "  <thead>\n",
       "    <tr>\n",
       "      <th></th>\n",
       "      <th colspan=\"2\" halign=\"left\">cantidad_oportunidades</th>\n",
       "    </tr>\n",
       "    <tr>\n",
       "      <th>Stage</th>\n",
       "      <th>Closed Lost</th>\n",
       "      <th>Closed Won</th>\n",
       "    </tr>\n",
       "    <tr>\n",
       "      <th>periodo</th>\n",
       "      <th></th>\n",
       "      <th></th>\n",
       "    </tr>\n",
       "  </thead>\n",
       "  <tbody>\n",
       "    <tr>\n",
       "      <th>10</th>\n",
       "      <td>114.0</td>\n",
       "      <td>941.0</td>\n",
       "    </tr>\n",
       "    <tr>\n",
       "      <th>20</th>\n",
       "      <td>103.0</td>\n",
       "      <td>179.0</td>\n",
       "    </tr>\n",
       "    <tr>\n",
       "      <th>30</th>\n",
       "      <td>130.0</td>\n",
       "      <td>156.0</td>\n",
       "    </tr>\n",
       "    <tr>\n",
       "      <th>40</th>\n",
       "      <td>115.0</td>\n",
       "      <td>129.0</td>\n",
       "    </tr>\n",
       "    <tr>\n",
       "      <th>50</th>\n",
       "      <td>112.0</td>\n",
       "      <td>89.0</td>\n",
       "    </tr>\n",
       "    <tr>\n",
       "      <th>...</th>\n",
       "      <td>...</td>\n",
       "      <td>...</td>\n",
       "    </tr>\n",
       "    <tr>\n",
       "      <th>1210</th>\n",
       "      <td>1.0</td>\n",
       "      <td>NaN</td>\n",
       "    </tr>\n",
       "    <tr>\n",
       "      <th>1220</th>\n",
       "      <td>1.0</td>\n",
       "      <td>NaN</td>\n",
       "    </tr>\n",
       "    <tr>\n",
       "      <th>1230</th>\n",
       "      <td>2.0</td>\n",
       "      <td>NaN</td>\n",
       "    </tr>\n",
       "    <tr>\n",
       "      <th>1500</th>\n",
       "      <td>1.0</td>\n",
       "      <td>NaN</td>\n",
       "    </tr>\n",
       "    <tr>\n",
       "      <th>1780</th>\n",
       "      <td>1.0</td>\n",
       "      <td>NaN</td>\n",
       "    </tr>\n",
       "  </tbody>\n",
       "</table>\n",
       "<p>104 rows × 2 columns</p>\n",
       "</div>"
      ],
      "text/plain": [
       "        cantidad_oportunidades           \n",
       "Stage              Closed Lost Closed Won\n",
       "periodo                                  \n",
       "10                       114.0      941.0\n",
       "20                       103.0      179.0\n",
       "30                       130.0      156.0\n",
       "40                       115.0      129.0\n",
       "50                       112.0       89.0\n",
       "...                        ...        ...\n",
       "1210                       1.0        NaN\n",
       "1220                       1.0        NaN\n",
       "1230                       2.0        NaN\n",
       "1500                       1.0        NaN\n",
       "1780                       1.0        NaN\n",
       "\n",
       "[104 rows x 2 columns]"
      ]
     },
     "execution_count": 14,
     "metadata": {},
     "output_type": "execute_result"
    }
   ],
   "source": [
    "df_cant_oportunidades_por_cant_dias[\"periodo\"] = (((df_cant_oportunidades_por_cant_dias[\"duracion_oportunidad_en_dias\"] // 10) + 1) * 10)\n",
    "#df_cant_oportunidades_por_cant_dias.head(30)\n",
    "df_won_vs_lost_cada_10_dias = df_cant_oportunidades_por_cant_dias.groupby([\"periodo\", \"Stage\"]).agg({'cantidad_oportunidades': 'sum'}).unstack()\n",
    "df_won_vs_lost_cada_10_dias"
   ]
  },
  {
   "cell_type": "code",
   "execution_count": 15,
   "metadata": {
    "id": "MvkFQfo6gzfs"
   },
   "outputs": [],
   "source": [
    "df_won_vs_lost_cada_10_dias = df_won_vs_lost_cada_10_dias.fillna(0)\n",
    "#df_won_vs_lost_cada_10_dias = df_won_vs_lost_cada_10_dias.dropna()"
   ]
  },
  {
   "cell_type": "code",
   "execution_count": 16,
   "metadata": {
    "colab": {
     "base_uri": "https://localhost:8080/",
     "height": 437
    },
    "id": "TTXnW6fJgzfv",
    "outputId": "45db7f12-3d22-450f-898a-331872c60c5f"
   },
   "outputs": [
    {
     "data": {
      "text/html": [
       "<div>\n",
       "<style scoped>\n",
       "    .dataframe tbody tr th:only-of-type {\n",
       "        vertical-align: middle;\n",
       "    }\n",
       "\n",
       "    .dataframe tbody tr th {\n",
       "        vertical-align: top;\n",
       "    }\n",
       "\n",
       "    .dataframe thead th {\n",
       "        text-align: right;\n",
       "    }\n",
       "</style>\n",
       "<table border=\"1\" class=\"dataframe\">\n",
       "  <thead>\n",
       "    <tr style=\"text-align: right;\">\n",
       "      <th></th>\n",
       "      <th>Lost</th>\n",
       "      <th>Won</th>\n",
       "    </tr>\n",
       "    <tr>\n",
       "      <th>periodo</th>\n",
       "      <th></th>\n",
       "      <th></th>\n",
       "    </tr>\n",
       "  </thead>\n",
       "  <tbody>\n",
       "    <tr>\n",
       "      <th>10</th>\n",
       "      <td>0.108057</td>\n",
       "      <td>0.891943</td>\n",
       "    </tr>\n",
       "    <tr>\n",
       "      <th>20</th>\n",
       "      <td>0.365248</td>\n",
       "      <td>0.634752</td>\n",
       "    </tr>\n",
       "    <tr>\n",
       "      <th>30</th>\n",
       "      <td>0.454545</td>\n",
       "      <td>0.545455</td>\n",
       "    </tr>\n",
       "    <tr>\n",
       "      <th>40</th>\n",
       "      <td>0.471311</td>\n",
       "      <td>0.528689</td>\n",
       "    </tr>\n",
       "    <tr>\n",
       "      <th>50</th>\n",
       "      <td>0.557214</td>\n",
       "      <td>0.442786</td>\n",
       "    </tr>\n",
       "    <tr>\n",
       "      <th>...</th>\n",
       "      <td>...</td>\n",
       "      <td>...</td>\n",
       "    </tr>\n",
       "    <tr>\n",
       "      <th>1210</th>\n",
       "      <td>1.000000</td>\n",
       "      <td>0.000000</td>\n",
       "    </tr>\n",
       "    <tr>\n",
       "      <th>1220</th>\n",
       "      <td>1.000000</td>\n",
       "      <td>0.000000</td>\n",
       "    </tr>\n",
       "    <tr>\n",
       "      <th>1230</th>\n",
       "      <td>1.000000</td>\n",
       "      <td>0.000000</td>\n",
       "    </tr>\n",
       "    <tr>\n",
       "      <th>1500</th>\n",
       "      <td>1.000000</td>\n",
       "      <td>0.000000</td>\n",
       "    </tr>\n",
       "    <tr>\n",
       "      <th>1780</th>\n",
       "      <td>1.000000</td>\n",
       "      <td>0.000000</td>\n",
       "    </tr>\n",
       "  </tbody>\n",
       "</table>\n",
       "<p>104 rows × 2 columns</p>\n",
       "</div>"
      ],
      "text/plain": [
       "             Lost       Won\n",
       "periodo                    \n",
       "10       0.108057  0.891943\n",
       "20       0.365248  0.634752\n",
       "30       0.454545  0.545455\n",
       "40       0.471311  0.528689\n",
       "50       0.557214  0.442786\n",
       "...           ...       ...\n",
       "1210     1.000000  0.000000\n",
       "1220     1.000000  0.000000\n",
       "1230     1.000000  0.000000\n",
       "1500     1.000000  0.000000\n",
       "1780     1.000000  0.000000\n",
       "\n",
       "[104 rows x 2 columns]"
      ]
     },
     "execution_count": 16,
     "metadata": {},
     "output_type": "execute_result"
    }
   ],
   "source": [
    "df_won_vs_lost_cada_10_dias_perc = df_won_vs_lost_cada_10_dias.divide(df_won_vs_lost_cada_10_dias.sum(axis=1), axis=0)\n",
    "df_won_vs_lost_cada_10_dias_perc.columns = [\"Lost\",\"Won\"]\n",
    "df_won_vs_lost_cada_10_dias_perc"
   ]
  },
  {
   "cell_type": "code",
   "execution_count": 40,
   "metadata": {
    "colab": {
     "base_uri": "https://localhost:8080/",
     "height": 281
    },
    "id": "HC4Vj5Lrgzfx",
    "outputId": "e0a262ed-f95d-400a-bdd1-79dff9d63cee"
   },
   "outputs": [
    {
     "data": {
      "image/png": "[encoded data removed]",
      "text/plain": [
       "<Figure size 432x288 with 1 Axes>"
      ]
     },
     "metadata": {
      "needs_background": "light"
     },
     "output_type": "display_data"
    },
    {
     "data": {
      "text/plain": [
       "<Figure size 432x288 with 0 Axes>"
      ]
     },
     "metadata": {},
     "output_type": "display_data"
    }
   ],
   "source": [
    "#rows = len(df_won_vs_lost_cada_10_dias_perc.index + 1)\n",
    "#range(0,rows)\n",
    "plt.stackplot(df_won_vs_lost_cada_10_dias_perc.index,  df_won_vs_lost_cada_10_dias_perc[\"Lost\"],  df_won_vs_lost_cada_10_dias_perc[\"Won\"], labels=['Lost','Won'])\n",
    "plt.legend(loc='upper left')\n",
    "plt.margins(0,0)\n",
    "plt.title('Porcentaje de Lost VS Won por intervalos de 10 dias')\n",
    "plt.show()\n",
    "plt.tight_layout()\n",
    "plt.savefig(\"pngs/porcentaje-oportunidades-lost-won-por-intervalo-10-dias.png\")"
   ]
  },
  {
   "cell_type": "markdown",
   "metadata": {
    "id": "KsAxm2rkgzf0"
   },
   "source": [
    "### Cantidad de productos vendidos (Closed Won) segun la fuente de la creacion de la oportunidad"
   ]
  },
  {
   "cell_type": "code",
   "execution_count": 18,
   "metadata": {
    "colab": {
     "base_uri": "https://localhost:8080/",
     "height": 0
    },
    "id": "gnnZkaUKgzf1",
    "outputId": "5f83e788-030a-47b2-8493-a1faa704bb79"
   },
   "outputs": [
    {
     "data": {
      "text/html": [
       "<div>\n",
       "<style scoped>\n",
       "    .dataframe tbody tr th:only-of-type {\n",
       "        vertical-align: middle;\n",
       "    }\n",
       "\n",
       "    .dataframe tbody tr th {\n",
       "        vertical-align: top;\n",
       "    }\n",
       "\n",
       "    .dataframe thead th {\n",
       "        text-align: right;\n",
       "    }\n",
       "</style>\n",
       "<table border=\"1\" class=\"dataframe\">\n",
       "  <thead>\n",
       "    <tr style=\"text-align: right;\">\n",
       "      <th></th>\n",
       "      <th>Source</th>\n",
       "      <th>Ventas</th>\n",
       "    </tr>\n",
       "  </thead>\n",
       "  <tbody>\n",
       "    <tr>\n",
       "      <th>8</th>\n",
       "      <td>Source_7</td>\n",
       "      <td>1393</td>\n",
       "    </tr>\n",
       "    <tr>\n",
       "      <th>2</th>\n",
       "      <td>Source_11</td>\n",
       "      <td>916</td>\n",
       "    </tr>\n",
       "    <tr>\n",
       "      <th>9</th>\n",
       "      <td>Source_9</td>\n",
       "      <td>839</td>\n",
       "    </tr>\n",
       "    <tr>\n",
       "      <th>3</th>\n",
       "      <td>Source_13</td>\n",
       "      <td>587</td>\n",
       "    </tr>\n",
       "    <tr>\n",
       "      <th>5</th>\n",
       "      <td>Source_3</td>\n",
       "      <td>210</td>\n",
       "    </tr>\n",
       "    <tr>\n",
       "      <th>0</th>\n",
       "      <td>Source_1</td>\n",
       "      <td>48</td>\n",
       "    </tr>\n",
       "    <tr>\n",
       "      <th>1</th>\n",
       "      <td>Source_10</td>\n",
       "      <td>36</td>\n",
       "    </tr>\n",
       "    <tr>\n",
       "      <th>4</th>\n",
       "      <td>Source_2</td>\n",
       "      <td>30</td>\n",
       "    </tr>\n",
       "    <tr>\n",
       "      <th>6</th>\n",
       "      <td>Source_4</td>\n",
       "      <td>19</td>\n",
       "    </tr>\n",
       "    <tr>\n",
       "      <th>7</th>\n",
       "      <td>Source_6</td>\n",
       "      <td>5</td>\n",
       "    </tr>\n",
       "  </tbody>\n",
       "</table>\n",
       "</div>"
      ],
      "text/plain": [
       "      Source  Ventas\n",
       "8   Source_7    1393\n",
       "2  Source_11     916\n",
       "9   Source_9     839\n",
       "3  Source_13     587\n",
       "5   Source_3     210\n",
       "0   Source_1      48\n",
       "1  Source_10      36\n",
       "4   Source_2      30\n",
       "6   Source_4      19\n",
       "7   Source_6       5"
      ]
     },
     "execution_count": 18,
     "metadata": {},
     "output_type": "execute_result"
    }
   ],
   "source": [
    "df_close_won = df.loc[(df['Stage'] == 'Closed Won') & (df['Source '] != 'None')]\n",
    "df_close_won_x_source = df_close_won.groupby([\"Source \"]).agg({\"Stage\":'count'}).reset_index()\n",
    "df_close_won_x_source.columns = [\"Source\", \"Ventas\"]\n",
    "df_close_won_x_source = df_close_won_x_source.nlargest(10,\"Ventas\")\n",
    "df_close_won_x_source"
   ]
  },
  {
   "cell_type": "code",
   "execution_count": 41,
   "metadata": {
    "colab": {
     "base_uri": "https://localhost:8080/",
     "height": 0
    },
    "id": "ANCPy9fMgzf5",
    "outputId": "5287365f-5f50-4c08-cf62-d88f2554d60c"
   },
   "outputs": [
    {
     "data": {
      "image/png": "[encoded data removed]",
      "text/plain": [
       "<Figure size 1080x504 with 1 Axes>"
      ]
     },
     "metadata": {
      "needs_background": "light"
     },
     "output_type": "display_data"
    }
   ],
   "source": [
    "fig, ax = plt.subplots(figsize = (15, 7))\n",
    "g = sns.barplot(x=df_close_won_x_source['Source'], y=df_close_won_x_source['Ventas'], orient='v',ax = ax,)\n",
    "g.set_title(\"Fuentes con mayor cantidad de Ventas\", fontsize=15)\n",
    "g.set_xlabel(\"Fuentes\", fontsize=12)\n",
    "g.set_ylabel(\"Ventas\", fontsize=12)\n",
    "plt.tight_layout()\n",
    "plt.savefig(\"pngs/fuentes-mayor-cantidad-ventas.png\")"
   ]
  },
  {
   "cell_type": "markdown",
   "metadata": {
    "id": "VFACGFeWgzf8"
   },
   "source": [
    "### Cantidad de ventas (Closed Won) x trimestre por cada region"
   ]
  },
  {
   "cell_type": "code",
   "execution_count": 20,
   "metadata": {
    "colab": {
     "base_uri": "https://localhost:8080/",
     "height": 648
    },
    "id": "vaqZApKvgzf8",
    "outputId": "12ca7869-0798-45e7-d80a-f47a238c0e28"
   },
   "outputs": [
    {
     "data": {
      "text/html": [
       "<div>\n",
       "<style scoped>\n",
       "    .dataframe tbody tr th:only-of-type {\n",
       "        vertical-align: middle;\n",
       "    }\n",
       "\n",
       "    .dataframe tbody tr th {\n",
       "        vertical-align: top;\n",
       "    }\n",
       "\n",
       "    .dataframe thead th {\n",
       "        text-align: right;\n",
       "    }\n",
       "</style>\n",
       "<table border=\"1\" class=\"dataframe\">\n",
       "  <thead>\n",
       "    <tr style=\"text-align: right;\">\n",
       "      <th></th>\n",
       "      <th>Region</th>\n",
       "      <th>Trimestre</th>\n",
       "      <th>Ventas</th>\n",
       "    </tr>\n",
       "  </thead>\n",
       "  <tbody>\n",
       "    <tr>\n",
       "      <th>0</th>\n",
       "      <td>APAC</td>\n",
       "      <td>Q1</td>\n",
       "      <td>401</td>\n",
       "    </tr>\n",
       "    <tr>\n",
       "      <th>1</th>\n",
       "      <td>APAC</td>\n",
       "      <td>Q2</td>\n",
       "      <td>462</td>\n",
       "    </tr>\n",
       "    <tr>\n",
       "      <th>2</th>\n",
       "      <td>APAC</td>\n",
       "      <td>Q3</td>\n",
       "      <td>500</td>\n",
       "    </tr>\n",
       "    <tr>\n",
       "      <th>3</th>\n",
       "      <td>APAC</td>\n",
       "      <td>Q4</td>\n",
       "      <td>533</td>\n",
       "    </tr>\n",
       "    <tr>\n",
       "      <th>4</th>\n",
       "      <td>Americas</td>\n",
       "      <td>Q1</td>\n",
       "      <td>358</td>\n",
       "    </tr>\n",
       "    <tr>\n",
       "      <th>5</th>\n",
       "      <td>Americas</td>\n",
       "      <td>Q2</td>\n",
       "      <td>458</td>\n",
       "    </tr>\n",
       "    <tr>\n",
       "      <th>6</th>\n",
       "      <td>Americas</td>\n",
       "      <td>Q3</td>\n",
       "      <td>432</td>\n",
       "    </tr>\n",
       "    <tr>\n",
       "      <th>7</th>\n",
       "      <td>Americas</td>\n",
       "      <td>Q4</td>\n",
       "      <td>545</td>\n",
       "    </tr>\n",
       "    <tr>\n",
       "      <th>8</th>\n",
       "      <td>EMEA</td>\n",
       "      <td>Q1</td>\n",
       "      <td>603</td>\n",
       "    </tr>\n",
       "    <tr>\n",
       "      <th>9</th>\n",
       "      <td>EMEA</td>\n",
       "      <td>Q2</td>\n",
       "      <td>716</td>\n",
       "    </tr>\n",
       "    <tr>\n",
       "      <th>10</th>\n",
       "      <td>EMEA</td>\n",
       "      <td>Q3</td>\n",
       "      <td>609</td>\n",
       "    </tr>\n",
       "    <tr>\n",
       "      <th>11</th>\n",
       "      <td>EMEA</td>\n",
       "      <td>Q4</td>\n",
       "      <td>543</td>\n",
       "    </tr>\n",
       "    <tr>\n",
       "      <th>12</th>\n",
       "      <td>Japan</td>\n",
       "      <td>Q1</td>\n",
       "      <td>822</td>\n",
       "    </tr>\n",
       "    <tr>\n",
       "      <th>13</th>\n",
       "      <td>Japan</td>\n",
       "      <td>Q2</td>\n",
       "      <td>879</td>\n",
       "    </tr>\n",
       "    <tr>\n",
       "      <th>14</th>\n",
       "      <td>Japan</td>\n",
       "      <td>Q3</td>\n",
       "      <td>651</td>\n",
       "    </tr>\n",
       "    <tr>\n",
       "      <th>15</th>\n",
       "      <td>Japan</td>\n",
       "      <td>Q4</td>\n",
       "      <td>971</td>\n",
       "    </tr>\n",
       "    <tr>\n",
       "      <th>16</th>\n",
       "      <td>Middle East</td>\n",
       "      <td>Q1</td>\n",
       "      <td>10</td>\n",
       "    </tr>\n",
       "    <tr>\n",
       "      <th>17</th>\n",
       "      <td>Middle East</td>\n",
       "      <td>Q2</td>\n",
       "      <td>3</td>\n",
       "    </tr>\n",
       "    <tr>\n",
       "      <th>18</th>\n",
       "      <td>Middle East</td>\n",
       "      <td>Q3</td>\n",
       "      <td>26</td>\n",
       "    </tr>\n",
       "    <tr>\n",
       "      <th>19</th>\n",
       "      <td>Middle East</td>\n",
       "      <td>Q4</td>\n",
       "      <td>11</td>\n",
       "    </tr>\n",
       "  </tbody>\n",
       "</table>\n",
       "</div>"
      ],
      "text/plain": [
       "         Region Trimestre  Ventas\n",
       "0          APAC        Q1     401\n",
       "1          APAC        Q2     462\n",
       "2          APAC        Q3     500\n",
       "3          APAC        Q4     533\n",
       "4      Americas        Q1     358\n",
       "5      Americas        Q2     458\n",
       "6      Americas        Q3     432\n",
       "7      Americas        Q4     545\n",
       "8          EMEA        Q1     603\n",
       "9          EMEA        Q2     716\n",
       "10         EMEA        Q3     609\n",
       "11         EMEA        Q4     543\n",
       "12        Japan        Q1     822\n",
       "13        Japan        Q2     879\n",
       "14        Japan        Q3     651\n",
       "15        Japan        Q4     971\n",
       "16  Middle East        Q1      10\n",
       "17  Middle East        Q2       3\n",
       "18  Middle East        Q3      26\n",
       "19  Middle East        Q4      11"
      ]
     },
     "execution_count": 20,
     "metadata": {},
     "output_type": "execute_result"
    }
   ],
   "source": [
    "df_x_region_x_trim = df[df['Stage'] == 'Closed Won'].groupby([\"Region\",\"Delivery_Quarter\"]).agg({\"ID\": 'count'}).reset_index()\n",
    "df_x_region_x_trim.columns = [\"Region\", \"Trimestre\", \"Ventas\"]\n",
    "df_x_region_x_trim"
   ]
  },
  {
   "cell_type": "code",
   "execution_count": 21,
   "metadata": {
    "colab": {
     "base_uri": "https://localhost:8080/",
     "height": 565
    },
    "id": "qha4_Jdagzf_",
    "outputId": "f87d3334-adfb-4826-cbd6-904eb8dca013"
   },
   "outputs": [
    {
     "data": {
      "image/png": "[encoded data removed]",
      "text/plain": [
       "<Figure size 1080x720 with 1 Axes>"
      ]
     },
     "metadata": {
      "needs_background": "light"
     },
     "output_type": "display_data"
    }
   ],
   "source": [
    "fig,ax=plt.subplots(figsize=(15,10))\n",
    "\n",
    "plt.grid(True)\n",
    "g = sns.barplot(ax=ax,data=df_x_region_x_trim,x='Region',y='Ventas',palette='CMRmap',alpha=1,hue='Trimestre')\n",
    "g.set_title('Cantidad de ventas por trimestre en cada region\\n',size=35)\n",
    "g.set_xlabel('Region',size=25)\n",
    "g.set_ylabel('Ventas',size=25)\n",
    "g.legend(title='Trimestre')\n",
    "\n",
    "plt.tight_layout()\n",
    "plt.savefig(\"pngs/venta-region-Qn.png\")"
   ]
  },
  {
   "cell_type": "markdown",
   "metadata": {
    "id": "IaZNmdYLgzgD"
   },
   "source": [
    "### Relacion Won/Lost con y sin permiso de precio, por cada region"
   ]
  },
  {
   "cell_type": "code",
   "execution_count": 22,
   "metadata": {
    "colab": {
     "base_uri": "https://localhost:8080/",
     "height": 0
    },
    "id": "W_Rj-gDbgzgD",
    "outputId": "4ff4d774-984e-4c96-ec45-ae237d656fb6"
   },
   "outputs": [
    {
     "data": {
      "text/html": [
       "<div>\n",
       "<style scoped>\n",
       "    .dataframe tbody tr th:only-of-type {\n",
       "        vertical-align: middle;\n",
       "    }\n",
       "\n",
       "    .dataframe tbody tr th {\n",
       "        vertical-align: top;\n",
       "    }\n",
       "\n",
       "    .dataframe thead th {\n",
       "        text-align: right;\n",
       "    }\n",
       "</style>\n",
       "<table border=\"1\" class=\"dataframe\">\n",
       "  <thead>\n",
       "    <tr style=\"text-align: right;\">\n",
       "      <th></th>\n",
       "      <th>Region</th>\n",
       "      <th>Pricing, Delivery_Terms_Quote_Appr</th>\n",
       "      <th>Pricing, Delivery_Terms_Approved</th>\n",
       "      <th>Stage</th>\n",
       "      <th>ID</th>\n",
       "      <th>Total</th>\n",
       "      <th>Porcentaje</th>\n",
       "    </tr>\n",
       "  </thead>\n",
       "  <tbody>\n",
       "    <tr>\n",
       "      <th>0</th>\n",
       "      <td>APAC</td>\n",
       "      <td>1</td>\n",
       "      <td>0</td>\n",
       "      <td>Closed Lost</td>\n",
       "      <td>305</td>\n",
       "      <td>423</td>\n",
       "      <td>0.72104</td>\n",
       "    </tr>\n",
       "    <tr>\n",
       "      <th>1</th>\n",
       "      <td>APAC</td>\n",
       "      <td>1</td>\n",
       "      <td>0</td>\n",
       "      <td>Closed Won</td>\n",
       "      <td>118</td>\n",
       "      <td>423</td>\n",
       "      <td>0.27896</td>\n",
       "    </tr>\n",
       "    <tr>\n",
       "      <th>2</th>\n",
       "      <td>APAC</td>\n",
       "      <td>1</td>\n",
       "      <td>1</td>\n",
       "      <td>Closed Lost</td>\n",
       "      <td>362</td>\n",
       "      <td>976</td>\n",
       "      <td>0.370902</td>\n",
       "    </tr>\n",
       "    <tr>\n",
       "      <th>3</th>\n",
       "      <td>APAC</td>\n",
       "      <td>1</td>\n",
       "      <td>1</td>\n",
       "      <td>Closed Won</td>\n",
       "      <td>614</td>\n",
       "      <td>976</td>\n",
       "      <td>0.629098</td>\n",
       "    </tr>\n",
       "    <tr>\n",
       "      <th>4</th>\n",
       "      <td>Americas</td>\n",
       "      <td>1</td>\n",
       "      <td>0</td>\n",
       "      <td>Closed Lost</td>\n",
       "      <td>448</td>\n",
       "      <td>619</td>\n",
       "      <td>0.723748</td>\n",
       "    </tr>\n",
       "    <tr>\n",
       "      <th>5</th>\n",
       "      <td>Americas</td>\n",
       "      <td>1</td>\n",
       "      <td>0</td>\n",
       "      <td>Closed Won</td>\n",
       "      <td>171</td>\n",
       "      <td>619</td>\n",
       "      <td>0.276252</td>\n",
       "    </tr>\n",
       "    <tr>\n",
       "      <th>6</th>\n",
       "      <td>Americas</td>\n",
       "      <td>1</td>\n",
       "      <td>1</td>\n",
       "      <td>Closed Lost</td>\n",
       "      <td>649</td>\n",
       "      <td>1133</td>\n",
       "      <td>0.572816</td>\n",
       "    </tr>\n",
       "    <tr>\n",
       "      <th>7</th>\n",
       "      <td>Americas</td>\n",
       "      <td>1</td>\n",
       "      <td>1</td>\n",
       "      <td>Closed Won</td>\n",
       "      <td>484</td>\n",
       "      <td>1133</td>\n",
       "      <td>0.427184</td>\n",
       "    </tr>\n",
       "    <tr>\n",
       "      <th>8</th>\n",
       "      <td>EMEA</td>\n",
       "      <td>1</td>\n",
       "      <td>0</td>\n",
       "      <td>Closed Lost</td>\n",
       "      <td>365</td>\n",
       "      <td>577</td>\n",
       "      <td>0.632582</td>\n",
       "    </tr>\n",
       "    <tr>\n",
       "      <th>9</th>\n",
       "      <td>EMEA</td>\n",
       "      <td>1</td>\n",
       "      <td>0</td>\n",
       "      <td>Closed Won</td>\n",
       "      <td>212</td>\n",
       "      <td>577</td>\n",
       "      <td>0.367418</td>\n",
       "    </tr>\n",
       "    <tr>\n",
       "      <th>10</th>\n",
       "      <td>EMEA</td>\n",
       "      <td>1</td>\n",
       "      <td>1</td>\n",
       "      <td>Closed Lost</td>\n",
       "      <td>1044</td>\n",
       "      <td>1881</td>\n",
       "      <td>0.555024</td>\n",
       "    </tr>\n",
       "    <tr>\n",
       "      <th>11</th>\n",
       "      <td>EMEA</td>\n",
       "      <td>1</td>\n",
       "      <td>1</td>\n",
       "      <td>Closed Won</td>\n",
       "      <td>837</td>\n",
       "      <td>1881</td>\n",
       "      <td>0.444976</td>\n",
       "    </tr>\n",
       "    <tr>\n",
       "      <th>12</th>\n",
       "      <td>Japan</td>\n",
       "      <td>1</td>\n",
       "      <td>0</td>\n",
       "      <td>Closed Lost</td>\n",
       "      <td>384</td>\n",
       "      <td>437</td>\n",
       "      <td>0.878719</td>\n",
       "    </tr>\n",
       "    <tr>\n",
       "      <th>13</th>\n",
       "      <td>Japan</td>\n",
       "      <td>1</td>\n",
       "      <td>0</td>\n",
       "      <td>Closed Won</td>\n",
       "      <td>53</td>\n",
       "      <td>437</td>\n",
       "      <td>0.121281</td>\n",
       "    </tr>\n",
       "    <tr>\n",
       "      <th>14</th>\n",
       "      <td>Japan</td>\n",
       "      <td>1</td>\n",
       "      <td>1</td>\n",
       "      <td>Closed Lost</td>\n",
       "      <td>177</td>\n",
       "      <td>1280</td>\n",
       "      <td>0.138281</td>\n",
       "    </tr>\n",
       "    <tr>\n",
       "      <th>15</th>\n",
       "      <td>Japan</td>\n",
       "      <td>1</td>\n",
       "      <td>1</td>\n",
       "      <td>Closed Won</td>\n",
       "      <td>1103</td>\n",
       "      <td>1280</td>\n",
       "      <td>0.861719</td>\n",
       "    </tr>\n",
       "    <tr>\n",
       "      <th>16</th>\n",
       "      <td>Middle East</td>\n",
       "      <td>1</td>\n",
       "      <td>0</td>\n",
       "      <td>Closed Lost</td>\n",
       "      <td>19</td>\n",
       "      <td>24</td>\n",
       "      <td>0.791667</td>\n",
       "    </tr>\n",
       "    <tr>\n",
       "      <th>17</th>\n",
       "      <td>Middle East</td>\n",
       "      <td>1</td>\n",
       "      <td>0</td>\n",
       "      <td>Closed Won</td>\n",
       "      <td>5</td>\n",
       "      <td>24</td>\n",
       "      <td>0.208333</td>\n",
       "    </tr>\n",
       "    <tr>\n",
       "      <th>18</th>\n",
       "      <td>Middle East</td>\n",
       "      <td>1</td>\n",
       "      <td>1</td>\n",
       "      <td>Closed Lost</td>\n",
       "      <td>86</td>\n",
       "      <td>114</td>\n",
       "      <td>0.754386</td>\n",
       "    </tr>\n",
       "    <tr>\n",
       "      <th>19</th>\n",
       "      <td>Middle East</td>\n",
       "      <td>1</td>\n",
       "      <td>1</td>\n",
       "      <td>Closed Won</td>\n",
       "      <td>28</td>\n",
       "      <td>114</td>\n",
       "      <td>0.245614</td>\n",
       "    </tr>\n",
       "  </tbody>\n",
       "</table>\n",
       "</div>"
      ],
      "text/plain": [
       "         Region  Pricing, Delivery_Terms_Quote_Appr  \\\n",
       "0          APAC                                   1   \n",
       "1          APAC                                   1   \n",
       "2          APAC                                   1   \n",
       "3          APAC                                   1   \n",
       "4      Americas                                   1   \n",
       "5      Americas                                   1   \n",
       "6      Americas                                   1   \n",
       "7      Americas                                   1   \n",
       "8          EMEA                                   1   \n",
       "9          EMEA                                   1   \n",
       "10         EMEA                                   1   \n",
       "11         EMEA                                   1   \n",
       "12        Japan                                   1   \n",
       "13        Japan                                   1   \n",
       "14        Japan                                   1   \n",
       "15        Japan                                   1   \n",
       "16  Middle East                                   1   \n",
       "17  Middle East                                   1   \n",
       "18  Middle East                                   1   \n",
       "19  Middle East                                   1   \n",
       "\n",
       "    Pricing, Delivery_Terms_Approved        Stage    ID Total Porcentaje  \n",
       "0                                  0  Closed Lost   305   423    0.72104  \n",
       "1                                  0   Closed Won   118   423    0.27896  \n",
       "2                                  1  Closed Lost   362   976   0.370902  \n",
       "3                                  1   Closed Won   614   976   0.629098  \n",
       "4                                  0  Closed Lost   448   619   0.723748  \n",
       "5                                  0   Closed Won   171   619   0.276252  \n",
       "6                                  1  Closed Lost   649  1133   0.572816  \n",
       "7                                  1   Closed Won   484  1133   0.427184  \n",
       "8                                  0  Closed Lost   365   577   0.632582  \n",
       "9                                  0   Closed Won   212   577   0.367418  \n",
       "10                                 1  Closed Lost  1044  1881   0.555024  \n",
       "11                                 1   Closed Won   837  1881   0.444976  \n",
       "12                                 0  Closed Lost   384   437   0.878719  \n",
       "13                                 0   Closed Won    53   437   0.121281  \n",
       "14                                 1  Closed Lost   177  1280   0.138281  \n",
       "15                                 1   Closed Won  1103  1280   0.861719  \n",
       "16                                 0  Closed Lost    19    24   0.791667  \n",
       "17                                 0   Closed Won     5    24   0.208333  \n",
       "18                                 1  Closed Lost    86   114   0.754386  \n",
       "19                                 1   Closed Won    28   114   0.245614  "
      ]
     },
     "execution_count": 22,
     "metadata": {},
     "output_type": "execute_result"
    }
   ],
   "source": [
    "df_x_region_x_permiso_price = df[((df[\"Stage\"] == \"Closed Won\") | (df[\"Stage\"] == \"Closed Lost\")) & (df[\"Pricing, Delivery_Terms_Quote_Appr\"] == 1)].groupby([\"Region\", \"Pricing, Delivery_Terms_Quote_Appr\",\"Pricing, Delivery_Terms_Approved\", \"Stage\", \"Opportunity_ID\"]).agg({\"ID\": 'count'}).reset_index()\n",
    "df_x_region_x_permiso_price = df_x_region_x_permiso_price.groupby([\"Region\", \"Pricing, Delivery_Terms_Quote_Appr\",\"Pricing, Delivery_Terms_Approved\", \"Stage\"]).agg({\"ID\": 'count'}).reset_index()\n",
    "df_x_region_x_permiso_price[\"Total\"] = df_x_region_x_permiso_price.groupby([\"Region\", \"Pricing, Delivery_Terms_Quote_Appr\",\"Pricing, Delivery_Terms_Approved\"]).transform('sum')[\"ID\"]\n",
    "df_x_region_x_permiso_price[\"Porcentaje\"] = df_x_region_x_permiso_price[\"ID\"] / df_x_region_x_permiso_price[\"Total\"]\n",
    "df_x_region_x_permiso_price"
   ]
  },
  {
   "cell_type": "code",
   "execution_count": 23,
   "metadata": {
    "id": "XSJpMWnFgzgG"
   },
   "outputs": [],
   "source": [
    "df_closed_won_sin_permiso = df_x_region_x_permiso_price.loc[(df_x_region_x_permiso_price[\"Stage\"] == \"Closed Won\") & \\\n",
    "                                (df_x_region_x_permiso_price[\"Pricing, Delivery_Terms_Quote_Appr\"] == 1) & \\\n",
    "                                (df_x_region_x_permiso_price[\"Pricing, Delivery_Terms_Approved\"] == 0) \\\n",
    "                                ,\"Porcentaje\"]\n",
    "df_closed_lost_sin_permiso = df_x_region_x_permiso_price.loc[(df_x_region_x_permiso_price[\"Stage\"] == \"Closed Lost\") & \\\n",
    "                                (df_x_region_x_permiso_price[\"Pricing, Delivery_Terms_Quote_Appr\"] == 1) & \\\n",
    "                                (df_x_region_x_permiso_price[\"Pricing, Delivery_Terms_Approved\"] == 0) \\\n",
    "                                ,\"Porcentaje\"]\n",
    "df_closed_won_con_permiso = df_x_region_x_permiso_price.loc[(df_x_region_x_permiso_price[\"Stage\"] == \"Closed Won\") & \\\n",
    "                                (df_x_region_x_permiso_price[\"Pricing, Delivery_Terms_Quote_Appr\"] == 1) & \\\n",
    "                                (df_x_region_x_permiso_price[\"Pricing, Delivery_Terms_Approved\"] == 1) \\\n",
    "                                ,\"Porcentaje\"]\n",
    "df_closed_lost_con_permiso = df_x_region_x_permiso_price.loc[(df_x_region_x_permiso_price[\"Stage\"] == \"Closed Lost\") & \\\n",
    "                                (df_x_region_x_permiso_price[\"Pricing, Delivery_Terms_Quote_Appr\"] == 1) & \\\n",
    "                                (df_x_region_x_permiso_price[\"Pricing, Delivery_Terms_Approved\"] == 1) \\\n",
    "                                ,\"Porcentaje\"]"
   ]
  },
  {
   "cell_type": "code",
   "execution_count": 42,
   "metadata": {
    "colab": {
     "base_uri": "https://localhost:8080/",
     "height": 0
    },
    "id": "NxUBfgvagzgI",
    "outputId": "0c438041-a8f1-4c29-fdd2-89dbe6e1c473"
   },
   "outputs": [
    {
     "data": {
      "image/png": "[encoded data removed]",
      "text/plain": [
       "<Figure size 1080x720 with 1 Axes>"
      ]
     },
     "metadata": {
      "needs_background": "light"
     },
     "output_type": "display_data"
    },
    {
     "data": {
      "text/plain": [
       "<Figure size 432x288 with 0 Axes>"
      ]
     },
     "metadata": {},
     "output_type": "display_data"
    }
   ],
   "source": [
    "# Seteos grales del grafico\n",
    "fig,ax=plt.subplots(figsize=(15,10))\n",
    "barWidth = 0.25\n",
    " \n",
    "# Seteo de lista de datos\n",
    "barsWonSinPermiso = df_closed_won_sin_permiso\n",
    "barsWonConPermiso = df_closed_won_con_permiso\n",
    "barsLostSinPermiso = df_closed_lost_sin_permiso\n",
    "barsLostConPermiso = df_closed_lost_con_permiso\n",
    " \n",
    "# Seteo posiciones de barras\n",
    "r1 = np.arange(len(barsWonSinPermiso))\n",
    "r2 = [x + barWidth for x in r1]\n",
    " \n",
    "# Genero Grafico\n",
    "plt.bar(r1, barsWonSinPermiso, color='#00C2A8', width=barWidth, edgecolor='white', label='Ganadas Sin Aprobacion')\n",
    "plt.bar(r1, barsLostSinPermiso, bottom=barsWonSinPermiso, color='#FF8066', width=barWidth, edgecolor='white', label='Perdidas Sin Aprobacion')\n",
    "plt.bar(r2, barsWonConPermiso, color='#008B74', width=barWidth, edgecolor='white', label='Ganadas Con Abrobacion')\n",
    "plt.bar(r2, barsLostConPermiso, bottom=barsWonConPermiso, color='#C34A36', width=barWidth, edgecolor='white', label='Perdidas Con Aprobacion')\n",
    " \n",
    "# Seteo descripcion de ejes\n",
    "plt.xlabel('Region', fontweight='bold',size=15)\n",
    "plt.ylabel('Proporcion', fontweight='bold',size=15)\n",
    "plt.xticks([r + barWidth/2 for r in range(5)], df_x_region_x_permiso_price[\"Region\"].unique())\n",
    " \n",
    "# Muestro grafico\n",
    "plt.title('Relacion Won/Lost para cada region\\ncon y sin aprobacion de precio\\n',size=30)\n",
    "plt.legend()\n",
    "\n",
    "plt.tight_layout()\n",
    "#plt.savefig(\"pngs/region-aprob-stage.png\")\n",
    "plt.show()\n",
    "plt.tight_layout()\n",
    "plt.savefig(\"pngs/relacion-lost-won-por-region-segun-aprobacion-precio.png\")"
   ]
  },
  {
   "cell_type": "markdown",
   "metadata": {
    "id": "EQbTauPqgzgL"
   },
   "source": [
    "### Relacion Won/Lost con y sin codigo burocratico conseguido, por cada region"
   ]
  },
  {
   "cell_type": "code",
   "execution_count": 25,
   "metadata": {
    "colab": {
     "base_uri": "https://localhost:8080/",
     "height": 521
    },
    "id": "kJXfsablgzgL",
    "outputId": "e4c79772-c92f-4c7d-f6f3-9d58e48899c2"
   },
   "outputs": [
    {
     "data": {
      "text/html": [
       "<div>\n",
       "<style scoped>\n",
       "    .dataframe tbody tr th:only-of-type {\n",
       "        vertical-align: middle;\n",
       "    }\n",
       "\n",
       "    .dataframe tbody tr th {\n",
       "        vertical-align: top;\n",
       "    }\n",
       "\n",
       "    .dataframe thead th {\n",
       "        text-align: right;\n",
       "    }\n",
       "</style>\n",
       "<table border=\"1\" class=\"dataframe\">\n",
       "  <thead>\n",
       "    <tr style=\"text-align: right;\">\n",
       "      <th></th>\n",
       "      <th>Region</th>\n",
       "      <th>Bureaucratic_Code_0_Approval</th>\n",
       "      <th>Bureaucratic_Code_0_Approved</th>\n",
       "      <th>Stage</th>\n",
       "      <th>ID</th>\n",
       "      <th>Total</th>\n",
       "      <th>Porcentaje</th>\n",
       "    </tr>\n",
       "  </thead>\n",
       "  <tbody>\n",
       "    <tr>\n",
       "      <th>0</th>\n",
       "      <td>APAC</td>\n",
       "      <td>1</td>\n",
       "      <td>0</td>\n",
       "      <td>Closed Lost</td>\n",
       "      <td>299</td>\n",
       "      <td>405</td>\n",
       "      <td>0.738272</td>\n",
       "    </tr>\n",
       "    <tr>\n",
       "      <th>1</th>\n",
       "      <td>APAC</td>\n",
       "      <td>1</td>\n",
       "      <td>0</td>\n",
       "      <td>Closed Won</td>\n",
       "      <td>106</td>\n",
       "      <td>405</td>\n",
       "      <td>0.261728</td>\n",
       "    </tr>\n",
       "    <tr>\n",
       "      <th>2</th>\n",
       "      <td>APAC</td>\n",
       "      <td>1</td>\n",
       "      <td>1</td>\n",
       "      <td>Closed Lost</td>\n",
       "      <td>296</td>\n",
       "      <td>826</td>\n",
       "      <td>0.358354</td>\n",
       "    </tr>\n",
       "    <tr>\n",
       "      <th>3</th>\n",
       "      <td>APAC</td>\n",
       "      <td>1</td>\n",
       "      <td>1</td>\n",
       "      <td>Closed Won</td>\n",
       "      <td>530</td>\n",
       "      <td>826</td>\n",
       "      <td>0.641646</td>\n",
       "    </tr>\n",
       "    <tr>\n",
       "      <th>4</th>\n",
       "      <td>Americas</td>\n",
       "      <td>1</td>\n",
       "      <td>0</td>\n",
       "      <td>Closed Lost</td>\n",
       "      <td>411</td>\n",
       "      <td>538</td>\n",
       "      <td>0.763941</td>\n",
       "    </tr>\n",
       "    <tr>\n",
       "      <th>5</th>\n",
       "      <td>Americas</td>\n",
       "      <td>1</td>\n",
       "      <td>0</td>\n",
       "      <td>Closed Won</td>\n",
       "      <td>127</td>\n",
       "      <td>538</td>\n",
       "      <td>0.236059</td>\n",
       "    </tr>\n",
       "    <tr>\n",
       "      <th>6</th>\n",
       "      <td>Americas</td>\n",
       "      <td>1</td>\n",
       "      <td>1</td>\n",
       "      <td>Closed Lost</td>\n",
       "      <td>491</td>\n",
       "      <td>768</td>\n",
       "      <td>0.639323</td>\n",
       "    </tr>\n",
       "    <tr>\n",
       "      <th>7</th>\n",
       "      <td>Americas</td>\n",
       "      <td>1</td>\n",
       "      <td>1</td>\n",
       "      <td>Closed Won</td>\n",
       "      <td>277</td>\n",
       "      <td>768</td>\n",
       "      <td>0.360677</td>\n",
       "    </tr>\n",
       "    <tr>\n",
       "      <th>8</th>\n",
       "      <td>EMEA</td>\n",
       "      <td>1</td>\n",
       "      <td>0</td>\n",
       "      <td>Closed Lost</td>\n",
       "      <td>295</td>\n",
       "      <td>423</td>\n",
       "      <td>0.6974</td>\n",
       "    </tr>\n",
       "    <tr>\n",
       "      <th>9</th>\n",
       "      <td>EMEA</td>\n",
       "      <td>1</td>\n",
       "      <td>0</td>\n",
       "      <td>Closed Won</td>\n",
       "      <td>128</td>\n",
       "      <td>423</td>\n",
       "      <td>0.3026</td>\n",
       "    </tr>\n",
       "  </tbody>\n",
       "</table>\n",
       "</div>"
      ],
      "text/plain": [
       "     Region  Bureaucratic_Code_0_Approval  Bureaucratic_Code_0_Approved  \\\n",
       "0      APAC                             1                             0   \n",
       "1      APAC                             1                             0   \n",
       "2      APAC                             1                             1   \n",
       "3      APAC                             1                             1   \n",
       "4  Americas                             1                             0   \n",
       "5  Americas                             1                             0   \n",
       "6  Americas                             1                             1   \n",
       "7  Americas                             1                             1   \n",
       "8      EMEA                             1                             0   \n",
       "9      EMEA                             1                             0   \n",
       "\n",
       "         Stage   ID Total Porcentaje  \n",
       "0  Closed Lost  299   405   0.738272  \n",
       "1   Closed Won  106   405   0.261728  \n",
       "2  Closed Lost  296   826   0.358354  \n",
       "3   Closed Won  530   826   0.641646  \n",
       "4  Closed Lost  411   538   0.763941  \n",
       "5   Closed Won  127   538   0.236059  \n",
       "6  Closed Lost  491   768   0.639323  \n",
       "7   Closed Won  277   768   0.360677  \n",
       "8  Closed Lost  295   423     0.6974  \n",
       "9   Closed Won  128   423     0.3026  "
      ]
     },
     "execution_count": 25,
     "metadata": {},
     "output_type": "execute_result"
    }
   ],
   "source": [
    "df_x_region_x_codigo_buroc = df[((df[\"Stage\"] == \"Closed Won\") | (df[\"Stage\"] == \"Closed Lost\")) & (df[\"Bureaucratic_Code_0_Approval\"] == 1)].groupby([\"Region\", \"Bureaucratic_Code_0_Approval\",\"Bureaucratic_Code_0_Approved\", \"Stage\", \"Opportunity_ID\"]).agg({\"ID\": 'count'}).reset_index()\n",
    "df_x_region_x_codigo_buroc = df_x_region_x_codigo_buroc.groupby([\"Region\", \"Bureaucratic_Code_0_Approval\",\"Bureaucratic_Code_0_Approved\", \"Stage\"]).agg({\"ID\": 'count'}).reset_index()\n",
    "df_x_region_x_codigo_buroc[\"Total\"] = df_x_region_x_codigo_buroc.groupby([\"Region\", \"Bureaucratic_Code_0_Approval\",\"Bureaucratic_Code_0_Approved\"]).transform('sum')[\"ID\"]\n",
    "df_x_region_x_codigo_buroc[\"Porcentaje\"] = df_x_region_x_codigo_buroc[\"ID\"] / df_x_region_x_codigo_buroc[\"Total\"]\n",
    "df_x_region_x_codigo_buroc.head(10)"
   ]
  },
  {
   "cell_type": "code",
   "execution_count": 26,
   "metadata": {
    "id": "KFCFnhd5gzgO"
   },
   "outputs": [],
   "source": [
    "df_closed_won_sin_codigo_buroc = df_x_region_x_codigo_buroc.loc[(df_x_region_x_codigo_buroc[\"Stage\"] == \"Closed Won\") & \\\n",
    "                                (df_x_region_x_codigo_buroc[\"Bureaucratic_Code_0_Approval\"] == 1) & \\\n",
    "                                (df_x_region_x_codigo_buroc[\"Bureaucratic_Code_0_Approved\"] == 0) \\\n",
    "                                ,\"Porcentaje\"]\n",
    "df_closed_lost_sin_codigo_buroc = df_x_region_x_codigo_buroc.loc[(df_x_region_x_codigo_buroc[\"Stage\"] == \"Closed Lost\") & \\\n",
    "                                (df_x_region_x_codigo_buroc[\"Bureaucratic_Code_0_Approval\"] == 1) & \\\n",
    "                                (df_x_region_x_codigo_buroc[\"Bureaucratic_Code_0_Approved\"] == 0) \\\n",
    "                                ,\"Porcentaje\"]\n",
    "df_closed_won_con_codigo_buroc = df_x_region_x_codigo_buroc.loc[(df_x_region_x_codigo_buroc[\"Stage\"] == \"Closed Won\") & \\\n",
    "                                (df_x_region_x_codigo_buroc[\"Bureaucratic_Code_0_Approval\"] == 1) & \\\n",
    "                                (df_x_region_x_codigo_buroc[\"Bureaucratic_Code_0_Approved\"] == 1) \\\n",
    "                                ,\"Porcentaje\"]\n",
    "df_closed_lost_con_codigo_buroc = df_x_region_x_codigo_buroc.loc[(df_x_region_x_codigo_buroc[\"Stage\"] == \"Closed Lost\") & \\\n",
    "                                (df_x_region_x_codigo_buroc[\"Bureaucratic_Code_0_Approval\"] == 1) & \\\n",
    "                                (df_x_region_x_codigo_buroc[\"Bureaucratic_Code_0_Approved\"] == 1) \\\n",
    "                                ,\"Porcentaje\"]"
   ]
  },
  {
   "cell_type": "code",
   "execution_count": 43,
   "metadata": {
    "colab": {
     "base_uri": "https://localhost:8080/",
     "height": 425
    },
    "id": "-EN4J9xEgzgU",
    "outputId": "0f5e8de9-81b3-4839-925c-bac6de8128bf"
   },
   "outputs": [
    {
     "data": {
      "image/png": "[encoded data removed]",
      "text/plain": [
       "<Figure size 1080x720 with 1 Axes>"
      ]
     },
     "metadata": {
      "needs_background": "light"
     },
     "output_type": "display_data"
    },
    {
     "data": {
      "text/plain": [
       "<Figure size 432x288 with 0 Axes>"
      ]
     },
     "metadata": {},
     "output_type": "display_data"
    }
   ],
   "source": [
    "# Seteos grales del grafico\n",
    "fig,ax=plt.subplots(figsize=(15,10))\n",
    "barWidth = 0.25\n",
    " \n",
    "# Seteo de lista de datos\n",
    "barsWonSinCodigo_buroc = df_closed_won_sin_codigo_buroc\n",
    "barsWonConCodigo_buroc = df_closed_won_con_codigo_buroc\n",
    "barsLostSinCodigo_buroc = df_closed_lost_sin_codigo_buroc\n",
    "barsLostConCodigo_buroc = df_closed_lost_con_codigo_buroc\n",
    " \n",
    "# Seteo posiciones de barras\n",
    "r1 = np.arange(len(barsWonSinCodigo_buroc))\n",
    "r2 = [x + barWidth for x in r1]\n",
    " \n",
    "# Genero Grafico\n",
    "plt.bar(r1, barsWonSinCodigo_buroc, color='#00C2A8', width=barWidth, edgecolor='white', label='Ganadas Sin Codigo Burocratico')\n",
    "plt.bar(r1, barsLostSinCodigo_buroc, bottom=barsWonSinCodigo_buroc, color='#FF8066', width=barWidth, edgecolor='white', label='Perdidas Sin Codigo Burocratico')\n",
    "plt.bar(r2, barsWonConCodigo_buroc, color='#008B74', width=barWidth, edgecolor='white', label='Ganadas Con Codigo Burocratico')\n",
    "plt.bar(r2, barsLostConCodigo_buroc, bottom=barsWonConCodigo_buroc, color='#C34A36', width=barWidth, edgecolor='white', label='Perdidas Con Codigo Burocratico')\n",
    " \n",
    "# Seteo descripcion de ejes\n",
    "plt.xlabel('Region', fontweight='bold')\n",
    "plt.xticks([r + barWidth/2 for r in range(5)], df_x_region_x_codigo_buroc[\"Region\"].unique())\n",
    "plt.ylabel('Proporcion', fontweight='bold')\n",
    " \n",
    "# Muestro grafico\n",
    "plt.title('Relacion Won/Lost con y sin codigo burocratico conseguido, por region',size=35)\n",
    "plt.legend()\n",
    "plt.show()\n",
    "\n",
    "plt.tight_layout()\n",
    "plt.savefig(\"pngs/relacion-lost-won-por-region-segun-aprobacion-codigo-burocratico.png\")"
   ]
  },
  {
   "cell_type": "code",
   "execution_count": 28,
   "metadata": {
    "id": "GLwf-Yrogzga"
   },
   "outputs": [],
   "source": [
    "### Top 10 de tipos de oportunidad con mayor cantidad de ventas"
   ]
  },
  {
   "cell_type": "code",
   "execution_count": 29,
   "metadata": {
    "colab": {
     "base_uri": "https://localhost:8080/",
     "height": 348
    },
    "id": "cMAUTtIigzgc",
    "outputId": "0883dbfa-2375-46ee-c86b-91d922c91d49"
   },
   "outputs": [
    {
     "data": {
      "text/html": [
       "<div>\n",
       "<style scoped>\n",
       "    .dataframe tbody tr th:only-of-type {\n",
       "        vertical-align: middle;\n",
       "    }\n",
       "\n",
       "    .dataframe tbody tr th {\n",
       "        vertical-align: top;\n",
       "    }\n",
       "\n",
       "    .dataframe thead th {\n",
       "        text-align: right;\n",
       "    }\n",
       "</style>\n",
       "<table border=\"1\" class=\"dataframe\">\n",
       "  <thead>\n",
       "    <tr style=\"text-align: right;\">\n",
       "      <th></th>\n",
       "      <th>Opportunity_Type</th>\n",
       "      <th>Ventas</th>\n",
       "    </tr>\n",
       "  </thead>\n",
       "  <tbody>\n",
       "    <tr>\n",
       "      <th>1</th>\n",
       "      <td>Opportunity_Type_1</td>\n",
       "      <td>2668</td>\n",
       "    </tr>\n",
       "    <tr>\n",
       "      <th>16</th>\n",
       "      <td>Opportunity_Type_7</td>\n",
       "      <td>1373</td>\n",
       "    </tr>\n",
       "    <tr>\n",
       "      <th>17</th>\n",
       "      <td>Opportunity_Type_8</td>\n",
       "      <td>516</td>\n",
       "    </tr>\n",
       "    <tr>\n",
       "      <th>9</th>\n",
       "      <td>Opportunity_Type_19</td>\n",
       "      <td>202</td>\n",
       "    </tr>\n",
       "    <tr>\n",
       "      <th>4</th>\n",
       "      <td>Opportunity_Type_12</td>\n",
       "      <td>122</td>\n",
       "    </tr>\n",
       "    <tr>\n",
       "      <th>13</th>\n",
       "      <td>Opportunity_Type_3</td>\n",
       "      <td>82</td>\n",
       "    </tr>\n",
       "    <tr>\n",
       "      <th>11</th>\n",
       "      <td>Opportunity_Type_20</td>\n",
       "      <td>30</td>\n",
       "    </tr>\n",
       "    <tr>\n",
       "      <th>14</th>\n",
       "      <td>Opportunity_Type_4</td>\n",
       "      <td>19</td>\n",
       "    </tr>\n",
       "    <tr>\n",
       "      <th>10</th>\n",
       "      <td>Opportunity_Type_2</td>\n",
       "      <td>17</td>\n",
       "    </tr>\n",
       "    <tr>\n",
       "      <th>2</th>\n",
       "      <td>Opportunity_Type_10</td>\n",
       "      <td>11</td>\n",
       "    </tr>\n",
       "  </tbody>\n",
       "</table>\n",
       "</div>"
      ],
      "text/plain": [
       "       Opportunity_Type  Ventas\n",
       "1    Opportunity_Type_1    2668\n",
       "16   Opportunity_Type_7    1373\n",
       "17   Opportunity_Type_8     516\n",
       "9   Opportunity_Type_19     202\n",
       "4   Opportunity_Type_12     122\n",
       "13   Opportunity_Type_3      82\n",
       "11  Opportunity_Type_20      30\n",
       "14   Opportunity_Type_4      19\n",
       "10   Opportunity_Type_2      17\n",
       "2   Opportunity_Type_10      11"
      ]
     },
     "execution_count": 29,
     "metadata": {},
     "output_type": "execute_result"
    }
   ],
   "source": [
    "df_won_x_op_type = df[df[\"Stage\"] == \"Closed Won\"][[\"Opportunity_Type\",\"Opportunity_ID\"]].groupby([\"Opportunity_Type\", \"Opportunity_ID\"]).agg({\"Opportunity_ID\": 'count'})\n",
    "df_won_x_op_type = df_won_x_op_type.rename(columns={\"Opportunity_ID\": \"Opportunity_count\"}).reset_index()\n",
    "df_won_x_op_type = df_won_x_op_type.groupby([\"Opportunity_Type\"]).agg({\"Opportunity_ID\": 'count'}).reset_index()\n",
    "df_won_x_op_type.columns = [\"Opportunity_Type\", \"Ventas\"]\n",
    "df_won_x_op_type = df_won_x_op_type.nlargest(10,\"Ventas\")\n",
    "df_won_x_op_type"
   ]
  },
  {
   "cell_type": "code",
   "execution_count": 44,
   "metadata": {
    "colab": {
     "base_uri": "https://localhost:8080/",
     "height": 408
    },
    "id": "xmo4Y1-Fgzgf",
    "outputId": "12b4bc94-53fb-4ea9-b5af-e92888ce3670"
   },
   "outputs": [
    {
     "data": {
      "image/png": "[encoded data removed]",
      "text/plain": [
       "<Figure size 1080x504 with 1 Axes>"
      ]
     },
     "metadata": {
      "needs_background": "light"
     },
     "output_type": "display_data"
    }
   ],
   "source": [
    "fig, ax = plt.subplots(figsize = (15, 7))\n",
    "g = sns.barplot(x=df_won_x_op_type['Ventas'], y=df_won_x_op_type['Opportunity_Type'], orient='h',ax = ax,)\n",
    "g.set_title(\"Top 10 de tipos de oportunidad con mayor cantidad de ventas\", fontsize=15)\n",
    "g.set_xlabel(\"Ventas\", fontsize=12)\n",
    "g.set_ylabel(\"Tipo de Oportunidad\", fontsize=12)\n",
    "\n",
    "plt.tight_layout()\n",
    "plt.savefig(\"pngs/top-10-tipos-oportunidad-mayor-ventas.png\")"
   ]
  },
  {
   "cell_type": "code",
   "execution_count": 31,
   "metadata": {
    "id": "PRAbVAUBgzgm"
   },
   "outputs": [],
   "source": [
    "#Convierto columna Last_Modified_Date a date\n",
    "df[\"Account_Created_Date\"] = pd.to_datetime(df[\"Account_Created_Date\"], errors='coerce')"
   ]
  },
  {
   "cell_type": "code",
   "execution_count": 32,
   "metadata": {
    "id": "qM4xgLqmgzgt"
   },
   "outputs": [],
   "source": [
    "df_account_creation_date = df[[\"Account_Created_Date\",\"Account_Name\"]]\n",
    "df_account_creation_date[\"Account_Created_Date\"] = df_account_creation_date[\"Account_Created_Date\"].dt.to_period('M')\n",
    "df_account_creation_date = df_account_creation_date[[\"Account_Created_Date\",\"Account_Name\"]].groupby([\"Account_Name\"]).agg({\"Account_Created_Date\": \"first\"}).reset_index()\n",
    "df_account_creation_date[\"Account_Qty\"] = 1\n",
    "df_account_creation_date = df_account_creation_date[[\"Account_Created_Date\",\"Account_Qty\"]]\n",
    "df_account_creation_date = df_account_creation_date.groupby(\"Account_Created_Date\").agg({\"Account_Qty\": \"sum\"})\n",
    "#df_account_creation_date[df_account_creation_date[\"Account_Created_Date\"] == \"2016-01-20\"].head(10)\n",
    "df_account_creation_date = df_account_creation_date.sort_values(\"Account_Created_Date\",ascending=True).reset_index()\n",
    "#df_account_creation_date.head(10)"
   ]
  },
  {
   "cell_type": "code",
   "execution_count": 33,
   "metadata": {},
   "outputs": [],
   "source": [
    "df_account_creation_date[\"Account_Created_Date\"] = df_account_creation_date[\"Account_Created_Date\"].map(str)\n",
    "#df_account_creation_date.shape"
   ]
  },
  {
   "cell_type": "code",
   "execution_count": 45,
   "metadata": {},
   "outputs": [
    {
     "data": {
      "image/png": "[encoded data removed]",
      "text/plain": [
       "<Figure size 1080x432 with 1 Axes>"
      ]
     },
     "metadata": {
      "needs_background": "light"
     },
     "output_type": "display_data"
    }
   ],
   "source": [
    "import matplotlib.ticker as ticker\n",
    "ax = df_account_creation_date.plot(kind='scatter', x='Account_Created_Date', y='Account_Qty', color='Green', s=30, figsize=(15,6), linestyle='-', marker='o')\n",
    "ax.xaxis.set_major_locator(ticker.LinearLocator(18))\n",
    "ax.set_ylabel('Cantidad de Cuentas Creadas')\n",
    "ax.set_xlabel('Fecha (Año-Mes)')\n",
    "ax.set_title('Cantidad de Cuentas de Clientes creadas por fecha')\n",
    "ax.grid('on', axis='y' )\n",
    "\n",
    "plt.tight_layout()\n",
    "plt.savefig(\"pngs/cuentas-cliente-creadas-por-fecha.png\")\n",
    "\n",
    "#c='Account_Qty', colormap='viridis'\n",
    "#ax.xaxis.set_major_locator(ticker.IndexLocator(base=10, offset=1))\n",
    "#ax.xaxis.set_major_locator(ticker.AutoLocator())\n",
    "#ax.xaxis.set_minor_locator(ticker.AutoMinorLocator())\n",
    "#ax.xaxis.set_minor_locator(ticker.LinearLocator(19))"
   ]
  },
  {
   "cell_type": "code",
   "execution_count": null,
   "metadata": {},
   "outputs": [],
   "source": []
  },
  {
   "cell_type": "code",
   "execution_count": null,
   "metadata": {},
   "outputs": [],
   "source": []
  },
  {
   "cell_type": "code",
   "execution_count": null,
   "metadata": {},
   "outputs": [],
   "source": []
  }
 ],
 "metadata": {
  "colab": {
   "name": "Otros_graficos.ipynb",
   "provenance": [],
   "toc_visible": true
  },
  "kernelspec": {
   "display_name": "Python 3",
   "language": "python",
   "name": "python3"
  },
  "language_info": {
   "codemirror_mode": {
    "name": "ipython",
    "version": 3
   },
   "file_extension": ".py",
   "mimetype": "text/x-python",
   "name": "python",
   "nbconvert_exporter": "python",
   "pygments_lexer": "ipython3",
   "version": "3.8.3"
  }
 },
 "nbformat": 4,
 "nbformat_minor": 1
}
