{
 "cells": [
  {
   "cell_type": "code",
   "execution_count": 40,
   "metadata": {},
   "outputs": [],
   "source": [
    "import pandas as pd\n",
    "import seaborn as sns\n",
    "import matplotlib.pyplot as plt"
   ]
  },
  {
   "cell_type": "code",
   "execution_count": 41,
   "metadata": {},
   "outputs": [],
   "source": [
    "df = pd.read_csv('opportunities.csv',low_memory=False)"
   ]
  },
  {
   "cell_type": "code",
   "execution_count": 42,
   "metadata": {},
   "outputs": [
    {
     "name": "stdout",
     "output_type": "stream",
     "text": [
      "<class 'pandas.core.frame.DataFrame'>\n",
      "RangeIndex: 16947 entries, 0 to 16946\n",
      "Data columns (total 52 columns):\n",
      "ID                                    16947 non-null int64\n",
      "Region                                16947 non-null object\n",
      "Territory                             16947 non-null object\n",
      "Pricing, Delivery_Terms_Quote_Appr    16947 non-null int64\n",
      "Pricing, Delivery_Terms_Approved      16947 non-null int64\n",
      "Bureaucratic_Code_0_Approval          16947 non-null int64\n",
      "Bureaucratic_Code_0_Approved          16947 non-null int64\n",
      "Submitted_for_Approval                16947 non-null int64\n",
      "Bureaucratic_Code                     16947 non-null object\n",
      "Account_Created_Date                  16947 non-null object\n",
      "Source                                16947 non-null object\n",
      "Billing_Country                       16947 non-null object\n",
      "Account_Name                          16947 non-null object\n",
      "Opportunity_Name                      16947 non-null object\n",
      "Opportunity_ID                        16947 non-null int64\n",
      "Sales_Contract_No                     16947 non-null object\n",
      "Account_Owner                         16947 non-null object\n",
      "Opportunity_Owner                     16947 non-null object\n",
      "Account_Type                          16947 non-null object\n",
      "Opportunity_Type                      16947 non-null object\n",
      "Quote_Type                            16947 non-null object\n",
      "Delivery_Terms                        16947 non-null object\n",
      "Opportunity_Created_Date              16947 non-null object\n",
      "Brand                                 16947 non-null object\n",
      "Product_Type                          16947 non-null object\n",
      "Size                                  16947 non-null object\n",
      "Product_Category_B                    16947 non-null object\n",
      "Price                                 16947 non-null object\n",
      "Currency                              16947 non-null object\n",
      "Last_Activity                         16947 non-null object\n",
      "Quote_Expiry_Date                     16947 non-null object\n",
      "Last_Modified_Date                    16947 non-null object\n",
      "Last_Modified_By                      16947 non-null object\n",
      "Product_Family                        16947 non-null object\n",
      "Product_Name                          16947 non-null object\n",
      "ASP_Currency                          16947 non-null object\n",
      "ASP                                   13738 non-null float64\n",
      "ASP_(converted)_Currency              16947 non-null object\n",
      "ASP_(converted)                       13738 non-null float64\n",
      "Planned_Delivery_Start_Date           16947 non-null object\n",
      "Planned_Delivery_End_Date             16947 non-null object\n",
      "Month                                 16947 non-null object\n",
      "Delivery_Quarter                      16947 non-null object\n",
      "Delivery_Year                         16947 non-null int64\n",
      "Actual_Delivery_Date                  16947 non-null object\n",
      "TRF                                   16947 non-null int64\n",
      "Total_Amount_Currency                 16947 non-null object\n",
      "Total_Amount                          16888 non-null float64\n",
      "Total_Taxable_Amount_Currency         16947 non-null object\n",
      "Total_Taxable_Amount                  16947 non-null float64\n",
      "Stage                                 16947 non-null object\n",
      "Prod_Category_A                       16947 non-null object\n",
      "dtypes: float64(4), int64(9), object(39)\n",
      "memory usage: 6.7+ MB\n"
     ]
    }
   ],
   "source": [
    "df.info()"
   ]
  },
  {
   "cell_type": "markdown",
   "metadata": {},
   "source": [
    "### El dataframe tiene 16947 registros"
   ]
  },
  {
   "cell_type": "code",
   "execution_count": 43,
   "metadata": {
    "scrolled": true
   },
   "outputs": [
    {
     "data": {
      "text/html": [
       "<div>\n",
       "<style scoped>\n",
       "    .dataframe tbody tr th:only-of-type {\n",
       "        vertical-align: middle;\n",
       "    }\n",
       "\n",
       "    .dataframe tbody tr th {\n",
       "        vertical-align: top;\n",
       "    }\n",
       "\n",
       "    .dataframe thead th {\n",
       "        text-align: right;\n",
       "    }\n",
       "</style>\n",
       "<table border=\"1\" class=\"dataframe\">\n",
       "  <thead>\n",
       "    <tr style=\"text-align: right;\">\n",
       "      <th></th>\n",
       "      <th>ID</th>\n",
       "      <th>Region</th>\n",
       "      <th>Territory</th>\n",
       "      <th>Pricing, Delivery_Terms_Quote_Appr</th>\n",
       "      <th>Pricing, Delivery_Terms_Approved</th>\n",
       "      <th>Bureaucratic_Code_0_Approval</th>\n",
       "      <th>Bureaucratic_Code_0_Approved</th>\n",
       "      <th>Submitted_for_Approval</th>\n",
       "      <th>Bureaucratic_Code</th>\n",
       "      <th>Account_Created_Date</th>\n",
       "      <th>...</th>\n",
       "      <th>Delivery_Quarter</th>\n",
       "      <th>Delivery_Year</th>\n",
       "      <th>Actual_Delivery_Date</th>\n",
       "      <th>TRF</th>\n",
       "      <th>Total_Amount_Currency</th>\n",
       "      <th>Total_Amount</th>\n",
       "      <th>Total_Taxable_Amount_Currency</th>\n",
       "      <th>Total_Taxable_Amount</th>\n",
       "      <th>Stage</th>\n",
       "      <th>Prod_Category_A</th>\n",
       "    </tr>\n",
       "  </thead>\n",
       "  <tbody>\n",
       "    <tr>\n",
       "      <td>0</td>\n",
       "      <td>27761</td>\n",
       "      <td>EMEA</td>\n",
       "      <td>None</td>\n",
       "      <td>1</td>\n",
       "      <td>1</td>\n",
       "      <td>1</td>\n",
       "      <td>1</td>\n",
       "      <td>0</td>\n",
       "      <td>Bureaucratic_Code_4</td>\n",
       "      <td>6/16/2015</td>\n",
       "      <td>...</td>\n",
       "      <td>Q2</td>\n",
       "      <td>2016</td>\n",
       "      <td>NaT</td>\n",
       "      <td>10</td>\n",
       "      <td>EUR</td>\n",
       "      <td>5272800.0</td>\n",
       "      <td>EUR</td>\n",
       "      <td>5272800.0</td>\n",
       "      <td>Closed Lost</td>\n",
       "      <td>Prod_Category_A_None</td>\n",
       "    </tr>\n",
       "    <tr>\n",
       "      <td>1</td>\n",
       "      <td>27760</td>\n",
       "      <td>EMEA</td>\n",
       "      <td>None</td>\n",
       "      <td>0</td>\n",
       "      <td>0</td>\n",
       "      <td>0</td>\n",
       "      <td>0</td>\n",
       "      <td>0</td>\n",
       "      <td>Bureaucratic_Code_4</td>\n",
       "      <td>6/16/2015</td>\n",
       "      <td>...</td>\n",
       "      <td>Q1</td>\n",
       "      <td>2016</td>\n",
       "      <td>NaT</td>\n",
       "      <td>0</td>\n",
       "      <td>EUR</td>\n",
       "      <td>48230.0</td>\n",
       "      <td>EUR</td>\n",
       "      <td>48230.0</td>\n",
       "      <td>Closed Won</td>\n",
       "      <td>Prod_Category_A_None</td>\n",
       "    </tr>\n",
       "    <tr>\n",
       "      <td>2</td>\n",
       "      <td>27446</td>\n",
       "      <td>Americas</td>\n",
       "      <td>NW America</td>\n",
       "      <td>0</td>\n",
       "      <td>0</td>\n",
       "      <td>0</td>\n",
       "      <td>0</td>\n",
       "      <td>0</td>\n",
       "      <td>Bureaucratic_Code_4</td>\n",
       "      <td>4/21/2015</td>\n",
       "      <td>...</td>\n",
       "      <td>Q1</td>\n",
       "      <td>2016</td>\n",
       "      <td>NaT</td>\n",
       "      <td>0</td>\n",
       "      <td>USD</td>\n",
       "      <td>83865.6</td>\n",
       "      <td>USD</td>\n",
       "      <td>83865.6</td>\n",
       "      <td>Closed Won</td>\n",
       "      <td>Prod_Category_A_None</td>\n",
       "    </tr>\n",
       "    <tr>\n",
       "      <td>3</td>\n",
       "      <td>16808</td>\n",
       "      <td>Americas</td>\n",
       "      <td>NW America</td>\n",
       "      <td>1</td>\n",
       "      <td>0</td>\n",
       "      <td>1</td>\n",
       "      <td>0</td>\n",
       "      <td>0</td>\n",
       "      <td>Bureaucratic_Code_5</td>\n",
       "      <td>7/27/2013</td>\n",
       "      <td>...</td>\n",
       "      <td>Q1</td>\n",
       "      <td>2018</td>\n",
       "      <td>NaT</td>\n",
       "      <td>14</td>\n",
       "      <td>USD</td>\n",
       "      <td>7421881.5</td>\n",
       "      <td>USD</td>\n",
       "      <td>7421881.5</td>\n",
       "      <td>Closed Lost</td>\n",
       "      <td>Prod_Category_A_None</td>\n",
       "    </tr>\n",
       "    <tr>\n",
       "      <td>4</td>\n",
       "      <td>16805</td>\n",
       "      <td>Americas</td>\n",
       "      <td>NW America</td>\n",
       "      <td>1</td>\n",
       "      <td>0</td>\n",
       "      <td>1</td>\n",
       "      <td>0</td>\n",
       "      <td>0</td>\n",
       "      <td>Bureaucratic_Code_5</td>\n",
       "      <td>7/27/2013</td>\n",
       "      <td>...</td>\n",
       "      <td>Q1</td>\n",
       "      <td>2018</td>\n",
       "      <td>NaT</td>\n",
       "      <td>25</td>\n",
       "      <td>USD</td>\n",
       "      <td>13357192.5</td>\n",
       "      <td>USD</td>\n",
       "      <td>13357192.5</td>\n",
       "      <td>Closed Lost</td>\n",
       "      <td>Prod_Category_A_None</td>\n",
       "    </tr>\n",
       "  </tbody>\n",
       "</table>\n",
       "<p>5 rows × 52 columns</p>\n",
       "</div>"
      ],
      "text/plain": [
       "      ID    Region   Territory  Pricing, Delivery_Terms_Quote_Appr  \\\n",
       "0  27761      EMEA        None                                   1   \n",
       "1  27760      EMEA        None                                   0   \n",
       "2  27446  Americas  NW America                                   0   \n",
       "3  16808  Americas  NW America                                   1   \n",
       "4  16805  Americas  NW America                                   1   \n",
       "\n",
       "   Pricing, Delivery_Terms_Approved  Bureaucratic_Code_0_Approval  \\\n",
       "0                                 1                             1   \n",
       "1                                 0                             0   \n",
       "2                                 0                             0   \n",
       "3                                 0                             1   \n",
       "4                                 0                             1   \n",
       "\n",
       "   Bureaucratic_Code_0_Approved  Submitted_for_Approval    Bureaucratic_Code  \\\n",
       "0                             1                       0  Bureaucratic_Code_4   \n",
       "1                             0                       0  Bureaucratic_Code_4   \n",
       "2                             0                       0  Bureaucratic_Code_4   \n",
       "3                             0                       0  Bureaucratic_Code_5   \n",
       "4                             0                       0  Bureaucratic_Code_5   \n",
       "\n",
       "  Account_Created_Date  ... Delivery_Quarter Delivery_Year  \\\n",
       "0            6/16/2015  ...               Q2          2016   \n",
       "1            6/16/2015  ...               Q1          2016   \n",
       "2            4/21/2015  ...               Q1          2016   \n",
       "3            7/27/2013  ...               Q1          2018   \n",
       "4            7/27/2013  ...               Q1          2018   \n",
       "\n",
       "  Actual_Delivery_Date TRF  Total_Amount_Currency Total_Amount  \\\n",
       "0                  NaT  10                    EUR    5272800.0   \n",
       "1                  NaT   0                    EUR      48230.0   \n",
       "2                  NaT   0                    USD      83865.6   \n",
       "3                  NaT  14                    USD    7421881.5   \n",
       "4                  NaT  25                    USD   13357192.5   \n",
       "\n",
       "  Total_Taxable_Amount_Currency Total_Taxable_Amount        Stage  \\\n",
       "0                           EUR            5272800.0  Closed Lost   \n",
       "1                           EUR              48230.0   Closed Won   \n",
       "2                           USD              83865.6   Closed Won   \n",
       "3                           USD            7421881.5  Closed Lost   \n",
       "4                           USD           13357192.5  Closed Lost   \n",
       "\n",
       "        Prod_Category_A  \n",
       "0  Prod_Category_A_None  \n",
       "1  Prod_Category_A_None  \n",
       "2  Prod_Category_A_None  \n",
       "3  Prod_Category_A_None  \n",
       "4  Prod_Category_A_None  \n",
       "\n",
       "[5 rows x 52 columns]"
      ]
     },
     "execution_count": 43,
     "metadata": {},
     "output_type": "execute_result"
    }
   ],
   "source": [
    "df.head(5)"
   ]
  },
  {
   "cell_type": "code",
   "execution_count": 44,
   "metadata": {},
   "outputs": [
    {
     "name": "stdout",
     "output_type": "stream",
     "text": [
      "Modifico el tipo de variable de las fechas, de object a datetime\n",
      "Modifico el tipo de variable de las precios y montos, de object a float64\n"
     ]
    }
   ],
   "source": [
    "df['Planned_Delivery_Start_Date'] = pd.to_datetime(df['Planned_Delivery_Start_Date'])\n",
    "df['Planned_Delivery_End_Date'] = pd.to_datetime(df['Planned_Delivery_End_Date'])\n",
    "df['Quote_Expiry_Date'] = pd.to_datetime(df['Quote_Expiry_Date'])\n",
    "df['Last_Modified_Date'] = pd.to_datetime(df['Last_Modified_Date'])\n",
    "df['Account_Created_Date'] = pd.to_datetime(df['Account_Created_Date'])\n",
    "df['Actual_Delivery_Date'] = pd.to_datetime(df['Actual_Delivery_Date'])\n",
    "df['Opportunity_Created_Date'] = pd.to_datetime(df['Opportunity_Created_Date'])\n",
    "print('Modifico el tipo de variable de las fechas, de object a datetime')\n",
    "df['Price'] = pd.to_numeric(df['Price'],errors = 'coerce').dropna()\n",
    "df['Total_Amount'] = pd.to_numeric(df['Total_Amount'],errors = 'coerce').dropna()\n",
    "print('Modifico el tipo de variable de las precios y montos, de object a float64')"
   ]
  },
  {
   "cell_type": "code",
   "execution_count": 45,
   "metadata": {},
   "outputs": [
    {
     "name": "stdout",
     "output_type": "stream",
     "text": [
      "<class 'pandas.core.frame.DataFrame'>\n",
      "RangeIndex: 16947 entries, 0 to 16946\n",
      "Data columns (total 52 columns):\n",
      "ID                                    16947 non-null int64\n",
      "Region                                16947 non-null object\n",
      "Territory                             16947 non-null object\n",
      "Pricing, Delivery_Terms_Quote_Appr    16947 non-null int64\n",
      "Pricing, Delivery_Terms_Approved      16947 non-null int64\n",
      "Bureaucratic_Code_0_Approval          16947 non-null int64\n",
      "Bureaucratic_Code_0_Approved          16947 non-null int64\n",
      "Submitted_for_Approval                16947 non-null int64\n",
      "Bureaucratic_Code                     16947 non-null object\n",
      "Account_Created_Date                  16947 non-null datetime64[ns]\n",
      "Source                                16947 non-null object\n",
      "Billing_Country                       16947 non-null object\n",
      "Account_Name                          16947 non-null object\n",
      "Opportunity_Name                      16947 non-null object\n",
      "Opportunity_ID                        16947 non-null int64\n",
      "Sales_Contract_No                     16947 non-null object\n",
      "Account_Owner                         16947 non-null object\n",
      "Opportunity_Owner                     16947 non-null object\n",
      "Account_Type                          16947 non-null object\n",
      "Opportunity_Type                      16947 non-null object\n",
      "Quote_Type                            16947 non-null object\n",
      "Delivery_Terms                        16947 non-null object\n",
      "Opportunity_Created_Date              16947 non-null datetime64[ns]\n",
      "Brand                                 16947 non-null object\n",
      "Product_Type                          16947 non-null object\n",
      "Size                                  16947 non-null object\n",
      "Product_Category_B                    16947 non-null object\n",
      "Price                                 356 non-null float64\n",
      "Currency                              16947 non-null object\n",
      "Last_Activity                         16947 non-null object\n",
      "Quote_Expiry_Date                     12322 non-null datetime64[ns]\n",
      "Last_Modified_Date                    16947 non-null datetime64[ns]\n",
      "Last_Modified_By                      16947 non-null object\n",
      "Product_Family                        16947 non-null object\n",
      "Product_Name                          16947 non-null object\n",
      "ASP_Currency                          16947 non-null object\n",
      "ASP                                   13738 non-null float64\n",
      "ASP_(converted)_Currency              16947 non-null object\n",
      "ASP_(converted)                       13738 non-null float64\n",
      "Planned_Delivery_Start_Date           16947 non-null datetime64[ns]\n",
      "Planned_Delivery_End_Date             16872 non-null datetime64[ns]\n",
      "Month                                 16947 non-null object\n",
      "Delivery_Quarter                      16947 non-null object\n",
      "Delivery_Year                         16947 non-null int64\n",
      "Actual_Delivery_Date                  0 non-null datetime64[ns]\n",
      "TRF                                   16947 non-null int64\n",
      "Total_Amount_Currency                 16947 non-null object\n",
      "Total_Amount                          16888 non-null float64\n",
      "Total_Taxable_Amount_Currency         16947 non-null object\n",
      "Total_Taxable_Amount                  16947 non-null float64\n",
      "Stage                                 16947 non-null object\n",
      "Prod_Category_A                       16947 non-null object\n",
      "dtypes: datetime64[ns](7), float64(5), int64(9), object(31)\n",
      "memory usage: 6.7+ MB\n"
     ]
    }
   ],
   "source": [
    "df.info()"
   ]
  },
  {
   "cell_type": "code",
   "execution_count": 46,
   "metadata": {},
   "outputs": [
    {
     "data": {
      "text/plain": [
       "Closed Won       9533\n",
       "Closed Lost      7350\n",
       "Proposal           35\n",
       "Negotiation        18\n",
       "Qualification      11\n",
       "Name: Stage, dtype: int64"
      ]
     },
     "execution_count": 46,
     "metadata": {},
     "output_type": "execute_result"
    }
   ],
   "source": [
    "df['Stage'].value_counts()"
   ]
  },
  {
   "cell_type": "markdown",
   "metadata": {},
   "source": [
    "### Poco mas de la mitad de las oportunidades fueron existosas"
   ]
  },
  {
   "cell_type": "code",
   "execution_count": 47,
   "metadata": {
    "scrolled": true
   },
   "outputs": [
    {
     "data": {
      "text/plain": [
       "None           4999\n",
       "Germany        1682\n",
       "NW America     1568\n",
       "Australia      1208\n",
       "India           809\n",
       "NE America      760\n",
       "Japan           681\n",
       "Netherlands     533\n",
       "SE America      493\n",
       "France          449\n",
       "Name: Territory, dtype: int64"
      ]
     },
     "execution_count": 47,
     "metadata": {},
     "output_type": "execute_result"
    }
   ],
   "source": [
    "df['Territory'].value_counts().head(10)"
   ]
  },
  {
   "cell_type": "code",
   "execution_count": 48,
   "metadata": {},
   "outputs": [
    {
     "data": {
      "text/plain": [
       "Japan          4892\n",
       "EMEA           4664\n",
       "Americas       3945\n",
       "APAC           3262\n",
       "Middle East     184\n",
       "Name: Region, dtype: int64"
      ]
     },
     "execution_count": 48,
     "metadata": {},
     "output_type": "execute_result"
    }
   ],
   "source": [
    "df['Region'].value_counts().head(10)"
   ]
  },
  {
   "cell_type": "markdown",
   "metadata": {},
   "source": [
    "### Las oportunidades pueden estar divididas en solo 5 regiones"
   ]
  },
  {
   "cell_type": "code",
   "execution_count": 49,
   "metadata": {},
   "outputs": [
    {
     "data": {
      "text/plain": [
       "None              15935\n",
       "Other               515\n",
       "Product_Type_3      179\n",
       "Product_Type_1      142\n",
       "Product_Type_0       94\n",
       "Product_Type_4       73\n",
       "Product_Type_2        9\n",
       "Name: Product_Type, dtype: int64"
      ]
     },
     "execution_count": 49,
     "metadata": {},
     "output_type": "execute_result"
    }
   ],
   "source": [
    "df['Product_Type'].value_counts().head(10)"
   ]
  },
  {
   "cell_type": "markdown",
   "metadata": {},
   "source": [
    "### La gran mayoria de las oportunidades no definen el tipo de producto"
   ]
  },
  {
   "cell_type": "code",
   "execution_count": 50,
   "metadata": {},
   "outputs": [
    {
     "data": {
      "text/plain": [
       "Product_Name_100    976\n",
       "Product_Name_226    836\n",
       "Product_Name_231    579\n",
       "Product_Name_491    524\n",
       "Product_Name_4      474\n",
       "Product_Name_192    442\n",
       "Product_Name_111    388\n",
       "Product_Name_132    383\n",
       "Product_Name_495    350\n",
       "Product_Name_29     345\n",
       "Name: Product_Name, dtype: int64"
      ]
     },
     "execution_count": 50,
     "metadata": {},
     "output_type": "execute_result"
    }
   ],
   "source": [
    "df['Product_Name'].value_counts().head(10)"
   ]
  },
  {
   "cell_type": "code",
   "execution_count": 53,
   "metadata": {},
   "outputs": [
    {
     "data": {
      "text/plain": [
       "Product_Family_77     1345\n",
       "Product_Family_133    1249\n",
       "Product_Family_132     763\n",
       "Product_Family_212     636\n",
       "Product_Family_100     619\n",
       "Product_Family_85      596\n",
       "Product_Family_115     540\n",
       "Product_Family_226     524\n",
       "Product_Family_109     499\n",
       "Product_Family_208     478\n",
       "Name: Product_Family, dtype: int64"
      ]
     },
     "execution_count": 53,
     "metadata": {},
     "output_type": "execute_result"
    }
   ],
   "source": [
    "df['Product_Family'].value_counts().head(10)"
   ]
  },
  {
   "cell_type": "code",
   "execution_count": 51,
   "metadata": {},
   "outputs": [
    {
     "data": {
      "text/plain": [
       "2018 - 10    666\n",
       "2017 - 6     643\n",
       "2017 - 10    638\n",
       "2016 - 3     628\n",
       "2017 - 7     625\n",
       "2017 - 5     586\n",
       "2018 - 4     579\n",
       "2017 - 12    574\n",
       "2018 - 6     542\n",
       "2018 - 7     536\n",
       "Name: Month, dtype: int64"
      ]
     },
     "execution_count": 51,
     "metadata": {},
     "output_type": "execute_result"
    }
   ],
   "source": [
    "df['Month'].value_counts().head(10)"
   ]
  },
  {
   "cell_type": "code",
   "execution_count": 52,
   "metadata": {},
   "outputs": [
    {
     "data": {
      "text/plain": [
       "2017    6318\n",
       "2018    5830\n",
       "2016    4371\n",
       "2019     414\n",
       "2020      14\n",
       "Name: Delivery_Year, dtype: int64"
      ]
     },
     "execution_count": 52,
     "metadata": {},
     "output_type": "execute_result"
    }
   ],
   "source": [
    "df['Delivery_Year'].value_counts().head(10)"
   ]
  }
 ],
 "metadata": {
  "kernelspec": {
   "display_name": "Python 3",
   "language": "python",
   "name": "python3"
  },
  "language_info": {
   "codemirror_mode": {
    "name": "ipython",
    "version": 3
   },
   "file_extension": ".py",
   "mimetype": "text/x-python",
   "name": "python",
   "nbconvert_exporter": "python",
   "pygments_lexer": "ipython3",
   "version": "3.7.4"
  }
 },
 "nbformat": 4,
 "nbformat_minor": 2
}
